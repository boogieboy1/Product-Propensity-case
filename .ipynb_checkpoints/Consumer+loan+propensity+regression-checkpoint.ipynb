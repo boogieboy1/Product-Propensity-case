{
 "cells": [
  {
   "cell_type": "code",
   "execution_count": 1,
   "metadata": {
    "collapsed": true
   },
   "outputs": [],
   "source": [
    "#import libraries\n",
    "import pandas as pd\n",
    "import numpy as np\n",
    "import matplotlib.pyplot as plt\n",
    "\n",
    "from sklearn.linear_model import LinearRegression\n",
    "from sklearn.svm import SVR\n",
    "from sklearn.ensemble import RandomForestRegressor\n",
    "from sklearn.linear_model import Ridge\n",
    "from sklearn.linear_model import Lasso\n",
    "\n",
    "\n",
    "from sklearn.model_selection import train_test_split\n",
    "from sklearn.metrics import mean_absolute_error\n",
    "from sklearn.metrics import classification_report\n",
    "from sklearn.model_selection import cross_val_score\n",
    "from sklearn.model_selection import GridSearchCV\n",
    "from sklearn.model_selection import RandomizedSearchCV\n",
    "\n",
    "from sklearn.feature_selection import RFECV\n",
    "\n",
    "from sklearn.preprocessing import scale\n",
    "from sklearn.decomposition import PCA"
   ]
  },
  {
   "cell_type": "code",
   "execution_count": 2,
   "metadata": {
    "collapsed": false
   },
   "outputs": [
    {
     "name": "stdout",
     "output_type": "stream",
     "text": [
      "(1581, 41)\n"
     ]
    }
   ],
   "source": [
    "user = pd.read_csv(\"analysis_data.csv\", sep=\",\", index_col=\"Client\")\n",
    "print(user.shape)"
   ]
  },
  {
   "cell_type": "code",
   "execution_count": 3,
   "metadata": {
    "collapsed": false
   },
   "outputs": [
    {
     "name": "stdout",
     "output_type": "stream",
     "text": [
      "(287, 41)\n"
     ]
    },
    {
     "data": {
      "text/html": [
       "<div>\n",
       "<table border=\"1\" class=\"dataframe\">\n",
       "  <thead>\n",
       "    <tr style=\"text-align: right;\">\n",
       "      <th></th>\n",
       "      <th>Age</th>\n",
       "      <th>Tenure</th>\n",
       "      <th>M</th>\n",
       "      <th>Count_CA</th>\n",
       "      <th>Count_SA</th>\n",
       "      <th>Count_MF</th>\n",
       "      <th>Count_OVD</th>\n",
       "      <th>Count_CC</th>\n",
       "      <th>Count_CL</th>\n",
       "      <th>ActBal_CA</th>\n",
       "      <th>...</th>\n",
       "      <th>Sale_CL</th>\n",
       "      <th>Revenue_MF</th>\n",
       "      <th>Revenue_CC</th>\n",
       "      <th>Revenue_CL</th>\n",
       "      <th>Actbal_CA_avg</th>\n",
       "      <th>ActBal_SA_avg</th>\n",
       "      <th>ActBal_MF_avg</th>\n",
       "      <th>ActBal_OVD_avg</th>\n",
       "      <th>ActBal_CC_avg</th>\n",
       "      <th>ActBal_CL_avg</th>\n",
       "    </tr>\n",
       "    <tr>\n",
       "      <th>Client</th>\n",
       "      <th></th>\n",
       "      <th></th>\n",
       "      <th></th>\n",
       "      <th></th>\n",
       "      <th></th>\n",
       "      <th></th>\n",
       "      <th></th>\n",
       "      <th></th>\n",
       "      <th></th>\n",
       "      <th></th>\n",
       "      <th></th>\n",
       "      <th></th>\n",
       "      <th></th>\n",
       "      <th></th>\n",
       "      <th></th>\n",
       "      <th></th>\n",
       "      <th></th>\n",
       "      <th></th>\n",
       "      <th></th>\n",
       "      <th></th>\n",
       "      <th></th>\n",
       "    </tr>\n",
       "  </thead>\n",
       "  <tbody>\n",
       "    <tr>\n",
       "      <th>284</th>\n",
       "      <td>66</td>\n",
       "      <td>23</td>\n",
       "      <td>1.0</td>\n",
       "      <td>1</td>\n",
       "      <td>0.0</td>\n",
       "      <td>0.0</td>\n",
       "      <td>0.0</td>\n",
       "      <td>0.0</td>\n",
       "      <td>0.0</td>\n",
       "      <td>2505.563571</td>\n",
       "      <td>...</td>\n",
       "      <td>1.0</td>\n",
       "      <td>0.000000</td>\n",
       "      <td>0.893214</td>\n",
       "      <td>14.988214</td>\n",
       "      <td>2505.563571</td>\n",
       "      <td>0.0</td>\n",
       "      <td>0.0</td>\n",
       "      <td>0.0</td>\n",
       "      <td>0.000000</td>\n",
       "      <td>0.000000</td>\n",
       "    </tr>\n",
       "    <tr>\n",
       "      <th>1265</th>\n",
       "      <td>31</td>\n",
       "      <td>162</td>\n",
       "      <td>0.0</td>\n",
       "      <td>1</td>\n",
       "      <td>0.0</td>\n",
       "      <td>0.0</td>\n",
       "      <td>0.0</td>\n",
       "      <td>0.0</td>\n",
       "      <td>0.0</td>\n",
       "      <td>2941.993929</td>\n",
       "      <td>...</td>\n",
       "      <td>1.0</td>\n",
       "      <td>0.000000</td>\n",
       "      <td>0.000000</td>\n",
       "      <td>17.175357</td>\n",
       "      <td>2941.993929</td>\n",
       "      <td>0.0</td>\n",
       "      <td>0.0</td>\n",
       "      <td>0.0</td>\n",
       "      <td>0.000000</td>\n",
       "      <td>0.000000</td>\n",
       "    </tr>\n",
       "    <tr>\n",
       "      <th>1195</th>\n",
       "      <td>68</td>\n",
       "      <td>200</td>\n",
       "      <td>1.0</td>\n",
       "      <td>1</td>\n",
       "      <td>0.0</td>\n",
       "      <td>0.0</td>\n",
       "      <td>1.0</td>\n",
       "      <td>0.0</td>\n",
       "      <td>0.0</td>\n",
       "      <td>120.151786</td>\n",
       "      <td>...</td>\n",
       "      <td>1.0</td>\n",
       "      <td>0.000000</td>\n",
       "      <td>0.000000</td>\n",
       "      <td>3.321429</td>\n",
       "      <td>120.151786</td>\n",
       "      <td>0.0</td>\n",
       "      <td>0.0</td>\n",
       "      <td>0.0</td>\n",
       "      <td>0.000000</td>\n",
       "      <td>0.000000</td>\n",
       "    </tr>\n",
       "    <tr>\n",
       "      <th>1557</th>\n",
       "      <td>77</td>\n",
       "      <td>150</td>\n",
       "      <td>0.0</td>\n",
       "      <td>1</td>\n",
       "      <td>0.0</td>\n",
       "      <td>2.0</td>\n",
       "      <td>0.0</td>\n",
       "      <td>0.0</td>\n",
       "      <td>0.0</td>\n",
       "      <td>55.554643</td>\n",
       "      <td>...</td>\n",
       "      <td>1.0</td>\n",
       "      <td>0.000000</td>\n",
       "      <td>0.000000</td>\n",
       "      <td>8.107143</td>\n",
       "      <td>55.554643</td>\n",
       "      <td>0.0</td>\n",
       "      <td>0.0</td>\n",
       "      <td>0.0</td>\n",
       "      <td>0.000000</td>\n",
       "      <td>0.000000</td>\n",
       "    </tr>\n",
       "    <tr>\n",
       "      <th>1104</th>\n",
       "      <td>79</td>\n",
       "      <td>213</td>\n",
       "      <td>0.0</td>\n",
       "      <td>1</td>\n",
       "      <td>0.0</td>\n",
       "      <td>0.0</td>\n",
       "      <td>1.0</td>\n",
       "      <td>1.0</td>\n",
       "      <td>1.0</td>\n",
       "      <td>0.000000</td>\n",
       "      <td>...</td>\n",
       "      <td>1.0</td>\n",
       "      <td>0.699643</td>\n",
       "      <td>0.000000</td>\n",
       "      <td>6.250000</td>\n",
       "      <td>0.000000</td>\n",
       "      <td>0.0</td>\n",
       "      <td>0.0</td>\n",
       "      <td>0.0</td>\n",
       "      <td>1.178571</td>\n",
       "      <td>120.676071</td>\n",
       "    </tr>\n",
       "  </tbody>\n",
       "</table>\n",
       "<p>5 rows × 41 columns</p>\n",
       "</div>"
      ],
      "text/plain": [
       "        Age  Tenure    M  Count_CA  Count_SA  Count_MF  Count_OVD  Count_CC  \\\n",
       "Client                                                                        \n",
       "284      66      23  1.0         1       0.0       0.0        0.0       0.0   \n",
       "1265     31     162  0.0         1       0.0       0.0        0.0       0.0   \n",
       "1195     68     200  1.0         1       0.0       0.0        1.0       0.0   \n",
       "1557     77     150  0.0         1       0.0       2.0        0.0       0.0   \n",
       "1104     79     213  0.0         1       0.0       0.0        1.0       1.0   \n",
       "\n",
       "        Count_CL    ActBal_CA      ...        Sale_CL  Revenue_MF  Revenue_CC  \\\n",
       "Client                             ...                                          \n",
       "284          0.0  2505.563571      ...            1.0    0.000000    0.893214   \n",
       "1265         0.0  2941.993929      ...            1.0    0.000000    0.000000   \n",
       "1195         0.0   120.151786      ...            1.0    0.000000    0.000000   \n",
       "1557         0.0    55.554643      ...            1.0    0.000000    0.000000   \n",
       "1104         1.0     0.000000      ...            1.0    0.699643    0.000000   \n",
       "\n",
       "        Revenue_CL  Actbal_CA_avg  ActBal_SA_avg  ActBal_MF_avg  \\\n",
       "Client                                                            \n",
       "284      14.988214    2505.563571            0.0            0.0   \n",
       "1265     17.175357    2941.993929            0.0            0.0   \n",
       "1195      3.321429     120.151786            0.0            0.0   \n",
       "1557      8.107143      55.554643            0.0            0.0   \n",
       "1104      6.250000       0.000000            0.0            0.0   \n",
       "\n",
       "        ActBal_OVD_avg  ActBal_CC_avg  ActBal_CL_avg  \n",
       "Client                                                \n",
       "284                0.0       0.000000       0.000000  \n",
       "1265               0.0       0.000000       0.000000  \n",
       "1195               0.0       0.000000       0.000000  \n",
       "1557               0.0       0.000000       0.000000  \n",
       "1104               0.0       1.178571     120.676071  \n",
       "\n",
       "[5 rows x 41 columns]"
      ]
     },
     "execution_count": 3,
     "metadata": {},
     "output_type": "execute_result"
    }
   ],
   "source": [
    "user_tr = user[user['Sale_CL']==1]\n",
    "print(user_tr.shape)\n",
    "user_tr.head()"
   ]
  },
  {
   "cell_type": "code",
   "execution_count": 4,
   "metadata": {
    "collapsed": false
   },
   "outputs": [
    {
     "data": {
      "text/html": [
       "<div>\n",
       "<table border=\"1\" class=\"dataframe\">\n",
       "  <thead>\n",
       "    <tr style=\"text-align: right;\">\n",
       "      <th></th>\n",
       "      <th>Age</th>\n",
       "      <th>Tenure</th>\n",
       "      <th>M</th>\n",
       "      <th>Count_CA</th>\n",
       "      <th>Count_SA</th>\n",
       "      <th>Count_MF</th>\n",
       "      <th>Count_OVD</th>\n",
       "      <th>Count_CC</th>\n",
       "      <th>Count_CL</th>\n",
       "      <th>ActBal_CA</th>\n",
       "      <th>...</th>\n",
       "      <th>TransactionsDebCash_Card</th>\n",
       "      <th>TransactionsDebCashless_Card</th>\n",
       "      <th>TransactionsDeb_PaymentOrder</th>\n",
       "      <th>Revenue_CL</th>\n",
       "      <th>Actbal_CA_avg</th>\n",
       "      <th>ActBal_SA_avg</th>\n",
       "      <th>ActBal_MF_avg</th>\n",
       "      <th>ActBal_OVD_avg</th>\n",
       "      <th>ActBal_CC_avg</th>\n",
       "      <th>ActBal_CL_avg</th>\n",
       "    </tr>\n",
       "    <tr>\n",
       "      <th>Client</th>\n",
       "      <th></th>\n",
       "      <th></th>\n",
       "      <th></th>\n",
       "      <th></th>\n",
       "      <th></th>\n",
       "      <th></th>\n",
       "      <th></th>\n",
       "      <th></th>\n",
       "      <th></th>\n",
       "      <th></th>\n",
       "      <th></th>\n",
       "      <th></th>\n",
       "      <th></th>\n",
       "      <th></th>\n",
       "      <th></th>\n",
       "      <th></th>\n",
       "      <th></th>\n",
       "      <th></th>\n",
       "      <th></th>\n",
       "      <th></th>\n",
       "      <th></th>\n",
       "    </tr>\n",
       "  </thead>\n",
       "  <tbody>\n",
       "    <tr>\n",
       "      <th>284</th>\n",
       "      <td>66</td>\n",
       "      <td>23</td>\n",
       "      <td>1.0</td>\n",
       "      <td>1</td>\n",
       "      <td>0.0</td>\n",
       "      <td>0.0</td>\n",
       "      <td>0.0</td>\n",
       "      <td>0.0</td>\n",
       "      <td>0.0</td>\n",
       "      <td>2505.563571</td>\n",
       "      <td>...</td>\n",
       "      <td>1</td>\n",
       "      <td>9</td>\n",
       "      <td>7</td>\n",
       "      <td>14.988214</td>\n",
       "      <td>2505.563571</td>\n",
       "      <td>0.0</td>\n",
       "      <td>0.0</td>\n",
       "      <td>0.0</td>\n",
       "      <td>0.000000</td>\n",
       "      <td>0.000000</td>\n",
       "    </tr>\n",
       "    <tr>\n",
       "      <th>1265</th>\n",
       "      <td>31</td>\n",
       "      <td>162</td>\n",
       "      <td>0.0</td>\n",
       "      <td>1</td>\n",
       "      <td>0.0</td>\n",
       "      <td>0.0</td>\n",
       "      <td>0.0</td>\n",
       "      <td>0.0</td>\n",
       "      <td>0.0</td>\n",
       "      <td>2941.993929</td>\n",
       "      <td>...</td>\n",
       "      <td>3</td>\n",
       "      <td>4</td>\n",
       "      <td>0</td>\n",
       "      <td>17.175357</td>\n",
       "      <td>2941.993929</td>\n",
       "      <td>0.0</td>\n",
       "      <td>0.0</td>\n",
       "      <td>0.0</td>\n",
       "      <td>0.000000</td>\n",
       "      <td>0.000000</td>\n",
       "    </tr>\n",
       "    <tr>\n",
       "      <th>1195</th>\n",
       "      <td>68</td>\n",
       "      <td>200</td>\n",
       "      <td>1.0</td>\n",
       "      <td>1</td>\n",
       "      <td>0.0</td>\n",
       "      <td>0.0</td>\n",
       "      <td>1.0</td>\n",
       "      <td>0.0</td>\n",
       "      <td>0.0</td>\n",
       "      <td>120.151786</td>\n",
       "      <td>...</td>\n",
       "      <td>1</td>\n",
       "      <td>16</td>\n",
       "      <td>11</td>\n",
       "      <td>3.321429</td>\n",
       "      <td>120.151786</td>\n",
       "      <td>0.0</td>\n",
       "      <td>0.0</td>\n",
       "      <td>0.0</td>\n",
       "      <td>0.000000</td>\n",
       "      <td>0.000000</td>\n",
       "    </tr>\n",
       "    <tr>\n",
       "      <th>1557</th>\n",
       "      <td>77</td>\n",
       "      <td>150</td>\n",
       "      <td>0.0</td>\n",
       "      <td>1</td>\n",
       "      <td>0.0</td>\n",
       "      <td>2.0</td>\n",
       "      <td>0.0</td>\n",
       "      <td>0.0</td>\n",
       "      <td>0.0</td>\n",
       "      <td>55.554643</td>\n",
       "      <td>...</td>\n",
       "      <td>0</td>\n",
       "      <td>0</td>\n",
       "      <td>0</td>\n",
       "      <td>8.107143</td>\n",
       "      <td>55.554643</td>\n",
       "      <td>0.0</td>\n",
       "      <td>0.0</td>\n",
       "      <td>0.0</td>\n",
       "      <td>0.000000</td>\n",
       "      <td>0.000000</td>\n",
       "    </tr>\n",
       "    <tr>\n",
       "      <th>1104</th>\n",
       "      <td>79</td>\n",
       "      <td>213</td>\n",
       "      <td>0.0</td>\n",
       "      <td>1</td>\n",
       "      <td>0.0</td>\n",
       "      <td>0.0</td>\n",
       "      <td>1.0</td>\n",
       "      <td>1.0</td>\n",
       "      <td>1.0</td>\n",
       "      <td>0.000000</td>\n",
       "      <td>...</td>\n",
       "      <td>7</td>\n",
       "      <td>34</td>\n",
       "      <td>18</td>\n",
       "      <td>6.250000</td>\n",
       "      <td>0.000000</td>\n",
       "      <td>0.0</td>\n",
       "      <td>0.0</td>\n",
       "      <td>0.0</td>\n",
       "      <td>1.178571</td>\n",
       "      <td>120.676071</td>\n",
       "    </tr>\n",
       "  </tbody>\n",
       "</table>\n",
       "<p>5 rows × 36 columns</p>\n",
       "</div>"
      ],
      "text/plain": [
       "        Age  Tenure    M  Count_CA  Count_SA  Count_MF  Count_OVD  Count_CC  \\\n",
       "Client                                                                        \n",
       "284      66      23  1.0         1       0.0       0.0        0.0       0.0   \n",
       "1265     31     162  0.0         1       0.0       0.0        0.0       0.0   \n",
       "1195     68     200  1.0         1       0.0       0.0        1.0       0.0   \n",
       "1557     77     150  0.0         1       0.0       2.0        0.0       0.0   \n",
       "1104     79     213  0.0         1       0.0       0.0        1.0       1.0   \n",
       "\n",
       "        Count_CL    ActBal_CA      ...        TransactionsDebCash_Card  \\\n",
       "Client                             ...                                   \n",
       "284          0.0  2505.563571      ...                               1   \n",
       "1265         0.0  2941.993929      ...                               3   \n",
       "1195         0.0   120.151786      ...                               1   \n",
       "1557         0.0    55.554643      ...                               0   \n",
       "1104         1.0     0.000000      ...                               7   \n",
       "\n",
       "        TransactionsDebCashless_Card  TransactionsDeb_PaymentOrder  \\\n",
       "Client                                                               \n",
       "284                                9                             7   \n",
       "1265                               4                             0   \n",
       "1195                              16                            11   \n",
       "1557                               0                             0   \n",
       "1104                              34                            18   \n",
       "\n",
       "        Revenue_CL  Actbal_CA_avg  ActBal_SA_avg  ActBal_MF_avg  \\\n",
       "Client                                                            \n",
       "284      14.988214    2505.563571            0.0            0.0   \n",
       "1265     17.175357    2941.993929            0.0            0.0   \n",
       "1195      3.321429     120.151786            0.0            0.0   \n",
       "1557      8.107143      55.554643            0.0            0.0   \n",
       "1104      6.250000       0.000000            0.0            0.0   \n",
       "\n",
       "        ActBal_OVD_avg  ActBal_CC_avg  ActBal_CL_avg  \n",
       "Client                                                \n",
       "284                0.0       0.000000       0.000000  \n",
       "1265               0.0       0.000000       0.000000  \n",
       "1195               0.0       0.000000       0.000000  \n",
       "1557               0.0       0.000000       0.000000  \n",
       "1104               0.0       1.178571     120.676071  \n",
       "\n",
       "[5 rows x 36 columns]"
      ]
     },
     "execution_count": 4,
     "metadata": {},
     "output_type": "execute_result"
    }
   ],
   "source": [
    "user_tr = user_tr.drop(['Sale_MF','Sale_CC','Sale_CL','Revenue_MF','Revenue_CC'], axis=1)\n",
    "user_tr.head()"
   ]
  },
  {
   "cell_type": "code",
   "execution_count": 5,
   "metadata": {
    "collapsed": false
   },
   "outputs": [
    {
     "name": "stdout",
     "output_type": "stream",
     "text": [
      "(287, 36)\n"
     ]
    }
   ],
   "source": [
    "print(user_tr.shape)"
   ]
  },
  {
   "cell_type": "code",
   "execution_count": 6,
   "metadata": {
    "collapsed": true
   },
   "outputs": [],
   "source": [
    "user_tr_X = user_tr.drop('Revenue_CL', axis=1)\n",
    "user_tr_Y = user_tr['Revenue_CL']"
   ]
  },
  {
   "cell_type": "code",
   "execution_count": 7,
   "metadata": {
    "collapsed": false
   },
   "outputs": [
    {
     "data": {
      "text/plain": [
       "count    287.000000\n",
       "mean      12.010416\n",
       "std        9.976002\n",
       "min        1.071429\n",
       "25%        6.241964\n",
       "50%       10.714286\n",
       "75%       15.341250\n",
       "max      133.275357\n",
       "Name: Revenue_CL, dtype: float64"
      ]
     },
     "execution_count": 7,
     "metadata": {},
     "output_type": "execute_result"
    }
   ],
   "source": [
    "user_tr_Y.describe()"
   ]
  },
  {
   "cell_type": "code",
   "execution_count": 9,
   "metadata": {
    "collapsed": false
   },
   "outputs": [
    {
     "data": {
      "image/png": "[encoded data removed]",
      "text/plain": [
       "<matplotlib.figure.Figure at 0x7f4ab1f1a4a8>"
      ]
     },
     "metadata": {},
     "output_type": "display_data"
    }
   ],
   "source": [
    "plt.hist(user_tr_Y)\n",
    "plt.show()"
   ]
  },
  {
   "cell_type": "code",
   "execution_count": null,
   "metadata": {
    "collapsed": true
   },
   "outputs": [],
   "source": [
    "X_train, X_test, y_train, y_test = train_test_split(user_tr_X, user_tr_Y, test_size=0.2, random_state=42)"
   ]
  },
  {
   "cell_type": "code",
   "execution_count": null,
   "metadata": {
    "collapsed": true
   },
   "outputs": [],
   "source": [
    "#Scale the \n",
    "user_tr_X_scale = scale(X_train)\n",
    "user_tr_Y_scale = scale(y_train)"
   ]
  },
  {
   "cell_type": "code",
   "execution_count": null,
   "metadata": {
    "collapsed": false
   },
   "outputs": [],
   "source": [
    "reg = LinearRegression(normalize=True)\n",
    "reg.fit(X_train,y_train)\n",
    "\n",
    "\n",
    "y_pred = reg.predict(X_test)\n",
    "print(mean_absolute_error(y_test, y_pred))\n",
    "\n",
    "\n",
    "y_pred_train = reg.predict(X_train)\n",
    "print(mean_absolute_error(y_train, y_pred_train))\n"
   ]
  },
  {
   "cell_type": "code",
   "execution_count": null,
   "metadata": {
    "collapsed": false
   },
   "outputs": [],
   "source": [
    "reg = LinearRegression()\n",
    "selector = RFECV(estimator=reg, step=1, cv=10,scoring='neg_mean_squared_error')\n",
    "\n",
    "selector.fit(user_tr_X_scale, user_tr_Y_scale)\n",
    "user_tr_X_scale_transform = selector.transform(user_tr_X_scale)\n",
    "print(\"Optimal number of features : %d\" % selector.n_features_)"
   ]
  },
  {
   "cell_type": "code",
   "execution_count": null,
   "metadata": {
    "collapsed": false
   },
   "outputs": [],
   "source": [
    "reg = LinearRegression()\n",
    "scores = cross_val_score(reg, user_tr_X_scale_transform, user_tr_Y_scale, cv=10, scoring='neg_mean_squared_error', n_jobs=-1)\n",
    "print(\"roc_auc: %0.2f (+/- %0.2f)\" % (scores.mean(), scores.std() * 2))"
   ]
  },
  {
   "cell_type": "code",
   "execution_count": null,
   "metadata": {
    "collapsed": false
   },
   "outputs": [],
   "source": [
    "reg = SVR(kernel='linear')\n",
    "selector = RFECV(estimator=reg, step=1, cv=10,scoring='neg_mean_squared_error')\n",
    "\n",
    "selector.fit(user_tr_X_scale, user_tr_Y_scale)\n",
    "user_tr_X_scale_transform = selector.transform(user_tr_X_scale)\n",
    "print(\"Optimal number of features : %d\" % selector.n_features_)\n"
   ]
  },
  {
   "cell_type": "code",
   "execution_count": null,
   "metadata": {
    "collapsed": false
   },
   "outputs": [],
   "source": [
    "user_tr_X_scale_transform"
   ]
  },
  {
   "cell_type": "code",
   "execution_count": null,
   "metadata": {
    "collapsed": false
   },
   "outputs": [],
   "source": [
    "reg = SVR(kernel='linear')\n",
    "scores = cross_val_score(reg, user_tr_X_scale_transform, user_tr_Y_scale, cv=10, scoring='neg_mean_squared_error', n_jobs=-1)\n",
    "print(\"roc_auc: %0.2f (+/- %0.2f)\" % (scores.mean(), scores.std() * 2))"
   ]
  },
  {
   "cell_type": "code",
   "execution_count": null,
   "metadata": {
    "collapsed": false
   },
   "outputs": [],
   "source": [
    "reg = RandomForestRegressor()\n",
    "scores = cross_val_score(reg, user_tr_X_scale_transform, user_tr_Y_scale, cv=10, scoring='neg_mean_squared_error', n_jobs=-1)\n",
    "print(\"roc_auc: %0.2f (+/- %0.2f)\" % (scores.mean(), scores.std() * 2))"
   ]
  },
  {
   "cell_type": "code",
   "execution_count": null,
   "metadata": {
    "collapsed": false
   },
   "outputs": [],
   "source": [
    "reg = Ridge()\n",
    "scores = cross_val_score(reg, user_tr_X_scale_transform, user_tr_Y_scale, cv=10, scoring='neg_mean_squared_error', n_jobs=-1)\n",
    "print(\"roc_auc: %0.2f (+/- %0.2f)\" % (scores.mean(), scores.std() * 2))"
   ]
  },
  {
   "cell_type": "code",
   "execution_count": null,
   "metadata": {
    "collapsed": false
   },
   "outputs": [],
   "source": [
    "reg = Lasso()\n",
    "scores = cross_val_score(reg, user_tr_X_scale_transform, user_tr_Y_scale, cv=10, scoring='neg_mean_squared_error', n_jobs=-1)\n",
    "print(\"roc_auc: %0.2f (+/- %0.2f)\" % (scores.mean(), scores.std() * 2))"
   ]
  },
  {
   "cell_type": "code",
   "execution_count": null,
   "metadata": {
    "collapsed": true
   },
   "outputs": [],
   "source": []
  }
 ],
 "metadata": {
  "anaconda-cloud": {},
  "kernelspec": {
   "display_name": "Python [default]",
   "language": "python",
   "name": "python3"
  },
  "language_info": {
   "codemirror_mode": {
    "name": "ipython",
    "version": 3
   },
   "file_extension": ".py",
   "mimetype": "text/x-python",
   "name": "python",
   "nbconvert_exporter": "python",
   "pygments_lexer": "ipython3",
   "version": "3.5.2"
  }
 },
 "nbformat": 4,
 "nbformat_minor": 2
}
