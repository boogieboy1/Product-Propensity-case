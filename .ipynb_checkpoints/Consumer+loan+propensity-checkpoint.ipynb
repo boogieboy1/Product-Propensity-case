{
 "cells": [
  {
   "cell_type": "code",
   "execution_count": 145,
   "metadata": {
    "collapsed": true
   },
   "outputs": [],
   "source": [
    "#import libraries\n",
    "import pandas as pd\n",
    "import numpy as np\n",
    "import matplotlib.pyplot as plt\n",
    "import seaborn as sns\n",
    "from scipy.stats import skew\n",
    "\n",
    "from sklearn.linear_model import LogisticRegression\n",
    "from sklearn.svm import SVC\n",
    "from sklearn.svm import LinearSVC\n",
    "from sklearn.ensemble import RandomForestClassifier\n",
    "from sklearn.naive_bayes import GaussianNB\n",
    "\n",
    "from sklearn.model_selection import train_test_split\n",
    "from sklearn.metrics import roc_auc_score\n",
    "from sklearn.metrics import classification_report\n",
    "from sklearn.model_selection import cross_val_score\n",
    "from sklearn.model_selection import GridSearchCV\n",
    "from sklearn.model_selection import RandomizedSearchCV\n",
    "from sklearn.ensemble import VotingClassifier\n",
    "\n",
    "from sklearn.feature_selection import RFECV, RFE\n",
    "from sklearn.preprocessing import MinMaxScaler\n",
    "\n",
    "from sklearn.preprocessing import scale\n",
    "from sklearn.preprocessing import normalize\n",
    "from sklearn.decomposition import PCA\n",
    "\n",
    "\n",
    "%matplotlib inline"
   ]
  },
  {
   "cell_type": "markdown",
   "metadata": {},
   "source": [
    "# Read data and only keep needed class"
   ]
  },
  {
   "cell_type": "code",
   "execution_count": 139,
   "metadata": {
    "collapsed": false
   },
   "outputs": [
    {
     "name": "stdout",
     "output_type": "stream",
     "text": [
      "(1587, 41)\n"
     ]
    },
    {
     "data": {
      "text/html": [
       "<div>\n",
       "<table border=\"1\" class=\"dataframe\">\n",
       "  <thead>\n",
       "    <tr style=\"text-align: right;\">\n",
       "      <th></th>\n",
       "      <th>Age</th>\n",
       "      <th>Tenure</th>\n",
       "      <th>M</th>\n",
       "      <th>Count_CA</th>\n",
       "      <th>Count_SA</th>\n",
       "      <th>Count_MF</th>\n",
       "      <th>Count_OVD</th>\n",
       "      <th>Count_CC</th>\n",
       "      <th>Count_CL</th>\n",
       "      <th>ActBal_CA</th>\n",
       "      <th>...</th>\n",
       "      <th>Sale_CL</th>\n",
       "      <th>Revenue_MF</th>\n",
       "      <th>Revenue_CC</th>\n",
       "      <th>Revenue_CL</th>\n",
       "      <th>Actbal_CA_avg</th>\n",
       "      <th>ActBal_SA_avg</th>\n",
       "      <th>ActBal_MF_avg</th>\n",
       "      <th>ActBal_OVD_avg</th>\n",
       "      <th>ActBal_CC_avg</th>\n",
       "      <th>ActBal_CL_avg</th>\n",
       "    </tr>\n",
       "    <tr>\n",
       "      <th>Client</th>\n",
       "      <th></th>\n",
       "      <th></th>\n",
       "      <th></th>\n",
       "      <th></th>\n",
       "      <th></th>\n",
       "      <th></th>\n",
       "      <th></th>\n",
       "      <th></th>\n",
       "      <th></th>\n",
       "      <th></th>\n",
       "      <th></th>\n",
       "      <th></th>\n",
       "      <th></th>\n",
       "      <th></th>\n",
       "      <th></th>\n",
       "      <th></th>\n",
       "      <th></th>\n",
       "      <th></th>\n",
       "      <th></th>\n",
       "      <th></th>\n",
       "      <th></th>\n",
       "    </tr>\n",
       "  </thead>\n",
       "  <tbody>\n",
       "    <tr>\n",
       "      <th>1017</th>\n",
       "      <td>57.0</td>\n",
       "      <td>145</td>\n",
       "      <td>1.0</td>\n",
       "      <td>1</td>\n",
       "      <td>0.0</td>\n",
       "      <td>0.0</td>\n",
       "      <td>0.0</td>\n",
       "      <td>0.0</td>\n",
       "      <td>0.0</td>\n",
       "      <td>903.638214</td>\n",
       "      <td>...</td>\n",
       "      <td>0.0</td>\n",
       "      <td>0.0</td>\n",
       "      <td>0.000000</td>\n",
       "      <td>0.0</td>\n",
       "      <td>903.638214</td>\n",
       "      <td>0.00000</td>\n",
       "      <td>0.0</td>\n",
       "      <td>0.0</td>\n",
       "      <td>0.0</td>\n",
       "      <td>0.0</td>\n",
       "    </tr>\n",
       "    <tr>\n",
       "      <th>1456</th>\n",
       "      <td>61.0</td>\n",
       "      <td>149</td>\n",
       "      <td>0.0</td>\n",
       "      <td>1</td>\n",
       "      <td>1.0</td>\n",
       "      <td>0.0</td>\n",
       "      <td>0.0</td>\n",
       "      <td>0.0</td>\n",
       "      <td>0.0</td>\n",
       "      <td>0.000000</td>\n",
       "      <td>...</td>\n",
       "      <td>0.0</td>\n",
       "      <td>0.0</td>\n",
       "      <td>3.607143</td>\n",
       "      <td>0.0</td>\n",
       "      <td>0.000000</td>\n",
       "      <td>0.00000</td>\n",
       "      <td>0.0</td>\n",
       "      <td>0.0</td>\n",
       "      <td>0.0</td>\n",
       "      <td>0.0</td>\n",
       "    </tr>\n",
       "    <tr>\n",
       "      <th>545</th>\n",
       "      <td>20.0</td>\n",
       "      <td>151</td>\n",
       "      <td>1.0</td>\n",
       "      <td>1</td>\n",
       "      <td>1.0</td>\n",
       "      <td>0.0</td>\n",
       "      <td>0.0</td>\n",
       "      <td>0.0</td>\n",
       "      <td>0.0</td>\n",
       "      <td>3852.053929</td>\n",
       "      <td>...</td>\n",
       "      <td>NaN</td>\n",
       "      <td>NaN</td>\n",
       "      <td>NaN</td>\n",
       "      <td>NaN</td>\n",
       "      <td>3852.053929</td>\n",
       "      <td>37045.96571</td>\n",
       "      <td>0.0</td>\n",
       "      <td>0.0</td>\n",
       "      <td>0.0</td>\n",
       "      <td>0.0</td>\n",
       "    </tr>\n",
       "    <tr>\n",
       "      <th>667</th>\n",
       "      <td>48.0</td>\n",
       "      <td>143</td>\n",
       "      <td>1.0</td>\n",
       "      <td>1</td>\n",
       "      <td>0.0</td>\n",
       "      <td>0.0</td>\n",
       "      <td>0.0</td>\n",
       "      <td>0.0</td>\n",
       "      <td>0.0</td>\n",
       "      <td>60.044286</td>\n",
       "      <td>...</td>\n",
       "      <td>NaN</td>\n",
       "      <td>NaN</td>\n",
       "      <td>NaN</td>\n",
       "      <td>NaN</td>\n",
       "      <td>60.044286</td>\n",
       "      <td>0.00000</td>\n",
       "      <td>0.0</td>\n",
       "      <td>0.0</td>\n",
       "      <td>0.0</td>\n",
       "      <td>0.0</td>\n",
       "    </tr>\n",
       "    <tr>\n",
       "      <th>1381</th>\n",
       "      <td>38.0</td>\n",
       "      <td>135</td>\n",
       "      <td>1.0</td>\n",
       "      <td>1</td>\n",
       "      <td>0.0</td>\n",
       "      <td>0.0</td>\n",
       "      <td>0.0</td>\n",
       "      <td>0.0</td>\n",
       "      <td>0.0</td>\n",
       "      <td>144.871429</td>\n",
       "      <td>...</td>\n",
       "      <td>0.0</td>\n",
       "      <td>0.0</td>\n",
       "      <td>0.000000</td>\n",
       "      <td>0.0</td>\n",
       "      <td>144.871429</td>\n",
       "      <td>0.00000</td>\n",
       "      <td>0.0</td>\n",
       "      <td>0.0</td>\n",
       "      <td>0.0</td>\n",
       "      <td>0.0</td>\n",
       "    </tr>\n",
       "  </tbody>\n",
       "</table>\n",
       "<p>5 rows × 41 columns</p>\n",
       "</div>"
      ],
      "text/plain": [
       "         Age  Tenure    M  Count_CA  Count_SA  Count_MF  Count_OVD  Count_CC  \\\n",
       "Client                                                                         \n",
       "1017    57.0     145  1.0         1       0.0       0.0        0.0       0.0   \n",
       "1456    61.0     149  0.0         1       1.0       0.0        0.0       0.0   \n",
       "545     20.0     151  1.0         1       1.0       0.0        0.0       0.0   \n",
       "667     48.0     143  1.0         1       0.0       0.0        0.0       0.0   \n",
       "1381    38.0     135  1.0         1       0.0       0.0        0.0       0.0   \n",
       "\n",
       "        Count_CL    ActBal_CA      ...        Sale_CL  Revenue_MF  Revenue_CC  \\\n",
       "Client                             ...                                          \n",
       "1017         0.0   903.638214      ...            0.0         0.0    0.000000   \n",
       "1456         0.0     0.000000      ...            0.0         0.0    3.607143   \n",
       "545          0.0  3852.053929      ...            NaN         NaN         NaN   \n",
       "667          0.0    60.044286      ...            NaN         NaN         NaN   \n",
       "1381         0.0   144.871429      ...            0.0         0.0    0.000000   \n",
       "\n",
       "        Revenue_CL  Actbal_CA_avg  ActBal_SA_avg  ActBal_MF_avg  \\\n",
       "Client                                                            \n",
       "1017           0.0     903.638214        0.00000            0.0   \n",
       "1456           0.0       0.000000        0.00000            0.0   \n",
       "545            NaN    3852.053929    37045.96571            0.0   \n",
       "667            NaN      60.044286        0.00000            0.0   \n",
       "1381           0.0     144.871429        0.00000            0.0   \n",
       "\n",
       "        ActBal_OVD_avg  ActBal_CC_avg  ActBal_CL_avg  \n",
       "Client                                                \n",
       "1017               0.0            0.0            0.0  \n",
       "1456               0.0            0.0            0.0  \n",
       "545                0.0            0.0            0.0  \n",
       "667                0.0            0.0            0.0  \n",
       "1381               0.0            0.0            0.0  \n",
       "\n",
       "[5 rows x 41 columns]"
      ]
     },
     "execution_count": 139,
     "metadata": {},
     "output_type": "execute_result"
    }
   ],
   "source": [
    "user = pd.read_csv(\"analysis_data.csv\", sep=\",\", index_col=\"Client\")\n",
    "print(user.shape)\n",
    "user.head()"
   ]
  },
  {
   "cell_type": "code",
   "execution_count": 140,
   "metadata": {
    "collapsed": false
   },
   "outputs": [
    {
     "name": "stdout",
     "output_type": "stream",
     "text": [
      "(951, 41)\n"
     ]
    },
    {
     "data": {
      "text/html": [
       "<div>\n",
       "<table border=\"1\" class=\"dataframe\">\n",
       "  <thead>\n",
       "    <tr style=\"text-align: right;\">\n",
       "      <th></th>\n",
       "      <th>Age</th>\n",
       "      <th>Tenure</th>\n",
       "      <th>M</th>\n",
       "      <th>Count_CA</th>\n",
       "      <th>Count_SA</th>\n",
       "      <th>Count_MF</th>\n",
       "      <th>Count_OVD</th>\n",
       "      <th>Count_CC</th>\n",
       "      <th>Count_CL</th>\n",
       "      <th>ActBal_CA</th>\n",
       "      <th>...</th>\n",
       "      <th>Sale_CL</th>\n",
       "      <th>Revenue_MF</th>\n",
       "      <th>Revenue_CC</th>\n",
       "      <th>Revenue_CL</th>\n",
       "      <th>Actbal_CA_avg</th>\n",
       "      <th>ActBal_SA_avg</th>\n",
       "      <th>ActBal_MF_avg</th>\n",
       "      <th>ActBal_OVD_avg</th>\n",
       "      <th>ActBal_CC_avg</th>\n",
       "      <th>ActBal_CL_avg</th>\n",
       "    </tr>\n",
       "    <tr>\n",
       "      <th>Client</th>\n",
       "      <th></th>\n",
       "      <th></th>\n",
       "      <th></th>\n",
       "      <th></th>\n",
       "      <th></th>\n",
       "      <th></th>\n",
       "      <th></th>\n",
       "      <th></th>\n",
       "      <th></th>\n",
       "      <th></th>\n",
       "      <th></th>\n",
       "      <th></th>\n",
       "      <th></th>\n",
       "      <th></th>\n",
       "      <th></th>\n",
       "      <th></th>\n",
       "      <th></th>\n",
       "      <th></th>\n",
       "      <th></th>\n",
       "      <th></th>\n",
       "      <th></th>\n",
       "    </tr>\n",
       "  </thead>\n",
       "  <tbody>\n",
       "    <tr>\n",
       "      <th>1017</th>\n",
       "      <td>57.0</td>\n",
       "      <td>145</td>\n",
       "      <td>1.0</td>\n",
       "      <td>1</td>\n",
       "      <td>0.0</td>\n",
       "      <td>0.0</td>\n",
       "      <td>0.0</td>\n",
       "      <td>0.0</td>\n",
       "      <td>0.0</td>\n",
       "      <td>903.638214</td>\n",
       "      <td>...</td>\n",
       "      <td>0.0</td>\n",
       "      <td>0.0</td>\n",
       "      <td>0.000000</td>\n",
       "      <td>0.000000</td>\n",
       "      <td>903.638214</td>\n",
       "      <td>0.0</td>\n",
       "      <td>0.0</td>\n",
       "      <td>0.0</td>\n",
       "      <td>0.0</td>\n",
       "      <td>0.0</td>\n",
       "    </tr>\n",
       "    <tr>\n",
       "      <th>1456</th>\n",
       "      <td>61.0</td>\n",
       "      <td>149</td>\n",
       "      <td>0.0</td>\n",
       "      <td>1</td>\n",
       "      <td>1.0</td>\n",
       "      <td>0.0</td>\n",
       "      <td>0.0</td>\n",
       "      <td>0.0</td>\n",
       "      <td>0.0</td>\n",
       "      <td>0.000000</td>\n",
       "      <td>...</td>\n",
       "      <td>0.0</td>\n",
       "      <td>0.0</td>\n",
       "      <td>3.607143</td>\n",
       "      <td>0.000000</td>\n",
       "      <td>0.000000</td>\n",
       "      <td>0.0</td>\n",
       "      <td>0.0</td>\n",
       "      <td>0.0</td>\n",
       "      <td>0.0</td>\n",
       "      <td>0.0</td>\n",
       "    </tr>\n",
       "    <tr>\n",
       "      <th>1381</th>\n",
       "      <td>38.0</td>\n",
       "      <td>135</td>\n",
       "      <td>1.0</td>\n",
       "      <td>1</td>\n",
       "      <td>0.0</td>\n",
       "      <td>0.0</td>\n",
       "      <td>0.0</td>\n",
       "      <td>0.0</td>\n",
       "      <td>0.0</td>\n",
       "      <td>144.871429</td>\n",
       "      <td>...</td>\n",
       "      <td>0.0</td>\n",
       "      <td>0.0</td>\n",
       "      <td>0.000000</td>\n",
       "      <td>0.000000</td>\n",
       "      <td>144.871429</td>\n",
       "      <td>0.0</td>\n",
       "      <td>0.0</td>\n",
       "      <td>0.0</td>\n",
       "      <td>0.0</td>\n",
       "      <td>0.0</td>\n",
       "    </tr>\n",
       "    <tr>\n",
       "      <th>284</th>\n",
       "      <td>66.0</td>\n",
       "      <td>23</td>\n",
       "      <td>1.0</td>\n",
       "      <td>1</td>\n",
       "      <td>0.0</td>\n",
       "      <td>0.0</td>\n",
       "      <td>0.0</td>\n",
       "      <td>0.0</td>\n",
       "      <td>0.0</td>\n",
       "      <td>2505.563571</td>\n",
       "      <td>...</td>\n",
       "      <td>1.0</td>\n",
       "      <td>0.0</td>\n",
       "      <td>0.893214</td>\n",
       "      <td>14.988214</td>\n",
       "      <td>2505.563571</td>\n",
       "      <td>0.0</td>\n",
       "      <td>0.0</td>\n",
       "      <td>0.0</td>\n",
       "      <td>0.0</td>\n",
       "      <td>0.0</td>\n",
       "    </tr>\n",
       "    <tr>\n",
       "      <th>486</th>\n",
       "      <td>43.0</td>\n",
       "      <td>195</td>\n",
       "      <td>1.0</td>\n",
       "      <td>2</td>\n",
       "      <td>0.0</td>\n",
       "      <td>0.0</td>\n",
       "      <td>0.0</td>\n",
       "      <td>0.0</td>\n",
       "      <td>0.0</td>\n",
       "      <td>1815.522857</td>\n",
       "      <td>...</td>\n",
       "      <td>0.0</td>\n",
       "      <td>0.0</td>\n",
       "      <td>0.000000</td>\n",
       "      <td>0.000000</td>\n",
       "      <td>907.761428</td>\n",
       "      <td>0.0</td>\n",
       "      <td>0.0</td>\n",
       "      <td>0.0</td>\n",
       "      <td>0.0</td>\n",
       "      <td>0.0</td>\n",
       "    </tr>\n",
       "  </tbody>\n",
       "</table>\n",
       "<p>5 rows × 41 columns</p>\n",
       "</div>"
      ],
      "text/plain": [
       "         Age  Tenure    M  Count_CA  Count_SA  Count_MF  Count_OVD  Count_CC  \\\n",
       "Client                                                                         \n",
       "1017    57.0     145  1.0         1       0.0       0.0        0.0       0.0   \n",
       "1456    61.0     149  0.0         1       1.0       0.0        0.0       0.0   \n",
       "1381    38.0     135  1.0         1       0.0       0.0        0.0       0.0   \n",
       "284     66.0      23  1.0         1       0.0       0.0        0.0       0.0   \n",
       "486     43.0     195  1.0         2       0.0       0.0        0.0       0.0   \n",
       "\n",
       "        Count_CL    ActBal_CA      ...        Sale_CL  Revenue_MF  Revenue_CC  \\\n",
       "Client                             ...                                          \n",
       "1017         0.0   903.638214      ...            0.0         0.0    0.000000   \n",
       "1456         0.0     0.000000      ...            0.0         0.0    3.607143   \n",
       "1381         0.0   144.871429      ...            0.0         0.0    0.000000   \n",
       "284          0.0  2505.563571      ...            1.0         0.0    0.893214   \n",
       "486          0.0  1815.522857      ...            0.0         0.0    0.000000   \n",
       "\n",
       "        Revenue_CL  Actbal_CA_avg  ActBal_SA_avg  ActBal_MF_avg  \\\n",
       "Client                                                            \n",
       "1017      0.000000     903.638214            0.0            0.0   \n",
       "1456      0.000000       0.000000            0.0            0.0   \n",
       "1381      0.000000     144.871429            0.0            0.0   \n",
       "284      14.988214    2505.563571            0.0            0.0   \n",
       "486       0.000000     907.761428            0.0            0.0   \n",
       "\n",
       "        ActBal_OVD_avg  ActBal_CC_avg  ActBal_CL_avg  \n",
       "Client                                                \n",
       "1017               0.0            0.0            0.0  \n",
       "1456               0.0            0.0            0.0  \n",
       "1381               0.0            0.0            0.0  \n",
       "284                0.0            0.0            0.0  \n",
       "486                0.0            0.0            0.0  \n",
       "\n",
       "[5 rows x 41 columns]"
      ]
     },
     "execution_count": 140,
     "metadata": {},
     "output_type": "execute_result"
    }
   ],
   "source": [
    "user_tr = user[pd.notnull(user['Sale_MF'])]\n",
    "print(user_tr.shape)\n",
    "user_tr.head()"
   ]
  },
  {
   "cell_type": "code",
   "execution_count": 141,
   "metadata": {
    "collapsed": false
   },
   "outputs": [
    {
     "data": {
      "text/html": [
       "<div>\n",
       "<table border=\"1\" class=\"dataframe\">\n",
       "  <thead>\n",
       "    <tr style=\"text-align: right;\">\n",
       "      <th></th>\n",
       "      <th>Age</th>\n",
       "      <th>Tenure</th>\n",
       "      <th>M</th>\n",
       "      <th>Count_CA</th>\n",
       "      <th>Count_SA</th>\n",
       "      <th>Count_MF</th>\n",
       "      <th>Count_OVD</th>\n",
       "      <th>Count_CC</th>\n",
       "      <th>Count_CL</th>\n",
       "      <th>ActBal_CA</th>\n",
       "      <th>...</th>\n",
       "      <th>TransactionsDebCash_Card</th>\n",
       "      <th>TransactionsDebCashless_Card</th>\n",
       "      <th>TransactionsDeb_PaymentOrder</th>\n",
       "      <th>Sale_CL</th>\n",
       "      <th>Actbal_CA_avg</th>\n",
       "      <th>ActBal_SA_avg</th>\n",
       "      <th>ActBal_MF_avg</th>\n",
       "      <th>ActBal_OVD_avg</th>\n",
       "      <th>ActBal_CC_avg</th>\n",
       "      <th>ActBal_CL_avg</th>\n",
       "    </tr>\n",
       "    <tr>\n",
       "      <th>Client</th>\n",
       "      <th></th>\n",
       "      <th></th>\n",
       "      <th></th>\n",
       "      <th></th>\n",
       "      <th></th>\n",
       "      <th></th>\n",
       "      <th></th>\n",
       "      <th></th>\n",
       "      <th></th>\n",
       "      <th></th>\n",
       "      <th></th>\n",
       "      <th></th>\n",
       "      <th></th>\n",
       "      <th></th>\n",
       "      <th></th>\n",
       "      <th></th>\n",
       "      <th></th>\n",
       "      <th></th>\n",
       "      <th></th>\n",
       "      <th></th>\n",
       "      <th></th>\n",
       "    </tr>\n",
       "  </thead>\n",
       "  <tbody>\n",
       "    <tr>\n",
       "      <th>1017</th>\n",
       "      <td>57.0</td>\n",
       "      <td>145</td>\n",
       "      <td>1.0</td>\n",
       "      <td>1</td>\n",
       "      <td>0.0</td>\n",
       "      <td>0.0</td>\n",
       "      <td>0.0</td>\n",
       "      <td>0.0</td>\n",
       "      <td>0.0</td>\n",
       "      <td>903.638214</td>\n",
       "      <td>...</td>\n",
       "      <td>2</td>\n",
       "      <td>9</td>\n",
       "      <td>0</td>\n",
       "      <td>0.0</td>\n",
       "      <td>903.638214</td>\n",
       "      <td>0.0</td>\n",
       "      <td>0.0</td>\n",
       "      <td>0.0</td>\n",
       "      <td>0.0</td>\n",
       "      <td>0.0</td>\n",
       "    </tr>\n",
       "    <tr>\n",
       "      <th>1456</th>\n",
       "      <td>61.0</td>\n",
       "      <td>149</td>\n",
       "      <td>0.0</td>\n",
       "      <td>1</td>\n",
       "      <td>1.0</td>\n",
       "      <td>0.0</td>\n",
       "      <td>0.0</td>\n",
       "      <td>0.0</td>\n",
       "      <td>0.0</td>\n",
       "      <td>0.000000</td>\n",
       "      <td>...</td>\n",
       "      <td>1</td>\n",
       "      <td>20</td>\n",
       "      <td>5</td>\n",
       "      <td>0.0</td>\n",
       "      <td>0.000000</td>\n",
       "      <td>0.0</td>\n",
       "      <td>0.0</td>\n",
       "      <td>0.0</td>\n",
       "      <td>0.0</td>\n",
       "      <td>0.0</td>\n",
       "    </tr>\n",
       "    <tr>\n",
       "      <th>1381</th>\n",
       "      <td>38.0</td>\n",
       "      <td>135</td>\n",
       "      <td>1.0</td>\n",
       "      <td>1</td>\n",
       "      <td>0.0</td>\n",
       "      <td>0.0</td>\n",
       "      <td>0.0</td>\n",
       "      <td>0.0</td>\n",
       "      <td>0.0</td>\n",
       "      <td>144.871429</td>\n",
       "      <td>...</td>\n",
       "      <td>1</td>\n",
       "      <td>5</td>\n",
       "      <td>0</td>\n",
       "      <td>0.0</td>\n",
       "      <td>144.871429</td>\n",
       "      <td>0.0</td>\n",
       "      <td>0.0</td>\n",
       "      <td>0.0</td>\n",
       "      <td>0.0</td>\n",
       "      <td>0.0</td>\n",
       "    </tr>\n",
       "    <tr>\n",
       "      <th>284</th>\n",
       "      <td>66.0</td>\n",
       "      <td>23</td>\n",
       "      <td>1.0</td>\n",
       "      <td>1</td>\n",
       "      <td>0.0</td>\n",
       "      <td>0.0</td>\n",
       "      <td>0.0</td>\n",
       "      <td>0.0</td>\n",
       "      <td>0.0</td>\n",
       "      <td>2505.563571</td>\n",
       "      <td>...</td>\n",
       "      <td>1</td>\n",
       "      <td>9</td>\n",
       "      <td>7</td>\n",
       "      <td>1.0</td>\n",
       "      <td>2505.563571</td>\n",
       "      <td>0.0</td>\n",
       "      <td>0.0</td>\n",
       "      <td>0.0</td>\n",
       "      <td>0.0</td>\n",
       "      <td>0.0</td>\n",
       "    </tr>\n",
       "    <tr>\n",
       "      <th>486</th>\n",
       "      <td>43.0</td>\n",
       "      <td>195</td>\n",
       "      <td>1.0</td>\n",
       "      <td>2</td>\n",
       "      <td>0.0</td>\n",
       "      <td>0.0</td>\n",
       "      <td>0.0</td>\n",
       "      <td>0.0</td>\n",
       "      <td>0.0</td>\n",
       "      <td>1815.522857</td>\n",
       "      <td>...</td>\n",
       "      <td>0</td>\n",
       "      <td>0</td>\n",
       "      <td>0</td>\n",
       "      <td>0.0</td>\n",
       "      <td>907.761428</td>\n",
       "      <td>0.0</td>\n",
       "      <td>0.0</td>\n",
       "      <td>0.0</td>\n",
       "      <td>0.0</td>\n",
       "      <td>0.0</td>\n",
       "    </tr>\n",
       "  </tbody>\n",
       "</table>\n",
       "<p>5 rows × 36 columns</p>\n",
       "</div>"
      ],
      "text/plain": [
       "         Age  Tenure    M  Count_CA  Count_SA  Count_MF  Count_OVD  Count_CC  \\\n",
       "Client                                                                         \n",
       "1017    57.0     145  1.0         1       0.0       0.0        0.0       0.0   \n",
       "1456    61.0     149  0.0         1       1.0       0.0        0.0       0.0   \n",
       "1381    38.0     135  1.0         1       0.0       0.0        0.0       0.0   \n",
       "284     66.0      23  1.0         1       0.0       0.0        0.0       0.0   \n",
       "486     43.0     195  1.0         2       0.0       0.0        0.0       0.0   \n",
       "\n",
       "        Count_CL    ActBal_CA      ...        TransactionsDebCash_Card  \\\n",
       "Client                             ...                                   \n",
       "1017         0.0   903.638214      ...                               2   \n",
       "1456         0.0     0.000000      ...                               1   \n",
       "1381         0.0   144.871429      ...                               1   \n",
       "284          0.0  2505.563571      ...                               1   \n",
       "486          0.0  1815.522857      ...                               0   \n",
       "\n",
       "        TransactionsDebCashless_Card  TransactionsDeb_PaymentOrder  Sale_CL  \\\n",
       "Client                                                                        \n",
       "1017                               9                             0      0.0   \n",
       "1456                              20                             5      0.0   \n",
       "1381                               5                             0      0.0   \n",
       "284                                9                             7      1.0   \n",
       "486                                0                             0      0.0   \n",
       "\n",
       "        Actbal_CA_avg  ActBal_SA_avg  ActBal_MF_avg  ActBal_OVD_avg  \\\n",
       "Client                                                                \n",
       "1017       903.638214            0.0            0.0             0.0   \n",
       "1456         0.000000            0.0            0.0             0.0   \n",
       "1381       144.871429            0.0            0.0             0.0   \n",
       "284       2505.563571            0.0            0.0             0.0   \n",
       "486        907.761428            0.0            0.0             0.0   \n",
       "\n",
       "        ActBal_CC_avg  ActBal_CL_avg  \n",
       "Client                                \n",
       "1017              0.0            0.0  \n",
       "1456              0.0            0.0  \n",
       "1381              0.0            0.0  \n",
       "284               0.0            0.0  \n",
       "486               0.0            0.0  \n",
       "\n",
       "[5 rows x 36 columns]"
      ]
     },
     "execution_count": 141,
     "metadata": {},
     "output_type": "execute_result"
    }
   ],
   "source": [
    "user_tr = user_tr.drop(['Sale_MF','Sale_CC','Revenue_MF','Revenue_CC','Revenue_CL'], axis=1)\n",
    "user_tr.head()"
   ]
  },
  {
   "cell_type": "code",
   "execution_count": 142,
   "metadata": {
    "collapsed": false
   },
   "outputs": [
    {
     "name": "stdout",
     "output_type": "stream",
     "text": [
      "(951, 36)\n"
     ]
    }
   ],
   "source": [
    "print(user_tr.shape)"
   ]
  },
  {
   "cell_type": "code",
   "execution_count": 143,
   "metadata": {
    "collapsed": true
   },
   "outputs": [],
   "source": [
    "user_tr_X = user_tr.drop('Sale_CL', axis=1)\n",
    "\n",
    "user_tr_Y = user_tr['Sale_CL']"
   ]
  },
  {
   "cell_type": "code",
   "execution_count": 152,
   "metadata": {
    "collapsed": false
   },
   "outputs": [
    {
     "data": {
      "text/html": [
       "<div>\n",
       "<table border=\"1\" class=\"dataframe\">\n",
       "  <thead>\n",
       "    <tr style=\"text-align: right;\">\n",
       "      <th></th>\n",
       "      <th>Total</th>\n",
       "      <th>Percent</th>\n",
       "    </tr>\n",
       "  </thead>\n",
       "  <tbody>\n",
       "    <tr>\n",
       "      <th>ActBal_CL_avg</th>\n",
       "      <td>0</td>\n",
       "      <td>0.0</td>\n",
       "    </tr>\n",
       "    <tr>\n",
       "      <th>Count_CL</th>\n",
       "      <td>0</td>\n",
       "      <td>0.0</td>\n",
       "    </tr>\n",
       "    <tr>\n",
       "      <th>ActBal_CL</th>\n",
       "      <td>0</td>\n",
       "      <td>0.0</td>\n",
       "    </tr>\n",
       "    <tr>\n",
       "      <th>ActBal_CC</th>\n",
       "      <td>0</td>\n",
       "      <td>0.0</td>\n",
       "    </tr>\n",
       "    <tr>\n",
       "      <th>ActBal_OVD</th>\n",
       "      <td>0</td>\n",
       "      <td>0.0</td>\n",
       "    </tr>\n",
       "    <tr>\n",
       "      <th>ActBal_MF</th>\n",
       "      <td>0</td>\n",
       "      <td>0.0</td>\n",
       "    </tr>\n",
       "    <tr>\n",
       "      <th>ActBal_SA</th>\n",
       "      <td>0</td>\n",
       "      <td>0.0</td>\n",
       "    </tr>\n",
       "    <tr>\n",
       "      <th>ActBal_CA</th>\n",
       "      <td>0</td>\n",
       "      <td>0.0</td>\n",
       "    </tr>\n",
       "    <tr>\n",
       "      <th>Count_CC</th>\n",
       "      <td>0</td>\n",
       "      <td>0.0</td>\n",
       "    </tr>\n",
       "    <tr>\n",
       "      <th>VolumeCred_CA</th>\n",
       "      <td>0</td>\n",
       "      <td>0.0</td>\n",
       "    </tr>\n",
       "    <tr>\n",
       "      <th>Count_OVD</th>\n",
       "      <td>0</td>\n",
       "      <td>0.0</td>\n",
       "    </tr>\n",
       "    <tr>\n",
       "      <th>Count_MF</th>\n",
       "      <td>0</td>\n",
       "      <td>0.0</td>\n",
       "    </tr>\n",
       "    <tr>\n",
       "      <th>Count_SA</th>\n",
       "      <td>0</td>\n",
       "      <td>0.0</td>\n",
       "    </tr>\n",
       "    <tr>\n",
       "      <th>Count_CA</th>\n",
       "      <td>0</td>\n",
       "      <td>0.0</td>\n",
       "    </tr>\n",
       "    <tr>\n",
       "      <th>M</th>\n",
       "      <td>0</td>\n",
       "      <td>0.0</td>\n",
       "    </tr>\n",
       "    <tr>\n",
       "      <th>Tenure</th>\n",
       "      <td>0</td>\n",
       "      <td>0.0</td>\n",
       "    </tr>\n",
       "    <tr>\n",
       "      <th>VolumeCred</th>\n",
       "      <td>0</td>\n",
       "      <td>0.0</td>\n",
       "    </tr>\n",
       "    <tr>\n",
       "      <th>TransactionsCred</th>\n",
       "      <td>0</td>\n",
       "      <td>0.0</td>\n",
       "    </tr>\n",
       "    <tr>\n",
       "      <th>ActBal_CC_avg</th>\n",
       "      <td>0</td>\n",
       "      <td>0.0</td>\n",
       "    </tr>\n",
       "    <tr>\n",
       "      <th>TransactionsDebCash_Card</th>\n",
       "      <td>0</td>\n",
       "      <td>0.0</td>\n",
       "    </tr>\n",
       "    <tr>\n",
       "      <th>ActBal_OVD_avg</th>\n",
       "      <td>0</td>\n",
       "      <td>0.0</td>\n",
       "    </tr>\n",
       "    <tr>\n",
       "      <th>ActBal_MF_avg</th>\n",
       "      <td>0</td>\n",
       "      <td>0.0</td>\n",
       "    </tr>\n",
       "    <tr>\n",
       "      <th>ActBal_SA_avg</th>\n",
       "      <td>0</td>\n",
       "      <td>0.0</td>\n",
       "    </tr>\n",
       "    <tr>\n",
       "      <th>Actbal_CA_avg</th>\n",
       "      <td>0</td>\n",
       "      <td>0.0</td>\n",
       "    </tr>\n",
       "    <tr>\n",
       "      <th>TransactionsDeb_PaymentOrder</th>\n",
       "      <td>0</td>\n",
       "      <td>0.0</td>\n",
       "    </tr>\n",
       "    <tr>\n",
       "      <th>TransactionsDebCashless_Card</th>\n",
       "      <td>0</td>\n",
       "      <td>0.0</td>\n",
       "    </tr>\n",
       "    <tr>\n",
       "      <th>TransactionsDeb_CA</th>\n",
       "      <td>0</td>\n",
       "      <td>0.0</td>\n",
       "    </tr>\n",
       "    <tr>\n",
       "      <th>TransactionsCred_CA</th>\n",
       "      <td>0</td>\n",
       "      <td>0.0</td>\n",
       "    </tr>\n",
       "    <tr>\n",
       "      <th>TransactionsDeb</th>\n",
       "      <td>0</td>\n",
       "      <td>0.0</td>\n",
       "    </tr>\n",
       "    <tr>\n",
       "      <th>VolumeDeb_PaymentOrder</th>\n",
       "      <td>0</td>\n",
       "      <td>0.0</td>\n",
       "    </tr>\n",
       "    <tr>\n",
       "      <th>VolumeDebCashless_Card</th>\n",
       "      <td>0</td>\n",
       "      <td>0.0</td>\n",
       "    </tr>\n",
       "    <tr>\n",
       "      <th>VolumeDebCash_Card</th>\n",
       "      <td>0</td>\n",
       "      <td>0.0</td>\n",
       "    </tr>\n",
       "    <tr>\n",
       "      <th>VolumeDeb_CA</th>\n",
       "      <td>0</td>\n",
       "      <td>0.0</td>\n",
       "    </tr>\n",
       "    <tr>\n",
       "      <th>VolumeDeb</th>\n",
       "      <td>0</td>\n",
       "      <td>0.0</td>\n",
       "    </tr>\n",
       "    <tr>\n",
       "      <th>Age</th>\n",
       "      <td>0</td>\n",
       "      <td>0.0</td>\n",
       "    </tr>\n",
       "  </tbody>\n",
       "</table>\n",
       "</div>"
      ],
      "text/plain": [
       "                              Total  Percent\n",
       "ActBal_CL_avg                     0      0.0\n",
       "Count_CL                          0      0.0\n",
       "ActBal_CL                         0      0.0\n",
       "ActBal_CC                         0      0.0\n",
       "ActBal_OVD                        0      0.0\n",
       "ActBal_MF                         0      0.0\n",
       "ActBal_SA                         0      0.0\n",
       "ActBal_CA                         0      0.0\n",
       "Count_CC                          0      0.0\n",
       "VolumeCred_CA                     0      0.0\n",
       "Count_OVD                         0      0.0\n",
       "Count_MF                          0      0.0\n",
       "Count_SA                          0      0.0\n",
       "Count_CA                          0      0.0\n",
       "M                                 0      0.0\n",
       "Tenure                            0      0.0\n",
       "VolumeCred                        0      0.0\n",
       "TransactionsCred                  0      0.0\n",
       "ActBal_CC_avg                     0      0.0\n",
       "TransactionsDebCash_Card          0      0.0\n",
       "ActBal_OVD_avg                    0      0.0\n",
       "ActBal_MF_avg                     0      0.0\n",
       "ActBal_SA_avg                     0      0.0\n",
       "Actbal_CA_avg                     0      0.0\n",
       "TransactionsDeb_PaymentOrder      0      0.0\n",
       "TransactionsDebCashless_Card      0      0.0\n",
       "TransactionsDeb_CA                0      0.0\n",
       "TransactionsCred_CA               0      0.0\n",
       "TransactionsDeb                   0      0.0\n",
       "VolumeDeb_PaymentOrder            0      0.0\n",
       "VolumeDebCashless_Card            0      0.0\n",
       "VolumeDebCash_Card                0      0.0\n",
       "VolumeDeb_CA                      0      0.0\n",
       "VolumeDeb                         0      0.0\n",
       "Age                               0      0.0"
      ]
     },
     "execution_count": 152,
     "metadata": {},
     "output_type": "execute_result"
    }
   ],
   "source": [
    "user_tr_X.dtypes\n",
    "#missing data\n",
    "total = user_tr_X.isnull().sum().sort_values(ascending=False)\n",
    "percent = (user_tr_X.isnull().sum()/user_tr_X.isnull().count()).sort_values(ascending=False)\n",
    "missing_data = pd.concat([total, percent], axis=1, keys=['Total', 'Percent'])\n",
    "missing_data.head(35)"
   ]
  },
  {
   "cell_type": "markdown",
   "metadata": {},
   "source": [
    "# Preprocessing of the data"
   ]
  },
  {
   "cell_type": "markdown",
   "metadata": {},
   "source": [
    "## check for skewness and log transform if needed"
   ]
  },
  {
   "cell_type": "code",
   "execution_count": 146,
   "metadata": {
    "collapsed": false
   },
   "outputs": [],
   "source": [
    "#log transform skewed numeric features:\n",
    "user_skew = user_tr_X.drop('M', axis=1)\n",
    "skewed_feats = user_skew.apply(lambda x: skew(x.dropna())) #compute skewness\n",
    "skewed_feats = skewed_feats[skewed_feats > 0.75]\n",
    "skewed_feats = skewed_feats.index\n",
    "\n",
    "user_tr_X[skewed_feats] = np.log1p(user_tr_X[skewed_feats])"
   ]
  },
  {
   "cell_type": "code",
   "execution_count": 150,
   "metadata": {
    "collapsed": true
   },
   "outputs": [],
   "source": [
    "user_tr_X.replace(np.NaN, 0, inplace=True)"
   ]
  },
  {
   "cell_type": "code",
   "execution_count": null,
   "metadata": {
    "collapsed": true
   },
   "outputs": [],
   "source": []
  },
  {
   "cell_type": "markdown",
   "metadata": {},
   "source": [
    "## Remove outliers"
   ]
  },
  {
   "cell_type": "code",
   "execution_count": 153,
   "metadata": {
    "collapsed": false
   },
   "outputs": [
    {
     "name": "stderr",
     "output_type": "stream",
     "text": [
      "/home/nico/anaconda3/lib/python3.5/site-packages/ipykernel/__main__.py:2: UserWarning: Boolean Series key will be reindexed to match DataFrame index.\n",
      "  from ipykernel import kernelapp as app\n"
     ]
    },
    {
     "ename": "IndexingError",
     "evalue": "Unalignable boolean Series key provided",
     "output_type": "error",
     "traceback": [
      "\u001b[0;31m---------------------------------------------------------------------------\u001b[0m",
      "\u001b[0;31mIndexingError\u001b[0m                             Traceback (most recent call last)",
      "\u001b[0;32m<ipython-input-153-f983f8a459ed>\u001b[0m in \u001b[0;36m<module>\u001b[0;34m()\u001b[0m\n\u001b[1;32m      1\u001b[0m \u001b[0;32mfor\u001b[0m \u001b[0mcol\u001b[0m \u001b[0;32min\u001b[0m \u001b[0muser_tr_X\u001b[0m\u001b[0;34m.\u001b[0m\u001b[0mcolumns\u001b[0m\u001b[0;34m:\u001b[0m\u001b[0;34m\u001b[0m\u001b[0m\n\u001b[0;32m----> 2\u001b[0;31m     \u001b[0muser_tr_X\u001b[0m\u001b[0;34m.\u001b[0m\u001b[0mdrop\u001b[0m\u001b[0;34m(\u001b[0m\u001b[0muser\u001b[0m\u001b[0;34m[\u001b[0m\u001b[0mnp\u001b[0m\u001b[0;34m.\u001b[0m\u001b[0mabs\u001b[0m\u001b[0;34m(\u001b[0m\u001b[0muser_tr_X\u001b[0m\u001b[0;34m[\u001b[0m\u001b[0mcol\u001b[0m\u001b[0;34m]\u001b[0m\u001b[0;34m-\u001b[0m\u001b[0muser_tr_X\u001b[0m\u001b[0;34m[\u001b[0m\u001b[0mcol\u001b[0m\u001b[0;34m]\u001b[0m\u001b[0;34m.\u001b[0m\u001b[0mmean\u001b[0m\u001b[0;34m(\u001b[0m\u001b[0;34m)\u001b[0m\u001b[0;34m)\u001b[0m\u001b[0;34m>\u001b[0m\u001b[0;34m(\u001b[0m\u001b[0;36m3\u001b[0m\u001b[0;34m*\u001b[0m\u001b[0muser_tr_X\u001b[0m\u001b[0;34m[\u001b[0m\u001b[0mcol\u001b[0m\u001b[0;34m]\u001b[0m\u001b[0;34m.\u001b[0m\u001b[0mstd\u001b[0m\u001b[0;34m(\u001b[0m\u001b[0;34m)\u001b[0m\u001b[0;34m)\u001b[0m\u001b[0;34m]\u001b[0m\u001b[0;34m.\u001b[0m\u001b[0mindex\u001b[0m\u001b[0;34m.\u001b[0m\u001b[0mvalues\u001b[0m\u001b[0;34m,\u001b[0m \u001b[0minplace\u001b[0m \u001b[0;34m=\u001b[0m \u001b[0;32mTrue\u001b[0m\u001b[0;34m)\u001b[0m\u001b[0;34m\u001b[0m\u001b[0m\n\u001b[0m",
      "\u001b[0;32m/home/nico/anaconda3/lib/python3.5/site-packages/pandas/core/frame.py\u001b[0m in \u001b[0;36m__getitem__\u001b[0;34m(self, key)\u001b[0m\n\u001b[1;32m   1989\u001b[0m         \u001b[0;32mif\u001b[0m \u001b[0misinstance\u001b[0m\u001b[0;34m(\u001b[0m\u001b[0mkey\u001b[0m\u001b[0;34m,\u001b[0m \u001b[0;34m(\u001b[0m\u001b[0mSeries\u001b[0m\u001b[0;34m,\u001b[0m \u001b[0mnp\u001b[0m\u001b[0;34m.\u001b[0m\u001b[0mndarray\u001b[0m\u001b[0;34m,\u001b[0m \u001b[0mIndex\u001b[0m\u001b[0;34m,\u001b[0m \u001b[0mlist\u001b[0m\u001b[0;34m)\u001b[0m\u001b[0;34m)\u001b[0m\u001b[0;34m:\u001b[0m\u001b[0;34m\u001b[0m\u001b[0m\n\u001b[1;32m   1990\u001b[0m             \u001b[0;31m# either boolean or fancy integer index\u001b[0m\u001b[0;34m\u001b[0m\u001b[0;34m\u001b[0m\u001b[0m\n\u001b[0;32m-> 1991\u001b[0;31m             \u001b[0;32mreturn\u001b[0m \u001b[0mself\u001b[0m\u001b[0;34m.\u001b[0m\u001b[0m_getitem_array\u001b[0m\u001b[0;34m(\u001b[0m\u001b[0mkey\u001b[0m\u001b[0;34m)\u001b[0m\u001b[0;34m\u001b[0m\u001b[0m\n\u001b[0m\u001b[1;32m   1992\u001b[0m         \u001b[0;32melif\u001b[0m \u001b[0misinstance\u001b[0m\u001b[0;34m(\u001b[0m\u001b[0mkey\u001b[0m\u001b[0;34m,\u001b[0m \u001b[0mDataFrame\u001b[0m\u001b[0;34m)\u001b[0m\u001b[0;34m:\u001b[0m\u001b[0;34m\u001b[0m\u001b[0m\n\u001b[1;32m   1993\u001b[0m             \u001b[0;32mreturn\u001b[0m \u001b[0mself\u001b[0m\u001b[0;34m.\u001b[0m\u001b[0m_getitem_frame\u001b[0m\u001b[0;34m(\u001b[0m\u001b[0mkey\u001b[0m\u001b[0;34m)\u001b[0m\u001b[0;34m\u001b[0m\u001b[0m\n",
      "\u001b[0;32m/home/nico/anaconda3/lib/python3.5/site-packages/pandas/core/frame.py\u001b[0m in \u001b[0;36m_getitem_array\u001b[0;34m(self, key)\u001b[0m\n\u001b[1;32m   2029\u001b[0m             \u001b[0;31m# check_bool_indexer will throw exception if Series key cannot\u001b[0m\u001b[0;34m\u001b[0m\u001b[0;34m\u001b[0m\u001b[0m\n\u001b[1;32m   2030\u001b[0m             \u001b[0;31m# be reindexed to match DataFrame rows\u001b[0m\u001b[0;34m\u001b[0m\u001b[0;34m\u001b[0m\u001b[0m\n\u001b[0;32m-> 2031\u001b[0;31m             \u001b[0mkey\u001b[0m \u001b[0;34m=\u001b[0m \u001b[0mcheck_bool_indexer\u001b[0m\u001b[0;34m(\u001b[0m\u001b[0mself\u001b[0m\u001b[0;34m.\u001b[0m\u001b[0mindex\u001b[0m\u001b[0;34m,\u001b[0m \u001b[0mkey\u001b[0m\u001b[0;34m)\u001b[0m\u001b[0;34m\u001b[0m\u001b[0m\n\u001b[0m\u001b[1;32m   2032\u001b[0m             \u001b[0mindexer\u001b[0m \u001b[0;34m=\u001b[0m \u001b[0mkey\u001b[0m\u001b[0;34m.\u001b[0m\u001b[0mnonzero\u001b[0m\u001b[0;34m(\u001b[0m\u001b[0;34m)\u001b[0m\u001b[0;34m[\u001b[0m\u001b[0;36m0\u001b[0m\u001b[0;34m]\u001b[0m\u001b[0;34m\u001b[0m\u001b[0m\n\u001b[1;32m   2033\u001b[0m             \u001b[0;32mreturn\u001b[0m \u001b[0mself\u001b[0m\u001b[0;34m.\u001b[0m\u001b[0mtake\u001b[0m\u001b[0;34m(\u001b[0m\u001b[0mindexer\u001b[0m\u001b[0;34m,\u001b[0m \u001b[0maxis\u001b[0m\u001b[0;34m=\u001b[0m\u001b[0;36m0\u001b[0m\u001b[0;34m,\u001b[0m \u001b[0mconvert\u001b[0m\u001b[0;34m=\u001b[0m\u001b[0;32mFalse\u001b[0m\u001b[0;34m)\u001b[0m\u001b[0;34m\u001b[0m\u001b[0m\n",
      "\u001b[0;32m/home/nico/anaconda3/lib/python3.5/site-packages/pandas/core/indexing.py\u001b[0m in \u001b[0;36mcheck_bool_indexer\u001b[0;34m(ax, key)\u001b[0m\n\u001b[1;32m   1799\u001b[0m         \u001b[0mmask\u001b[0m \u001b[0;34m=\u001b[0m \u001b[0mcom\u001b[0m\u001b[0;34m.\u001b[0m\u001b[0misnull\u001b[0m\u001b[0;34m(\u001b[0m\u001b[0mresult\u001b[0m\u001b[0;34m.\u001b[0m\u001b[0m_values\u001b[0m\u001b[0;34m)\u001b[0m\u001b[0;34m\u001b[0m\u001b[0m\n\u001b[1;32m   1800\u001b[0m         \u001b[0;32mif\u001b[0m \u001b[0mmask\u001b[0m\u001b[0;34m.\u001b[0m\u001b[0many\u001b[0m\u001b[0;34m(\u001b[0m\u001b[0;34m)\u001b[0m\u001b[0;34m:\u001b[0m\u001b[0;34m\u001b[0m\u001b[0m\n\u001b[0;32m-> 1801\u001b[0;31m             \u001b[0;32mraise\u001b[0m \u001b[0mIndexingError\u001b[0m\u001b[0;34m(\u001b[0m\u001b[0;34m'Unalignable boolean Series key provided'\u001b[0m\u001b[0;34m)\u001b[0m\u001b[0;34m\u001b[0m\u001b[0m\n\u001b[0m\u001b[1;32m   1802\u001b[0m \u001b[0;34m\u001b[0m\u001b[0m\n\u001b[1;32m   1803\u001b[0m         \u001b[0mresult\u001b[0m \u001b[0;34m=\u001b[0m \u001b[0mresult\u001b[0m\u001b[0;34m.\u001b[0m\u001b[0mastype\u001b[0m\u001b[0;34m(\u001b[0m\u001b[0mbool\u001b[0m\u001b[0;34m)\u001b[0m\u001b[0;34m.\u001b[0m\u001b[0m_values\u001b[0m\u001b[0;34m\u001b[0m\u001b[0m\n",
      "\u001b[0;31mIndexingError\u001b[0m: Unalignable boolean Series key provided"
     ]
    }
   ],
   "source": [
    "for col in user_tr_X.columns:\n",
    "    user_tr_X.drop(user[np.abs(user_tr_X[col]-user_tr_X[col].mean())>(3*user_tr_X[col].std())].index.values, inplace = True)"
   ]
  },
  {
   "cell_type": "markdown",
   "metadata": {},
   "source": [
    "# Test with basic data"
   ]
  },
  {
   "cell_type": "code",
   "execution_count": 154,
   "metadata": {
    "collapsed": false
   },
   "outputs": [
    {
     "name": "stdout",
     "output_type": "stream",
     "text": [
      "roc_auc: 0.64 (+/- 0.12)\n"
     ]
    }
   ],
   "source": [
    "logreg = LogisticRegression()\n",
    "scores = cross_val_score(logreg, user_tr_X, user_tr_Y, cv=10, scoring='roc_auc', n_jobs=-1)\n",
    "print(\"roc_auc: %0.2f (+/- %0.2f)\" % (scores.mean(), scores.std() * 2))\n",
    "\n"
   ]
  },
  {
   "cell_type": "code",
   "execution_count": 156,
   "metadata": {
    "collapsed": false
   },
   "outputs": [
    {
     "name": "stdout",
     "output_type": "stream",
     "text": [
      "roc_auc: 0.59 (+/- 0.10)\n"
     ]
    }
   ],
   "source": [
    "random_forest = RandomForestClassifier(n_estimators = 25)\n",
    "scores = cross_val_score(random_forest, user_tr_X, user_tr_Y, cv=10, scoring='roc_auc', n_jobs=-1)\n",
    "print(\"roc_auc: %0.2f (+/- %0.2f)\" % (scores.mean(), scores.std() * 2))"
   ]
  },
  {
   "cell_type": "code",
   "execution_count": 157,
   "metadata": {
    "collapsed": false
   },
   "outputs": [
    {
     "name": "stdout",
     "output_type": "stream",
     "text": [
      "roc_auc: 0.58 (+/- 0.11)\n"
     ]
    }
   ],
   "source": [
    "gaussian = GaussianNB()\n",
    "scores = cross_val_score(gaussian, user_tr_X, user_tr_Y, cv=10, scoring='roc_auc', n_jobs=-1)\n",
    "print(\"roc_auc: %0.2f (+/- %0.2f)\" % (scores.mean(), scores.std() * 2))"
   ]
  },
  {
   "cell_type": "markdown",
   "metadata": {},
   "source": [
    "# Scale the data"
   ]
  },
  {
   "cell_type": "code",
   "execution_count": 158,
   "metadata": {
    "collapsed": false
   },
   "outputs": [
    {
     "name": "stdout",
     "output_type": "stream",
     "text": [
      "[[ 0.74150954  0.68111922  0.93778816 ..., -0.29510723 -0.27368253\n",
      "  -0.29698866]\n",
      " [ 0.97370818  0.74205615 -1.0663389  ..., -0.29510723 -0.27368253\n",
      "  -0.29698866]\n",
      " [-0.36143401  0.52877688  0.93778816 ..., -0.29510723 -0.27368253\n",
      "  -0.29698866]\n",
      " ..., \n",
      " [-0.41948367 -0.49191676  0.93778816 ..., -0.29510723 -0.27368253\n",
      "  -0.29698866]\n",
      " [-0.70973197  0.42213725  0.93778816 ..., -0.29510723 -0.27368253\n",
      "   3.8539598 ]\n",
      " [ 1.3800558  -0.88800683 -1.0663389  ..., -0.29510723 -0.27368253\n",
      "  -0.29698866]]\n"
     ]
    }
   ],
   "source": [
    "#Scale the \n",
    "user_tr_X_scale = scale(user_tr_X)\n",
    "print(user_tr_X_scale)"
   ]
  },
  {
   "cell_type": "code",
   "execution_count": 159,
   "metadata": {
    "collapsed": false
   },
   "outputs": [
    {
     "name": "stdout",
     "output_type": "stream",
     "text": [
      "roc_auc: 0.64 (+/- 0.13)\n"
     ]
    }
   ],
   "source": [
    "logreg = LogisticRegression()\n",
    "scores = cross_val_score(logreg, user_tr_X_scale, user_tr_Y, cv=10, scoring='roc_auc', n_jobs=-1)\n",
    "print(\"roc_auc: %0.2f (+/- %0.2f)\" % (scores.mean(), scores.std() * 2))"
   ]
  },
  {
   "cell_type": "code",
   "execution_count": 160,
   "metadata": {
    "collapsed": false
   },
   "outputs": [
    {
     "name": "stdout",
     "output_type": "stream",
     "text": [
      "Optimal number of features : 22\n"
     ]
    }
   ],
   "source": [
    "logreg = LogisticRegression(penalty='l1')\n",
    "selector = RFECV(estimator=logreg, step=1, cv=10,scoring='roc_auc')\n",
    "\n",
    "selector.fit(user_tr_X_scale, user_tr_Y)\n",
    "print(\"Optimal number of features : %d\" % selector.n_features_)"
   ]
  },
  {
   "cell_type": "code",
   "execution_count": 161,
   "metadata": {
    "collapsed": true
   },
   "outputs": [],
   "source": [
    "user_tr_X_scale_transform = selector.transform(user_tr_X_scale)\n"
   ]
  },
  {
   "cell_type": "code",
   "execution_count": 162,
   "metadata": {
    "collapsed": false
   },
   "outputs": [
    {
     "name": "stdout",
     "output_type": "stream",
     "text": [
      "LogisticRegression(C=0.1, class_weight=None, dual=False, fit_intercept=True,\n",
      "          intercept_scaling=1, max_iter=100, multi_class='ovr', n_jobs=1,\n",
      "          penalty='l2', random_state=None, solver='liblinear', tol=0.0001,\n",
      "          verbose=0, warm_start=False)\n",
      "{'penalty': 'l2', 'class_weight': None, 'C': 0.1}\n",
      "0.655658762099\n"
     ]
    }
   ],
   "source": [
    "search = {'penalty': ['l1','l2'],'C': [0.001, 0.1, 1, 10, 100, 1000], 'class_weight': ['balanced', None]}\n",
    "\n",
    "\n",
    "logreg = LogisticRegression()\n",
    "\n",
    "logreg_grid = GridSearchCV(estimator=logreg,param_grid=search, scoring='roc_auc', n_jobs=-1,refit=True, cv=10)\n",
    "logreg_grid.fit(user_tr_X_scale_transform,user_tr_Y)\n",
    "print(logreg_grid.best_estimator_)\n",
    "\n",
    "print(logreg_grid.best_params_)\n",
    "\n",
    "print(logreg_grid.best_score_)"
   ]
  },
  {
   "cell_type": "code",
   "execution_count": 163,
   "metadata": {
    "collapsed": false
   },
   "outputs": [
    {
     "name": "stdout",
     "output_type": "stream",
     "text": [
      "roc_auc: 0.61 (+/- 0.14)\n",
      "[ 0.54040144  0.60885229  0.63375131  0.70428422  0.47283177  0.61546499\n",
      "  0.62225705  0.72204807  0.63949843  0.5530303 ]\n"
     ]
    }
   ],
   "source": [
    "svc = SVC(kernel='rbf', degree=2, random_state=101)\n",
    "scores = cross_val_score(svc, user_tr_X_scale, user_tr_Y, cv=10, scoring='roc_auc', n_jobs=-1)\n",
    "print(\"roc_auc: %0.2f (+/- %0.2f)\" % (scores.mean(), scores.std() * 2))\n",
    "print(scores)"
   ]
  },
  {
   "cell_type": "markdown",
   "metadata": {},
   "source": [
    "search = search_dict = {'kernel': ['linear','rbf'],'C': [1, 10, 100, 1000], 'gamma': [0.001, 0.0001]}\n",
    "\n",
    "\n",
    "svc = SVC()\n",
    "\n",
    "svc_grid = RandomizedSearchCV(estimator=svc,param_distributions=search, scoring='roc_auc', n_jobs=-1,refit=True, cv=3)\n",
    "svc_grid.fit(user_tr_X_scale,user_tr_Y)\n",
    "print(svc_grid.best_estimator_)\n",
    "\n",
    "print(svc_grid.best_params_)\n",
    "\n",
    "print(svc_grid.best_score_)"
   ]
  },
  {
   "cell_type": "code",
   "execution_count": 164,
   "metadata": {
    "collapsed": false
   },
   "outputs": [
    {
     "name": "stdout",
     "output_type": "stream",
     "text": [
      "[ 0.5234174   0.54657746  0.60135841  0.67711599  0.49634274  0.64681296\n",
      "  0.62486938  0.66091954  0.71055381  0.62554113]\n",
      "roc_auc: 0.61 (+/- 0.13)\n"
     ]
    }
   ],
   "source": [
    "svc = SVC(kernel='linear', degree=2, random_state=101)\n",
    "scores = cross_val_score(svc, user_tr_X_scale, user_tr_Y, cv=10, scoring='roc_auc', n_jobs=-1)\n",
    "print(scores)\n",
    "print(\"roc_auc: %0.2f (+/- %0.2f)\" % (scores.mean(), scores.std() * 2))\n",
    "\n"
   ]
  },
  {
   "cell_type": "code",
   "execution_count": 165,
   "metadata": {
    "collapsed": false
   },
   "outputs": [
    {
     "name": "stdout",
     "output_type": "stream",
     "text": [
      "roc_auc: 0.61 (+/- 0.15)\n"
     ]
    }
   ],
   "source": [
    "random_forest = RandomForestClassifier(n_estimators = 20)\n",
    "scores = cross_val_score(random_forest, user_tr_X_scale, user_tr_Y, cv=10, scoring='roc_auc', n_jobs=-1)\n",
    "print(\"roc_auc: %0.2f (+/- %0.2f)\" % (scores.mean(), scores.std() * 2))"
   ]
  },
  {
   "cell_type": "code",
   "execution_count": 166,
   "metadata": {
    "collapsed": false
   },
   "outputs": [
    {
     "name": "stdout",
     "output_type": "stream",
     "text": [
      "roc_auc: 0.58 (+/- 0.11)\n"
     ]
    }
   ],
   "source": [
    "gaussian = GaussianNB()\n",
    "scores = cross_val_score(gaussian, user_tr_X_scale, user_tr_Y, cv=10, scoring='roc_auc', n_jobs=-1)\n",
    "print(\"roc_auc: %0.2f (+/- %0.2f)\" % (scores.mean(), scores.std() * 2))"
   ]
  },
  {
   "cell_type": "markdown",
   "metadata": {},
   "source": [
    "# PCA of the data"
   ]
  },
  {
   "cell_type": "code",
   "execution_count": 167,
   "metadata": {
    "collapsed": false
   },
   "outputs": [
    {
     "data": {
      "text/plain": [
       "(951, 10)"
      ]
     },
     "execution_count": 167,
     "metadata": {},
     "output_type": "execute_result"
    }
   ],
   "source": [
    "#dimension reduction\n",
    "pca = PCA(n_components=10)\n",
    "X_pca_20 = pca.fit_transform(user_tr_X_scale)\n",
    "X_pca_20.shape"
   ]
  },
  {
   "cell_type": "code",
   "execution_count": 168,
   "metadata": {
    "collapsed": false
   },
   "outputs": [
    {
     "name": "stdout",
     "output_type": "stream",
     "text": [
      "[ 0.51518271  0.56562017  0.62643678  0.45977011  0.48850575  0.5799373\n",
      "  0.54075235  0.52507837  0.44409613  0.47997835]\n",
      "roc_auc: 0.52 (+/- 0.11)\n"
     ]
    }
   ],
   "source": [
    "svc = SVC(kernel='linear', degree=2, random_state=101)\n",
    "scores = cross_val_score(svc, X_pca_20, user_tr_Y, cv=10, scoring='roc_auc', n_jobs=-1)\n",
    "print(scores)\n",
    "print(\"roc_auc: %0.2f (+/- %0.2f)\" % (scores.mean(), scores.std() * 2))"
   ]
  },
  {
   "cell_type": "code",
   "execution_count": 169,
   "metadata": {
    "collapsed": false
   },
   "outputs": [
    {
     "name": "stdout",
     "output_type": "stream",
     "text": [
      "[ 0.48431373  0.53333333  0.45252525  0.53939394  0.63838384  0.61616162\n",
      "  0.64444444  0.52929293  0.51313131  0.75974026  0.6038961   0.45238095\n",
      "  0.53246753  0.5974026   0.64718615  0.55411255  0.49350649  0.55627706\n",
      "  0.62337662  0.43722944]\n",
      "roc_auc: 0.56 (+/- 0.16)\n"
     ]
    }
   ],
   "source": [
    "#with penalty\n",
    "logreg = LogisticRegression(penalty='l1', C=1)\n",
    "scores = cross_val_score(logreg, X_pca_20, user_tr_Y, cv=20, scoring='roc_auc', n_jobs=-1)\n",
    "print(scores)\n",
    "print(\"roc_auc: %0.2f (+/- %0.2f)\" % (scores.mean(), scores.std() * 2))"
   ]
  },
  {
   "cell_type": "code",
   "execution_count": 170,
   "metadata": {
    "collapsed": false
   },
   "outputs": [
    {
     "name": "stdout",
     "output_type": "stream",
     "text": [
      "roc_auc: 0.53 (+/- 0.11)\n"
     ]
    }
   ],
   "source": [
    "random_forest = RandomForestClassifier(n_estimators = 50)\n",
    "scores = cross_val_score(random_forest, X_pca_20, user_tr_Y, cv=10, scoring='roc_auc', n_jobs=-1)\n",
    "print(\"roc_auc: %0.2f (+/- %0.2f)\" % (scores.mean(), scores.std() * 2))"
   ]
  },
  {
   "cell_type": "code",
   "execution_count": 171,
   "metadata": {
    "collapsed": false
   },
   "outputs": [
    {
     "name": "stdout",
     "output_type": "stream",
     "text": [
      "[ 0.50025733  0.47400926  0.63740857  0.61755486  0.57523511  0.59247649\n",
      "  0.53605016  0.58881923  0.52298851  0.53733766]\n",
      "roc_auc: 0.56 (+/- 0.10)\n"
     ]
    }
   ],
   "source": [
    "svc_lin = LinearSVC()\n",
    "scores = cross_val_score(svc_lin, X_pca_20, user_tr_Y, cv=10, scoring='roc_auc', n_jobs=-1)\n",
    "print(scores)\n",
    "print(\"roc_auc: %0.2f (+/- %0.2f)\" % (scores.mean(), scores.std() * 2))"
   ]
  },
  {
   "cell_type": "code",
   "execution_count": 172,
   "metadata": {
    "collapsed": false
   },
   "outputs": [
    {
     "name": "stdout",
     "output_type": "stream",
     "text": [
      "roc_auc: 0.54 (+/- 0.09)\n"
     ]
    }
   ],
   "source": [
    "gaussian = GaussianNB()\n",
    "scores = cross_val_score(gaussian, X_pca_20, user_tr_Y, cv=10, scoring='roc_auc', n_jobs=-1)\n",
    "print(\"roc_auc: %0.2f (+/- %0.2f)\" % (scores.mean(), scores.std() * 2))"
   ]
  },
  {
   "cell_type": "code",
   "execution_count": 173,
   "metadata": {
    "collapsed": false
   },
   "outputs": [
    {
     "name": "stdout",
     "output_type": "stream",
     "text": [
      "LogisticRegression(C=10, class_weight=None, dual=False, fit_intercept=True,\n",
      "          intercept_scaling=1, max_iter=100, multi_class='ovr', n_jobs=1,\n",
      "          penalty='l1', random_state=None, solver='liblinear', tol=0.0001,\n",
      "          verbose=0, warm_start=False)\n",
      "{'penalty': 'l1', 'class_weight': None, 'C': 10}\n",
      "0.558789832821\n"
     ]
    }
   ],
   "source": [
    "search = {'penalty': ['l1','l2'],'C': [0.001, 0.1, 1, 10, 100, 1000], 'class_weight': ['balanced', None]}\n",
    "\n",
    "\n",
    "logreg = LogisticRegression()\n",
    "\n",
    "logreg_grid = GridSearchCV(estimator=logreg,param_grid=search, scoring='roc_auc', n_jobs=-1,refit=True, cv=10)\n",
    "logreg_grid.fit(X_pca_20,user_tr_Y)\n",
    "print(logreg_grid.best_estimator_)\n",
    "\n",
    "print(logreg_grid.best_params_)\n",
    "\n",
    "print(logreg_grid.best_score_)"
   ]
  },
  {
   "cell_type": "markdown",
   "metadata": {
    "collapsed": true
   },
   "source": [
    "# Check feature importance"
   ]
  },
  {
   "cell_type": "code",
   "execution_count": 174,
   "metadata": {
    "collapsed": false
   },
   "outputs": [],
   "source": [
    "colnames = user_tr_X.columns\n",
    "# Define dictionary to store our rankings\n",
    "ranks = {}\n",
    "# Create our function which stores the feature rankings to the ranks dictionary\n",
    "def ranking(ranks, names, order=1):\n",
    "    minmax = MinMaxScaler()\n",
    "    ranks = minmax.fit_transform(order*np.array([ranks]).T).T[0]\n",
    "    ranks = map(lambda x: round(x,2), ranks)\n",
    "    return dict(zip(names, ranks))"
   ]
  },
  {
   "cell_type": "code",
   "execution_count": 175,
   "metadata": {
    "collapsed": false
   },
   "outputs": [
    {
     "name": "stdout",
     "output_type": "stream",
     "text": [
      "finished\n"
     ]
    }
   ],
   "source": [
    "# Finally let's run our Selection Stability method with Randomized Lasso\n",
    "logreg = LogisticRegression()\n",
    "logreg.fit(user_tr_X, user_tr_Y)\n",
    "ranks[\"rlasso/Stability\"] = ranking(np.abs(logreg.coef_[0]), colnames)\n",
    "print('finished')"
   ]
  },
  {
   "cell_type": "code",
   "execution_count": 176,
   "metadata": {
    "collapsed": false
   },
   "outputs": [
    {
     "name": "stdout",
     "output_type": "stream",
     "text": [
      "building tree 1 of 50building tree 2 of 50\n",
      "building tree 3 of 50\n",
      "building tree 4 of 50\n",
      "\n",
      "building tree 5 of 50\n",
      "building tree 6 of 50\n",
      "building tree 7 of 50\n",
      "building tree 8 of 50\n",
      "building tree 9 of 50\n",
      "building tree 10 of 50\n",
      "building tree 11 of 50\n",
      "building tree 12 of 50\n",
      "building tree 13 of 50\n",
      "building tree 14 of 50\n",
      "building tree 15 of 50\n",
      "building tree 16 of 50\n",
      "building tree 17 of 50\n",
      "building tree 18 of 50\n",
      "building tree 19 of 50\n",
      "building tree 20 of 50\n",
      "building tree 21 of 50\n",
      "building tree 22 of 50\n",
      "building tree 23 of 50\n",
      "building tree 24 of 50building tree 25 of 50\n",
      "building tree 26 of 50\n",
      "\n",
      "building tree 27 of 50\n",
      "building tree 28 of 50\n",
      "building tree 29 of 50\n",
      "building tree 30 of 50\n",
      "building tree 31 of 50\n",
      "building tree 32 of 50\n",
      "building tree 33 of 50\n",
      "building tree 34 of 50\n",
      "building tree 35 of 50\n",
      "building tree 36 of 50\n",
      "building tree 37 of 50\n",
      "building tree 38 of 50\n",
      "building tree 39 of 50\n",
      "building tree 40 of 50\n",
      "building tree 41 of 50\n",
      "building tree 42 of 50\n",
      "building tree 43 of 50\n",
      "building tree 44 of 50\n",
      "building tree 45 of 50\n",
      "building tree 46 of 50\n",
      "building tree 47 of 50\n",
      "building tree 48 of 50\n",
      "building tree 49 of 50\n",
      "building tree 50 of 50\n"
     ]
    },
    {
     "name": "stderr",
     "output_type": "stream",
     "text": [
      "[Parallel(n_jobs=-1)]: Done  24 tasks      | elapsed:    0.1s\n",
      "[Parallel(n_jobs=-1)]: Done  50 out of  50 | elapsed:    0.2s finished\n"
     ]
    }
   ],
   "source": [
    "rf = RandomForestClassifier(n_jobs=-1, n_estimators=50, verbose=3)\n",
    "rf.fit(user_tr_X, user_tr_Y)\n",
    "ranks[\"RF\"] = ranking(rf.feature_importances_, colnames)"
   ]
  },
  {
   "cell_type": "code",
   "execution_count": 177,
   "metadata": {
    "collapsed": false
   },
   "outputs": [
    {
     "name": "stdout",
     "output_type": "stream",
     "text": [
      "Fitting estimator with 35 features.\n",
      "Fitting estimator with 34 features.\n",
      "Fitting estimator with 33 features.\n",
      "Fitting estimator with 32 features.\n",
      "Fitting estimator with 31 features.\n",
      "Fitting estimator with 30 features.\n",
      "Fitting estimator with 29 features.\n",
      "Fitting estimator with 28 features.\n",
      "Fitting estimator with 27 features.\n",
      "Fitting estimator with 26 features.\n",
      "Fitting estimator with 25 features.\n",
      "Fitting estimator with 24 features.\n",
      "Fitting estimator with 23 features.\n",
      "Fitting estimator with 22 features.\n",
      "Fitting estimator with 21 features.\n",
      "Fitting estimator with 20 features.\n",
      "Fitting estimator with 19 features.\n",
      "Fitting estimator with 18 features.\n",
      "Fitting estimator with 17 features.\n",
      "Fitting estimator with 16 features.\n",
      "Fitting estimator with 15 features.\n",
      "Fitting estimator with 14 features.\n",
      "Fitting estimator with 13 features.\n",
      "Fitting estimator with 12 features.\n",
      "Fitting estimator with 11 features.\n",
      "Fitting estimator with 10 features.\n",
      "Fitting estimator with 9 features.\n",
      "Fitting estimator with 8 features.\n",
      "Fitting estimator with 7 features.\n",
      "Fitting estimator with 6 features.\n",
      "Fitting estimator with 5 features.\n",
      "Fitting estimator with 4 features.\n",
      "Fitting estimator with 3 features.\n",
      "Fitting estimator with 2 features.\n"
     ]
    }
   ],
   "source": [
    "# Construct our Linear Regression model\n",
    "lr = LogisticRegression()\n",
    "lr.fit(user_tr_X, user_tr_Y)\n",
    "#stop the search when only the last feature is left\n",
    "rfe = RFE(lr, n_features_to_select=1, verbose =3 )\n",
    "rfe.fit(user_tr_X, user_tr_Y)\n",
    "ranks[\"RFE\"] = ranking(list(map(float, rfe.ranking_)), colnames, order=-1)"
   ]
  },
  {
   "cell_type": "code",
   "execution_count": 178,
   "metadata": {
    "collapsed": false
   },
   "outputs": [
    {
     "name": "stdout",
     "output_type": "stream",
     "text": [
      "\tRF\tRFE\trlasso/Stability\tMean\n",
      "Age\t0.81\t0.12\t0.02\t0.32\n",
      "Tenure\t1.0\t0.0\t0.0\t0.33\n",
      "M\t0.06\t0.65\t0.22\t0.31\n",
      "Count_CA\t0.1\t1.0\t0.72\t0.61\n",
      "Count_SA\t0.07\t0.85\t0.51\t0.48\n",
      "Count_MF\t0.14\t0.71\t0.55\t0.47\n",
      "Count_OVD\t0.03\t0.47\t0.17\t0.22\n",
      "Count_CC\t0.0\t0.82\t0.62\t0.48\n",
      "Count_CL\t0.01\t0.09\t0.05\t0.05\n",
      "ActBal_CA\t0.5\t0.76\t0.59\t0.62\n",
      "ActBal_SA\t0.14\t0.94\t0.93\t0.67\n",
      "ActBal_MF\t0.04\t0.53\t0.29\t0.29\n",
      "ActBal_OVD\t0.05\t0.26\t0.03\t0.11\n",
      "ActBal_CC\t0.04\t0.38\t0.13\t0.18\n",
      "ActBal_CL\t0.06\t0.91\t0.52\t0.5\n",
      "VolumeCred\t0.46\t0.18\t0.03\t0.22\n",
      "VolumeCred_CA\t0.5\t0.32\t0.08\t0.3\n",
      "TransactionsCred\t0.35\t0.21\t0.09\t0.22\n",
      "TransactionsCred_CA\t0.23\t0.62\t0.37\t0.41\n",
      "VolumeDeb\t0.51\t0.35\t0.21\t0.36\n",
      "VolumeDeb_CA\t0.46\t0.15\t0.04\t0.22\n",
      "VolumeDebCash_Card\t0.3\t0.29\t0.11\t0.23\n",
      "VolumeDebCashless_Card\t0.34\t0.41\t0.11\t0.29\n",
      "VolumeDeb_PaymentOrder\t0.37\t0.03\t0.0\t0.13\n",
      "TransactionsDeb\t0.41\t0.59\t0.84\t0.61\n",
      "TransactionsDeb_CA\t0.36\t0.56\t0.38\t0.43\n",
      "TransactionsDebCash_Card\t0.26\t0.74\t0.74\t0.58\n",
      "TransactionsDebCashless_Card\t0.2\t0.44\t0.28\t0.31\n",
      "TransactionsDeb_PaymentOrder\t0.31\t0.06\t0.04\t0.14\n",
      "Actbal_CA_avg\t0.65\t0.79\t0.73\t0.72\n",
      "ActBal_SA_avg\t0.14\t0.97\t1.0\t0.7\n",
      "ActBal_MF_avg\t0.08\t0.5\t0.3\t0.29\n",
      "ActBal_OVD_avg\t0.08\t0.24\t0.03\t0.12\n",
      "ActBal_CC_avg\t0.04\t0.68\t0.13\t0.28\n",
      "ActBal_CL_avg\t0.05\t0.88\t0.45\t0.46\n"
     ]
    }
   ],
   "source": [
    "# Create empty dictionary to store the mean value calculated from all the scores\n",
    "r = {}\n",
    "for name in colnames:\n",
    "    r[name] = round(np.mean([ranks[method][name] \n",
    "                             for method in ranks.keys()]), 2)\n",
    " \n",
    "methods = sorted(ranks.keys())\n",
    "ranks[\"Mean\"] = r\n",
    "methods.append(\"Mean\")\n",
    " \n",
    "print(\"\\t%s\" % \"\\t\".join(methods))\n",
    "for name in colnames:\n",
    "    print(\"%s\\t%s\" % (name, \"\\t\".join(map(str, \n",
    "                         [ranks[method][name] for method in methods]))))"
   ]
  },
  {
   "cell_type": "code",
   "execution_count": 179,
   "metadata": {
    "collapsed": true
   },
   "outputs": [],
   "source": [
    "# Put the mean scores into a Pandas dataframe\n",
    "meanplot = pd.DataFrame(list(r.items()), columns= ['Feature','Mean Ranking'])\n",
    "\n",
    "# Sort the dataframe\n",
    "meanplot = meanplot.sort_values('Mean Ranking', ascending=False)"
   ]
  },
  {
   "cell_type": "code",
   "execution_count": 180,
   "metadata": {
    "collapsed": false
   },
   "outputs": [
    {
     "data": {
      "text/plain": [
       "<seaborn.axisgrid.FacetGrid at 0x7fc0b0618470>"
      ]
     },
     "execution_count": 180,
     "metadata": {},
     "output_type": "execute_result"
    },
    {
     "data": {
      "image/png": "[encoded data removed]",
      "text/plain": [
       "<matplotlib.figure.Figure at 0x7fc0b0438b38>"
      ]
     },
     "metadata": {},
     "output_type": "display_data"
    }
   ],
   "source": [
    "#Let's plot the ranking of the features\n",
    "sns.factorplot(x=\"Mean Ranking\", y=\"Feature\", data = meanplot, kind=\"bar\", size=5, aspect=1.9, palette='coolwarm')"
   ]
  },
  {
   "cell_type": "code",
   "execution_count": 188,
   "metadata": {
    "collapsed": false
   },
   "outputs": [],
   "source": [
    "user_tr_X = user_tr.drop(['Sale_CL','Count_CL', 'ActBal_OVD'], axis=1)"
   ]
  },
  {
   "cell_type": "code",
   "execution_count": 189,
   "metadata": {
    "collapsed": false
   },
   "outputs": [
    {
     "name": "stdout",
     "output_type": "stream",
     "text": [
      "roc_auc: 0.6703 (+/- 0.11)\n"
     ]
    }
   ],
   "source": [
    "logreg = LogisticRegression()\n",
    "scores = cross_val_score(logreg, user_tr_X, user_tr_Y, cv=10, scoring='roc_auc', n_jobs=-1)\n",
    "print(\"roc_auc: %0.4f (+/- %0.2f)\" % (scores.mean(), scores.std() * 2))"
   ]
  },
  {
   "cell_type": "code",
   "execution_count": 190,
   "metadata": {
    "collapsed": false
   },
   "outputs": [
    {
     "name": "stdout",
     "output_type": "stream",
     "text": [
      "roc_auc: 0.5573 (+/- 0.13)\n"
     ]
    }
   ],
   "source": [
    "random_forest = RandomForestClassifier()\n",
    "scores = cross_val_score(random_forest, user_tr_X_scale, user_tr_Y, cv=10, scoring='roc_auc', n_jobs=-1)\n",
    "print(\"roc_auc: %0.4f (+/- %0.2f)\" % (scores.mean(), scores.std() * 2))"
   ]
  },
  {
   "cell_type": "code",
   "execution_count": 191,
   "metadata": {
    "collapsed": true
   },
   "outputs": [],
   "source": [
    "#Scale the \n",
    "user_tr_X_scale = scale(user_tr_X)"
   ]
  },
  {
   "cell_type": "code",
   "execution_count": 192,
   "metadata": {
    "collapsed": false
   },
   "outputs": [
    {
     "name": "stdout",
     "output_type": "stream",
     "text": [
      "roc_auc: 0.6762 (+/- 0.11)\n"
     ]
    }
   ],
   "source": [
    "logreg = LogisticRegression()\n",
    "scores = cross_val_score(logreg, user_tr_X_scale, user_tr_Y, cv=10, scoring='roc_auc', n_jobs=-1)\n",
    "print(\"roc_auc: %0.4f (+/- %0.2f)\" % (scores.mean(), scores.std() * 2))"
   ]
  },
  {
   "cell_type": "code",
   "execution_count": null,
   "metadata": {
    "collapsed": true
   },
   "outputs": [],
   "source": []
  },
  {
   "cell_type": "code",
   "execution_count": null,
   "metadata": {
    "collapsed": true
   },
   "outputs": [],
   "source": []
  },
  {
   "cell_type": "code",
   "execution_count": null,
   "metadata": {
    "collapsed": true
   },
   "outputs": [],
   "source": []
  },
  {
   "cell_type": "code",
   "execution_count": null,
   "metadata": {
    "collapsed": true
   },
   "outputs": [],
   "source": []
  }
 ],
 "metadata": {
  "kernelspec": {
   "display_name": "Python [default]",
   "language": "python",
   "name": "python3"
  },
  "language_info": {
   "codemirror_mode": {
    "name": "ipython",
    "version": 3
   },
   "file_extension": ".py",
   "mimetype": "text/x-python",
   "name": "python",
   "nbconvert_exporter": "python",
   "pygments_lexer": "ipython3",
   "version": "3.5.2"
  }
 },
 "nbformat": 4,
 "nbformat_minor": 2
}
