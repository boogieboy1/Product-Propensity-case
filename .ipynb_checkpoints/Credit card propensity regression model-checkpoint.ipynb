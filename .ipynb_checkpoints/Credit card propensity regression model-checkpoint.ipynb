{
 "cells": [
  {
   "cell_type": "markdown",
   "metadata": {
    "collapsed": false
   },
   "source": [
    "# Import needed libraries"
   ]
  },
  {
   "cell_type": "code",
   "execution_count": 187,
   "metadata": {
    "collapsed": false
   },
   "outputs": [],
   "source": [
    "#import libraries\n",
    "import pandas as pd\n",
    "import numpy as np\n",
    "import matplotlib.pyplot as plt\n",
    "from scipy import stats\n",
    "import seaborn as sns\n",
    "from scipy.stats import skew\n",
    "\n",
    "\n",
    "from sklearn.linear_model import LinearRegression\n",
    "from sklearn.svm import SVR\n",
    "from sklearn.ensemble import RandomForestRegressor\n",
    "from sklearn.tree import DecisionTreeRegressor\n",
    "from sklearn.linear_model import Ridge\n",
    "from sklearn.linear_model import Lasso\n",
    "from sklearn.linear_model import RandomizedLasso\n",
    "from sklearn.linear_model import BayesianRidge\n",
    "from sklearn.preprocessing import PolynomialFeatures\n",
    "\n",
    "\n",
    "from sklearn.preprocessing import MinMaxScaler\n",
    "from sklearn.preprocessing import scale\n",
    "\n",
    "from sklearn.model_selection import train_test_split\n",
    "from sklearn.metrics import mean_absolute_error\n",
    "from sklearn.metrics import classification_report\n",
    "from sklearn.model_selection import cross_val_score\n",
    "from sklearn.model_selection import GridSearchCV\n",
    "from sklearn.model_selection import RandomizedSearchCV\n",
    "\n",
    "from sklearn.decomposition import PCA\n",
    "\n",
    "from sklearn.feature_selection import RFECV, RFE, f_regression\n",
    "\n",
    "\n",
    "from sklearn.decomposition import PCA\n",
    "\n",
    "%matplotlib inline"
   ]
  },
  {
   "cell_type": "markdown",
   "metadata": {},
   "source": [
    "# Load and split the data"
   ]
  },
  {
   "cell_type": "code",
   "execution_count": 177,
   "metadata": {
    "collapsed": false
   },
   "outputs": [
    {
     "name": "stdout",
     "output_type": "stream",
     "text": [
      "(1567, 41)\n"
     ]
    }
   ],
   "source": [
    "user = pd.read_csv(\"analysis_data.csv\", sep=\",\", index_col=\"Client\")\n",
    "print(user.shape)"
   ]
  },
  {
   "cell_type": "code",
   "execution_count": 178,
   "metadata": {
    "collapsed": false
   },
   "outputs": [
    {
     "name": "stdout",
     "output_type": "stream",
     "text": [
      "(282, 41)\n"
     ]
    }
   ],
   "source": [
    "user_tr = user[user['Sale_CL']==1]\n",
    "print(user_tr.shape)"
   ]
  },
  {
   "cell_type": "code",
   "execution_count": 179,
   "metadata": {
    "collapsed": false
   },
   "outputs": [],
   "source": [
    "user_tr = user_tr.drop(['Sale_MF','Sale_CC','Sale_CL','Revenue_MF','Revenue_CC'], axis=1)"
   ]
  },
  {
   "cell_type": "code",
   "execution_count": 180,
   "metadata": {
    "collapsed": false
   },
   "outputs": [],
   "source": [
    "user_tr = user_tr.loc[user_tr['Revenue_CL']<133]"
   ]
  },
  {
   "cell_type": "code",
   "execution_count": 181,
   "metadata": {
    "collapsed": true
   },
   "outputs": [],
   "source": [
    "user_tr_X = user_tr.drop('Revenue_CL', axis=1)\n",
    "user_tr_Y = user_tr['Revenue_CL']"
   ]
  },
  {
   "cell_type": "code",
   "execution_count": 182,
   "metadata": {
    "collapsed": false
   },
   "outputs": [
    {
     "data": {
      "text/plain": [
       "(282,)"
      ]
     },
     "execution_count": 182,
     "metadata": {},
     "output_type": "execute_result"
    }
   ],
   "source": [
    "user_tr_Y.shape"
   ]
  },
  {
   "cell_type": "markdown",
   "metadata": {},
   "source": [
    "## Correlation"
   ]
  },
  {
   "cell_type": "code",
   "execution_count": 152,
   "metadata": {
    "collapsed": false
   },
   "outputs": [
    {
     "name": "stdout",
     "output_type": "stream",
     "text": [
      "Age\n",
      "0.0630213214537\n",
      "Tenure\n",
      "0.0358368076144\n",
      "M\n",
      "-0.0573323132822\n",
      "Count_CA\n",
      "0.0122996581174\n",
      "Count_SA\n",
      "0.00201765805238\n",
      "Count_MF\n",
      "-0.00726195406154\n",
      "Count_OVD\n",
      "-0.00474483588348\n",
      "Count_CC\n",
      "-0.109786977235\n",
      "Count_CL\n",
      "0.0932852424331\n",
      "ActBal_CA\n",
      "0.0755794257983\n",
      "ActBal_SA\n",
      "0.0418647151829\n",
      "ActBal_MF\n",
      "0.0802875464949\n",
      "ActBal_OVD\n",
      "-0.0173504840843\n",
      "ActBal_CC\n",
      "-0.113261118772\n",
      "ActBal_CL\n",
      "0.0496885756604\n",
      "VolumeCred\n",
      "-0.0325271650945\n",
      "VolumeCred_CA\n",
      "-0.0585001393115\n",
      "TransactionsCred\n",
      "-0.0351410440883\n",
      "TransactionsCred_CA\n",
      "-0.0235844010515\n",
      "VolumeDeb\n",
      "-0.014248411518\n",
      "VolumeDeb_CA\n",
      "-0.0379950739992\n",
      "VolumeDebCash_Card\n",
      "0.0418942465065\n",
      "VolumeDebCashless_Card\n",
      "-0.0199465678723\n",
      "VolumeDeb_PaymentOrder\n",
      "-0.0635193961608\n",
      "TransactionsDeb\n",
      "-0.0704390432902\n",
      "TransactionsDeb_CA\n",
      "-0.0629876240609\n",
      "TransactionsDebCash_Card\n",
      "-0.00476927644808\n",
      "TransactionsDebCashless_Card\n",
      "-0.0820086078967\n",
      "TransactionsDeb_PaymentOrder\n",
      "-0.0820349813495\n",
      "Actbal_CA_avg\n",
      "0.0784560627796\n",
      "ActBal_SA_avg\n",
      "-0.0317740670492\n",
      "ActBal_MF_avg\n",
      "0.0831197003859\n",
      "ActBal_OVD_avg\n",
      "-0.0173504840843\n",
      "ActBal_CC_avg\n",
      "-0.113261118772\n",
      "ActBal_CL_avg\n",
      "0.0423076430443\n"
     ]
    }
   ],
   "source": [
    "for col in user_tr_X.columns:\n",
    "    print(col)\n",
    "    print(np.corrcoef(user_tr_Y,user_tr_X[col])[0][1])"
   ]
  },
  {
   "cell_type": "markdown",
   "metadata": {},
   "source": [
    "# Preprocessing"
   ]
  },
  {
   "cell_type": "markdown",
   "metadata": {},
   "source": [
    "## check for skewness and log transform if needed"
   ]
  },
  {
   "cell_type": "code",
   "execution_count": 47,
   "metadata": {
    "collapsed": false
   },
   "outputs": [],
   "source": [
    "#log transform skewed numeric features:\n",
    "user_skew = user_tr_X.drop('M', axis=1)\n",
    "skewed_feats = user_skew.apply(lambda x: skew(x.dropna())) #compute skewness\n",
    "skewed_feats = skewed_feats[skewed_feats > 0.75]\n",
    "skewed_feats = skewed_feats.index\n",
    "\n",
    "user_tr_X[skewed_feats] = np.log1p(user_tr_X[skewed_feats])"
   ]
  },
  {
   "cell_type": "code",
   "execution_count": 184,
   "metadata": {
    "collapsed": true
   },
   "outputs": [],
   "source": [
    "user_tr_Y = np.log1p(user_tr_Y)"
   ]
  },
  {
   "cell_type": "markdown",
   "metadata": {},
   "source": [
    "## remove outliers"
   ]
  },
  {
   "cell_type": "code",
   "execution_count": 38,
   "metadata": {
    "collapsed": true
   },
   "outputs": [],
   "source": [
    "for col in user_tr_X.columns:\n",
    "    index = user_tr_X[np.abs(user_tr_X[col]-user_tr_X[col].mean())>(4*user_tr_X[col].std())].index.values\n",
    "    user_tr_X.drop(index, inplace = True)\n",
    "    user_tr_Y.drop(index, inplace = True)"
   ]
  },
  {
   "cell_type": "code",
   "execution_count": 127,
   "metadata": {
    "collapsed": false
   },
   "outputs": [
    {
     "data": {
      "text/plain": [
       "count    282.000000\n",
       "mean      11.662752\n",
       "std        6.961500\n",
       "min        1.071429\n",
       "25%        6.267857\n",
       "50%       10.743036\n",
       "75%       15.557143\n",
       "max       46.392857\n",
       "Name: Revenue_CL, dtype: float64"
      ]
     },
     "execution_count": 127,
     "metadata": {},
     "output_type": "execute_result"
    }
   ],
   "source": [
    "user_tr_Y.describe()"
   ]
  },
  {
   "cell_type": "code",
   "execution_count": 16,
   "metadata": {
    "collapsed": false
   },
   "outputs": [
    {
     "data": {
      "image/png": "[encoded data removed]",
      "text/plain": [
       "<matplotlib.figure.Figure at 0x7fee36f1ffd0>"
      ]
     },
     "metadata": {},
     "output_type": "display_data"
    }
   ],
   "source": [
    "plt.hist(user_tr_Y)\n",
    "plt.show()"
   ]
  },
  {
   "cell_type": "markdown",
   "metadata": {},
   "source": [
    "# Check relationship between variables"
   ]
  },
  {
   "cell_type": "code",
   "execution_count": 188,
   "metadata": {
    "collapsed": false
   },
   "outputs": [
    {
     "name": "stdout",
     "output_type": "stream",
     "text": [
      "neg_mean_squared_error: -0.39 (+/- 0.18)\n",
      "[-0.36006671 -0.34269424 -0.2984373  -0.54286477 -0.49672303 -0.46033996\n",
      " -0.23849208 -0.3436853  -0.37901642 -0.41634108]\n"
     ]
    }
   ],
   "source": [
    "reg = BayesianRidge()\n",
    "scores = cross_val_score(reg, user_tr_X, user_tr_Y, cv=10, scoring='neg_mean_squared_error', n_jobs=-1)\n",
    "print(\"neg_mean_squared_error: %0.2f (+/- %0.2f)\" % (scores.mean(), scores.std() * 2))\n",
    "print(scores)"
   ]
  },
  {
   "cell_type": "code",
   "execution_count": 185,
   "metadata": {
    "collapsed": false
   },
   "outputs": [
    {
     "name": "stdout",
     "output_type": "stream",
     "text": [
      "neg_mean_squared_error: -870019133676610177136486088458398334976.00 (+/- 4739254763222879379662736193913794592768.00)\n",
      "[ -6.67791805e+34  -4.35323046e+35  -7.96606527e+39  -2.57951601e+35\n",
      "  -4.60822464e+38  -3.06411926e+37  -1.17140786e+37  -3.36878851e+36\n",
      "  -2.21362790e+38  -5.45669883e+36]\n"
     ]
    }
   ],
   "source": [
    "reg = SGDRegressor()\n",
    "scores = cross_val_score(reg, user_tr_X, user_tr_Y, cv=10, scoring='neg_mean_squared_error', n_jobs=-1)\n",
    "print(\"neg_mean_squared_error: %0.2f (+/- %0.2f)\" % (scores.mean(), scores.std() * 2))\n",
    "print(scores)"
   ]
  },
  {
   "cell_type": "code",
   "execution_count": 186,
   "metadata": {
    "collapsed": false
   },
   "outputs": [
    {
     "name": "stdout",
     "output_type": "stream",
     "text": [
      "neg_mean_squared_error: -0.36 (+/- 0.14)\n"
     ]
    }
   ],
   "source": [
    "reg = Lasso(tol=10)\n",
    "scores = cross_val_score(reg, user_tr_X, user_tr_Y, cv=10, scoring='neg_mean_squared_error', n_jobs=-1)\n",
    "print(\"neg_mean_squared_error: %0.2f (+/- %0.2f)\" % (scores.mean(), scores.std() * 2))"
   ]
  },
  {
   "cell_type": "code",
   "execution_count": 111,
   "metadata": {
    "collapsed": false
   },
   "outputs": [
    {
     "name": "stdout",
     "output_type": "stream",
     "text": [
      "neg_mean_squared_error: -59.91 (+/- 28.51)\n"
     ]
    }
   ],
   "source": [
    "reg = Ridge()\n",
    "scores = cross_val_score(reg,user_tr_X, user_tr_Y, cv=10, scoring='neg_mean_squared_error', n_jobs=-1)\n",
    "print(\"neg_mean_squared_error: %0.2f (+/- %0.2f)\" % (scores.mean(), scores.std() * 2))"
   ]
  },
  {
   "cell_type": "code",
   "execution_count": null,
   "metadata": {
    "collapsed": true
   },
   "outputs": [],
   "source": [
    "reg = RandomForestRegressor()\n",
    "scores = cross_val_score(reg,user_tr_X, user_tr_Y, cv=10, scoring='neg_mean_squared_error', n_jobs=-1)\n",
    "print(\"neg_mean_squared_error: %0.2f (+/- %0.2f)\" % (scores.mean(), scores.std() * 2))"
   ]
  },
  {
   "cell_type": "code",
   "execution_count": null,
   "metadata": {
    "collapsed": true
   },
   "outputs": [],
   "source": [
    "reg = LinearRegression()\n",
    "scores = cross_val_score(reg,user_tr_X, user_tr_Y, cv=10, scoring='neg_mean_squared_error', n_jobs=-1)\n",
    "print(\"neg_mean_squared_error: %0.2f (+/- %0.2f)\" % (scores.mean(), scores.std() * 2))"
   ]
  },
  {
   "cell_type": "markdown",
   "metadata": {
    "collapsed": true
   },
   "source": [
    "## Scaling the params for support vector algo"
   ]
  },
  {
   "cell_type": "code",
   "execution_count": 168,
   "metadata": {
    "collapsed": true
   },
   "outputs": [],
   "source": [
    "#Scale the \n",
    "user_tr_X_scale = scale(user_tr_X)\n",
    "user_tr_Y_scale = scale(user_tr_Y)"
   ]
  },
  {
   "cell_type": "code",
   "execution_count": 169,
   "metadata": {
    "collapsed": false
   },
   "outputs": [
    {
     "name": "stdout",
     "output_type": "stream",
     "text": [
      "neg_mean_squared_error: -1.24 (+/- 0.76)\n"
     ]
    }
   ],
   "source": [
    "svr = SVR(kernel='linear')\n",
    "scores = cross_val_score(svr,user_tr_X_scale, user_tr_Y_scale, cv=10, scoring='neg_mean_squared_error', n_jobs=-1)\n",
    "print(\"neg_mean_squared_error: %0.2f (+/- %0.2f)\" % (scores.mean(), scores.std() * 2))"
   ]
  },
  {
   "cell_type": "code",
   "execution_count": 170,
   "metadata": {
    "collapsed": false
   },
   "outputs": [
    {
     "name": "stdout",
     "output_type": "stream",
     "text": [
      "neg_mean_squared_error: -1.12 (+/- 0.79)\n"
     ]
    }
   ],
   "source": [
    "svr = SVR(kernel='rbf')\n",
    "scores = cross_val_score(svr,user_tr_X_scale, user_tr_Y_scale, cv=10, scoring='neg_mean_squared_error', n_jobs=-1)\n",
    "print(\"neg_mean_squared_error: %0.2f (+/- %0.2f)\" % (scores.mean(), scores.std() * 2))"
   ]
  },
  {
   "cell_type": "markdown",
   "metadata": {},
   "source": [
    "## check if improvements with polynomial features"
   ]
  },
  {
   "cell_type": "code",
   "execution_count": 189,
   "metadata": {
    "collapsed": true
   },
   "outputs": [],
   "source": [
    "poly = PolynomialFeatures(degree=3)\n",
    "user_tr_X_pol = poly.fit_transform(user_tr_X)"
   ]
  },
  {
   "cell_type": "code",
   "execution_count": 190,
   "metadata": {
    "collapsed": false
   },
   "outputs": [
    {
     "name": "stdout",
     "output_type": "stream",
     "text": [
      "neg_mean_squared_error: -1257.79 (+/- 6560.20)\n"
     ]
    }
   ],
   "source": [
    "reg = Lasso(tol=10)\n",
    "scores = cross_val_score(reg, user_tr_X_pol, user_tr_Y, cv=10, scoring='neg_mean_squared_error', n_jobs=-1)\n",
    "print(\"neg_mean_squared_error: %0.2f (+/- %0.2f)\" % (scores.mean(), scores.std() * 2))"
   ]
  },
  {
   "cell_type": "code",
   "execution_count": 157,
   "metadata": {
    "collapsed": false
   },
   "outputs": [
    {
     "data": {
      "text/plain": [
       "(282, 2)"
      ]
     },
     "execution_count": 157,
     "metadata": {},
     "output_type": "execute_result"
    }
   ],
   "source": [
    "#dimension reduction\n",
    "pca = PCA(n_components=2)\n",
    "X_pca_20 = pca.fit_transform(user_tr_X)\n",
    "X_pca_20.shape"
   ]
  },
  {
   "cell_type": "code",
   "execution_count": 158,
   "metadata": {
    "collapsed": false
   },
   "outputs": [
    {
     "name": "stdout",
     "output_type": "stream",
     "text": [
      "neg_mean_squared_error: -48.55 (+/- 33.38)\n"
     ]
    }
   ],
   "source": [
    "reg = Lasso(tol=10)\n",
    "scores = cross_val_score(reg, X_pca_20, user_tr_Y, cv=10, scoring='neg_mean_squared_error', n_jobs=-1)\n",
    "print(\"neg_mean_squared_error: %0.2f (+/- %0.2f)\" % (scores.mean(), scores.std() * 2))"
   ]
  },
  {
   "cell_type": "markdown",
   "metadata": {
    "collapsed": true
   },
   "source": [
    "# Optimization of the algorithm"
   ]
  },
  {
   "cell_type": "code",
   "execution_count": 171,
   "metadata": {
    "collapsed": false
   },
   "outputs": [
    {
     "name": "stdout",
     "output_type": "stream",
     "text": [
      "SVR(C=1.0, cache_size=200, coef0=0.0, degree=3, epsilon=0.1, gamma='auto',\n",
      "  kernel='rbf', max_iter=-1, shrinking=True, tol=0.001, verbose=False)\n",
      "{}\n",
      "-49.3669238057\n"
     ]
    }
   ],
   "source": [
    "search = { 'alpha':[0.1,0.2, 0.5, 0.7, 1], 'tol':[0.1,1,5,10]}\n",
    "\n",
    "\n",
    "lasso = Lasso()\n",
    "\n",
    "lasso_grid = GridSearchCV(estimator=lasso,param_grid=search, scoring='neg_mean_squared_error', n_jobs=-1,refit=True, cv=10)\n",
    "\n",
    "lasso_grid.fit( user_tr_X, user_tr_Y)\n",
    "\n",
    "print(lasso_grid.best_estimator_)\n",
    "\n",
    "print(lasso_grid.best_params_)\n",
    "\n",
    "print(lasso_grid.best_score_)"
   ]
  },
  {
   "cell_type": "markdown",
   "metadata": {},
   "source": [
    "Let's have a quick look at the residuals of the estimator. \n",
    "These should follow a random pattern."
   ]
  },
  {
   "cell_type": "code",
   "execution_count": 129,
   "metadata": {
    "collapsed": false
   },
   "outputs": [
    {
     "data": {
      "text/plain": [
       "<matplotlib.collections.PathCollection at 0x7fee30068048>"
      ]
     },
     "execution_count": 129,
     "metadata": {},
     "output_type": "execute_result"
    },
    {
     "data": {
      "image/png": "[encoded data removed]",
      "text/plain": [
       "<matplotlib.figure.Figure at 0x7fee36e11860>"
      ]
     },
     "metadata": {},
     "output_type": "display_data"
    }
   ],
   "source": [
    "plt.scatter(svr_grid.predict(user_tr_X), svr_grid.predict(user_tr_X)-user_tr_Y)"
   ]
  },
  {
   "cell_type": "code",
   "execution_count": 130,
   "metadata": {
    "collapsed": false
   },
   "outputs": [
    {
     "data": {
      "text/plain": [
       "array([ 11.83451129,  12.07158993,  12.16002558,  12.4714972 ,\n",
       "        11.69818471,  11.71234761,  11.38496608,  10.89959015,\n",
       "        11.15240158,  11.38526493,  12.53916171,  12.02151338,\n",
       "        11.75526513,  12.20603007,  12.11985101,  11.71482884,\n",
       "        11.88764781,  12.25366992,  11.24834916,  11.65584533,\n",
       "        10.8476951 ,  11.90832866,  11.59266075,  11.77105579,\n",
       "        11.4814801 ,  11.70525285,  11.37061482,  10.01234454,\n",
       "        11.32788919,  11.45293349,   8.45599686,   6.00334197,\n",
       "        12.21648708,  11.5369251 ,  14.19459979,  10.18221894,\n",
       "        11.83619132,  14.62921176,  11.83541094,  11.75635763,\n",
       "        12.10861647,  13.00686321,  11.79683061,  12.61227412,\n",
       "         9.84938451,  10.97854525,  11.44301537,  12.16401951,\n",
       "        11.0175301 ,  11.83119952,  11.82634286,  11.29520952,\n",
       "        11.86648464,  11.2121293 ,  11.87232132,  11.44819364,\n",
       "        12.97053956,  12.6698943 ,  12.21117933,  11.16988935,\n",
       "        11.67507861,  11.65740395,  10.29024945,  11.60557436,\n",
       "        11.69775289,  10.75471675,  12.55415553,  11.4562289 ,\n",
       "        11.75716042,   9.85939618,  11.46120326,  10.75885732,\n",
       "        11.75416583,  11.47853112,  18.39353666,  11.01116318,\n",
       "        12.21126363,  11.62111982,  12.2822747 ,  11.18278679,\n",
       "        13.15838829,  11.60679932,  10.17608898,  11.48533064,\n",
       "        11.92727017,  11.87593664,  12.16571339,  16.22451321,\n",
       "         9.03063376,  11.51966328,  11.47347912,  10.66831697,\n",
       "        11.96419536,  10.51740642,  11.86402558,  10.72740743,\n",
       "        11.81732709,  11.51777084,  10.86697067,  12.08772038,\n",
       "        11.34529352,  10.71931842,  11.03542623,  11.07068103,\n",
       "        11.63237363,  12.0613235 ,  11.44880857,  10.97216854,\n",
       "        10.89052898,  12.97671738,  11.59707623,  13.61104382,\n",
       "        12.11256329,  11.24822229,  11.97847906,  11.54739414,\n",
       "        11.42167566,  11.52252774,  11.56902596,  12.47219059,\n",
       "        11.1911084 ,  11.11604151,  10.51578961,  11.34038155,\n",
       "        12.7427345 ,  12.18590059,  11.44297399,  10.9853827 ,\n",
       "        10.96480002,  11.89153839,  12.3626308 ,  13.82086138,\n",
       "        14.08266144,  11.34006322,  10.21625847,  14.62757977,\n",
       "        11.34915551,  10.76844167,  12.07305473,  11.66759418,\n",
       "         6.12828675,  11.87763073,  11.2245194 ,  13.36249859,\n",
       "        10.77729889,  11.44403035,  12.15748246,  11.82357237,\n",
       "        11.80732373,  11.40136785,  10.99365413,  11.27563656,\n",
       "        12.36433614,  11.11077299,  10.37586143,  10.9104374 ,\n",
       "        11.24276501,  11.88943246,  11.70460361,  11.82377738,\n",
       "        10.51064707,  11.29650901,  11.72452777,  19.64633399,\n",
       "        11.51173756,  11.83086762,  11.26772675,  12.00826848,\n",
       "        10.89303465,  12.25845675,  10.66951037,  11.12998781,\n",
       "         9.04855591,  13.00341091,  11.29533609,   8.86925856,\n",
       "        10.93888303,  14.51877749,  18.92608237,  11.34181761,\n",
       "        11.02489552,  11.81544991,  11.84606346,  11.10667796,\n",
       "        12.23042761,  11.47384675,  11.217808  ,  11.47675352,\n",
       "        10.43834974,  10.67925874,  11.00232089,   9.64052203,\n",
       "        13.95585889,  10.83137274,  11.82932867,  11.80471487,\n",
       "        11.57109035,  11.76140642,  12.14154176,   2.63342179,\n",
       "        11.39206113,  11.75297895,  11.92251481,  12.58689513,\n",
       "        11.84794902,  12.11695155,  14.16787384,  11.36409808,\n",
       "        11.28955704,  12.21725291,  11.56789871,  11.9516951 ,\n",
       "        10.14967773,  11.06483449,  11.44328116,  11.00880952,\n",
       "        11.645483  ,  12.5504091 ,  10.82617052,  12.47791981,\n",
       "        12.248374  ,   6.98855973,  10.90193599,  14.97453329,\n",
       "        10.77778699,  11.95347696,  11.50764279,  10.98416179,\n",
       "        12.25895484,  11.8273811 ,  13.31035959,  11.54189491,\n",
       "        10.59363972,  12.6717107 ,  13.05900958,  11.50667526,\n",
       "        11.84999418,  11.60588252,  13.49037632,  11.77415099,\n",
       "        10.40580715,  12.83016918,  11.7638189 ,  10.16066463,\n",
       "         9.57507463,  12.30114413,  12.19187018,  12.70791147,\n",
       "        12.19343212,  11.23771776,  11.48391275,  11.94440612,\n",
       "        13.1583841 ,  11.95673248,  11.53556123,  12.22724245,\n",
       "        11.90992807,  11.3685488 ,  12.51539988,  12.13107452,\n",
       "        13.11452602,  11.5786145 ,  11.77524036,  11.79749738,\n",
       "        11.86819856,  11.06043258,  12.27257098,  10.50001541,\n",
       "        10.72289382,  11.0938801 ,  11.8029533 ,  11.07264386,\n",
       "        11.54430546,  12.08840932,  11.32963702,  11.89925287,\n",
       "        12.00773992,  10.36017192,  10.97739039,  13.45885911,\n",
       "        11.9442569 ,  13.29547217])"
      ]
     },
     "execution_count": 130,
     "metadata": {},
     "output_type": "execute_result"
    }
   ],
   "source": [
    "lasso_grid.predict(user_tr_X)"
   ]
  },
  {
   "cell_type": "markdown",
   "metadata": {
    "collapsed": true
   },
   "source": [
    "# Fit the model and predict the missing values"
   ]
  },
  {
   "cell_type": "code",
   "execution_count": 93,
   "metadata": {
    "collapsed": false
   },
   "outputs": [
    {
     "name": "stdout",
     "output_type": "stream",
     "text": [
      "(629, 36)\n"
     ]
    }
   ],
   "source": [
    "user_CL = pd.read_csv(\"consumer_loan_prop_pred.csv\", sep=\",\", index_col=\"Client\")\n",
    "print(user_CL.shape)"
   ]
  },
  {
   "cell_type": "code",
   "execution_count": 94,
   "metadata": {
    "collapsed": false
   },
   "outputs": [],
   "source": [
    "user_CL_pos = user.ix[(user_CL['Sale_CL_pred']==1)]\n",
    "user_CL_pos = user_CL_pos.drop('Sale_CL_pred', axis=1)\n"
   ]
  },
  {
   "cell_type": "code",
   "execution_count": 95,
   "metadata": {
    "collapsed": false
   },
   "outputs": [],
   "source": [
    "user_CL_pos[skewed_feats] = np.log1p(user_CL_pos[skewed_feats])"
   ]
  },
  {
   "cell_type": "code",
   "execution_count": 96,
   "metadata": {
    "collapsed": false
   },
   "outputs": [],
   "source": [
    "user_CL_pred = np.expm1(lasso_grid.predict(user_CL_pos))"
   ]
  },
  {
   "cell_type": "code",
   "execution_count": 97,
   "metadata": {
    "collapsed": false
   },
   "outputs": [
    {
     "data": {
      "text/plain": [
       "array([  9.65781513,   9.74990534,  10.82446367,   9.73151534,\n",
       "        10.15546747,  10.39988458,   9.20261237,   9.29466456,\n",
       "         9.21513961,   9.74113741,   8.97674445,   8.66602906,\n",
       "         9.05250228,   7.98994015,  10.74542965,  11.4125067 ,\n",
       "         8.06330632,  12.19860483,   7.11981607,  10.72826201,\n",
       "        10.42869869,  10.37418981,   9.99093048,   9.26126752,\n",
       "         9.22185647,  10.64380463,   9.99767316,  11.23106979,\n",
       "        10.87328012,   8.91944692,   9.21133399,  11.64949846,\n",
       "         9.11650491,  11.28127206,   8.90807901,  11.54316533,\n",
       "         9.87048996,  10.35284609,  11.16328261,  10.07350408,\n",
       "        10.96389252,  10.25000407,   9.22461505,   9.20660397,\n",
       "         9.58998546,  10.00143925,  10.23438115,  10.02751713,\n",
       "         9.32078307,   9.62718352,  10.23869381,  10.71175491,\n",
       "        10.84859569,   8.44554593,  11.46972142,  10.34363895,\n",
       "         9.8203859 ,   9.28483316,  12.29806323,   8.59033012,\n",
       "        10.9930453 ,   9.05927721,  10.88737335,   9.54195211,\n",
       "         9.07246853,   9.52627162,  10.66298656,  10.64377599,\n",
       "         7.93088494,   8.45243886,  10.55817295,   8.42806   ,\n",
       "         9.10176856,  10.27151293,   9.46620616,  11.05346259,\n",
       "         9.79117246,   8.90212578,  10.81361617,   8.88218014,\n",
       "         7.81601412,   9.07061882,   9.57893946,  10.76993433,\n",
       "         9.88937815,  10.00956562,  10.75690529,   9.09302839,\n",
       "         9.81762146,  10.38525988,   8.87856601,  10.54923521,\n",
       "        10.813035  ,  10.2033731 ,  10.30686316,   9.05428937,\n",
       "         9.7841856 ,  10.96300649,  12.01047579,  11.19868897,\n",
       "         9.80990998,  10.1743241 ,   9.51611936,   9.86162812,\n",
       "        10.07262663,   8.30296182,   9.87413389,  10.1402081 ,\n",
       "         8.58525979,   9.38351272,   9.84008865,   9.31727787,\n",
       "         9.64525798,   8.15797787,  11.65021463,   9.64855702,\n",
       "         9.16679547,   9.46250262,  10.97091636,  10.92653077,\n",
       "        10.98044391,   9.60934679,  10.08378958,   9.94261517,\n",
       "        10.15345928,  10.10061026,  10.79952767,  11.22701314,\n",
       "        10.05467777,   8.91023473,   9.06152149,  11.63691349,\n",
       "        10.20904123,   9.3742018 ,  10.50086749,  11.47393426,\n",
       "         9.76674883,  11.39203291,   9.66672379,   9.53278045,\n",
       "        11.10112178,   8.59673164,  12.00919261,   8.19592748,\n",
       "        10.60066165,   9.34370281,   7.14244439,  11.15399606,\n",
       "         8.88875414,  10.64612066,   9.8848911 ,  12.00940418,\n",
       "        10.74529845,   9.93181762,  10.23663021,  11.01240811,\n",
       "         8.55274126,  10.43634357,  10.91419047,   9.89380256,\n",
       "        10.43570097,   9.84108261,   8.47690867,   9.81745365,\n",
       "        11.14099257,   7.91138196,  10.86048713,   8.89356982,\n",
       "         9.71402907,   9.37828743,   9.45963207,   8.58393876,\n",
       "         9.56473529,  10.83993709])"
      ]
     },
     "execution_count": 97,
     "metadata": {},
     "output_type": "execute_result"
    }
   ],
   "source": [
    "user_CL_pred"
   ]
  },
  {
   "cell_type": "code",
   "execution_count": 98,
   "metadata": {
    "collapsed": false
   },
   "outputs": [],
   "source": [
    "user_CL_pos['Sale_CL_pred'] = pd.Series(user_CL_pred,index=user_CL_pos.index)"
   ]
  },
  {
   "cell_type": "code",
   "execution_count": 100,
   "metadata": {
    "collapsed": false
   },
   "outputs": [
    {
     "data": {
      "text/plain": [
       "count    174.000000\n",
       "mean       9.929432\n",
       "std        1.002289\n",
       "min        7.119816\n",
       "25%        9.222546\n",
       "50%        9.887135\n",
       "75%       10.724135\n",
       "max       12.298063\n",
       "Name: Sale_CL_pred, dtype: float64"
      ]
     },
     "execution_count": 100,
     "metadata": {},
     "output_type": "execute_result"
    }
   ],
   "source": [
    "user_CL_pos['Sale_CL_pred'].describe()"
   ]
  },
  {
   "cell_type": "code",
   "execution_count": null,
   "metadata": {
    "collapsed": true
   },
   "outputs": [],
   "source": [
    "user_CL = user_CL.join(user_CL_pos['Sale_CC_Pred', how='inner')"
   ]
  }
 ],
 "metadata": {
  "anaconda-cloud": {},
  "kernelspec": {
   "display_name": "Python [default]",
   "language": "python",
   "name": "python3"
  },
  "language_info": {
   "codemirror_mode": {
    "name": "ipython",
    "version": 3
   },
   "file_extension": ".py",
   "mimetype": "text/x-python",
   "name": "python",
   "nbconvert_exporter": "python",
   "pygments_lexer": "ipython3",
   "version": "3.5.2"
  }
 },
 "nbformat": 4,
 "nbformat_minor": 2
}
