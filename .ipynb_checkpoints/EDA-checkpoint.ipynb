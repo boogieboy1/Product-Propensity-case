{
 "cells": [
  {
   "cell_type": "markdown",
   "metadata": {
    "collapsed": true
   },
   "source": [
    "# Add needed libraries"
   ]
  },
  {
   "cell_type": "code",
   "execution_count": 717,
   "metadata": {
    "collapsed": true
   },
   "outputs": [],
   "source": [
    "#import libraries\n",
    "import pandas as pd\n",
    "import matplotlib.pyplot as plt\n",
    "import numpy as np\n",
    "import math as math\n",
    "\n",
    "from sklearn.preprocessing import Imputer"
   ]
  },
  {
   "cell_type": "markdown",
   "metadata": {},
   "source": [
    "# Read and combine data"
   ]
  },
  {
   "cell_type": "markdown",
   "metadata": {},
   "source": [
    "## read data"
   ]
  },
  {
   "cell_type": "markdown",
   "metadata": {},
   "source": [
    "The data is read into dataframes from the CSV's and the client ID is used as the index for the dataframe. The dimensions of each dataset is printed to see the similarities in the dataset."
   ]
  },
  {
   "cell_type": "code",
   "execution_count": 718,
   "metadata": {
    "collapsed": false
   },
   "outputs": [
    {
     "name": "stdout",
     "output_type": "stream",
     "text": [
      "(1615, 3)\n",
      "(1615, 12)\n",
      "(1587, 14)\n",
      "(969, 6)\n"
     ]
    }
   ],
   "source": [
    "#read CSVs\n",
    "user_soc = pd.read_csv(\"Task_Data_Scientist_Dataset.xlsx - Soc_Dem.csv\", sep=\",\", index_col=\"Client\")\n",
    "user_balance = pd.read_csv(\"Task_Data_Scientist_Dataset.xlsx - Products_ActBalance.csv\", sep=\",\", index_col=\"Client\")\n",
    "user_flow = pd.read_csv(\"Task_Data_Scientist_Dataset.xlsx - Inflow_Outflow.csv\", sep=\",\", index_col=\"Client\")\n",
    "user_sales = pd.read_csv(\"Task_Data_Scientist_Dataset.xlsx - Sales_Revenues.csv\", sep=\",\", index_col=\"Client\")\n",
    "\n",
    "print(user_soc.shape)\n",
    "print(user_balance.shape)\n",
    "print(user_flow.shape)\n",
    "print(user_sales.shape)\n",
    "\n",
    "\n"
   ]
  },
  {
   "cell_type": "markdown",
   "metadata": {},
   "source": [
    "As expected the sales dataset has less rows as this needs to be predicted for the rest of the clients.\n",
    "Another thing that is noticed is that the inflow-outflow dataset has less clients in the list. \n",
    "The missing clients will be filtered out when combining the datasets."
   ]
  },
  {
   "cell_type": "markdown",
   "metadata": {},
   "source": [
    "## One hot encoding"
   ]
  },
  {
   "cell_type": "markdown",
   "metadata": {},
   "source": [
    "When  looking at the data (in Excel) all variables where numeric expect for the Sex parameter. As machine learning algorithms don't work with categorical data, the Sex parameter is hot encoded into a numeric paremeter"
   ]
  },
  {
   "cell_type": "code",
   "execution_count": 719,
   "metadata": {
    "collapsed": true
   },
   "outputs": [],
   "source": [
    "#one hot encoding of sex\n",
    "sex = user_soc['Sex']\n",
    "sex_col = pd.get_dummies(sex, drop_first=True)\n",
    "user_soc=user_soc.join(sex_col, how='outer')\n",
    "user_soc_hot = user_soc.drop('Sex', axis=1)"
   ]
  },
  {
   "cell_type": "code",
   "execution_count": 720,
   "metadata": {
    "collapsed": false
   },
   "outputs": [
    {
     "data": {
      "text/html": [
       "<div>\n",
       "<table border=\"1\" class=\"dataframe\">\n",
       "  <thead>\n",
       "    <tr style=\"text-align: right;\">\n",
       "      <th></th>\n",
       "      <th>Age</th>\n",
       "      <th>Tenure</th>\n",
       "      <th>M</th>\n",
       "    </tr>\n",
       "    <tr>\n",
       "      <th>Client</th>\n",
       "      <th></th>\n",
       "      <th></th>\n",
       "      <th></th>\n",
       "    </tr>\n",
       "  </thead>\n",
       "  <tbody>\n",
       "    <tr>\n",
       "      <th>909</th>\n",
       "      <td>21</td>\n",
       "      <td>27</td>\n",
       "      <td>1.0</td>\n",
       "    </tr>\n",
       "    <tr>\n",
       "      <th>1217</th>\n",
       "      <td>38</td>\n",
       "      <td>165</td>\n",
       "      <td>1.0</td>\n",
       "    </tr>\n",
       "    <tr>\n",
       "      <th>850</th>\n",
       "      <td>49</td>\n",
       "      <td>44</td>\n",
       "      <td>0.0</td>\n",
       "    </tr>\n",
       "    <tr>\n",
       "      <th>1473</th>\n",
       "      <td>54</td>\n",
       "      <td>34</td>\n",
       "      <td>1.0</td>\n",
       "    </tr>\n",
       "    <tr>\n",
       "      <th>1038</th>\n",
       "      <td>29</td>\n",
       "      <td>106</td>\n",
       "      <td>1.0</td>\n",
       "    </tr>\n",
       "  </tbody>\n",
       "</table>\n",
       "</div>"
      ],
      "text/plain": [
       "        Age  Tenure    M\n",
       "Client                  \n",
       "909      21      27  1.0\n",
       "1217     38     165  1.0\n",
       "850      49      44  0.0\n",
       "1473     54      34  1.0\n",
       "1038     29     106  1.0"
      ]
     },
     "execution_count": 720,
     "metadata": {},
     "output_type": "execute_result"
    }
   ],
   "source": [
    "user_soc_hot.head()"
   ]
  },
  {
   "cell_type": "markdown",
   "metadata": {},
   "source": [
    "## Combine data"
   ]
  },
  {
   "cell_type": "code",
   "execution_count": 721,
   "metadata": {
    "collapsed": false
   },
   "outputs": [
    {
     "name": "stdout",
     "output_type": "stream",
     "text": [
      "(1587, 35)\n"
     ]
    },
    {
     "data": {
      "text/html": [
       "<div>\n",
       "<table border=\"1\" class=\"dataframe\">\n",
       "  <thead>\n",
       "    <tr style=\"text-align: right;\">\n",
       "      <th></th>\n",
       "      <th>Age</th>\n",
       "      <th>Tenure</th>\n",
       "      <th>M</th>\n",
       "      <th>Count_CA</th>\n",
       "      <th>Count_SA</th>\n",
       "      <th>Count_MF</th>\n",
       "      <th>Count_OVD</th>\n",
       "      <th>Count_CC</th>\n",
       "      <th>Count_CL</th>\n",
       "      <th>ActBal_CA</th>\n",
       "      <th>...</th>\n",
       "      <th>TransactionsDeb_CA</th>\n",
       "      <th>TransactionsDebCash_Card</th>\n",
       "      <th>TransactionsDebCashless_Card</th>\n",
       "      <th>TransactionsDeb_PaymentOrder</th>\n",
       "      <th>Sale_MF</th>\n",
       "      <th>Sale_CC</th>\n",
       "      <th>Sale_CL</th>\n",
       "      <th>Revenue_MF</th>\n",
       "      <th>Revenue_CC</th>\n",
       "      <th>Revenue_CL</th>\n",
       "    </tr>\n",
       "    <tr>\n",
       "      <th>Client</th>\n",
       "      <th></th>\n",
       "      <th></th>\n",
       "      <th></th>\n",
       "      <th></th>\n",
       "      <th></th>\n",
       "      <th></th>\n",
       "      <th></th>\n",
       "      <th></th>\n",
       "      <th></th>\n",
       "      <th></th>\n",
       "      <th></th>\n",
       "      <th></th>\n",
       "      <th></th>\n",
       "      <th></th>\n",
       "      <th></th>\n",
       "      <th></th>\n",
       "      <th></th>\n",
       "      <th></th>\n",
       "      <th></th>\n",
       "      <th></th>\n",
       "      <th></th>\n",
       "    </tr>\n",
       "  </thead>\n",
       "  <tbody>\n",
       "    <tr>\n",
       "      <th>1017</th>\n",
       "      <td>57</td>\n",
       "      <td>145</td>\n",
       "      <td>1.0</td>\n",
       "      <td>1</td>\n",
       "      <td>NaN</td>\n",
       "      <td>NaN</td>\n",
       "      <td>NaN</td>\n",
       "      <td>NaN</td>\n",
       "      <td>NaN</td>\n",
       "      <td>903.638214</td>\n",
       "      <td>...</td>\n",
       "      <td>12</td>\n",
       "      <td>2</td>\n",
       "      <td>9</td>\n",
       "      <td>0</td>\n",
       "      <td>0.0</td>\n",
       "      <td>0.0</td>\n",
       "      <td>0.0</td>\n",
       "      <td>0.0</td>\n",
       "      <td>0.000000</td>\n",
       "      <td>0.0</td>\n",
       "    </tr>\n",
       "    <tr>\n",
       "      <th>1456</th>\n",
       "      <td>61</td>\n",
       "      <td>149</td>\n",
       "      <td>0.0</td>\n",
       "      <td>1</td>\n",
       "      <td>1.0</td>\n",
       "      <td>NaN</td>\n",
       "      <td>NaN</td>\n",
       "      <td>NaN</td>\n",
       "      <td>NaN</td>\n",
       "      <td>0.000000</td>\n",
       "      <td>...</td>\n",
       "      <td>28</td>\n",
       "      <td>1</td>\n",
       "      <td>20</td>\n",
       "      <td>5</td>\n",
       "      <td>0.0</td>\n",
       "      <td>1.0</td>\n",
       "      <td>0.0</td>\n",
       "      <td>0.0</td>\n",
       "      <td>3.607143</td>\n",
       "      <td>0.0</td>\n",
       "    </tr>\n",
       "    <tr>\n",
       "      <th>545</th>\n",
       "      <td>20</td>\n",
       "      <td>151</td>\n",
       "      <td>1.0</td>\n",
       "      <td>1</td>\n",
       "      <td>1.0</td>\n",
       "      <td>NaN</td>\n",
       "      <td>NaN</td>\n",
       "      <td>NaN</td>\n",
       "      <td>NaN</td>\n",
       "      <td>3852.053929</td>\n",
       "      <td>...</td>\n",
       "      <td>23</td>\n",
       "      <td>3</td>\n",
       "      <td>5</td>\n",
       "      <td>12</td>\n",
       "      <td>NaN</td>\n",
       "      <td>NaN</td>\n",
       "      <td>NaN</td>\n",
       "      <td>NaN</td>\n",
       "      <td>NaN</td>\n",
       "      <td>NaN</td>\n",
       "    </tr>\n",
       "    <tr>\n",
       "      <th>667</th>\n",
       "      <td>48</td>\n",
       "      <td>143</td>\n",
       "      <td>1.0</td>\n",
       "      <td>1</td>\n",
       "      <td>NaN</td>\n",
       "      <td>NaN</td>\n",
       "      <td>NaN</td>\n",
       "      <td>NaN</td>\n",
       "      <td>NaN</td>\n",
       "      <td>60.044286</td>\n",
       "      <td>...</td>\n",
       "      <td>21</td>\n",
       "      <td>3</td>\n",
       "      <td>4</td>\n",
       "      <td>8</td>\n",
       "      <td>NaN</td>\n",
       "      <td>NaN</td>\n",
       "      <td>NaN</td>\n",
       "      <td>NaN</td>\n",
       "      <td>NaN</td>\n",
       "      <td>NaN</td>\n",
       "    </tr>\n",
       "    <tr>\n",
       "      <th>1381</th>\n",
       "      <td>38</td>\n",
       "      <td>135</td>\n",
       "      <td>1.0</td>\n",
       "      <td>1</td>\n",
       "      <td>NaN</td>\n",
       "      <td>NaN</td>\n",
       "      <td>NaN</td>\n",
       "      <td>NaN</td>\n",
       "      <td>NaN</td>\n",
       "      <td>144.871429</td>\n",
       "      <td>...</td>\n",
       "      <td>6</td>\n",
       "      <td>1</td>\n",
       "      <td>5</td>\n",
       "      <td>0</td>\n",
       "      <td>0.0</td>\n",
       "      <td>0.0</td>\n",
       "      <td>0.0</td>\n",
       "      <td>0.0</td>\n",
       "      <td>0.000000</td>\n",
       "      <td>0.0</td>\n",
       "    </tr>\n",
       "  </tbody>\n",
       "</table>\n",
       "<p>5 rows × 35 columns</p>\n",
       "</div>"
      ],
      "text/plain": [
       "        Age  Tenure    M  Count_CA  Count_SA  Count_MF  Count_OVD  Count_CC  \\\n",
       "Client                                                                        \n",
       "1017     57     145  1.0         1       NaN       NaN        NaN       NaN   \n",
       "1456     61     149  0.0         1       1.0       NaN        NaN       NaN   \n",
       "545      20     151  1.0         1       1.0       NaN        NaN       NaN   \n",
       "667      48     143  1.0         1       NaN       NaN        NaN       NaN   \n",
       "1381     38     135  1.0         1       NaN       NaN        NaN       NaN   \n",
       "\n",
       "        Count_CL    ActBal_CA     ...      TransactionsDeb_CA  \\\n",
       "Client                            ...                           \n",
       "1017         NaN   903.638214     ...                      12   \n",
       "1456         NaN     0.000000     ...                      28   \n",
       "545          NaN  3852.053929     ...                      23   \n",
       "667          NaN    60.044286     ...                      21   \n",
       "1381         NaN   144.871429     ...                       6   \n",
       "\n",
       "        TransactionsDebCash_Card  TransactionsDebCashless_Card  \\\n",
       "Client                                                           \n",
       "1017                           2                             9   \n",
       "1456                           1                            20   \n",
       "545                            3                             5   \n",
       "667                            3                             4   \n",
       "1381                           1                             5   \n",
       "\n",
       "        TransactionsDeb_PaymentOrder  Sale_MF  Sale_CC  Sale_CL  Revenue_MF  \\\n",
       "Client                                                                        \n",
       "1017                               0      0.0      0.0      0.0         0.0   \n",
       "1456                               5      0.0      1.0      0.0         0.0   \n",
       "545                               12      NaN      NaN      NaN         NaN   \n",
       "667                                8      NaN      NaN      NaN         NaN   \n",
       "1381                               0      0.0      0.0      0.0         0.0   \n",
       "\n",
       "        Revenue_CC  Revenue_CL  \n",
       "Client                          \n",
       "1017      0.000000         0.0  \n",
       "1456      3.607143         0.0  \n",
       "545            NaN         NaN  \n",
       "667            NaN         NaN  \n",
       "1381      0.000000         0.0  \n",
       "\n",
       "[5 rows x 35 columns]"
      ]
     },
     "execution_count": 721,
     "metadata": {},
     "output_type": "execute_result"
    }
   ],
   "source": [
    "user = user_soc_hot.join(user_balance, how='inner')\n",
    "user = user.join(user_flow, how='inner')\n",
    "user = user.join(user_sales, how='left')\n",
    "\n",
    "print(user.shape)\n",
    "\n",
    "user.head()\n"
   ]
  },
  {
   "cell_type": "markdown",
   "metadata": {},
   "source": [
    "Inner join is used for combining the Soc_Dem, Products_ActBalance and Inflow_Outflow dataset to only keep the clients with data is all datasets.\n",
    "It is noticed all clients in the inflow-outflow dataset can also be found in the Soc_Dem and Products_ActBalance dataset \n",
    "For the sales data a left join is used as we know only part of the clients have this data filled in."
   ]
  },
  {
   "cell_type": "markdown",
   "metadata": {},
   "source": [
    "## Columns"
   ]
  },
  {
   "cell_type": "code",
   "execution_count": 722,
   "metadata": {
    "collapsed": false
   },
   "outputs": [
    {
     "name": "stdout",
     "output_type": "stream",
     "text": [
      "['Age' 'Tenure' 'M' 'Count_CA' 'Count_SA' 'Count_MF' 'Count_OVD' 'Count_CC'\n",
      " 'Count_CL' 'ActBal_CA' 'ActBal_SA' 'ActBal_MF' 'ActBal_OVD' 'ActBal_CC'\n",
      " 'ActBal_CL' 'VolumeCred' 'VolumeCred_CA' 'TransactionsCred'\n",
      " 'TransactionsCred_CA' 'VolumeDeb' 'VolumeDeb_CA' 'VolumeDebCash_Card'\n",
      " 'VolumeDebCashless_Card' 'VolumeDeb_PaymentOrder' 'TransactionsDeb'\n",
      " 'TransactionsDeb_CA' 'TransactionsDebCash_Card'\n",
      " 'TransactionsDebCashless_Card' 'TransactionsDeb_PaymentOrder' 'Sale_MF'\n",
      " 'Sale_CC' 'Sale_CL' 'Revenue_MF' 'Revenue_CC' 'Revenue_CL']\n"
     ]
    }
   ],
   "source": [
    "print(user.columns.values)\n"
   ]
  },
  {
   "cell_type": "markdown",
   "metadata": {},
   "source": [
    "## missing values"
   ]
  },
  {
   "cell_type": "code",
   "execution_count": 723,
   "metadata": {
    "collapsed": false
   },
   "outputs": [
    {
     "data": {
      "text/html": [
       "<div>\n",
       "<table border=\"1\" class=\"dataframe\">\n",
       "  <thead>\n",
       "    <tr style=\"text-align: right;\">\n",
       "      <th></th>\n",
       "      <th>Total</th>\n",
       "      <th>Percent</th>\n",
       "    </tr>\n",
       "  </thead>\n",
       "  <tbody>\n",
       "    <tr>\n",
       "      <th>ActBal_CL</th>\n",
       "      <td>1452</td>\n",
       "      <td>0.914934</td>\n",
       "    </tr>\n",
       "    <tr>\n",
       "      <th>Count_CL</th>\n",
       "      <td>1452</td>\n",
       "      <td>0.914934</td>\n",
       "    </tr>\n",
       "    <tr>\n",
       "      <th>ActBal_CC</th>\n",
       "      <td>1417</td>\n",
       "      <td>0.892880</td>\n",
       "    </tr>\n",
       "    <tr>\n",
       "      <th>Count_CC</th>\n",
       "      <td>1417</td>\n",
       "      <td>0.892880</td>\n",
       "    </tr>\n",
       "    <tr>\n",
       "      <th>ActBal_MF</th>\n",
       "      <td>1282</td>\n",
       "      <td>0.807813</td>\n",
       "    </tr>\n",
       "    <tr>\n",
       "      <th>Count_MF</th>\n",
       "      <td>1282</td>\n",
       "      <td>0.807813</td>\n",
       "    </tr>\n",
       "    <tr>\n",
       "      <th>Count_OVD</th>\n",
       "      <td>1168</td>\n",
       "      <td>0.735980</td>\n",
       "    </tr>\n",
       "    <tr>\n",
       "      <th>ActBal_OVD</th>\n",
       "      <td>1168</td>\n",
       "      <td>0.735980</td>\n",
       "    </tr>\n",
       "    <tr>\n",
       "      <th>Count_SA</th>\n",
       "      <td>1161</td>\n",
       "      <td>0.731569</td>\n",
       "    </tr>\n",
       "    <tr>\n",
       "      <th>ActBal_SA</th>\n",
       "      <td>1161</td>\n",
       "      <td>0.731569</td>\n",
       "    </tr>\n",
       "    <tr>\n",
       "      <th>Sale_MF</th>\n",
       "      <td>636</td>\n",
       "      <td>0.400756</td>\n",
       "    </tr>\n",
       "    <tr>\n",
       "      <th>Sale_CC</th>\n",
       "      <td>636</td>\n",
       "      <td>0.400756</td>\n",
       "    </tr>\n",
       "    <tr>\n",
       "      <th>Sale_CL</th>\n",
       "      <td>636</td>\n",
       "      <td>0.400756</td>\n",
       "    </tr>\n",
       "    <tr>\n",
       "      <th>Revenue_MF</th>\n",
       "      <td>636</td>\n",
       "      <td>0.400756</td>\n",
       "    </tr>\n",
       "    <tr>\n",
       "      <th>Revenue_CC</th>\n",
       "      <td>636</td>\n",
       "      <td>0.400756</td>\n",
       "    </tr>\n",
       "    <tr>\n",
       "      <th>Revenue_CL</th>\n",
       "      <td>636</td>\n",
       "      <td>0.400756</td>\n",
       "    </tr>\n",
       "    <tr>\n",
       "      <th>Tenure</th>\n",
       "      <td>0</td>\n",
       "      <td>0.000000</td>\n",
       "    </tr>\n",
       "    <tr>\n",
       "      <th>M</th>\n",
       "      <td>0</td>\n",
       "      <td>0.000000</td>\n",
       "    </tr>\n",
       "    <tr>\n",
       "      <th>Count_CA</th>\n",
       "      <td>0</td>\n",
       "      <td>0.000000</td>\n",
       "    </tr>\n",
       "    <tr>\n",
       "      <th>ActBal_CA</th>\n",
       "      <td>0</td>\n",
       "      <td>0.000000</td>\n",
       "    </tr>\n",
       "    <tr>\n",
       "      <th>TransactionsCred</th>\n",
       "      <td>0</td>\n",
       "      <td>0.000000</td>\n",
       "    </tr>\n",
       "    <tr>\n",
       "      <th>VolumeCred</th>\n",
       "      <td>0</td>\n",
       "      <td>0.000000</td>\n",
       "    </tr>\n",
       "    <tr>\n",
       "      <th>VolumeCred_CA</th>\n",
       "      <td>0</td>\n",
       "      <td>0.000000</td>\n",
       "    </tr>\n",
       "    <tr>\n",
       "      <th>TransactionsCred_CA</th>\n",
       "      <td>0</td>\n",
       "      <td>0.000000</td>\n",
       "    </tr>\n",
       "    <tr>\n",
       "      <th>VolumeDeb</th>\n",
       "      <td>0</td>\n",
       "      <td>0.000000</td>\n",
       "    </tr>\n",
       "    <tr>\n",
       "      <th>VolumeDeb_CA</th>\n",
       "      <td>0</td>\n",
       "      <td>0.000000</td>\n",
       "    </tr>\n",
       "    <tr>\n",
       "      <th>VolumeDebCash_Card</th>\n",
       "      <td>0</td>\n",
       "      <td>0.000000</td>\n",
       "    </tr>\n",
       "    <tr>\n",
       "      <th>VolumeDebCashless_Card</th>\n",
       "      <td>0</td>\n",
       "      <td>0.000000</td>\n",
       "    </tr>\n",
       "    <tr>\n",
       "      <th>VolumeDeb_PaymentOrder</th>\n",
       "      <td>0</td>\n",
       "      <td>0.000000</td>\n",
       "    </tr>\n",
       "    <tr>\n",
       "      <th>TransactionsDeb</th>\n",
       "      <td>0</td>\n",
       "      <td>0.000000</td>\n",
       "    </tr>\n",
       "    <tr>\n",
       "      <th>TransactionsDeb_CA</th>\n",
       "      <td>0</td>\n",
       "      <td>0.000000</td>\n",
       "    </tr>\n",
       "    <tr>\n",
       "      <th>TransactionsDebCash_Card</th>\n",
       "      <td>0</td>\n",
       "      <td>0.000000</td>\n",
       "    </tr>\n",
       "    <tr>\n",
       "      <th>TransactionsDebCashless_Card</th>\n",
       "      <td>0</td>\n",
       "      <td>0.000000</td>\n",
       "    </tr>\n",
       "    <tr>\n",
       "      <th>TransactionsDeb_PaymentOrder</th>\n",
       "      <td>0</td>\n",
       "      <td>0.000000</td>\n",
       "    </tr>\n",
       "    <tr>\n",
       "      <th>Age</th>\n",
       "      <td>0</td>\n",
       "      <td>0.000000</td>\n",
       "    </tr>\n",
       "  </tbody>\n",
       "</table>\n",
       "</div>"
      ],
      "text/plain": [
       "                              Total   Percent\n",
       "ActBal_CL                      1452  0.914934\n",
       "Count_CL                       1452  0.914934\n",
       "ActBal_CC                      1417  0.892880\n",
       "Count_CC                       1417  0.892880\n",
       "ActBal_MF                      1282  0.807813\n",
       "Count_MF                       1282  0.807813\n",
       "Count_OVD                      1168  0.735980\n",
       "ActBal_OVD                     1168  0.735980\n",
       "Count_SA                       1161  0.731569\n",
       "ActBal_SA                      1161  0.731569\n",
       "Sale_MF                         636  0.400756\n",
       "Sale_CC                         636  0.400756\n",
       "Sale_CL                         636  0.400756\n",
       "Revenue_MF                      636  0.400756\n",
       "Revenue_CC                      636  0.400756\n",
       "Revenue_CL                      636  0.400756\n",
       "Tenure                            0  0.000000\n",
       "M                                 0  0.000000\n",
       "Count_CA                          0  0.000000\n",
       "ActBal_CA                         0  0.000000\n",
       "TransactionsCred                  0  0.000000\n",
       "VolumeCred                        0  0.000000\n",
       "VolumeCred_CA                     0  0.000000\n",
       "TransactionsCred_CA               0  0.000000\n",
       "VolumeDeb                         0  0.000000\n",
       "VolumeDeb_CA                      0  0.000000\n",
       "VolumeDebCash_Card                0  0.000000\n",
       "VolumeDebCashless_Card            0  0.000000\n",
       "VolumeDeb_PaymentOrder            0  0.000000\n",
       "TransactionsDeb                   0  0.000000\n",
       "TransactionsDeb_CA                0  0.000000\n",
       "TransactionsDebCash_Card          0  0.000000\n",
       "TransactionsDebCashless_Card      0  0.000000\n",
       "TransactionsDeb_PaymentOrder      0  0.000000\n",
       "Age                               0  0.000000"
      ]
     },
     "execution_count": 723,
     "metadata": {},
     "output_type": "execute_result"
    }
   ],
   "source": [
    "#missing data\n",
    "total = user.isnull().sum().sort_values(ascending=False)\n",
    "percent = (user.isnull().sum()/user.isnull().count()).sort_values(ascending=False)\n",
    "missing_data = pd.concat([total, percent], axis=1, keys=['Total', 'Percent'])\n",
    "missing_data.head(35)"
   ]
  },
  {
   "cell_type": "markdown",
   "metadata": {},
   "source": [
    "The setting of the missing values is done seperatly for each parameter.\n",
    "But in the end it was clear no real parameters were missing but values were not filled in for accounts \n",
    "which the user did not have. So these values were filled in with 0."
   ]
  },
  {
   "cell_type": "markdown",
   "metadata": {},
   "source": [
    "# Exploratory analysis of the parameters"
   ]
  },
  {
   "cell_type": "markdown",
   "metadata": {},
   "source": [
    "As the number of parameters are not too much a basic analysis of eahc parameter is done.\n",
    "For each parameter the basic statistical data and the distribution in a histogram is shown.\n",
    "Also the missing values are filled in for each parameter.\n",
    "The outliers are manually checked and removed if needed"
   ]
  },
  {
   "cell_type": "markdown",
   "metadata": {},
   "source": [
    "## Age"
   ]
  },
  {
   "cell_type": "code",
   "execution_count": 724,
   "metadata": {
    "collapsed": false
   },
   "outputs": [
    {
     "data": {
      "text/plain": [
       "count    1587.000000\n",
       "mean       42.770636\n",
       "std        18.595829\n",
       "min         0.000000\n",
       "25%        29.000000\n",
       "50%        41.000000\n",
       "75%        57.000000\n",
       "max        97.000000\n",
       "Name: Age, dtype: float64"
      ]
     },
     "execution_count": 724,
     "metadata": {},
     "output_type": "execute_result"
    }
   ],
   "source": [
    "user['Age'].describe()\n"
   ]
  },
  {
   "cell_type": "code",
   "execution_count": 725,
   "metadata": {
    "collapsed": false
   },
   "outputs": [
    {
     "data": {
      "image/png": "[encoded data removed]",
      "text/plain": [
       "<matplotlib.figure.Figure at 0x7fe3a397f908>"
      ]
     },
     "metadata": {},
     "output_type": "display_data"
    }
   ],
   "source": [
    "plt.hist(user['Age'])\n",
    "plt.show()"
   ]
  },
  {
   "cell_type": "markdown",
   "metadata": {},
   "source": [
    "It was noticed the minimum age of a client is 0. Which is possible but still odd. So this triggered some further analysis where the age was compared with the tenure of the client."
   ]
  },
  {
   "cell_type": "code",
   "execution_count": 726,
   "metadata": {
    "collapsed": false
   },
   "outputs": [
    {
     "data": {
      "text/html": [
       "<div>\n",
       "<table border=\"1\" class=\"dataframe\">\n",
       "  <thead>\n",
       "    <tr style=\"text-align: right;\">\n",
       "      <th></th>\n",
       "      <th>Age</th>\n",
       "      <th>Tenure</th>\n",
       "      <th>M</th>\n",
       "      <th>Count_CA</th>\n",
       "      <th>Count_SA</th>\n",
       "      <th>Count_MF</th>\n",
       "      <th>Count_OVD</th>\n",
       "      <th>Count_CC</th>\n",
       "      <th>Count_CL</th>\n",
       "      <th>ActBal_CA</th>\n",
       "      <th>...</th>\n",
       "      <th>TransactionsDeb_CA</th>\n",
       "      <th>TransactionsDebCash_Card</th>\n",
       "      <th>TransactionsDebCashless_Card</th>\n",
       "      <th>TransactionsDeb_PaymentOrder</th>\n",
       "      <th>Sale_MF</th>\n",
       "      <th>Sale_CC</th>\n",
       "      <th>Sale_CL</th>\n",
       "      <th>Revenue_MF</th>\n",
       "      <th>Revenue_CC</th>\n",
       "      <th>Revenue_CL</th>\n",
       "    </tr>\n",
       "    <tr>\n",
       "      <th>Client</th>\n",
       "      <th></th>\n",
       "      <th></th>\n",
       "      <th></th>\n",
       "      <th></th>\n",
       "      <th></th>\n",
       "      <th></th>\n",
       "      <th></th>\n",
       "      <th></th>\n",
       "      <th></th>\n",
       "      <th></th>\n",
       "      <th></th>\n",
       "      <th></th>\n",
       "      <th></th>\n",
       "      <th></th>\n",
       "      <th></th>\n",
       "      <th></th>\n",
       "      <th></th>\n",
       "      <th></th>\n",
       "      <th></th>\n",
       "      <th></th>\n",
       "      <th></th>\n",
       "    </tr>\n",
       "  </thead>\n",
       "  <tbody>\n",
       "    <tr>\n",
       "      <th>391</th>\n",
       "      <td>1</td>\n",
       "      <td>16</td>\n",
       "      <td>1.0</td>\n",
       "      <td>1</td>\n",
       "      <td>NaN</td>\n",
       "      <td>NaN</td>\n",
       "      <td>NaN</td>\n",
       "      <td>1.0</td>\n",
       "      <td>1.0</td>\n",
       "      <td>172.581429</td>\n",
       "      <td>...</td>\n",
       "      <td>18</td>\n",
       "      <td>4</td>\n",
       "      <td>0</td>\n",
       "      <td>6</td>\n",
       "      <td>0.0</td>\n",
       "      <td>0.0</td>\n",
       "      <td>0.0</td>\n",
       "      <td>0.000000</td>\n",
       "      <td>0.000000</td>\n",
       "      <td>0.000000</td>\n",
       "    </tr>\n",
       "    <tr>\n",
       "      <th>1056</th>\n",
       "      <td>10</td>\n",
       "      <td>159</td>\n",
       "      <td>0.0</td>\n",
       "      <td>1</td>\n",
       "      <td>NaN</td>\n",
       "      <td>NaN</td>\n",
       "      <td>NaN</td>\n",
       "      <td>NaN</td>\n",
       "      <td>NaN</td>\n",
       "      <td>283.605000</td>\n",
       "      <td>...</td>\n",
       "      <td>1</td>\n",
       "      <td>0</td>\n",
       "      <td>0</td>\n",
       "      <td>0</td>\n",
       "      <td>1.0</td>\n",
       "      <td>0.0</td>\n",
       "      <td>1.0</td>\n",
       "      <td>10.527143</td>\n",
       "      <td>0.000000</td>\n",
       "      <td>12.000000</td>\n",
       "    </tr>\n",
       "    <tr>\n",
       "      <th>350</th>\n",
       "      <td>4</td>\n",
       "      <td>218</td>\n",
       "      <td>0.0</td>\n",
       "      <td>1</td>\n",
       "      <td>NaN</td>\n",
       "      <td>NaN</td>\n",
       "      <td>1.0</td>\n",
       "      <td>NaN</td>\n",
       "      <td>NaN</td>\n",
       "      <td>0.000000</td>\n",
       "      <td>...</td>\n",
       "      <td>20</td>\n",
       "      <td>4</td>\n",
       "      <td>0</td>\n",
       "      <td>7</td>\n",
       "      <td>NaN</td>\n",
       "      <td>NaN</td>\n",
       "      <td>NaN</td>\n",
       "      <td>NaN</td>\n",
       "      <td>NaN</td>\n",
       "      <td>NaN</td>\n",
       "    </tr>\n",
       "    <tr>\n",
       "      <th>682</th>\n",
       "      <td>3</td>\n",
       "      <td>149</td>\n",
       "      <td>0.0</td>\n",
       "      <td>1</td>\n",
       "      <td>1.0</td>\n",
       "      <td>11.0</td>\n",
       "      <td>NaN</td>\n",
       "      <td>NaN</td>\n",
       "      <td>NaN</td>\n",
       "      <td>684.281429</td>\n",
       "      <td>...</td>\n",
       "      <td>22</td>\n",
       "      <td>12</td>\n",
       "      <td>0</td>\n",
       "      <td>2</td>\n",
       "      <td>0.0</td>\n",
       "      <td>1.0</td>\n",
       "      <td>1.0</td>\n",
       "      <td>0.000000</td>\n",
       "      <td>0.214286</td>\n",
       "      <td>9.392857</td>\n",
       "    </tr>\n",
       "    <tr>\n",
       "      <th>1169</th>\n",
       "      <td>6</td>\n",
       "      <td>172</td>\n",
       "      <td>0.0</td>\n",
       "      <td>1</td>\n",
       "      <td>NaN</td>\n",
       "      <td>NaN</td>\n",
       "      <td>NaN</td>\n",
       "      <td>NaN</td>\n",
       "      <td>NaN</td>\n",
       "      <td>1824.040000</td>\n",
       "      <td>...</td>\n",
       "      <td>9</td>\n",
       "      <td>1</td>\n",
       "      <td>7</td>\n",
       "      <td>0</td>\n",
       "      <td>1.0</td>\n",
       "      <td>1.0</td>\n",
       "      <td>1.0</td>\n",
       "      <td>2.461964</td>\n",
       "      <td>5.170357</td>\n",
       "      <td>46.392857</td>\n",
       "    </tr>\n",
       "    <tr>\n",
       "      <th>1499</th>\n",
       "      <td>5</td>\n",
       "      <td>267</td>\n",
       "      <td>0.0</td>\n",
       "      <td>1</td>\n",
       "      <td>NaN</td>\n",
       "      <td>NaN</td>\n",
       "      <td>1.0</td>\n",
       "      <td>NaN</td>\n",
       "      <td>1.0</td>\n",
       "      <td>0.000000</td>\n",
       "      <td>...</td>\n",
       "      <td>30</td>\n",
       "      <td>4</td>\n",
       "      <td>10</td>\n",
       "      <td>12</td>\n",
       "      <td>0.0</td>\n",
       "      <td>0.0</td>\n",
       "      <td>1.0</td>\n",
       "      <td>0.000000</td>\n",
       "      <td>0.000000</td>\n",
       "      <td>7.107143</td>\n",
       "    </tr>\n",
       "    <tr>\n",
       "      <th>1160</th>\n",
       "      <td>19</td>\n",
       "      <td>260</td>\n",
       "      <td>1.0</td>\n",
       "      <td>1</td>\n",
       "      <td>NaN</td>\n",
       "      <td>NaN</td>\n",
       "      <td>1.0</td>\n",
       "      <td>NaN</td>\n",
       "      <td>1.0</td>\n",
       "      <td>2723.980357</td>\n",
       "      <td>...</td>\n",
       "      <td>26</td>\n",
       "      <td>3</td>\n",
       "      <td>9</td>\n",
       "      <td>7</td>\n",
       "      <td>0.0</td>\n",
       "      <td>1.0</td>\n",
       "      <td>1.0</td>\n",
       "      <td>0.000000</td>\n",
       "      <td>0.857143</td>\n",
       "      <td>17.993214</td>\n",
       "    </tr>\n",
       "    <tr>\n",
       "      <th>1583</th>\n",
       "      <td>8</td>\n",
       "      <td>151</td>\n",
       "      <td>1.0</td>\n",
       "      <td>1</td>\n",
       "      <td>NaN</td>\n",
       "      <td>NaN</td>\n",
       "      <td>NaN</td>\n",
       "      <td>NaN</td>\n",
       "      <td>NaN</td>\n",
       "      <td>4038.971071</td>\n",
       "      <td>...</td>\n",
       "      <td>10</td>\n",
       "      <td>3</td>\n",
       "      <td>1</td>\n",
       "      <td>4</td>\n",
       "      <td>0.0</td>\n",
       "      <td>0.0</td>\n",
       "      <td>1.0</td>\n",
       "      <td>0.000000</td>\n",
       "      <td>0.000000</td>\n",
       "      <td>30.250000</td>\n",
       "    </tr>\n",
       "    <tr>\n",
       "      <th>1427</th>\n",
       "      <td>4</td>\n",
       "      <td>179</td>\n",
       "      <td>0.0</td>\n",
       "      <td>1</td>\n",
       "      <td>1.0</td>\n",
       "      <td>NaN</td>\n",
       "      <td>NaN</td>\n",
       "      <td>NaN</td>\n",
       "      <td>NaN</td>\n",
       "      <td>6.552143</td>\n",
       "      <td>...</td>\n",
       "      <td>1</td>\n",
       "      <td>0</td>\n",
       "      <td>0</td>\n",
       "      <td>0</td>\n",
       "      <td>0.0</td>\n",
       "      <td>0.0</td>\n",
       "      <td>1.0</td>\n",
       "      <td>0.000000</td>\n",
       "      <td>0.000000</td>\n",
       "      <td>10.357143</td>\n",
       "    </tr>\n",
       "    <tr>\n",
       "      <th>961</th>\n",
       "      <td>8</td>\n",
       "      <td>154</td>\n",
       "      <td>0.0</td>\n",
       "      <td>1</td>\n",
       "      <td>NaN</td>\n",
       "      <td>NaN</td>\n",
       "      <td>NaN</td>\n",
       "      <td>NaN</td>\n",
       "      <td>NaN</td>\n",
       "      <td>251.336071</td>\n",
       "      <td>...</td>\n",
       "      <td>3</td>\n",
       "      <td>0</td>\n",
       "      <td>0</td>\n",
       "      <td>0</td>\n",
       "      <td>0.0</td>\n",
       "      <td>1.0</td>\n",
       "      <td>1.0</td>\n",
       "      <td>0.000000</td>\n",
       "      <td>12.858929</td>\n",
       "      <td>10.560000</td>\n",
       "    </tr>\n",
       "    <tr>\n",
       "      <th>613</th>\n",
       "      <td>5</td>\n",
       "      <td>96</td>\n",
       "      <td>0.0</td>\n",
       "      <td>1</td>\n",
       "      <td>NaN</td>\n",
       "      <td>NaN</td>\n",
       "      <td>1.0</td>\n",
       "      <td>1.0</td>\n",
       "      <td>NaN</td>\n",
       "      <td>30.467500</td>\n",
       "      <td>...</td>\n",
       "      <td>0</td>\n",
       "      <td>0</td>\n",
       "      <td>0</td>\n",
       "      <td>0</td>\n",
       "      <td>0.0</td>\n",
       "      <td>1.0</td>\n",
       "      <td>0.0</td>\n",
       "      <td>0.000000</td>\n",
       "      <td>0.892857</td>\n",
       "      <td>0.000000</td>\n",
       "    </tr>\n",
       "    <tr>\n",
       "      <th>1561</th>\n",
       "      <td>12</td>\n",
       "      <td>204</td>\n",
       "      <td>1.0</td>\n",
       "      <td>1</td>\n",
       "      <td>1.0</td>\n",
       "      <td>NaN</td>\n",
       "      <td>NaN</td>\n",
       "      <td>NaN</td>\n",
       "      <td>NaN</td>\n",
       "      <td>361.470357</td>\n",
       "      <td>...</td>\n",
       "      <td>19</td>\n",
       "      <td>2</td>\n",
       "      <td>12</td>\n",
       "      <td>1</td>\n",
       "      <td>0.0</td>\n",
       "      <td>0.0</td>\n",
       "      <td>1.0</td>\n",
       "      <td>0.000000</td>\n",
       "      <td>0.000000</td>\n",
       "      <td>4.214286</td>\n",
       "    </tr>\n",
       "    <tr>\n",
       "      <th>1493</th>\n",
       "      <td>2</td>\n",
       "      <td>183</td>\n",
       "      <td>1.0</td>\n",
       "      <td>1</td>\n",
       "      <td>NaN</td>\n",
       "      <td>NaN</td>\n",
       "      <td>NaN</td>\n",
       "      <td>NaN</td>\n",
       "      <td>NaN</td>\n",
       "      <td>9493.402500</td>\n",
       "      <td>...</td>\n",
       "      <td>26</td>\n",
       "      <td>4</td>\n",
       "      <td>11</td>\n",
       "      <td>8</td>\n",
       "      <td>NaN</td>\n",
       "      <td>NaN</td>\n",
       "      <td>NaN</td>\n",
       "      <td>NaN</td>\n",
       "      <td>NaN</td>\n",
       "      <td>NaN</td>\n",
       "    </tr>\n",
       "    <tr>\n",
       "      <th>856</th>\n",
       "      <td>5</td>\n",
       "      <td>62</td>\n",
       "      <td>0.0</td>\n",
       "      <td>1</td>\n",
       "      <td>NaN</td>\n",
       "      <td>1.0</td>\n",
       "      <td>NaN</td>\n",
       "      <td>NaN</td>\n",
       "      <td>NaN</td>\n",
       "      <td>660.111429</td>\n",
       "      <td>...</td>\n",
       "      <td>0</td>\n",
       "      <td>0</td>\n",
       "      <td>0</td>\n",
       "      <td>0</td>\n",
       "      <td>0.0</td>\n",
       "      <td>0.0</td>\n",
       "      <td>0.0</td>\n",
       "      <td>0.000000</td>\n",
       "      <td>0.000000</td>\n",
       "      <td>0.000000</td>\n",
       "    </tr>\n",
       "    <tr>\n",
       "      <th>1409</th>\n",
       "      <td>10</td>\n",
       "      <td>149</td>\n",
       "      <td>0.0</td>\n",
       "      <td>1</td>\n",
       "      <td>NaN</td>\n",
       "      <td>NaN</td>\n",
       "      <td>1.0</td>\n",
       "      <td>NaN</td>\n",
       "      <td>NaN</td>\n",
       "      <td>62.539286</td>\n",
       "      <td>...</td>\n",
       "      <td>3</td>\n",
       "      <td>0</td>\n",
       "      <td>0</td>\n",
       "      <td>2</td>\n",
       "      <td>0.0</td>\n",
       "      <td>0.0</td>\n",
       "      <td>1.0</td>\n",
       "      <td>0.000000</td>\n",
       "      <td>0.000000</td>\n",
       "      <td>4.852143</td>\n",
       "    </tr>\n",
       "    <tr>\n",
       "      <th>1586</th>\n",
       "      <td>2</td>\n",
       "      <td>30</td>\n",
       "      <td>0.0</td>\n",
       "      <td>1</td>\n",
       "      <td>NaN</td>\n",
       "      <td>NaN</td>\n",
       "      <td>NaN</td>\n",
       "      <td>NaN</td>\n",
       "      <td>NaN</td>\n",
       "      <td>0.000000</td>\n",
       "      <td>...</td>\n",
       "      <td>5</td>\n",
       "      <td>2</td>\n",
       "      <td>1</td>\n",
       "      <td>0</td>\n",
       "      <td>NaN</td>\n",
       "      <td>NaN</td>\n",
       "      <td>NaN</td>\n",
       "      <td>NaN</td>\n",
       "      <td>NaN</td>\n",
       "      <td>NaN</td>\n",
       "    </tr>\n",
       "    <tr>\n",
       "      <th>1591</th>\n",
       "      <td>10</td>\n",
       "      <td>170</td>\n",
       "      <td>0.0</td>\n",
       "      <td>1</td>\n",
       "      <td>NaN</td>\n",
       "      <td>NaN</td>\n",
       "      <td>1.0</td>\n",
       "      <td>NaN</td>\n",
       "      <td>NaN</td>\n",
       "      <td>154.557143</td>\n",
       "      <td>...</td>\n",
       "      <td>8</td>\n",
       "      <td>0</td>\n",
       "      <td>0</td>\n",
       "      <td>5</td>\n",
       "      <td>0.0</td>\n",
       "      <td>0.0</td>\n",
       "      <td>1.0</td>\n",
       "      <td>0.000000</td>\n",
       "      <td>0.000000</td>\n",
       "      <td>18.535714</td>\n",
       "    </tr>\n",
       "    <tr>\n",
       "      <th>785</th>\n",
       "      <td>9</td>\n",
       "      <td>179</td>\n",
       "      <td>1.0</td>\n",
       "      <td>1</td>\n",
       "      <td>NaN</td>\n",
       "      <td>NaN</td>\n",
       "      <td>1.0</td>\n",
       "      <td>NaN</td>\n",
       "      <td>NaN</td>\n",
       "      <td>6478.507500</td>\n",
       "      <td>...</td>\n",
       "      <td>29</td>\n",
       "      <td>3</td>\n",
       "      <td>11</td>\n",
       "      <td>8</td>\n",
       "      <td>NaN</td>\n",
       "      <td>NaN</td>\n",
       "      <td>NaN</td>\n",
       "      <td>NaN</td>\n",
       "      <td>NaN</td>\n",
       "      <td>NaN</td>\n",
       "    </tr>\n",
       "    <tr>\n",
       "      <th>1372</th>\n",
       "      <td>10</td>\n",
       "      <td>176</td>\n",
       "      <td>1.0</td>\n",
       "      <td>1</td>\n",
       "      <td>1.0</td>\n",
       "      <td>NaN</td>\n",
       "      <td>NaN</td>\n",
       "      <td>NaN</td>\n",
       "      <td>NaN</td>\n",
       "      <td>224.758214</td>\n",
       "      <td>...</td>\n",
       "      <td>0</td>\n",
       "      <td>0</td>\n",
       "      <td>0</td>\n",
       "      <td>0</td>\n",
       "      <td>0.0</td>\n",
       "      <td>0.0</td>\n",
       "      <td>1.0</td>\n",
       "      <td>0.000000</td>\n",
       "      <td>0.000000</td>\n",
       "      <td>10.464286</td>\n",
       "    </tr>\n",
       "    <tr>\n",
       "      <th>851</th>\n",
       "      <td>4</td>\n",
       "      <td>80</td>\n",
       "      <td>0.0</td>\n",
       "      <td>1</td>\n",
       "      <td>1.0</td>\n",
       "      <td>NaN</td>\n",
       "      <td>1.0</td>\n",
       "      <td>NaN</td>\n",
       "      <td>NaN</td>\n",
       "      <td>732.937143</td>\n",
       "      <td>...</td>\n",
       "      <td>43</td>\n",
       "      <td>4</td>\n",
       "      <td>34</td>\n",
       "      <td>0</td>\n",
       "      <td>NaN</td>\n",
       "      <td>NaN</td>\n",
       "      <td>NaN</td>\n",
       "      <td>NaN</td>\n",
       "      <td>NaN</td>\n",
       "      <td>NaN</td>\n",
       "    </tr>\n",
       "    <tr>\n",
       "      <th>1615</th>\n",
       "      <td>7</td>\n",
       "      <td>180</td>\n",
       "      <td>1.0</td>\n",
       "      <td>2</td>\n",
       "      <td>1.0</td>\n",
       "      <td>NaN</td>\n",
       "      <td>1.0</td>\n",
       "      <td>NaN</td>\n",
       "      <td>NaN</td>\n",
       "      <td>118.938929</td>\n",
       "      <td>...</td>\n",
       "      <td>16</td>\n",
       "      <td>1</td>\n",
       "      <td>1</td>\n",
       "      <td>13</td>\n",
       "      <td>0.0</td>\n",
       "      <td>0.0</td>\n",
       "      <td>0.0</td>\n",
       "      <td>0.000000</td>\n",
       "      <td>0.000000</td>\n",
       "      <td>0.000000</td>\n",
       "    </tr>\n",
       "    <tr>\n",
       "      <th>1082</th>\n",
       "      <td>1</td>\n",
       "      <td>150</td>\n",
       "      <td>1.0</td>\n",
       "      <td>1</td>\n",
       "      <td>NaN</td>\n",
       "      <td>NaN</td>\n",
       "      <td>NaN</td>\n",
       "      <td>NaN</td>\n",
       "      <td>NaN</td>\n",
       "      <td>2725.113929</td>\n",
       "      <td>...</td>\n",
       "      <td>30</td>\n",
       "      <td>7</td>\n",
       "      <td>6</td>\n",
       "      <td>10</td>\n",
       "      <td>NaN</td>\n",
       "      <td>NaN</td>\n",
       "      <td>NaN</td>\n",
       "      <td>NaN</td>\n",
       "      <td>NaN</td>\n",
       "      <td>NaN</td>\n",
       "    </tr>\n",
       "    <tr>\n",
       "      <th>490</th>\n",
       "      <td>7</td>\n",
       "      <td>177</td>\n",
       "      <td>1.0</td>\n",
       "      <td>1</td>\n",
       "      <td>NaN</td>\n",
       "      <td>NaN</td>\n",
       "      <td>NaN</td>\n",
       "      <td>NaN</td>\n",
       "      <td>NaN</td>\n",
       "      <td>806.459643</td>\n",
       "      <td>...</td>\n",
       "      <td>5</td>\n",
       "      <td>0</td>\n",
       "      <td>2</td>\n",
       "      <td>2</td>\n",
       "      <td>NaN</td>\n",
       "      <td>NaN</td>\n",
       "      <td>NaN</td>\n",
       "      <td>NaN</td>\n",
       "      <td>NaN</td>\n",
       "      <td>NaN</td>\n",
       "    </tr>\n",
       "    <tr>\n",
       "      <th>648</th>\n",
       "      <td>7</td>\n",
       "      <td>152</td>\n",
       "      <td>0.0</td>\n",
       "      <td>1</td>\n",
       "      <td>1.0</td>\n",
       "      <td>NaN</td>\n",
       "      <td>NaN</td>\n",
       "      <td>1.0</td>\n",
       "      <td>NaN</td>\n",
       "      <td>2164.632857</td>\n",
       "      <td>...</td>\n",
       "      <td>15</td>\n",
       "      <td>0</td>\n",
       "      <td>13</td>\n",
       "      <td>9</td>\n",
       "      <td>1.0</td>\n",
       "      <td>1.0</td>\n",
       "      <td>0.0</td>\n",
       "      <td>0.775179</td>\n",
       "      <td>8.214286</td>\n",
       "      <td>0.000000</td>\n",
       "    </tr>\n",
       "    <tr>\n",
       "      <th>1241</th>\n",
       "      <td>2</td>\n",
       "      <td>170</td>\n",
       "      <td>0.0</td>\n",
       "      <td>1</td>\n",
       "      <td>NaN</td>\n",
       "      <td>NaN</td>\n",
       "      <td>1.0</td>\n",
       "      <td>NaN</td>\n",
       "      <td>NaN</td>\n",
       "      <td>22939.270000</td>\n",
       "      <td>...</td>\n",
       "      <td>5</td>\n",
       "      <td>0</td>\n",
       "      <td>0</td>\n",
       "      <td>0</td>\n",
       "      <td>NaN</td>\n",
       "      <td>NaN</td>\n",
       "      <td>NaN</td>\n",
       "      <td>NaN</td>\n",
       "      <td>NaN</td>\n",
       "      <td>NaN</td>\n",
       "    </tr>\n",
       "    <tr>\n",
       "      <th>638</th>\n",
       "      <td>1</td>\n",
       "      <td>31</td>\n",
       "      <td>1.0</td>\n",
       "      <td>1</td>\n",
       "      <td>NaN</td>\n",
       "      <td>NaN</td>\n",
       "      <td>1.0</td>\n",
       "      <td>NaN</td>\n",
       "      <td>NaN</td>\n",
       "      <td>89.250000</td>\n",
       "      <td>...</td>\n",
       "      <td>9</td>\n",
       "      <td>1</td>\n",
       "      <td>4</td>\n",
       "      <td>1</td>\n",
       "      <td>0.0</td>\n",
       "      <td>0.0</td>\n",
       "      <td>0.0</td>\n",
       "      <td>0.000000</td>\n",
       "      <td>0.000000</td>\n",
       "      <td>0.000000</td>\n",
       "    </tr>\n",
       "    <tr>\n",
       "      <th>1231</th>\n",
       "      <td>6</td>\n",
       "      <td>232</td>\n",
       "      <td>0.0</td>\n",
       "      <td>1</td>\n",
       "      <td>NaN</td>\n",
       "      <td>NaN</td>\n",
       "      <td>NaN</td>\n",
       "      <td>NaN</td>\n",
       "      <td>NaN</td>\n",
       "      <td>819.853929</td>\n",
       "      <td>...</td>\n",
       "      <td>9</td>\n",
       "      <td>6</td>\n",
       "      <td>0</td>\n",
       "      <td>0</td>\n",
       "      <td>0.0</td>\n",
       "      <td>0.0</td>\n",
       "      <td>1.0</td>\n",
       "      <td>0.000000</td>\n",
       "      <td>0.000000</td>\n",
       "      <td>24.434643</td>\n",
       "    </tr>\n",
       "    <tr>\n",
       "      <th>485</th>\n",
       "      <td>10</td>\n",
       "      <td>181</td>\n",
       "      <td>1.0</td>\n",
       "      <td>1</td>\n",
       "      <td>NaN</td>\n",
       "      <td>NaN</td>\n",
       "      <td>NaN</td>\n",
       "      <td>NaN</td>\n",
       "      <td>NaN</td>\n",
       "      <td>1748.505357</td>\n",
       "      <td>...</td>\n",
       "      <td>3</td>\n",
       "      <td>0</td>\n",
       "      <td>0</td>\n",
       "      <td>0</td>\n",
       "      <td>NaN</td>\n",
       "      <td>NaN</td>\n",
       "      <td>NaN</td>\n",
       "      <td>NaN</td>\n",
       "      <td>NaN</td>\n",
       "      <td>NaN</td>\n",
       "    </tr>\n",
       "    <tr>\n",
       "      <th>1044</th>\n",
       "      <td>2</td>\n",
       "      <td>70</td>\n",
       "      <td>0.0</td>\n",
       "      <td>1</td>\n",
       "      <td>2.0</td>\n",
       "      <td>1.0</td>\n",
       "      <td>NaN</td>\n",
       "      <td>NaN</td>\n",
       "      <td>NaN</td>\n",
       "      <td>84.144286</td>\n",
       "      <td>...</td>\n",
       "      <td>18</td>\n",
       "      <td>4</td>\n",
       "      <td>10</td>\n",
       "      <td>3</td>\n",
       "      <td>0.0</td>\n",
       "      <td>0.0</td>\n",
       "      <td>0.0</td>\n",
       "      <td>0.000000</td>\n",
       "      <td>0.000000</td>\n",
       "      <td>0.000000</td>\n",
       "    </tr>\n",
       "    <tr>\n",
       "      <th>1529</th>\n",
       "      <td>1</td>\n",
       "      <td>36</td>\n",
       "      <td>0.0</td>\n",
       "      <td>1</td>\n",
       "      <td>1.0</td>\n",
       "      <td>NaN</td>\n",
       "      <td>NaN</td>\n",
       "      <td>NaN</td>\n",
       "      <td>NaN</td>\n",
       "      <td>742.263571</td>\n",
       "      <td>...</td>\n",
       "      <td>11</td>\n",
       "      <td>2</td>\n",
       "      <td>1</td>\n",
       "      <td>5</td>\n",
       "      <td>0.0</td>\n",
       "      <td>0.0</td>\n",
       "      <td>0.0</td>\n",
       "      <td>0.000000</td>\n",
       "      <td>0.000000</td>\n",
       "      <td>0.000000</td>\n",
       "    </tr>\n",
       "    <tr>\n",
       "      <th>509</th>\n",
       "      <td>5</td>\n",
       "      <td>168</td>\n",
       "      <td>1.0</td>\n",
       "      <td>1</td>\n",
       "      <td>NaN</td>\n",
       "      <td>NaN</td>\n",
       "      <td>1.0</td>\n",
       "      <td>NaN</td>\n",
       "      <td>NaN</td>\n",
       "      <td>6722.328571</td>\n",
       "      <td>...</td>\n",
       "      <td>27</td>\n",
       "      <td>3</td>\n",
       "      <td>8</td>\n",
       "      <td>13</td>\n",
       "      <td>0.0</td>\n",
       "      <td>0.0</td>\n",
       "      <td>1.0</td>\n",
       "      <td>0.000000</td>\n",
       "      <td>0.000000</td>\n",
       "      <td>10.107143</td>\n",
       "    </tr>\n",
       "    <tr>\n",
       "      <th>1063</th>\n",
       "      <td>5</td>\n",
       "      <td>230</td>\n",
       "      <td>1.0</td>\n",
       "      <td>1</td>\n",
       "      <td>NaN</td>\n",
       "      <td>NaN</td>\n",
       "      <td>1.0</td>\n",
       "      <td>NaN</td>\n",
       "      <td>1.0</td>\n",
       "      <td>291.147500</td>\n",
       "      <td>...</td>\n",
       "      <td>5</td>\n",
       "      <td>0</td>\n",
       "      <td>0</td>\n",
       "      <td>0</td>\n",
       "      <td>NaN</td>\n",
       "      <td>NaN</td>\n",
       "      <td>NaN</td>\n",
       "      <td>NaN</td>\n",
       "      <td>NaN</td>\n",
       "      <td>NaN</td>\n",
       "    </tr>\n",
       "    <tr>\n",
       "      <th>1431</th>\n",
       "      <td>19</td>\n",
       "      <td>231</td>\n",
       "      <td>0.0</td>\n",
       "      <td>1</td>\n",
       "      <td>NaN</td>\n",
       "      <td>NaN</td>\n",
       "      <td>NaN</td>\n",
       "      <td>NaN</td>\n",
       "      <td>NaN</td>\n",
       "      <td>1046.317143</td>\n",
       "      <td>...</td>\n",
       "      <td>5</td>\n",
       "      <td>0</td>\n",
       "      <td>0</td>\n",
       "      <td>1</td>\n",
       "      <td>0.0</td>\n",
       "      <td>0.0</td>\n",
       "      <td>1.0</td>\n",
       "      <td>0.000000</td>\n",
       "      <td>0.000000</td>\n",
       "      <td>16.476429</td>\n",
       "    </tr>\n",
       "    <tr>\n",
       "      <th>23</th>\n",
       "      <td>4</td>\n",
       "      <td>160</td>\n",
       "      <td>1.0</td>\n",
       "      <td>1</td>\n",
       "      <td>2.0</td>\n",
       "      <td>4.0</td>\n",
       "      <td>1.0</td>\n",
       "      <td>NaN</td>\n",
       "      <td>NaN</td>\n",
       "      <td>22.967143</td>\n",
       "      <td>...</td>\n",
       "      <td>33</td>\n",
       "      <td>1</td>\n",
       "      <td>26</td>\n",
       "      <td>6</td>\n",
       "      <td>0.0</td>\n",
       "      <td>0.0</td>\n",
       "      <td>1.0</td>\n",
       "      <td>0.000000</td>\n",
       "      <td>0.000000</td>\n",
       "      <td>8.250000</td>\n",
       "    </tr>\n",
       "    <tr>\n",
       "      <th>1256</th>\n",
       "      <td>6</td>\n",
       "      <td>149</td>\n",
       "      <td>1.0</td>\n",
       "      <td>1</td>\n",
       "      <td>NaN</td>\n",
       "      <td>NaN</td>\n",
       "      <td>1.0</td>\n",
       "      <td>1.0</td>\n",
       "      <td>NaN</td>\n",
       "      <td>237.148571</td>\n",
       "      <td>...</td>\n",
       "      <td>8</td>\n",
       "      <td>0</td>\n",
       "      <td>0</td>\n",
       "      <td>4</td>\n",
       "      <td>0.0</td>\n",
       "      <td>0.0</td>\n",
       "      <td>0.0</td>\n",
       "      <td>0.000000</td>\n",
       "      <td>0.000000</td>\n",
       "      <td>0.000000</td>\n",
       "    </tr>\n",
       "    <tr>\n",
       "      <th>322</th>\n",
       "      <td>1</td>\n",
       "      <td>92</td>\n",
       "      <td>0.0</td>\n",
       "      <td>1</td>\n",
       "      <td>1.0</td>\n",
       "      <td>NaN</td>\n",
       "      <td>NaN</td>\n",
       "      <td>NaN</td>\n",
       "      <td>NaN</td>\n",
       "      <td>2175.270000</td>\n",
       "      <td>...</td>\n",
       "      <td>2</td>\n",
       "      <td>0</td>\n",
       "      <td>0</td>\n",
       "      <td>0</td>\n",
       "      <td>0.0</td>\n",
       "      <td>1.0</td>\n",
       "      <td>0.0</td>\n",
       "      <td>0.000000</td>\n",
       "      <td>1.785714</td>\n",
       "      <td>0.000000</td>\n",
       "    </tr>\n",
       "    <tr>\n",
       "      <th>158</th>\n",
       "      <td>0</td>\n",
       "      <td>152</td>\n",
       "      <td>1.0</td>\n",
       "      <td>1</td>\n",
       "      <td>1.0</td>\n",
       "      <td>NaN</td>\n",
       "      <td>NaN</td>\n",
       "      <td>NaN</td>\n",
       "      <td>NaN</td>\n",
       "      <td>326.630357</td>\n",
       "      <td>...</td>\n",
       "      <td>13</td>\n",
       "      <td>0</td>\n",
       "      <td>13</td>\n",
       "      <td>0</td>\n",
       "      <td>0.0</td>\n",
       "      <td>0.0</td>\n",
       "      <td>0.0</td>\n",
       "      <td>0.000000</td>\n",
       "      <td>0.000000</td>\n",
       "      <td>0.000000</td>\n",
       "    </tr>\n",
       "    <tr>\n",
       "      <th>394</th>\n",
       "      <td>7</td>\n",
       "      <td>150</td>\n",
       "      <td>1.0</td>\n",
       "      <td>1</td>\n",
       "      <td>NaN</td>\n",
       "      <td>NaN</td>\n",
       "      <td>1.0</td>\n",
       "      <td>NaN</td>\n",
       "      <td>1.0</td>\n",
       "      <td>3770.360357</td>\n",
       "      <td>...</td>\n",
       "      <td>33</td>\n",
       "      <td>0</td>\n",
       "      <td>18</td>\n",
       "      <td>9</td>\n",
       "      <td>NaN</td>\n",
       "      <td>NaN</td>\n",
       "      <td>NaN</td>\n",
       "      <td>NaN</td>\n",
       "      <td>NaN</td>\n",
       "      <td>NaN</td>\n",
       "    </tr>\n",
       "    <tr>\n",
       "      <th>859</th>\n",
       "      <td>12</td>\n",
       "      <td>150</td>\n",
       "      <td>1.0</td>\n",
       "      <td>1</td>\n",
       "      <td>NaN</td>\n",
       "      <td>NaN</td>\n",
       "      <td>NaN</td>\n",
       "      <td>NaN</td>\n",
       "      <td>NaN</td>\n",
       "      <td>359.033214</td>\n",
       "      <td>...</td>\n",
       "      <td>2</td>\n",
       "      <td>0</td>\n",
       "      <td>0</td>\n",
       "      <td>0</td>\n",
       "      <td>0.0</td>\n",
       "      <td>0.0</td>\n",
       "      <td>1.0</td>\n",
       "      <td>0.000000</td>\n",
       "      <td>0.000000</td>\n",
       "      <td>4.166786</td>\n",
       "    </tr>\n",
       "    <tr>\n",
       "      <th>878</th>\n",
       "      <td>5</td>\n",
       "      <td>173</td>\n",
       "      <td>0.0</td>\n",
       "      <td>1</td>\n",
       "      <td>NaN</td>\n",
       "      <td>22.0</td>\n",
       "      <td>NaN</td>\n",
       "      <td>NaN</td>\n",
       "      <td>NaN</td>\n",
       "      <td>1519.949286</td>\n",
       "      <td>...</td>\n",
       "      <td>2</td>\n",
       "      <td>0</td>\n",
       "      <td>0</td>\n",
       "      <td>0</td>\n",
       "      <td>NaN</td>\n",
       "      <td>NaN</td>\n",
       "      <td>NaN</td>\n",
       "      <td>NaN</td>\n",
       "      <td>NaN</td>\n",
       "      <td>NaN</td>\n",
       "    </tr>\n",
       "    <tr>\n",
       "      <th>316</th>\n",
       "      <td>1</td>\n",
       "      <td>211</td>\n",
       "      <td>0.0</td>\n",
       "      <td>1</td>\n",
       "      <td>NaN</td>\n",
       "      <td>NaN</td>\n",
       "      <td>NaN</td>\n",
       "      <td>NaN</td>\n",
       "      <td>NaN</td>\n",
       "      <td>22.733571</td>\n",
       "      <td>...</td>\n",
       "      <td>21</td>\n",
       "      <td>6</td>\n",
       "      <td>1</td>\n",
       "      <td>9</td>\n",
       "      <td>0.0</td>\n",
       "      <td>0.0</td>\n",
       "      <td>1.0</td>\n",
       "      <td>0.000000</td>\n",
       "      <td>0.000000</td>\n",
       "      <td>15.015357</td>\n",
       "    </tr>\n",
       "    <tr>\n",
       "      <th>300</th>\n",
       "      <td>5</td>\n",
       "      <td>87</td>\n",
       "      <td>0.0</td>\n",
       "      <td>1</td>\n",
       "      <td>NaN</td>\n",
       "      <td>NaN</td>\n",
       "      <td>NaN</td>\n",
       "      <td>NaN</td>\n",
       "      <td>NaN</td>\n",
       "      <td>0.000000</td>\n",
       "      <td>...</td>\n",
       "      <td>2</td>\n",
       "      <td>0</td>\n",
       "      <td>0</td>\n",
       "      <td>1</td>\n",
       "      <td>0.0</td>\n",
       "      <td>0.0</td>\n",
       "      <td>1.0</td>\n",
       "      <td>0.000000</td>\n",
       "      <td>0.000000</td>\n",
       "      <td>12.035714</td>\n",
       "    </tr>\n",
       "    <tr>\n",
       "      <th>225</th>\n",
       "      <td>14</td>\n",
       "      <td>187</td>\n",
       "      <td>1.0</td>\n",
       "      <td>1</td>\n",
       "      <td>NaN</td>\n",
       "      <td>NaN</td>\n",
       "      <td>1.0</td>\n",
       "      <td>NaN</td>\n",
       "      <td>NaN</td>\n",
       "      <td>345.686071</td>\n",
       "      <td>...</td>\n",
       "      <td>5</td>\n",
       "      <td>0</td>\n",
       "      <td>4</td>\n",
       "      <td>1</td>\n",
       "      <td>0.0</td>\n",
       "      <td>0.0</td>\n",
       "      <td>1.0</td>\n",
       "      <td>0.000000</td>\n",
       "      <td>0.000000</td>\n",
       "      <td>8.130714</td>\n",
       "    </tr>\n",
       "    <tr>\n",
       "      <th>544</th>\n",
       "      <td>5</td>\n",
       "      <td>113</td>\n",
       "      <td>1.0</td>\n",
       "      <td>1</td>\n",
       "      <td>NaN</td>\n",
       "      <td>64.0</td>\n",
       "      <td>NaN</td>\n",
       "      <td>NaN</td>\n",
       "      <td>NaN</td>\n",
       "      <td>4808.271071</td>\n",
       "      <td>...</td>\n",
       "      <td>24</td>\n",
       "      <td>1</td>\n",
       "      <td>15</td>\n",
       "      <td>6</td>\n",
       "      <td>1.0</td>\n",
       "      <td>0.0</td>\n",
       "      <td>1.0</td>\n",
       "      <td>0.059821</td>\n",
       "      <td>0.000000</td>\n",
       "      <td>17.785714</td>\n",
       "    </tr>\n",
       "    <tr>\n",
       "      <th>1403</th>\n",
       "      <td>4</td>\n",
       "      <td>151</td>\n",
       "      <td>0.0</td>\n",
       "      <td>1</td>\n",
       "      <td>1.0</td>\n",
       "      <td>8.0</td>\n",
       "      <td>NaN</td>\n",
       "      <td>NaN</td>\n",
       "      <td>NaN</td>\n",
       "      <td>4444.185000</td>\n",
       "      <td>...</td>\n",
       "      <td>2</td>\n",
       "      <td>0</td>\n",
       "      <td>0</td>\n",
       "      <td>2</td>\n",
       "      <td>0.0</td>\n",
       "      <td>0.0</td>\n",
       "      <td>1.0</td>\n",
       "      <td>0.000000</td>\n",
       "      <td>0.000000</td>\n",
       "      <td>17.214286</td>\n",
       "    </tr>\n",
       "    <tr>\n",
       "      <th>672</th>\n",
       "      <td>4</td>\n",
       "      <td>261</td>\n",
       "      <td>1.0</td>\n",
       "      <td>1</td>\n",
       "      <td>NaN</td>\n",
       "      <td>NaN</td>\n",
       "      <td>NaN</td>\n",
       "      <td>NaN</td>\n",
       "      <td>NaN</td>\n",
       "      <td>47.964643</td>\n",
       "      <td>...</td>\n",
       "      <td>2</td>\n",
       "      <td>0</td>\n",
       "      <td>0</td>\n",
       "      <td>0</td>\n",
       "      <td>0.0</td>\n",
       "      <td>1.0</td>\n",
       "      <td>0.0</td>\n",
       "      <td>0.000000</td>\n",
       "      <td>1.964286</td>\n",
       "      <td>0.000000</td>\n",
       "    </tr>\n",
       "    <tr>\n",
       "      <th>1569</th>\n",
       "      <td>3</td>\n",
       "      <td>152</td>\n",
       "      <td>0.0</td>\n",
       "      <td>1</td>\n",
       "      <td>3.0</td>\n",
       "      <td>32.0</td>\n",
       "      <td>NaN</td>\n",
       "      <td>NaN</td>\n",
       "      <td>NaN</td>\n",
       "      <td>14341.997860</td>\n",
       "      <td>...</td>\n",
       "      <td>20</td>\n",
       "      <td>0</td>\n",
       "      <td>13</td>\n",
       "      <td>6</td>\n",
       "      <td>NaN</td>\n",
       "      <td>NaN</td>\n",
       "      <td>NaN</td>\n",
       "      <td>NaN</td>\n",
       "      <td>NaN</td>\n",
       "      <td>NaN</td>\n",
       "    </tr>\n",
       "  </tbody>\n",
       "</table>\n",
       "<p>47 rows × 35 columns</p>\n",
       "</div>"
      ],
      "text/plain": [
       "        Age  Tenure    M  Count_CA  Count_SA  Count_MF  Count_OVD  Count_CC  \\\n",
       "Client                                                                        \n",
       "391       1      16  1.0         1       NaN       NaN        NaN       1.0   \n",
       "1056     10     159  0.0         1       NaN       NaN        NaN       NaN   \n",
       "350       4     218  0.0         1       NaN       NaN        1.0       NaN   \n",
       "682       3     149  0.0         1       1.0      11.0        NaN       NaN   \n",
       "1169      6     172  0.0         1       NaN       NaN        NaN       NaN   \n",
       "1499      5     267  0.0         1       NaN       NaN        1.0       NaN   \n",
       "1160     19     260  1.0         1       NaN       NaN        1.0       NaN   \n",
       "1583      8     151  1.0         1       NaN       NaN        NaN       NaN   \n",
       "1427      4     179  0.0         1       1.0       NaN        NaN       NaN   \n",
       "961       8     154  0.0         1       NaN       NaN        NaN       NaN   \n",
       "613       5      96  0.0         1       NaN       NaN        1.0       1.0   \n",
       "1561     12     204  1.0         1       1.0       NaN        NaN       NaN   \n",
       "1493      2     183  1.0         1       NaN       NaN        NaN       NaN   \n",
       "856       5      62  0.0         1       NaN       1.0        NaN       NaN   \n",
       "1409     10     149  0.0         1       NaN       NaN        1.0       NaN   \n",
       "1586      2      30  0.0         1       NaN       NaN        NaN       NaN   \n",
       "1591     10     170  0.0         1       NaN       NaN        1.0       NaN   \n",
       "785       9     179  1.0         1       NaN       NaN        1.0       NaN   \n",
       "1372     10     176  1.0         1       1.0       NaN        NaN       NaN   \n",
       "851       4      80  0.0         1       1.0       NaN        1.0       NaN   \n",
       "1615      7     180  1.0         2       1.0       NaN        1.0       NaN   \n",
       "1082      1     150  1.0         1       NaN       NaN        NaN       NaN   \n",
       "490       7     177  1.0         1       NaN       NaN        NaN       NaN   \n",
       "648       7     152  0.0         1       1.0       NaN        NaN       1.0   \n",
       "1241      2     170  0.0         1       NaN       NaN        1.0       NaN   \n",
       "638       1      31  1.0         1       NaN       NaN        1.0       NaN   \n",
       "1231      6     232  0.0         1       NaN       NaN        NaN       NaN   \n",
       "485      10     181  1.0         1       NaN       NaN        NaN       NaN   \n",
       "1044      2      70  0.0         1       2.0       1.0        NaN       NaN   \n",
       "1529      1      36  0.0         1       1.0       NaN        NaN       NaN   \n",
       "509       5     168  1.0         1       NaN       NaN        1.0       NaN   \n",
       "1063      5     230  1.0         1       NaN       NaN        1.0       NaN   \n",
       "1431     19     231  0.0         1       NaN       NaN        NaN       NaN   \n",
       "23        4     160  1.0         1       2.0       4.0        1.0       NaN   \n",
       "1256      6     149  1.0         1       NaN       NaN        1.0       1.0   \n",
       "322       1      92  0.0         1       1.0       NaN        NaN       NaN   \n",
       "158       0     152  1.0         1       1.0       NaN        NaN       NaN   \n",
       "394       7     150  1.0         1       NaN       NaN        1.0       NaN   \n",
       "859      12     150  1.0         1       NaN       NaN        NaN       NaN   \n",
       "878       5     173  0.0         1       NaN      22.0        NaN       NaN   \n",
       "316       1     211  0.0         1       NaN       NaN        NaN       NaN   \n",
       "300       5      87  0.0         1       NaN       NaN        NaN       NaN   \n",
       "225      14     187  1.0         1       NaN       NaN        1.0       NaN   \n",
       "544       5     113  1.0         1       NaN      64.0        NaN       NaN   \n",
       "1403      4     151  0.0         1       1.0       8.0        NaN       NaN   \n",
       "672       4     261  1.0         1       NaN       NaN        NaN       NaN   \n",
       "1569      3     152  0.0         1       3.0      32.0        NaN       NaN   \n",
       "\n",
       "        Count_CL     ActBal_CA     ...      TransactionsDeb_CA  \\\n",
       "Client                             ...                           \n",
       "391          1.0    172.581429     ...                      18   \n",
       "1056         NaN    283.605000     ...                       1   \n",
       "350          NaN      0.000000     ...                      20   \n",
       "682          NaN    684.281429     ...                      22   \n",
       "1169         NaN   1824.040000     ...                       9   \n",
       "1499         1.0      0.000000     ...                      30   \n",
       "1160         1.0   2723.980357     ...                      26   \n",
       "1583         NaN   4038.971071     ...                      10   \n",
       "1427         NaN      6.552143     ...                       1   \n",
       "961          NaN    251.336071     ...                       3   \n",
       "613          NaN     30.467500     ...                       0   \n",
       "1561         NaN    361.470357     ...                      19   \n",
       "1493         NaN   9493.402500     ...                      26   \n",
       "856          NaN    660.111429     ...                       0   \n",
       "1409         NaN     62.539286     ...                       3   \n",
       "1586         NaN      0.000000     ...                       5   \n",
       "1591         NaN    154.557143     ...                       8   \n",
       "785          NaN   6478.507500     ...                      29   \n",
       "1372         NaN    224.758214     ...                       0   \n",
       "851          NaN    732.937143     ...                      43   \n",
       "1615         NaN    118.938929     ...                      16   \n",
       "1082         NaN   2725.113929     ...                      30   \n",
       "490          NaN    806.459643     ...                       5   \n",
       "648          NaN   2164.632857     ...                      15   \n",
       "1241         NaN  22939.270000     ...                       5   \n",
       "638          NaN     89.250000     ...                       9   \n",
       "1231         NaN    819.853929     ...                       9   \n",
       "485          NaN   1748.505357     ...                       3   \n",
       "1044         NaN     84.144286     ...                      18   \n",
       "1529         NaN    742.263571     ...                      11   \n",
       "509          NaN   6722.328571     ...                      27   \n",
       "1063         1.0    291.147500     ...                       5   \n",
       "1431         NaN   1046.317143     ...                       5   \n",
       "23           NaN     22.967143     ...                      33   \n",
       "1256         NaN    237.148571     ...                       8   \n",
       "322          NaN   2175.270000     ...                       2   \n",
       "158          NaN    326.630357     ...                      13   \n",
       "394          1.0   3770.360357     ...                      33   \n",
       "859          NaN    359.033214     ...                       2   \n",
       "878          NaN   1519.949286     ...                       2   \n",
       "316          NaN     22.733571     ...                      21   \n",
       "300          NaN      0.000000     ...                       2   \n",
       "225          NaN    345.686071     ...                       5   \n",
       "544          NaN   4808.271071     ...                      24   \n",
       "1403         NaN   4444.185000     ...                       2   \n",
       "672          NaN     47.964643     ...                       2   \n",
       "1569         NaN  14341.997860     ...                      20   \n",
       "\n",
       "        TransactionsDebCash_Card  TransactionsDebCashless_Card  \\\n",
       "Client                                                           \n",
       "391                            4                             0   \n",
       "1056                           0                             0   \n",
       "350                            4                             0   \n",
       "682                           12                             0   \n",
       "1169                           1                             7   \n",
       "1499                           4                            10   \n",
       "1160                           3                             9   \n",
       "1583                           3                             1   \n",
       "1427                           0                             0   \n",
       "961                            0                             0   \n",
       "613                            0                             0   \n",
       "1561                           2                            12   \n",
       "1493                           4                            11   \n",
       "856                            0                             0   \n",
       "1409                           0                             0   \n",
       "1586                           2                             1   \n",
       "1591                           0                             0   \n",
       "785                            3                            11   \n",
       "1372                           0                             0   \n",
       "851                            4                            34   \n",
       "1615                           1                             1   \n",
       "1082                           7                             6   \n",
       "490                            0                             2   \n",
       "648                            0                            13   \n",
       "1241                           0                             0   \n",
       "638                            1                             4   \n",
       "1231                           6                             0   \n",
       "485                            0                             0   \n",
       "1044                           4                            10   \n",
       "1529                           2                             1   \n",
       "509                            3                             8   \n",
       "1063                           0                             0   \n",
       "1431                           0                             0   \n",
       "23                             1                            26   \n",
       "1256                           0                             0   \n",
       "322                            0                             0   \n",
       "158                            0                            13   \n",
       "394                            0                            18   \n",
       "859                            0                             0   \n",
       "878                            0                             0   \n",
       "316                            6                             1   \n",
       "300                            0                             0   \n",
       "225                            0                             4   \n",
       "544                            1                            15   \n",
       "1403                           0                             0   \n",
       "672                            0                             0   \n",
       "1569                           0                            13   \n",
       "\n",
       "        TransactionsDeb_PaymentOrder  Sale_MF  Sale_CC  Sale_CL  Revenue_MF  \\\n",
       "Client                                                                        \n",
       "391                                6      0.0      0.0      0.0    0.000000   \n",
       "1056                               0      1.0      0.0      1.0   10.527143   \n",
       "350                                7      NaN      NaN      NaN         NaN   \n",
       "682                                2      0.0      1.0      1.0    0.000000   \n",
       "1169                               0      1.0      1.0      1.0    2.461964   \n",
       "1499                              12      0.0      0.0      1.0    0.000000   \n",
       "1160                               7      0.0      1.0      1.0    0.000000   \n",
       "1583                               4      0.0      0.0      1.0    0.000000   \n",
       "1427                               0      0.0      0.0      1.0    0.000000   \n",
       "961                                0      0.0      1.0      1.0    0.000000   \n",
       "613                                0      0.0      1.0      0.0    0.000000   \n",
       "1561                               1      0.0      0.0      1.0    0.000000   \n",
       "1493                               8      NaN      NaN      NaN         NaN   \n",
       "856                                0      0.0      0.0      0.0    0.000000   \n",
       "1409                               2      0.0      0.0      1.0    0.000000   \n",
       "1586                               0      NaN      NaN      NaN         NaN   \n",
       "1591                               5      0.0      0.0      1.0    0.000000   \n",
       "785                                8      NaN      NaN      NaN         NaN   \n",
       "1372                               0      0.0      0.0      1.0    0.000000   \n",
       "851                                0      NaN      NaN      NaN         NaN   \n",
       "1615                              13      0.0      0.0      0.0    0.000000   \n",
       "1082                              10      NaN      NaN      NaN         NaN   \n",
       "490                                2      NaN      NaN      NaN         NaN   \n",
       "648                                9      1.0      1.0      0.0    0.775179   \n",
       "1241                               0      NaN      NaN      NaN         NaN   \n",
       "638                                1      0.0      0.0      0.0    0.000000   \n",
       "1231                               0      0.0      0.0      1.0    0.000000   \n",
       "485                                0      NaN      NaN      NaN         NaN   \n",
       "1044                               3      0.0      0.0      0.0    0.000000   \n",
       "1529                               5      0.0      0.0      0.0    0.000000   \n",
       "509                               13      0.0      0.0      1.0    0.000000   \n",
       "1063                               0      NaN      NaN      NaN         NaN   \n",
       "1431                               1      0.0      0.0      1.0    0.000000   \n",
       "23                                 6      0.0      0.0      1.0    0.000000   \n",
       "1256                               4      0.0      0.0      0.0    0.000000   \n",
       "322                                0      0.0      1.0      0.0    0.000000   \n",
       "158                                0      0.0      0.0      0.0    0.000000   \n",
       "394                                9      NaN      NaN      NaN         NaN   \n",
       "859                                0      0.0      0.0      1.0    0.000000   \n",
       "878                                0      NaN      NaN      NaN         NaN   \n",
       "316                                9      0.0      0.0      1.0    0.000000   \n",
       "300                                1      0.0      0.0      1.0    0.000000   \n",
       "225                                1      0.0      0.0      1.0    0.000000   \n",
       "544                                6      1.0      0.0      1.0    0.059821   \n",
       "1403                               2      0.0      0.0      1.0    0.000000   \n",
       "672                                0      0.0      1.0      0.0    0.000000   \n",
       "1569                               6      NaN      NaN      NaN         NaN   \n",
       "\n",
       "        Revenue_CC  Revenue_CL  \n",
       "Client                          \n",
       "391       0.000000    0.000000  \n",
       "1056      0.000000   12.000000  \n",
       "350            NaN         NaN  \n",
       "682       0.214286    9.392857  \n",
       "1169      5.170357   46.392857  \n",
       "1499      0.000000    7.107143  \n",
       "1160      0.857143   17.993214  \n",
       "1583      0.000000   30.250000  \n",
       "1427      0.000000   10.357143  \n",
       "961      12.858929   10.560000  \n",
       "613       0.892857    0.000000  \n",
       "1561      0.000000    4.214286  \n",
       "1493           NaN         NaN  \n",
       "856       0.000000    0.000000  \n",
       "1409      0.000000    4.852143  \n",
       "1586           NaN         NaN  \n",
       "1591      0.000000   18.535714  \n",
       "785            NaN         NaN  \n",
       "1372      0.000000   10.464286  \n",
       "851            NaN         NaN  \n",
       "1615      0.000000    0.000000  \n",
       "1082           NaN         NaN  \n",
       "490            NaN         NaN  \n",
       "648       8.214286    0.000000  \n",
       "1241           NaN         NaN  \n",
       "638       0.000000    0.000000  \n",
       "1231      0.000000   24.434643  \n",
       "485            NaN         NaN  \n",
       "1044      0.000000    0.000000  \n",
       "1529      0.000000    0.000000  \n",
       "509       0.000000   10.107143  \n",
       "1063           NaN         NaN  \n",
       "1431      0.000000   16.476429  \n",
       "23        0.000000    8.250000  \n",
       "1256      0.000000    0.000000  \n",
       "322       1.785714    0.000000  \n",
       "158       0.000000    0.000000  \n",
       "394            NaN         NaN  \n",
       "859       0.000000    4.166786  \n",
       "878            NaN         NaN  \n",
       "316       0.000000   15.015357  \n",
       "300       0.000000   12.035714  \n",
       "225       0.000000    8.130714  \n",
       "544       0.000000   17.785714  \n",
       "1403      0.000000   17.214286  \n",
       "672       1.964286    0.000000  \n",
       "1569           NaN         NaN  \n",
       "\n",
       "[47 rows x 35 columns]"
      ]
     },
     "execution_count": 726,
     "metadata": {},
     "output_type": "execute_result"
    }
   ],
   "source": [
    "#Check which clients have more tenure than his age\n",
    "#This is probably a faulty age\n",
    "user.loc[user['Tenure']/12 > user['Age']]\n",
    "\n"
   ]
  },
  {
   "cell_type": "markdown",
   "metadata": {},
   "source": [
    "47 Clients were found with a tenure that was longer than the age of the client. So one of these 2 parameters is wrong. As The tenure is probably calculated a more correct way I assume the age is the faulty parameter.\n",
    "Lets see what we can do."
   ]
  },
  {
   "cell_type": "code",
   "execution_count": 727,
   "metadata": {
    "collapsed": false
   },
   "outputs": [
    {
     "data": {
      "image/png": "[encoded data removed]",
      "text/plain": [
       "<matplotlib.figure.Figure at 0x7fe3a3a3beb8>"
      ]
     },
     "metadata": {},
     "output_type": "display_data"
    }
   ],
   "source": [
    "#Check if there is a correlation between tenure and age to maybe use the tenure to set the age\n",
    "plt.scatter(user['Age'], user['Tenure'])\n",
    "plt.show()"
   ]
  },
  {
   "cell_type": "markdown",
   "metadata": {},
   "source": [
    "First I checked if the value could be imputed from the tenure. But no correlation was found for this data.\n",
    "Then I also tried just dropping these clients as it only consisted of 47 clients but this had a noticable impact \n",
    "on the models. So finally it was decided to just replace these ages with the mean of the age parameter which is 42."
   ]
  },
  {
   "cell_type": "code",
   "execution_count": 728,
   "metadata": {
    "collapsed": false
   },
   "outputs": [
    {
     "name": "stderr",
     "output_type": "stream",
     "text": [
      "/home/nico/anaconda3/lib/python3.5/site-packages/pandas/core/indexing.py:132: SettingWithCopyWarning: \n",
      "A value is trying to be set on a copy of a slice from a DataFrame\n",
      "\n",
      "See the caveats in the documentation: http://pandas.pydata.org/pandas-docs/stable/indexing.html#indexing-view-versus-copy\n",
      "  self._setitem_with_indexer(indexer, value)\n"
     ]
    }
   ],
   "source": [
    "#Drop the clients with tenure bigger than the age\n",
    "user['Age'].loc[user['Tenure']/12 > user['Age']] = user['Age'].mean()"
   ]
  },
  {
   "cell_type": "markdown",
   "metadata": {},
   "source": [
    "## Tenure"
   ]
  },
  {
   "cell_type": "code",
   "execution_count": 729,
   "metadata": {
    "collapsed": false
   },
   "outputs": [
    {
     "data": {
      "text/plain": [
       "count    1587.000000\n",
       "mean      101.242596\n",
       "std        65.059802\n",
       "min         0.000000\n",
       "25%        44.000000\n",
       "50%        96.000000\n",
       "75%       151.000000\n",
       "max       273.000000\n",
       "Name: Tenure, dtype: float64"
      ]
     },
     "execution_count": 729,
     "metadata": {},
     "output_type": "execute_result"
    }
   ],
   "source": [
    "user['Tenure'].describe()"
   ]
  },
  {
   "cell_type": "code",
   "execution_count": 730,
   "metadata": {
    "collapsed": false
   },
   "outputs": [
    {
     "data": {
      "image/png": "[encoded data removed]",
      "text/plain": [
       "<matplotlib.figure.Figure at 0x7fe3a3cc2240>"
      ]
     },
     "metadata": {},
     "output_type": "display_data"
    }
   ],
   "source": [
    "plt.hist(user['Tenure'])\n",
    "plt.show()"
   ]
  },
  {
   "cell_type": "markdown",
   "metadata": {},
   "source": [
    "## Count_CA"
   ]
  },
  {
   "cell_type": "code",
   "execution_count": 731,
   "metadata": {
    "collapsed": false
   },
   "outputs": [
    {
     "data": {
      "text/plain": [
       "count    1587.000000\n",
       "mean        1.078135\n",
       "std         0.331521\n",
       "min         1.000000\n",
       "25%         1.000000\n",
       "50%         1.000000\n",
       "75%         1.000000\n",
       "max         4.000000\n",
       "Name: Count_CA, dtype: float64"
      ]
     },
     "execution_count": 731,
     "metadata": {},
     "output_type": "execute_result"
    }
   ],
   "source": [
    "user['Count_CA'].describe()"
   ]
  },
  {
   "cell_type": "code",
   "execution_count": 732,
   "metadata": {
    "collapsed": false
   },
   "outputs": [
    {
     "data": {
      "image/png": "[encoded data removed]",
      "text/plain": [
       "<matplotlib.figure.Figure at 0x7fe3a3dba8d0>"
      ]
     },
     "metadata": {},
     "output_type": "display_data"
    }
   ],
   "source": [
    "plt.hist(user['Count_CA'])\n",
    "plt.show()"
   ]
  },
  {
   "cell_type": "markdown",
   "metadata": {},
   "source": [
    "## Count_SA"
   ]
  },
  {
   "cell_type": "code",
   "execution_count": 733,
   "metadata": {
    "collapsed": false
   },
   "outputs": [
    {
     "name": "stderr",
     "output_type": "stream",
     "text": [
      "/home/nico/.local/lib/python3.5/site-packages/numpy/lib/function_base.py:4116: RuntimeWarning: Invalid value encountered in percentile\n",
      "  interpolation=interpolation)\n"
     ]
    },
    {
     "data": {
      "text/plain": [
       "count    426.000000\n",
       "mean       1.166667\n",
       "std        0.468205\n",
       "min        1.000000\n",
       "25%             NaN\n",
       "50%             NaN\n",
       "75%             NaN\n",
       "max        5.000000\n",
       "Name: Count_SA, dtype: float64"
      ]
     },
     "execution_count": 733,
     "metadata": {},
     "output_type": "execute_result"
    }
   ],
   "source": [
    "user['Count_SA'].describe()"
   ]
  },
  {
   "cell_type": "code",
   "execution_count": 734,
   "metadata": {
    "collapsed": true
   },
   "outputs": [],
   "source": [
    "#Set 0 for clients with no saving accounts\n",
    "user['Count_SA'].fillna(0,inplace=True)"
   ]
  },
  {
   "cell_type": "code",
   "execution_count": 735,
   "metadata": {
    "collapsed": false
   },
   "outputs": [
    {
     "data": {
      "text/plain": [
       "count    1587.00000\n",
       "mean        0.31317\n",
       "std         0.57114\n",
       "min         0.00000\n",
       "25%         0.00000\n",
       "50%         0.00000\n",
       "75%         1.00000\n",
       "max         5.00000\n",
       "Name: Count_SA, dtype: float64"
      ]
     },
     "execution_count": 735,
     "metadata": {},
     "output_type": "execute_result"
    }
   ],
   "source": [
    "user['Count_SA'].describe()"
   ]
  },
  {
   "cell_type": "code",
   "execution_count": 736,
   "metadata": {
    "collapsed": false
   },
   "outputs": [
    {
     "data": {
      "image/png": "[encoded data removed]",
      "text/plain": [
       "<matplotlib.figure.Figure at 0x7fe3a37565f8>"
      ]
     },
     "metadata": {},
     "output_type": "display_data"
    }
   ],
   "source": [
    "plt.hist(user['Count_SA'])\n",
    "plt.show()"
   ]
  },
  {
   "cell_type": "markdown",
   "metadata": {},
   "source": [
    "## Count_MF"
   ]
  },
  {
   "cell_type": "code",
   "execution_count": 737,
   "metadata": {
    "collapsed": false
   },
   "outputs": [
    {
     "name": "stderr",
     "output_type": "stream",
     "text": [
      "/home/nico/.local/lib/python3.5/site-packages/numpy/lib/function_base.py:4116: RuntimeWarning: Invalid value encountered in percentile\n",
      "  interpolation=interpolation)\n"
     ]
    },
    {
     "data": {
      "text/plain": [
       "count    305.000000\n",
       "mean       4.672131\n",
       "std        7.857533\n",
       "min        1.000000\n",
       "25%             NaN\n",
       "50%             NaN\n",
       "75%             NaN\n",
       "max       79.000000\n",
       "Name: Count_MF, dtype: float64"
      ]
     },
     "execution_count": 737,
     "metadata": {},
     "output_type": "execute_result"
    }
   ],
   "source": [
    "user['Count_MF'].describe()"
   ]
  },
  {
   "cell_type": "code",
   "execution_count": 738,
   "metadata": {
    "collapsed": true
   },
   "outputs": [],
   "source": [
    "#Set 0 for clients with no mutual funds\n",
    "user['Count_MF'].fillna(0,inplace=True)"
   ]
  },
  {
   "cell_type": "code",
   "execution_count": 739,
   "metadata": {
    "collapsed": false
   },
   "outputs": [
    {
     "data": {
      "image/png": "[encoded data removed]",
      "text/plain": [
       "<matplotlib.figure.Figure at 0x7fe3a3d009b0>"
      ]
     },
     "metadata": {},
     "output_type": "display_data"
    }
   ],
   "source": [
    "plt.hist(user['Count_MF'])\n",
    "plt.show()"
   ]
  },
  {
   "cell_type": "markdown",
   "metadata": {},
   "source": [
    "## Count_OVD"
   ]
  },
  {
   "cell_type": "code",
   "execution_count": 740,
   "metadata": {
    "collapsed": false
   },
   "outputs": [
    {
     "name": "stderr",
     "output_type": "stream",
     "text": [
      "/home/nico/.local/lib/python3.5/site-packages/numpy/lib/function_base.py:4116: RuntimeWarning: Invalid value encountered in percentile\n",
      "  interpolation=interpolation)\n"
     ]
    },
    {
     "data": {
      "text/plain": [
       "count    419.0\n",
       "mean       1.0\n",
       "std        0.0\n",
       "min        1.0\n",
       "25%        NaN\n",
       "50%        NaN\n",
       "75%        NaN\n",
       "max        1.0\n",
       "Name: Count_OVD, dtype: float64"
      ]
     },
     "execution_count": 740,
     "metadata": {},
     "output_type": "execute_result"
    }
   ],
   "source": [
    "user['Count_OVD'].describe()"
   ]
  },
  {
   "cell_type": "code",
   "execution_count": 741,
   "metadata": {
    "collapsed": true
   },
   "outputs": [],
   "source": [
    "user['Count_OVD'].fillna(0,inplace=True)"
   ]
  },
  {
   "cell_type": "code",
   "execution_count": 742,
   "metadata": {
    "collapsed": false
   },
   "outputs": [
    {
     "data": {
      "text/plain": [
       "count    1587.000000\n",
       "mean        0.264020\n",
       "std         0.440949\n",
       "min         0.000000\n",
       "25%         0.000000\n",
       "50%         0.000000\n",
       "75%         1.000000\n",
       "max         1.000000\n",
       "Name: Count_OVD, dtype: float64"
      ]
     },
     "execution_count": 742,
     "metadata": {},
     "output_type": "execute_result"
    }
   ],
   "source": [
    "user['Count_OVD'].describe()"
   ]
  },
  {
   "cell_type": "code",
   "execution_count": 743,
   "metadata": {
    "collapsed": false
   },
   "outputs": [
    {
     "data": {
      "image/png": "[encoded data removed]",
      "text/plain": [
       "<matplotlib.figure.Figure at 0x7fe3a3c44748>"
      ]
     },
     "metadata": {},
     "output_type": "display_data"
    }
   ],
   "source": [
    "plt.hist(user['Count_OVD'], bins=2)\n",
    "plt.show()"
   ]
  },
  {
   "cell_type": "markdown",
   "metadata": {},
   "source": [
    "## Count_CC"
   ]
  },
  {
   "cell_type": "code",
   "execution_count": 744,
   "metadata": {
    "collapsed": false
   },
   "outputs": [
    {
     "name": "stderr",
     "output_type": "stream",
     "text": [
      "/home/nico/.local/lib/python3.5/site-packages/numpy/lib/function_base.py:4116: RuntimeWarning: Invalid value encountered in percentile\n",
      "  interpolation=interpolation)\n"
     ]
    },
    {
     "data": {
      "text/plain": [
       "count    170.0\n",
       "mean       1.0\n",
       "std        0.0\n",
       "min        1.0\n",
       "25%        NaN\n",
       "50%        NaN\n",
       "75%        NaN\n",
       "max        1.0\n",
       "Name: Count_CC, dtype: float64"
      ]
     },
     "execution_count": 744,
     "metadata": {},
     "output_type": "execute_result"
    }
   ],
   "source": [
    "user['Count_CC'].describe()"
   ]
  },
  {
   "cell_type": "code",
   "execution_count": 745,
   "metadata": {
    "collapsed": true
   },
   "outputs": [],
   "source": [
    "user['Count_CC'].fillna(0,inplace=True)"
   ]
  },
  {
   "cell_type": "code",
   "execution_count": 746,
   "metadata": {
    "collapsed": false
   },
   "outputs": [
    {
     "data": {
      "text/plain": [
       "count    1587.000000\n",
       "mean        0.107120\n",
       "std         0.309364\n",
       "min         0.000000\n",
       "25%         0.000000\n",
       "50%         0.000000\n",
       "75%         0.000000\n",
       "max         1.000000\n",
       "Name: Count_CC, dtype: float64"
      ]
     },
     "execution_count": 746,
     "metadata": {},
     "output_type": "execute_result"
    }
   ],
   "source": [
    "user['Count_CC'].describe()"
   ]
  },
  {
   "cell_type": "code",
   "execution_count": 747,
   "metadata": {
    "collapsed": false
   },
   "outputs": [
    {
     "data": {
      "image/png": "[encoded data removed]",
      "text/plain": [
       "<matplotlib.figure.Figure at 0x7fe3a37783c8>"
      ]
     },
     "metadata": {},
     "output_type": "display_data"
    }
   ],
   "source": [
    "plt.hist(user['Count_CC'], bins=2)\n",
    "plt.show()"
   ]
  },
  {
   "cell_type": "markdown",
   "metadata": {},
   "source": [
    "## Count_CL"
   ]
  },
  {
   "cell_type": "code",
   "execution_count": 748,
   "metadata": {
    "collapsed": false
   },
   "outputs": [
    {
     "name": "stderr",
     "output_type": "stream",
     "text": [
      "/home/nico/.local/lib/python3.5/site-packages/numpy/lib/function_base.py:4116: RuntimeWarning: Invalid value encountered in percentile\n",
      "  interpolation=interpolation)\n"
     ]
    },
    {
     "data": {
      "text/plain": [
       "count    135.000000\n",
       "mean       1.185185\n",
       "std        0.520980\n",
       "min        1.000000\n",
       "25%             NaN\n",
       "50%             NaN\n",
       "75%             NaN\n",
       "max        5.000000\n",
       "Name: Count_CL, dtype: float64"
      ]
     },
     "execution_count": 748,
     "metadata": {},
     "output_type": "execute_result"
    }
   ],
   "source": [
    "user['Count_CL'].describe()"
   ]
  },
  {
   "cell_type": "code",
   "execution_count": 749,
   "metadata": {
    "collapsed": true
   },
   "outputs": [],
   "source": [
    "#remove outliers\n",
    "user = user.loc[user['Count_CL'] != 5]"
   ]
  },
  {
   "cell_type": "code",
   "execution_count": 750,
   "metadata": {
    "collapsed": true
   },
   "outputs": [],
   "source": [
    "user['Count_CL'].fillna(0,inplace=True)"
   ]
  },
  {
   "cell_type": "code",
   "execution_count": 751,
   "metadata": {
    "collapsed": false
   },
   "outputs": [
    {
     "data": {
      "image/png": "[encoded data removed]",
      "text/plain": [
       "<matplotlib.figure.Figure at 0x7fe3a381ae48>"
      ]
     },
     "metadata": {},
     "output_type": "display_data"
    }
   ],
   "source": [
    "plt.hist(user['Count_CL'])\n",
    "plt.show()"
   ]
  },
  {
   "cell_type": "markdown",
   "metadata": {},
   "source": [
    "## ActBal_CA"
   ]
  },
  {
   "cell_type": "code",
   "execution_count": 752,
   "metadata": {
    "collapsed": false
   },
   "outputs": [
    {
     "data": {
      "text/plain": [
       "count      1586.000000\n",
       "mean       2454.532665\n",
       "std        7112.686401\n",
       "min           0.000000\n",
       "25%          61.942679\n",
       "50%         465.076964\n",
       "75%        2179.794107\n",
       "max      171575.889600\n",
       "Name: ActBal_CA, dtype: float64"
      ]
     },
     "execution_count": 752,
     "metadata": {},
     "output_type": "execute_result"
    }
   ],
   "source": [
    "user['ActBal_CA'].describe()"
   ]
  },
  {
   "cell_type": "code",
   "execution_count": 753,
   "metadata": {
    "collapsed": false
   },
   "outputs": [
    {
     "data": {
      "text/plain": [
       "Client\n",
       "1414    171575.88960\n",
       "230      74934.95607\n",
       "210      60226.14179\n",
       "1000     55934.02036\n",
       "1406     55383.79786\n",
       "Name: ActBal_CA, dtype: float64"
      ]
     },
     "execution_count": 753,
     "metadata": {},
     "output_type": "execute_result"
    }
   ],
   "source": [
    "user['ActBal_CA'].sort_values(ascending = False).head()"
   ]
  },
  {
   "cell_type": "code",
   "execution_count": 754,
   "metadata": {
    "collapsed": true
   },
   "outputs": [],
   "source": [
    "#remove outliers\n",
    "user = user.loc[user['ActBal_CA']<171575]"
   ]
  },
  {
   "cell_type": "code",
   "execution_count": 755,
   "metadata": {
    "collapsed": false
   },
   "outputs": [
    {
     "data": {
      "image/png": "[encoded data removed]",
      "text/plain": [
       "<matplotlib.figure.Figure at 0x7fe3a38f4ba8>"
      ]
     },
     "metadata": {},
     "output_type": "display_data"
    }
   ],
   "source": [
    "plt.hist(user['ActBal_CA'])\n",
    "plt.show()"
   ]
  },
  {
   "cell_type": "code",
   "execution_count": 756,
   "metadata": {
    "collapsed": true
   },
   "outputs": [],
   "source": [
    "#Add column based on average per account\n",
    "user = user.assign(Actbal_CA_avg = lambda x:x.ActBal_CA/x.Count_CA)\n",
    "\n"
   ]
  },
  {
   "cell_type": "markdown",
   "metadata": {},
   "source": [
    "## ActBal_SA"
   ]
  },
  {
   "cell_type": "code",
   "execution_count": 757,
   "metadata": {
    "collapsed": false
   },
   "outputs": [
    {
     "name": "stderr",
     "output_type": "stream",
     "text": [
      "/home/nico/.local/lib/python3.5/site-packages/numpy/lib/function_base.py:4116: RuntimeWarning: Invalid value encountered in percentile\n",
      "  interpolation=interpolation)\n"
     ]
    },
    {
     "data": {
      "text/plain": [
       "count       425.000000\n",
       "mean      15220.090524\n",
       "std       32401.055154\n",
       "min           0.000000\n",
       "25%                NaN\n",
       "50%                NaN\n",
       "75%                NaN\n",
       "max      389883.830700\n",
       "Name: ActBal_SA, dtype: float64"
      ]
     },
     "execution_count": 757,
     "metadata": {},
     "output_type": "execute_result"
    }
   ],
   "source": [
    "user['ActBal_SA'].describe()"
   ]
  },
  {
   "cell_type": "code",
   "execution_count": 758,
   "metadata": {
    "collapsed": false
   },
   "outputs": [
    {
     "data": {
      "text/plain": [
       "Client\n",
       "219    389883.8307\n",
       "352    219368.6464\n",
       "197    191591.1896\n",
       "21     173499.8629\n",
       "322    128617.5911\n",
       "Name: ActBal_SA, dtype: float64"
      ]
     },
     "execution_count": 758,
     "metadata": {},
     "output_type": "execute_result"
    }
   ],
   "source": [
    "user['ActBal_SA'].sort_values(ascending = False).head()"
   ]
  },
  {
   "cell_type": "code",
   "execution_count": 759,
   "metadata": {
    "collapsed": true
   },
   "outputs": [],
   "source": [
    "user['ActBal_SA'].fillna(0,inplace=True)"
   ]
  },
  {
   "cell_type": "code",
   "execution_count": 760,
   "metadata": {
    "collapsed": true
   },
   "outputs": [],
   "source": [
    "#remove outliers\n",
    "user = user.loc[user['ActBal_SA']<389883]"
   ]
  },
  {
   "cell_type": "code",
   "execution_count": 761,
   "metadata": {
    "collapsed": false
   },
   "outputs": [
    {
     "data": {
      "image/png": "[encoded data removed]",
      "text/plain": [
       "<matplotlib.figure.Figure at 0x7fe3a37cc6d8>"
      ]
     },
     "metadata": {},
     "output_type": "display_data"
    }
   ],
   "source": [
    "plt.hist(user['ActBal_SA'])\n",
    "plt.show()"
   ]
  },
  {
   "cell_type": "code",
   "execution_count": 762,
   "metadata": {
    "collapsed": true
   },
   "outputs": [],
   "source": [
    "#Add column based on average per account\n",
    "user = user.assign(ActBal_SA_avg = lambda x:x.ActBal_SA/x.Count_SA)\n",
    "user['ActBal_SA_avg'].fillna(0,inplace=True)"
   ]
  },
  {
   "cell_type": "markdown",
   "metadata": {},
   "source": [
    "## ActBal_MF"
   ]
  },
  {
   "cell_type": "code",
   "execution_count": 763,
   "metadata": {
    "collapsed": false
   },
   "outputs": [
    {
     "name": "stderr",
     "output_type": "stream",
     "text": [
      "/home/nico/.local/lib/python3.5/site-packages/numpy/lib/function_base.py:4116: RuntimeWarning: Invalid value encountered in percentile\n",
      "  interpolation=interpolation)\n"
     ]
    },
    {
     "data": {
      "text/plain": [
       "count       304.000000\n",
       "mean      20596.959524\n",
       "std       78296.103759\n",
       "min           0.000000\n",
       "25%                NaN\n",
       "50%                NaN\n",
       "75%                NaN\n",
       "max      761235.504300\n",
       "Name: ActBal_MF, dtype: float64"
      ]
     },
     "execution_count": 763,
     "metadata": {},
     "output_type": "execute_result"
    }
   ],
   "source": [
    "user['ActBal_MF'].describe()"
   ]
  },
  {
   "cell_type": "code",
   "execution_count": 764,
   "metadata": {
    "collapsed": false
   },
   "outputs": [
    {
     "data": {
      "text/plain": [
       "Client\n",
       "678     761235.50430\n",
       "314     714285.71430\n",
       "775     579084.10790\n",
       "543     446183.42320\n",
       "1118    314723.16500\n",
       "239     227237.10430\n",
       "324     202941.60890\n",
       "643     181931.54710\n",
       "1041    178571.42860\n",
       "1329     90062.94607\n",
       "Name: ActBal_MF, dtype: float64"
      ]
     },
     "execution_count": 764,
     "metadata": {},
     "output_type": "execute_result"
    }
   ],
   "source": [
    "user['ActBal_MF'].sort_values(ascending = False).head(10)"
   ]
  },
  {
   "cell_type": "code",
   "execution_count": 765,
   "metadata": {
    "collapsed": true
   },
   "outputs": [],
   "source": [
    "user['ActBal_MF'].fillna(0,inplace=True)"
   ]
  },
  {
   "cell_type": "code",
   "execution_count": 766,
   "metadata": {
    "collapsed": false
   },
   "outputs": [
    {
     "data": {
      "image/png": "[encoded data removed]",
      "text/plain": [
       "<matplotlib.figure.Figure at 0x7fe3a37467b8>"
      ]
     },
     "metadata": {},
     "output_type": "display_data"
    }
   ],
   "source": [
    "plt.hist(user['ActBal_MF'])\n",
    "plt.show()"
   ]
  },
  {
   "cell_type": "code",
   "execution_count": 767,
   "metadata": {
    "collapsed": true
   },
   "outputs": [],
   "source": [
    "#Add column based on average per account\n",
    "user = user.assign(ActBal_MF_avg = lambda x:x.ActBal_MF/x.Count_MF)\n",
    "user['ActBal_MF_avg'].fillna(0,inplace=True)"
   ]
  },
  {
   "cell_type": "markdown",
   "metadata": {},
   "source": [
    "## ActBal_OVD"
   ]
  },
  {
   "cell_type": "code",
   "execution_count": 768,
   "metadata": {
    "collapsed": false
   },
   "outputs": [
    {
     "name": "stderr",
     "output_type": "stream",
     "text": [
      "/home/nico/.local/lib/python3.5/site-packages/numpy/lib/function_base.py:4116: RuntimeWarning: Invalid value encountered in percentile\n",
      "  interpolation=interpolation)\n"
     ]
    },
    {
     "data": {
      "text/plain": [
       "count     419.000000\n",
       "mean      126.449897\n",
       "std       290.573266\n",
       "min         0.000000\n",
       "25%              NaN\n",
       "50%              NaN\n",
       "75%              NaN\n",
       "max      2055.325357\n",
       "Name: ActBal_OVD, dtype: float64"
      ]
     },
     "execution_count": 768,
     "metadata": {},
     "output_type": "execute_result"
    }
   ],
   "source": [
    "user['ActBal_OVD'].describe()"
   ]
  },
  {
   "cell_type": "code",
   "execution_count": 769,
   "metadata": {
    "collapsed": false
   },
   "outputs": [
    {
     "data": {
      "text/plain": [
       "Client\n",
       "1117    2055.325357\n",
       "1130    1776.065357\n",
       "1464    1670.280714\n",
       "1467    1568.879643\n",
       "747     1459.457143\n",
       "41      1373.342857\n",
       "1263    1211.621071\n",
       "1519    1076.430357\n",
       "1576    1031.077143\n",
       "1378    1019.002500\n",
       "Name: ActBal_OVD, dtype: float64"
      ]
     },
     "execution_count": 769,
     "metadata": {},
     "output_type": "execute_result"
    }
   ],
   "source": [
    "user['ActBal_OVD'].sort_values(ascending = False).head(10)"
   ]
  },
  {
   "cell_type": "code",
   "execution_count": 770,
   "metadata": {
    "collapsed": true
   },
   "outputs": [],
   "source": [
    "user['ActBal_OVD'].fillna(0,inplace=True)"
   ]
  },
  {
   "cell_type": "code",
   "execution_count": 771,
   "metadata": {
    "collapsed": false
   },
   "outputs": [
    {
     "data": {
      "image/png": "[encoded data removed]",
      "text/plain": [
       "<matplotlib.figure.Figure at 0x7fe3a381b320>"
      ]
     },
     "metadata": {},
     "output_type": "display_data"
    }
   ],
   "source": [
    "plt.hist(user['ActBal_OVD'])\n",
    "plt.show()"
   ]
  },
  {
   "cell_type": "code",
   "execution_count": 772,
   "metadata": {
    "collapsed": true
   },
   "outputs": [],
   "source": [
    "#Add column based on average per account\n",
    "user = user.assign(ActBal_OVD_avg = lambda x:x.ActBal_OVD/x.Count_OVD)\n",
    "user['ActBal_OVD_avg'].fillna(0,inplace=True)"
   ]
  },
  {
   "cell_type": "markdown",
   "metadata": {},
   "source": [
    "## ActBal_CC"
   ]
  },
  {
   "cell_type": "code",
   "execution_count": 773,
   "metadata": {
    "collapsed": false
   },
   "outputs": [
    {
     "name": "stderr",
     "output_type": "stream",
     "text": [
      "/home/nico/.local/lib/python3.5/site-packages/numpy/lib/function_base.py:4116: RuntimeWarning: Invalid value encountered in percentile\n",
      "  interpolation=interpolation)\n"
     ]
    },
    {
     "data": {
      "text/plain": [
       "count     169.000000\n",
       "mean      353.360218\n",
       "std       487.378762\n",
       "min       -15.479286\n",
       "25%              NaN\n",
       "50%              NaN\n",
       "75%              NaN\n",
       "max      3522.233571\n",
       "Name: ActBal_CC, dtype: float64"
      ]
     },
     "execution_count": 773,
     "metadata": {},
     "output_type": "execute_result"
    }
   ],
   "source": [
    "user['ActBal_CC'].describe()"
   ]
  },
  {
   "cell_type": "code",
   "execution_count": 774,
   "metadata": {
    "collapsed": false
   },
   "outputs": [
    {
     "data": {
      "text/plain": [
       "Client\n",
       "214     3522.233571\n",
       "1098    2382.946071\n",
       "1429    1767.785357\n",
       "763     1529.058929\n",
       "1510    1400.918571\n",
       "571     1223.214286\n",
       "1494    1202.720357\n",
       "916     1188.786786\n",
       "4       1110.381786\n",
       "796     1109.505714\n",
       "Name: ActBal_CC, dtype: float64"
      ]
     },
     "execution_count": 774,
     "metadata": {},
     "output_type": "execute_result"
    }
   ],
   "source": [
    "user['ActBal_CC'].sort_values(ascending = False).head(10)"
   ]
  },
  {
   "cell_type": "code",
   "execution_count": 775,
   "metadata": {
    "collapsed": true
   },
   "outputs": [],
   "source": [
    "user['ActBal_CC'].fillna(0,inplace=True)\n"
   ]
  },
  {
   "cell_type": "code",
   "execution_count": 776,
   "metadata": {
    "collapsed": false
   },
   "outputs": [
    {
     "data": {
      "image/png": "[encoded data removed]",
      "text/plain": [
       "<matplotlib.figure.Figure at 0x7fe3a359de10>"
      ]
     },
     "metadata": {},
     "output_type": "display_data"
    }
   ],
   "source": [
    "plt.hist(user['ActBal_CC'])\n",
    "plt.show()"
   ]
  },
  {
   "cell_type": "code",
   "execution_count": 777,
   "metadata": {
    "collapsed": true
   },
   "outputs": [],
   "source": [
    "#Add column based on average per account\n",
    "user = user.assign(ActBal_CC_avg = lambda x:x.ActBal_CC/x.Count_CC)\n",
    "user['ActBal_CC_avg'].fillna(0,inplace=True)"
   ]
  },
  {
   "cell_type": "markdown",
   "metadata": {},
   "source": [
    "## ActBal_CL"
   ]
  },
  {
   "cell_type": "code",
   "execution_count": 778,
   "metadata": {
    "collapsed": false
   },
   "outputs": [
    {
     "name": "stderr",
     "output_type": "stream",
     "text": [
      "/home/nico/.local/lib/python3.5/site-packages/numpy/lib/function_base.py:4116: RuntimeWarning: Invalid value encountered in percentile\n",
      "  interpolation=interpolation)\n"
     ]
    },
    {
     "data": {
      "text/plain": [
       "count      134.000000\n",
       "mean      4258.023627\n",
       "std       4176.011324\n",
       "min          0.000000\n",
       "25%               NaN\n",
       "50%               NaN\n",
       "75%               NaN\n",
       "max      20749.294640\n",
       "Name: ActBal_CL, dtype: float64"
      ]
     },
     "execution_count": 778,
     "metadata": {},
     "output_type": "execute_result"
    }
   ],
   "source": [
    "user['ActBal_CL'].describe()"
   ]
  },
  {
   "cell_type": "code",
   "execution_count": 779,
   "metadata": {
    "collapsed": false
   },
   "outputs": [
    {
     "data": {
      "text/plain": [
       "Client\n",
       "175     20749.29464\n",
       "113     17300.48964\n",
       "14      17062.32429\n",
       "32      14708.57143\n",
       "342     14516.52429\n",
       "174     14233.63607\n",
       "948     13012.38571\n",
       "1499    12738.25536\n",
       "914     12567.02571\n",
       "1387    11462.72036\n",
       "Name: ActBal_CL, dtype: float64"
      ]
     },
     "execution_count": 779,
     "metadata": {},
     "output_type": "execute_result"
    }
   ],
   "source": [
    "user['ActBal_CL'].sort_values(ascending = False).head(10)"
   ]
  },
  {
   "cell_type": "code",
   "execution_count": 780,
   "metadata": {
    "collapsed": true
   },
   "outputs": [],
   "source": [
    "user['ActBal_CL'].fillna(0,inplace=True)"
   ]
  },
  {
   "cell_type": "code",
   "execution_count": 781,
   "metadata": {
    "collapsed": false
   },
   "outputs": [
    {
     "data": {
      "image/png": "[encoded data removed]",
      "text/plain": [
       "<matplotlib.figure.Figure at 0x7fe3a3e2bfd0>"
      ]
     },
     "metadata": {},
     "output_type": "display_data"
    }
   ],
   "source": [
    "plt.hist(user['ActBal_CL'])\n",
    "plt.show()"
   ]
  },
  {
   "cell_type": "code",
   "execution_count": 782,
   "metadata": {
    "collapsed": true
   },
   "outputs": [],
   "source": [
    "#Add column based on average per account\n",
    "user = user.assign(ActBal_CL_avg = lambda x:x.ActBal_CL/x.Count_CL)\n",
    "user['ActBal_CL_avg'].fillna(0,inplace=True)"
   ]
  },
  {
   "cell_type": "markdown",
   "metadata": {},
   "source": [
    "## VolumeCred"
   ]
  },
  {
   "cell_type": "code",
   "execution_count": 783,
   "metadata": {
    "collapsed": false
   },
   "outputs": [
    {
     "data": {
      "text/plain": [
       "count      1584.000000\n",
       "mean       1803.287765\n",
       "std        5817.013475\n",
       "min           0.000000\n",
       "25%         252.175357\n",
       "50%         655.146429\n",
       "75%        1418.570000\n",
       "max      107703.804300\n",
       "Name: VolumeCred, dtype: float64"
      ]
     },
     "execution_count": 783,
     "metadata": {},
     "output_type": "execute_result"
    }
   ],
   "source": [
    "user['VolumeCred'].describe()"
   ]
  },
  {
   "cell_type": "code",
   "execution_count": 784,
   "metadata": {
    "collapsed": false
   },
   "outputs": [
    {
     "data": {
      "text/plain": [
       "Client\n",
       "424     107703.80430\n",
       "984      98717.67500\n",
       "1077     90124.60964\n",
       "924      68371.54214\n",
       "506      46756.54071\n",
       "302      43319.25464\n",
       "1538     35830.19286\n",
       "1373     33409.29357\n",
       "110      32975.32607\n",
       "327      29709.15321\n",
       "Name: VolumeCred, dtype: float64"
      ]
     },
     "execution_count": 784,
     "metadata": {},
     "output_type": "execute_result"
    }
   ],
   "source": [
    "user['VolumeCred'].sort_values(ascending = False).head(10)"
   ]
  },
  {
   "cell_type": "code",
   "execution_count": 785,
   "metadata": {
    "collapsed": false
   },
   "outputs": [
    {
     "data": {
      "image/png": "[encoded data removed]",
      "text/plain": [
       "<matplotlib.figure.Figure at 0x7fe3a38caa20>"
      ]
     },
     "metadata": {},
     "output_type": "display_data"
    }
   ],
   "source": [
    "plt.hist(user['VolumeCred'])\n",
    "plt.show()"
   ]
  },
  {
   "cell_type": "markdown",
   "metadata": {},
   "source": [
    "## VolumeCred_CA"
   ]
  },
  {
   "cell_type": "code",
   "execution_count": 786,
   "metadata": {
    "collapsed": false
   },
   "outputs": [
    {
     "data": {
      "text/plain": [
       "count     1584.000000\n",
       "mean      1502.907237\n",
       "std       4662.823212\n",
       "min          0.000000\n",
       "25%        214.289464\n",
       "50%        620.555357\n",
       "75%       1301.173125\n",
       "max      98717.675000\n",
       "Name: VolumeCred_CA, dtype: float64"
      ]
     },
     "execution_count": 786,
     "metadata": {},
     "output_type": "execute_result"
    }
   ],
   "source": [
    "user['VolumeCred_CA'].describe()"
   ]
  },
  {
   "cell_type": "code",
   "execution_count": 787,
   "metadata": {
    "collapsed": false
   },
   "outputs": [
    {
     "data": {
      "text/plain": [
       "Client\n",
       "984     98717.67500\n",
       "1077    68667.55250\n",
       "924     66908.95107\n",
       "424     54128.37929\n",
       "506     46714.29214\n",
       "1373    33409.29357\n",
       "197     29178.26893\n",
       "766     25314.01286\n",
       "1584    23091.72786\n",
       "302     21797.60929\n",
       "Name: VolumeCred_CA, dtype: float64"
      ]
     },
     "execution_count": 787,
     "metadata": {},
     "output_type": "execute_result"
    }
   ],
   "source": [
    "user['VolumeCred_CA'].sort_values(ascending = False).head(10)"
   ]
  },
  {
   "cell_type": "code",
   "execution_count": 788,
   "metadata": {
    "collapsed": true
   },
   "outputs": [],
   "source": [
    "#remove outliers\n",
    "user = user.loc[user['VolumeCred_CA']<98717]"
   ]
  },
  {
   "cell_type": "code",
   "execution_count": 789,
   "metadata": {
    "collapsed": false
   },
   "outputs": [
    {
     "data": {
      "image/png": "[encoded data removed]",
      "text/plain": [
       "<matplotlib.figure.Figure at 0x7fe3a37276a0>"
      ]
     },
     "metadata": {},
     "output_type": "display_data"
    }
   ],
   "source": [
    "plt.hist(user['VolumeCred_CA'])\n",
    "plt.show()"
   ]
  },
  {
   "cell_type": "markdown",
   "metadata": {},
   "source": [
    "## TransactionsCred"
   ]
  },
  {
   "cell_type": "code",
   "execution_count": 790,
   "metadata": {
    "collapsed": false
   },
   "outputs": [
    {
     "data": {
      "text/plain": [
       "count    1583.000000\n",
       "mean        5.536323\n",
       "std         6.361013\n",
       "min         0.000000\n",
       "25%         2.000000\n",
       "50%         3.000000\n",
       "75%         6.000000\n",
       "max        63.000000\n",
       "Name: TransactionsCred, dtype: float64"
      ]
     },
     "execution_count": 790,
     "metadata": {},
     "output_type": "execute_result"
    }
   ],
   "source": [
    "user['TransactionsCred'].describe()"
   ]
  },
  {
   "cell_type": "code",
   "execution_count": 791,
   "metadata": {
    "collapsed": false
   },
   "outputs": [
    {
     "data": {
      "text/plain": [
       "Client\n",
       "491     63\n",
       "153     56\n",
       "697     44\n",
       "210     43\n",
       "1151    42\n",
       "1104    40\n",
       "1220    39\n",
       "775     39\n",
       "102     38\n",
       "756     37\n",
       "Name: TransactionsCred, dtype: int64"
      ]
     },
     "execution_count": 791,
     "metadata": {},
     "output_type": "execute_result"
    }
   ],
   "source": [
    "user['TransactionsCred'].sort_values(ascending = False).head(10)"
   ]
  },
  {
   "cell_type": "code",
   "execution_count": 792,
   "metadata": {
    "collapsed": true
   },
   "outputs": [],
   "source": [
    "#remove outliers\n",
    "user = user.loc[user['TransactionsCred']<63]"
   ]
  },
  {
   "cell_type": "code",
   "execution_count": 793,
   "metadata": {
    "collapsed": false
   },
   "outputs": [
    {
     "data": {
      "image/png": "[encoded data removed]",
      "text/plain": [
       "<matplotlib.figure.Figure at 0x7fe3a3696550>"
      ]
     },
     "metadata": {},
     "output_type": "display_data"
    }
   ],
   "source": [
    "plt.hist(user['TransactionsCred'])\n",
    "plt.show()"
   ]
  },
  {
   "cell_type": "markdown",
   "metadata": {},
   "source": [
    "## TransactionsCred_CA"
   ]
  },
  {
   "cell_type": "code",
   "execution_count": 794,
   "metadata": {
    "collapsed": false
   },
   "outputs": [
    {
     "data": {
      "text/plain": [
       "count    1582.000000\n",
       "mean        4.234513\n",
       "std         4.826005\n",
       "min         0.000000\n",
       "25%         2.000000\n",
       "50%         3.000000\n",
       "75%         4.000000\n",
       "max        37.000000\n",
       "Name: TransactionsCred_CA, dtype: float64"
      ]
     },
     "execution_count": 794,
     "metadata": {},
     "output_type": "execute_result"
    }
   ],
   "source": [
    "user['TransactionsCred_CA'].describe()"
   ]
  },
  {
   "cell_type": "code",
   "execution_count": 795,
   "metadata": {
    "collapsed": false
   },
   "outputs": [
    {
     "data": {
      "text/plain": [
       "Client\n",
       "153     37\n",
       "1373    36\n",
       "1151    35\n",
       "1220    33\n",
       "102     33\n",
       "697     33\n",
       "1179    32\n",
       "583     30\n",
       "756     30\n",
       "668     30\n",
       "Name: TransactionsCred_CA, dtype: int64"
      ]
     },
     "execution_count": 795,
     "metadata": {},
     "output_type": "execute_result"
    }
   ],
   "source": [
    "user['TransactionsCred_CA'].sort_values(ascending = False).head(10)"
   ]
  },
  {
   "cell_type": "code",
   "execution_count": 796,
   "metadata": {
    "collapsed": false
   },
   "outputs": [],
   "source": [
    "#remove outliers\n",
    "user = user.loc[user['TransactionsCred_CA']<48]"
   ]
  },
  {
   "cell_type": "code",
   "execution_count": 797,
   "metadata": {
    "collapsed": true
   },
   "outputs": [],
   "source": [
    "#user['TransactionsCred_CA']=np.sqrt(user['TransactionsCred_CA']+1)"
   ]
  },
  {
   "cell_type": "code",
   "execution_count": 798,
   "metadata": {
    "collapsed": false
   },
   "outputs": [
    {
     "data": {
      "image/png": "[encoded data removed]",
      "text/plain": [
       "<matplotlib.figure.Figure at 0x7fe3a3a1d0b8>"
      ]
     },
     "metadata": {},
     "output_type": "display_data"
    }
   ],
   "source": [
    "plt.hist(user['TransactionsCred_CA'])\n",
    "plt.show()"
   ]
  },
  {
   "cell_type": "markdown",
   "metadata": {},
   "source": [
    "## VolumeDeb"
   ]
  },
  {
   "cell_type": "code",
   "execution_count": 799,
   "metadata": {
    "collapsed": false
   },
   "outputs": [
    {
     "data": {
      "text/plain": [
       "count      1582.000000\n",
       "mean       1642.850451\n",
       "std        4983.535106\n",
       "min           0.000000\n",
       "25%         224.946607\n",
       "50%         653.247857\n",
       "75%        1410.717768\n",
       "max      119906.503900\n",
       "Name: VolumeDeb, dtype: float64"
      ]
     },
     "execution_count": 799,
     "metadata": {},
     "output_type": "execute_result"
    }
   ],
   "source": [
    "user['VolumeDeb'].describe()"
   ]
  },
  {
   "cell_type": "code",
   "execution_count": 800,
   "metadata": {
    "collapsed": false
   },
   "outputs": [
    {
     "data": {
      "text/plain": [
       "Client\n",
       "1077    119906.50390\n",
       "924      64608.36143\n",
       "424      59500.93250\n",
       "1373     44078.18393\n",
       "1289     38436.78107\n",
       "1538     35714.28571\n",
       "873      35196.56643\n",
       "197      30910.96429\n",
       "327      30555.35750\n",
       "1455     28189.35000\n",
       "Name: VolumeDeb, dtype: float64"
      ]
     },
     "execution_count": 800,
     "metadata": {},
     "output_type": "execute_result"
    }
   ],
   "source": [
    "user['VolumeDeb'].sort_values(ascending = False).head(10)"
   ]
  },
  {
   "cell_type": "code",
   "execution_count": 801,
   "metadata": {
    "collapsed": true
   },
   "outputs": [],
   "source": [
    "#remove outliers\n",
    "user = user.loc[user['VolumeDeb']<119906]"
   ]
  },
  {
   "cell_type": "code",
   "execution_count": 802,
   "metadata": {
    "collapsed": false
   },
   "outputs": [
    {
     "data": {
      "image/png": "[encoded data removed]",
      "text/plain": [
       "<matplotlib.figure.Figure at 0x7fe3a370cf98>"
      ]
     },
     "metadata": {},
     "output_type": "display_data"
    }
   ],
   "source": [
    "plt.hist(user['VolumeDeb'])\n",
    "plt.show()"
   ]
  },
  {
   "cell_type": "markdown",
   "metadata": {},
   "source": [
    "## VolumeDeb_CA"
   ]
  },
  {
   "cell_type": "code",
   "execution_count": 803,
   "metadata": {
    "collapsed": false
   },
   "outputs": [
    {
     "data": {
      "text/plain": [
       "count     1581.000000\n",
       "mean      1360.785063\n",
       "std       3601.428241\n",
       "min          0.000000\n",
       "25%        211.320714\n",
       "50%        627.239286\n",
       "75%       1317.101429\n",
       "max      64178.185360\n",
       "Name: VolumeDeb_CA, dtype: float64"
      ]
     },
     "execution_count": 803,
     "metadata": {},
     "output_type": "execute_result"
    }
   ],
   "source": [
    "user['VolumeDeb_CA'].describe()"
   ]
  },
  {
   "cell_type": "code",
   "execution_count": 804,
   "metadata": {
    "collapsed": false
   },
   "outputs": [
    {
     "data": {
      "text/plain": [
       "Client\n",
       "924     64178.18536\n",
       "424     59500.93250\n",
       "1373    44078.18393\n",
       "1538    35714.28571\n",
       "873     35196.56643\n",
       "197     30910.96429\n",
       "1455    28189.35000\n",
       "1584    27026.03571\n",
       "1590    24382.80286\n",
       "302     22936.42500\n",
       "Name: VolumeDeb_CA, dtype: float64"
      ]
     },
     "execution_count": 804,
     "metadata": {},
     "output_type": "execute_result"
    }
   ],
   "source": [
    "user['VolumeDeb_CA'].sort_values(ascending = False).head(10)"
   ]
  },
  {
   "cell_type": "code",
   "execution_count": 805,
   "metadata": {
    "collapsed": true
   },
   "outputs": [],
   "source": [
    "#remove outliers\n",
    "#user.drop(user[np.abs(user.VolumeDeb_CA-user.VolumeDeb_CA.mean())>(3*user.VolumeDeb_CA.std())].index.values, inplace = True)"
   ]
  },
  {
   "cell_type": "code",
   "execution_count": 806,
   "metadata": {
    "collapsed": true
   },
   "outputs": [],
   "source": [
    "#user['VolumeDeb_CA']=np.sqrt(user['VolumeDeb_CA']+1)"
   ]
  },
  {
   "cell_type": "code",
   "execution_count": 807,
   "metadata": {
    "collapsed": false
   },
   "outputs": [
    {
     "data": {
      "image/png": "[encoded data removed]",
      "text/plain": [
       "<matplotlib.figure.Figure at 0x7fe3a3531e48>"
      ]
     },
     "metadata": {},
     "output_type": "display_data"
    }
   ],
   "source": [
    "plt.hist(user['VolumeDeb_CA'])\n",
    "plt.show()"
   ]
  },
  {
   "cell_type": "markdown",
   "metadata": {},
   "source": [
    "## VolumeDebCash_Card"
   ]
  },
  {
   "cell_type": "code",
   "execution_count": 808,
   "metadata": {
    "collapsed": false
   },
   "outputs": [
    {
     "data": {
      "text/plain": [
       "count    1581.000000\n",
       "mean      243.693041\n",
       "std       481.699818\n",
       "min         0.000000\n",
       "25%         0.000000\n",
       "50%        71.428571\n",
       "75%       353.571429\n",
       "max      9714.285714\n",
       "Name: VolumeDebCash_Card, dtype: float64"
      ]
     },
     "execution_count": 808,
     "metadata": {},
     "output_type": "execute_result"
    }
   ],
   "source": [
    "user['VolumeDebCash_Card'].describe()"
   ]
  },
  {
   "cell_type": "code",
   "execution_count": 809,
   "metadata": {
    "collapsed": false
   },
   "outputs": [
    {
     "data": {
      "text/plain": [
       "Client\n",
       "243     9714.285714\n",
       "642     6428.571429\n",
       "496     4513.758929\n",
       "734     3535.714286\n",
       "327     3457.142857\n",
       "1224    3271.428571\n",
       "504     2892.857143\n",
       "535     2857.142857\n",
       "1590    2777.428571\n",
       "1231    2250.000000\n",
       "Name: VolumeDebCash_Card, dtype: float64"
      ]
     },
     "execution_count": 809,
     "metadata": {},
     "output_type": "execute_result"
    }
   ],
   "source": [
    "user['VolumeDebCash_Card'].sort_values(ascending = False).head(10)"
   ]
  },
  {
   "cell_type": "code",
   "execution_count": 810,
   "metadata": {
    "collapsed": true
   },
   "outputs": [],
   "source": [
    "#remove outliers\n",
    "user = user.loc[user['VolumeDeb']<23571]"
   ]
  },
  {
   "cell_type": "code",
   "execution_count": 811,
   "metadata": {
    "collapsed": true
   },
   "outputs": [],
   "source": [
    "#user['VolumeDebCash_Card']=np.sqrt(user['VolumeDebCash_Card']+1)"
   ]
  },
  {
   "cell_type": "code",
   "execution_count": 812,
   "metadata": {
    "collapsed": false
   },
   "outputs": [
    {
     "data": {
      "image/png": "[encoded data removed]",
      "text/plain": [
       "<matplotlib.figure.Figure at 0x7fe3a387e978>"
      ]
     },
     "metadata": {},
     "output_type": "display_data"
    }
   ],
   "source": [
    "plt.hist(user['VolumeDebCash_Card'])\n",
    "plt.show()"
   ]
  },
  {
   "cell_type": "markdown",
   "metadata": {},
   "source": [
    "## VolumeDebCashless_Card"
   ]
  },
  {
   "cell_type": "code",
   "execution_count": 813,
   "metadata": {
    "collapsed": false
   },
   "outputs": [
    {
     "data": {
      "text/plain": [
       "count    1570.000000\n",
       "mean      146.581727\n",
       "std       296.735220\n",
       "min         0.000000\n",
       "25%         0.000000\n",
       "50%        19.141071\n",
       "75%       174.450893\n",
       "max      3637.616786\n",
       "Name: VolumeDebCashless_Card, dtype: float64"
      ]
     },
     "execution_count": 813,
     "metadata": {},
     "output_type": "execute_result"
    }
   ],
   "source": [
    "user['VolumeDebCashless_Card'].describe()"
   ]
  },
  {
   "cell_type": "code",
   "execution_count": 814,
   "metadata": {
    "collapsed": false
   },
   "outputs": [
    {
     "data": {
      "text/plain": [
       "Client\n",
       "402     3637.616786\n",
       "408     3335.426071\n",
       "1224    3292.765000\n",
       "200     2470.335714\n",
       "504     2168.025000\n",
       "736     1889.976429\n",
       "210     1805.782500\n",
       "823     1800.720357\n",
       "676     1758.004643\n",
       "1604    1645.366071\n",
       "Name: VolumeDebCashless_Card, dtype: float64"
      ]
     },
     "execution_count": 814,
     "metadata": {},
     "output_type": "execute_result"
    }
   ],
   "source": [
    "user['VolumeDebCashless_Card'].sort_values(ascending = False).head(10)"
   ]
  },
  {
   "cell_type": "code",
   "execution_count": 815,
   "metadata": {
    "collapsed": false
   },
   "outputs": [
    {
     "data": {
      "image/png": "[encoded data removed]",
      "text/plain": [
       "<matplotlib.figure.Figure at 0x7fe3a38f9390>"
      ]
     },
     "metadata": {},
     "output_type": "display_data"
    }
   ],
   "source": [
    "plt.hist(user['VolumeDebCashless_Card'])\n",
    "plt.show()"
   ]
  },
  {
   "cell_type": "markdown",
   "metadata": {},
   "source": [
    "## VolumeDeb_PaymentOrder"
   ]
  },
  {
   "cell_type": "code",
   "execution_count": 816,
   "metadata": {
    "collapsed": false
   },
   "outputs": [
    {
     "data": {
      "text/plain": [
       "count     1570.000000\n",
       "mean       513.051541\n",
       "std       1353.009361\n",
       "min          0.000000\n",
       "25%          0.000000\n",
       "50%        172.232143\n",
       "75%        487.198214\n",
       "max      17946.428570\n",
       "Name: VolumeDeb_PaymentOrder, dtype: float64"
      ]
     },
     "execution_count": 816,
     "metadata": {},
     "output_type": "execute_result"
    }
   ],
   "source": [
    "user['VolumeDeb_PaymentOrder'].describe()"
   ]
  },
  {
   "cell_type": "code",
   "execution_count": 817,
   "metadata": {
    "collapsed": false
   },
   "outputs": [
    {
     "data": {
      "text/plain": [
       "Client\n",
       "330     17946.42857\n",
       "143     15311.78571\n",
       "715     14294.66321\n",
       "1510    13875.00000\n",
       "1496    13419.37036\n",
       "1293    13195.82143\n",
       "408     12473.27607\n",
       "347     12469.50000\n",
       "217     11428.57143\n",
       "874     11324.48393\n",
       "Name: VolumeDeb_PaymentOrder, dtype: float64"
      ]
     },
     "execution_count": 817,
     "metadata": {},
     "output_type": "execute_result"
    }
   ],
   "source": [
    "user['VolumeDeb_PaymentOrder'].sort_values(ascending = False).head(10)"
   ]
  },
  {
   "cell_type": "code",
   "execution_count": 818,
   "metadata": {
    "collapsed": false
   },
   "outputs": [
    {
     "data": {
      "image/png": "[encoded data removed]",
      "text/plain": [
       "<matplotlib.figure.Figure at 0x7fe3a360a240>"
      ]
     },
     "metadata": {},
     "output_type": "display_data"
    }
   ],
   "source": [
    "plt.hist(user['VolumeDeb_PaymentOrder'])\n",
    "plt.show()"
   ]
  },
  {
   "cell_type": "markdown",
   "metadata": {},
   "source": [
    "## TransactionsDeb"
   ]
  },
  {
   "cell_type": "code",
   "execution_count": 819,
   "metadata": {
    "collapsed": false
   },
   "outputs": [
    {
     "data": {
      "text/plain": [
       "count    1570.000000\n",
       "mean       15.764968\n",
       "std        15.933983\n",
       "min         0.000000\n",
       "25%         4.000000\n",
       "50%        11.000000\n",
       "75%        22.000000\n",
       "max       102.000000\n",
       "Name: TransactionsDeb, dtype: float64"
      ]
     },
     "execution_count": 819,
     "metadata": {},
     "output_type": "execute_result"
    }
   ],
   "source": [
    "user['TransactionsDeb'].describe()"
   ]
  },
  {
   "cell_type": "code",
   "execution_count": 820,
   "metadata": {
    "collapsed": false
   },
   "outputs": [
    {
     "data": {
      "text/plain": [
       "Client\n",
       "1104    102\n",
       "668      99\n",
       "1042     96\n",
       "697      95\n",
       "153      92\n",
       "1157     87\n",
       "102      86\n",
       "1230     86\n",
       "756      86\n",
       "1496     84\n",
       "Name: TransactionsDeb, dtype: int64"
      ]
     },
     "execution_count": 820,
     "metadata": {},
     "output_type": "execute_result"
    }
   ],
   "source": [
    "user['TransactionsDeb'].sort_values(ascending = False).head(10)"
   ]
  },
  {
   "cell_type": "code",
   "execution_count": 821,
   "metadata": {
    "collapsed": false
   },
   "outputs": [
    {
     "data": {
      "image/png": "[encoded data removed]",
      "text/plain": [
       "<matplotlib.figure.Figure at 0x7fe3a3eacc50>"
      ]
     },
     "metadata": {},
     "output_type": "display_data"
    }
   ],
   "source": [
    "plt.hist(user['TransactionsDeb'])\n",
    "plt.show()"
   ]
  },
  {
   "cell_type": "markdown",
   "metadata": {},
   "source": [
    "## TransactionsDeb_CA"
   ]
  },
  {
   "cell_type": "code",
   "execution_count": 822,
   "metadata": {
    "collapsed": false
   },
   "outputs": [
    {
     "data": {
      "text/plain": [
       "count    1570.000000\n",
       "mean       13.379618\n",
       "std        12.667784\n",
       "min         0.000000\n",
       "25%         4.000000\n",
       "50%        10.000000\n",
       "75%        19.000000\n",
       "max        79.000000\n",
       "Name: TransactionsDeb_CA, dtype: float64"
      ]
     },
     "execution_count": 822,
     "metadata": {},
     "output_type": "execute_result"
    }
   ],
   "source": [
    "user['TransactionsDeb_CA'].describe()"
   ]
  },
  {
   "cell_type": "code",
   "execution_count": 823,
   "metadata": {
    "collapsed": false
   },
   "outputs": [
    {
     "data": {
      "text/plain": [
       "Client\n",
       "465     79\n",
       "1177    75\n",
       "1157    75\n",
       "1042    74\n",
       "668     72\n",
       "866     70\n",
       "353     69\n",
       "1104    69\n",
       "53      68\n",
       "1480    65\n",
       "Name: TransactionsDeb_CA, dtype: int64"
      ]
     },
     "execution_count": 823,
     "metadata": {},
     "output_type": "execute_result"
    }
   ],
   "source": [
    "user['TransactionsDeb_CA'].sort_values(ascending = False).head(10)"
   ]
  },
  {
   "cell_type": "code",
   "execution_count": 824,
   "metadata": {
    "collapsed": true
   },
   "outputs": [],
   "source": [
    "#remove outliers\n",
    "user = user.loc[user['TransactionsDeb_CA']<83]"
   ]
  },
  {
   "cell_type": "code",
   "execution_count": 825,
   "metadata": {
    "collapsed": false
   },
   "outputs": [
    {
     "data": {
      "image/png": "[encoded data removed]",
      "text/plain": [
       "<matplotlib.figure.Figure at 0x7fe3a3613b00>"
      ]
     },
     "metadata": {},
     "output_type": "display_data"
    }
   ],
   "source": [
    "plt.hist(user['TransactionsDeb_CA'])\n",
    "plt.show()"
   ]
  },
  {
   "cell_type": "markdown",
   "metadata": {},
   "source": [
    "## TransactionsDebCash_Card"
   ]
  },
  {
   "cell_type": "code",
   "execution_count": 826,
   "metadata": {
    "collapsed": false
   },
   "outputs": [
    {
     "data": {
      "text/plain": [
       "count    1570.000000\n",
       "mean        1.987898\n",
       "std         2.712806\n",
       "min         0.000000\n",
       "25%         0.000000\n",
       "50%         1.000000\n",
       "75%         3.000000\n",
       "max        25.000000\n",
       "Name: TransactionsDebCash_Card, dtype: float64"
      ]
     },
     "execution_count": 826,
     "metadata": {},
     "output_type": "execute_result"
    }
   ],
   "source": [
    "user['TransactionsDebCash_Card'].describe()"
   ]
  },
  {
   "cell_type": "code",
   "execution_count": 827,
   "metadata": {
    "collapsed": false
   },
   "outputs": [
    {
     "data": {
      "text/plain": [
       "Client\n",
       "465     25\n",
       "575     21\n",
       "496     17\n",
       "1157    16\n",
       "705     16\n",
       "1443    16\n",
       "1365    15\n",
       "68      13\n",
       "401     13\n",
       "996     13\n",
       "Name: TransactionsDebCash_Card, dtype: int64"
      ]
     },
     "execution_count": 827,
     "metadata": {},
     "output_type": "execute_result"
    }
   ],
   "source": [
    "user['TransactionsDebCash_Card'].sort_values(ascending = False).head(10)"
   ]
  },
  {
   "cell_type": "code",
   "execution_count": 828,
   "metadata": {
    "collapsed": false
   },
   "outputs": [
    {
     "data": {
      "image/png": "[encoded data removed]",
      "text/plain": [
       "<matplotlib.figure.Figure at 0x7fe3a38720f0>"
      ]
     },
     "metadata": {},
     "output_type": "display_data"
    }
   ],
   "source": [
    "plt.hist(user['TransactionsDebCash_Card'])\n",
    "plt.show()"
   ]
  },
  {
   "cell_type": "markdown",
   "metadata": {},
   "source": [
    "## TransactionsDebCashless_Card"
   ]
  },
  {
   "cell_type": "code",
   "execution_count": 829,
   "metadata": {
    "collapsed": false
   },
   "outputs": [
    {
     "data": {
      "text/plain": [
       "count    1570.000000\n",
       "mean        5.157325\n",
       "std         8.241269\n",
       "min         0.000000\n",
       "25%         0.000000\n",
       "50%         1.000000\n",
       "75%         7.000000\n",
       "max        60.000000\n",
       "Name: TransactionsDebCashless_Card, dtype: float64"
      ]
     },
     "execution_count": 829,
     "metadata": {},
     "output_type": "execute_result"
    }
   ],
   "source": [
    "user['TransactionsDebCashless_Card'].describe()"
   ]
  },
  {
   "cell_type": "code",
   "execution_count": 830,
   "metadata": {
    "collapsed": false
   },
   "outputs": [
    {
     "data": {
      "text/plain": [
       "Client\n",
       "1496    60\n",
       "150     48\n",
       "1226    47\n",
       "78      47\n",
       "1480    46\n",
       "823     44\n",
       "64      42\n",
       "1042    40\n",
       "1393    39\n",
       "200     39\n",
       "Name: TransactionsDebCashless_Card, dtype: int64"
      ]
     },
     "execution_count": 830,
     "metadata": {},
     "output_type": "execute_result"
    }
   ],
   "source": [
    "user['TransactionsDebCashless_Card'].sort_values(ascending = False).head(10)"
   ]
  },
  {
   "cell_type": "code",
   "execution_count": 831,
   "metadata": {
    "collapsed": true
   },
   "outputs": [],
   "source": [
    "#remove outliers\n",
    "user = user.loc[user['TransactionsDebCashless_Card']<60]"
   ]
  },
  {
   "cell_type": "code",
   "execution_count": 832,
   "metadata": {
    "collapsed": false
   },
   "outputs": [
    {
     "data": {
      "image/png": "[encoded data removed]",
      "text/plain": [
       "<matplotlib.figure.Figure at 0x7fe3a3c6c470>"
      ]
     },
     "metadata": {},
     "output_type": "display_data"
    }
   ],
   "source": [
    "plt.hist(user['TransactionsDebCashless_Card'])\n",
    "plt.show()"
   ]
  },
  {
   "cell_type": "markdown",
   "metadata": {},
   "source": [
    "## TransactionsDeb_PaymentOrder"
   ]
  },
  {
   "cell_type": "code",
   "execution_count": 833,
   "metadata": {
    "collapsed": false
   },
   "outputs": [
    {
     "data": {
      "text/plain": [
       "count    1569.000000\n",
       "mean        4.492670\n",
       "std         5.058974\n",
       "min         0.000000\n",
       "25%         0.000000\n",
       "50%         3.000000\n",
       "75%         7.000000\n",
       "max        34.000000\n",
       "Name: TransactionsDeb_PaymentOrder, dtype: float64"
      ]
     },
     "execution_count": 833,
     "metadata": {},
     "output_type": "execute_result"
    }
   ],
   "source": [
    "user['TransactionsDeb_PaymentOrder'].describe()"
   ]
  },
  {
   "cell_type": "code",
   "execution_count": 834,
   "metadata": {
    "collapsed": false
   },
   "outputs": [
    {
     "data": {
      "text/plain": [
       "Client\n",
       "53      34\n",
       "408     31\n",
       "697     31\n",
       "353     26\n",
       "413     25\n",
       "666     25\n",
       "614     24\n",
       "321     24\n",
       "1098    24\n",
       "747     24\n",
       "Name: TransactionsDeb_PaymentOrder, dtype: int64"
      ]
     },
     "execution_count": 834,
     "metadata": {},
     "output_type": "execute_result"
    }
   ],
   "source": [
    "user['TransactionsDeb_PaymentOrder'].sort_values(ascending = False).head(10)"
   ]
  },
  {
   "cell_type": "code",
   "execution_count": 835,
   "metadata": {
    "collapsed": false
   },
   "outputs": [
    {
     "data": {
      "image/png": "[encoded data removed]",
      "text/plain": [
       "<matplotlib.figure.Figure at 0x7fe3a3d32dd8>"
      ]
     },
     "metadata": {},
     "output_type": "display_data"
    }
   ],
   "source": [
    "plt.hist(user['TransactionsDeb_PaymentOrder'])\n",
    "plt.show()"
   ]
  },
  {
   "cell_type": "markdown",
   "metadata": {},
   "source": [
    "# Check distrubution train parameter data"
   ]
  },
  {
   "cell_type": "markdown",
   "metadata": {},
   "source": [
    "After analysis it is clear there is an imbalance in the classes. This is important for setting up the models."
   ]
  },
  {
   "cell_type": "code",
   "execution_count": 836,
   "metadata": {
    "collapsed": true
   },
   "outputs": [],
   "source": [
    "user_train = user[pd.notnull(user['Sale_MF'])]"
   ]
  },
  {
   "cell_type": "markdown",
   "metadata": {},
   "source": [
    "##  Sale_MF"
   ]
  },
  {
   "cell_type": "code",
   "execution_count": 837,
   "metadata": {
    "collapsed": false
   },
   "outputs": [
    {
     "data": {
      "image/png": "[encoded data removed]",
      "text/plain": [
       "<matplotlib.figure.Figure at 0x7fe3a3e24080>"
      ]
     },
     "metadata": {},
     "output_type": "display_data"
    }
   ],
   "source": [
    "plt.hist(user_train['Sale_MF'], bins=2)\n",
    "plt.show()"
   ]
  },
  {
   "cell_type": "markdown",
   "metadata": {},
   "source": [
    "## Sale_CC"
   ]
  },
  {
   "cell_type": "code",
   "execution_count": 838,
   "metadata": {
    "collapsed": false
   },
   "outputs": [
    {
     "data": {
      "image/png": "[encoded data removed]",
      "text/plain": [
       "<matplotlib.figure.Figure at 0x7fe3a3632eb8>"
      ]
     },
     "metadata": {},
     "output_type": "display_data"
    }
   ],
   "source": [
    "plt.hist(user_train['Sale_CC'], bins=2)\n",
    "plt.show()"
   ]
  },
  {
   "cell_type": "markdown",
   "metadata": {},
   "source": [
    "## Sale_CL"
   ]
  },
  {
   "cell_type": "code",
   "execution_count": 839,
   "metadata": {
    "collapsed": false
   },
   "outputs": [
    {
     "data": {
      "image/png": "[encoded data removed]",
      "text/plain": [
       "<matplotlib.figure.Figure at 0x7fe3a36576d8>"
      ]
     },
     "metadata": {},
     "output_type": "display_data"
    }
   ],
   "source": [
    "plt.hist(user_train['Sale_CL'], bins=2)\n",
    "plt.show()"
   ]
  },
  {
   "cell_type": "markdown",
   "metadata": {},
   "source": [
    "## Revenue_MF"
   ]
  },
  {
   "cell_type": "code",
   "execution_count": 840,
   "metadata": {
    "collapsed": false
   },
   "outputs": [
    {
     "data": {
      "text/plain": [
       "count    940.000000\n",
       "mean       1.978265\n",
       "std       10.089587\n",
       "min        0.000000\n",
       "25%        0.000000\n",
       "50%        0.000000\n",
       "75%        0.000000\n",
       "max      220.488214\n",
       "Name: Revenue_MF, dtype: float64"
      ]
     },
     "execution_count": 840,
     "metadata": {},
     "output_type": "execute_result"
    }
   ],
   "source": [
    "user_train['Revenue_MF'].describe()"
   ]
  },
  {
   "cell_type": "code",
   "execution_count": 860,
   "metadata": {
    "collapsed": false
   },
   "outputs": [
    {
     "data": {
      "text/plain": [
       "Client\n",
       "614     83.038036\n",
       "43      73.041786\n",
       "349     65.704107\n",
       "310     56.139821\n",
       "437     54.330357\n",
       "792     52.618214\n",
       "801     51.965536\n",
       "69      42.716607\n",
       "700     40.677857\n",
       "1537    38.431429\n",
       "Name: Revenue_MF, dtype: float64"
      ]
     },
     "execution_count": 860,
     "metadata": {},
     "output_type": "execute_result"
    }
   ],
   "source": [
    "user['Revenue_MF'].sort_values(ascending = False).head(10)"
   ]
  },
  {
   "cell_type": "code",
   "execution_count": 842,
   "metadata": {
    "collapsed": false
   },
   "outputs": [],
   "source": [
    "#remove outliers\n",
    "user = user.loc[(user['Revenue_MF'].isnull()) | (user['Revenue_MF']<220)  ]"
   ]
  },
  {
   "cell_type": "code",
   "execution_count": null,
   "metadata": {
    "collapsed": false
   },
   "outputs": [],
   "source": [
    "plt.hist(user_train['Revenue_MF']!=0)\n",
    "plt.show()"
   ]
  },
  {
   "cell_type": "markdown",
   "metadata": {},
   "source": [
    "## Revenue_CC"
   ]
  },
  {
   "cell_type": "code",
   "execution_count": 844,
   "metadata": {
    "collapsed": false
   },
   "outputs": [
    {
     "data": {
      "text/plain": [
       "count    940.000000\n",
       "mean       2.718633\n",
       "std       17.937981\n",
       "min        0.000000\n",
       "25%        0.000000\n",
       "50%        0.000000\n",
       "75%        0.000000\n",
       "max      407.962500\n",
       "Name: Revenue_CC, dtype: float64"
      ]
     },
     "execution_count": 844,
     "metadata": {},
     "output_type": "execute_result"
    }
   ],
   "source": [
    "user_train['Revenue_CC'].describe()"
   ]
  },
  {
   "cell_type": "code",
   "execution_count": 858,
   "metadata": {
    "collapsed": false
   },
   "outputs": [
    {
     "data": {
      "text/plain": [
       "Client\n",
       "448     213.292857\n",
       "966     203.790714\n",
       "617     110.470000\n",
       "479     102.146429\n",
       "1293     89.761071\n",
       "374      76.859286\n",
       "629      49.080714\n",
       "475      42.688571\n",
       "754      39.276786\n",
       "388      37.233214\n",
       "Name: Revenue_CC, dtype: float64"
      ]
     },
     "execution_count": 858,
     "metadata": {},
     "output_type": "execute_result"
    }
   ],
   "source": [
    "user['Revenue_CC'].sort_values(ascending = False).head(10)"
   ]
  },
  {
   "cell_type": "code",
   "execution_count": 846,
   "metadata": {
    "collapsed": true
   },
   "outputs": [],
   "source": [
    "#remove outliers\n",
    "user = user.loc[(user['Revenue_CC'].isnull()) | (user['Revenue_CC']<407) ]"
   ]
  },
  {
   "cell_type": "code",
   "execution_count": 847,
   "metadata": {
    "collapsed": false
   },
   "outputs": [
    {
     "data": {
      "image/png": "[encoded data removed]",
      "text/plain": [
       "<matplotlib.figure.Figure at 0x7fe3a3a59e80>"
      ]
     },
     "metadata": {},
     "output_type": "display_data"
    }
   ],
   "source": [
    "plt.hist(user_train['Revenue_CC'])\n",
    "plt.show()"
   ]
  },
  {
   "cell_type": "markdown",
   "metadata": {},
   "source": [
    "## Revenue_CL"
   ]
  },
  {
   "cell_type": "code",
   "execution_count": 848,
   "metadata": {
    "collapsed": false
   },
   "outputs": [
    {
     "data": {
      "text/plain": [
       "count    940.000000\n",
       "mean       3.640608\n",
       "std        7.810255\n",
       "min        0.000000\n",
       "25%        0.000000\n",
       "50%        0.000000\n",
       "75%        4.796964\n",
       "max      133.275357\n",
       "Name: Revenue_CL, dtype: float64"
      ]
     },
     "execution_count": 848,
     "metadata": {},
     "output_type": "execute_result"
    }
   ],
   "source": [
    "user_train['Revenue_CL'].describe()"
   ]
  },
  {
   "cell_type": "code",
   "execution_count": 859,
   "metadata": {
    "collapsed": false
   },
   "outputs": [
    {
     "data": {
      "text/plain": [
       "Client\n",
       "1169    46.392857\n",
       "417     36.050714\n",
       "236     32.132857\n",
       "1524    31.801429\n",
       "22      30.560357\n",
       "1583    30.250000\n",
       "553     29.781071\n",
       "83      28.685357\n",
       "729     28.148929\n",
       "1083    27.551786\n",
       "Name: Revenue_CL, dtype: float64"
      ]
     },
     "execution_count": 859,
     "metadata": {},
     "output_type": "execute_result"
    }
   ],
   "source": [
    "user['Revenue_CL'].sort_values(ascending = False).head(10)"
   ]
  },
  {
   "cell_type": "code",
   "execution_count": 850,
   "metadata": {
    "collapsed": false
   },
   "outputs": [],
   "source": [
    "#remove outliers\n",
    "user = user.loc[(user['Revenue_CL'].isnull()) | (user['Revenue_CL']<133) ]"
   ]
  },
  {
   "cell_type": "code",
   "execution_count": 851,
   "metadata": {
    "collapsed": false
   },
   "outputs": [
    {
     "data": {
      "image/png": "[encoded data removed]",
      "text/plain": [
       "<matplotlib.figure.Figure at 0x7fe3a35822b0>"
      ]
     },
     "metadata": {},
     "output_type": "display_data"
    }
   ],
   "source": [
    "plt.hist(user_train['Revenue_CL'])\n",
    "plt.show()"
   ]
  },
  {
   "cell_type": "markdown",
   "metadata": {},
   "source": [
    "# Check correlation"
   ]
  },
  {
   "cell_type": "markdown",
   "metadata": {},
   "source": [
    "Correlation between the different parameters is checked. This can be usefull for PCA for example to determine the needed number of parameters."
   ]
  },
  {
   "cell_type": "code",
   "execution_count": 852,
   "metadata": {
    "collapsed": false
   },
   "outputs": [
    {
     "data": {
      "image/png": "[encoded data removed]",
      "text/plain": [
       "<matplotlib.figure.Figure at 0x7fe3a37b9438>"
      ]
     },
     "metadata": {},
     "output_type": "display_data"
    }
   ],
   "source": [
    "cov_data = user_train.corr()\n",
    "plt.matshow(cov_data, cmap=plt.cm.winter)\n",
    "plt.show()"
   ]
  },
  {
   "cell_type": "code",
   "execution_count": 853,
   "metadata": {
    "collapsed": false
   },
   "outputs": [
    {
     "name": "stdout",
     "output_type": "stream",
     "text": [
      "number of correlation in the dataset = 77\n"
     ]
    }
   ],
   "source": [
    "counter =0\n",
    "for index, row in cov_data.iterrows():\n",
    "    for index,item in row.iteritems():\n",
    "        if(item>0.7 or item<-0.7):\n",
    "            counter = counter +1\n",
    "            \n",
    "print(\"number of correlation in the dataset = \" + str(counter))"
   ]
  },
  {
   "cell_type": "code",
   "execution_count": 854,
   "metadata": {
    "collapsed": false
   },
   "outputs": [
    {
     "data": {
      "text/plain": [
       "(41, 41)"
      ]
     },
     "execution_count": 854,
     "metadata": {},
     "output_type": "execute_result"
    }
   ],
   "source": [
    "cov_data.shape"
   ]
  },
  {
   "cell_type": "code",
   "execution_count": 855,
   "metadata": {
    "collapsed": false
   },
   "outputs": [
    {
     "name": "stdout",
     "output_type": "stream",
     "text": [
      "18.0\n"
     ]
    }
   ],
   "source": [
    "print((counter-41)/2)"
   ]
  },
  {
   "cell_type": "code",
   "execution_count": 856,
   "metadata": {
    "collapsed": false
   },
   "outputs": [
    {
     "name": "stdout",
     "output_type": "stream",
     "text": [
      "(1566, 41)\n"
     ]
    }
   ],
   "source": [
    "print(user.shape)"
   ]
  },
  {
   "cell_type": "code",
   "execution_count": 857,
   "metadata": {
    "collapsed": true
   },
   "outputs": [],
   "source": [
    "user.to_csv(path_or_buf='analysis_data.csv')"
   ]
  }
 ],
 "metadata": {
  "anaconda-cloud": {},
  "kernelspec": {
   "display_name": "Python [default]",
   "language": "python",
   "name": "python3"
  },
  "language_info": {
   "codemirror_mode": {
    "name": "ipython",
    "version": 3
   },
   "file_extension": ".py",
   "mimetype": "text/x-python",
   "name": "python",
   "nbconvert_exporter": "python",
   "pygments_lexer": "ipython3",
   "version": "3.5.2"
  }
 },
 "nbformat": 4,
 "nbformat_minor": 2
}
