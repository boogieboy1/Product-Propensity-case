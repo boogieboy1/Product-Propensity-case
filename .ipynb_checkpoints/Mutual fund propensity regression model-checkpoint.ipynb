{
 "cells": [
  {
   "cell_type": "markdown",
   "metadata": {
    "collapsed": false
   },
   "source": [
    "# Import needed libraries"
   ]
  },
  {
   "cell_type": "code",
   "execution_count": 323,
   "metadata": {
    "collapsed": false
   },
   "outputs": [],
   "source": [
    "#import libraries\n",
    "import pandas as pd\n",
    "import numpy as np\n",
    "import matplotlib.pyplot as plt\n",
    "from scipy import stats\n",
    "import seaborn as sns\n",
    "from scipy.stats import skew\n",
    "\n",
    "\n",
    "from sklearn.linear_model import LinearRegression\n",
    "from sklearn.svm import SVR\n",
    "from sklearn.ensemble import RandomForestRegressor\n",
    "from sklearn.tree import DecisionTreeRegressor\n",
    "from sklearn.linear_model import Ridge\n",
    "from sklearn.linear_model import Lasso\n",
    "from sklearn.linear_model import RandomizedLasso\n",
    "from sklearn.linear_model import BayesianRidge\n",
    "from sklearn.linear_model import SGDRegressor\n",
    "from sklearn.preprocessing import PolynomialFeatures\n",
    "\n",
    "from sklearn.neighbors import KNeighborsRegressor\n",
    "from sklearn.ensemble import GradientBoostingRegressor\n",
    "\n",
    "\n",
    "from sklearn.preprocessing import MinMaxScaler\n",
    "from sklearn.preprocessing import scale\n",
    "\n",
    "from sklearn.model_selection import train_test_split\n",
    "from sklearn.metrics import mean_absolute_error\n",
    "from sklearn.metrics import classification_report\n",
    "from sklearn.model_selection import cross_val_score\n",
    "from sklearn.model_selection import GridSearchCV\n",
    "from sklearn.model_selection import RandomizedSearchCV\n",
    "\n",
    "from sklearn.decomposition import PCA\n",
    "\n",
    "from sklearn.feature_selection import RFECV, RFE, f_regression\n",
    "\n",
    "\n",
    "from sklearn.decomposition import PCA\n",
    "\n",
    "%matplotlib inline"
   ]
  },
  {
   "cell_type": "markdown",
   "metadata": {},
   "source": [
    "# Methods used"
   ]
  },
  {
   "cell_type": "code",
   "execution_count": 324,
   "metadata": {
    "collapsed": true
   },
   "outputs": [],
   "source": [
    "# Remove correlated columns as this has a big impact on regression\n",
    "def correlation(dataset, threshold):\n",
    "    col_corr = set() # Set of all the names of deleted columns\n",
    "    corr_matrix = dataset.corr()\n",
    "    for i in range(len(corr_matrix.columns)):\n",
    "        for j in range(i):\n",
    "            if corr_matrix.iloc[i, j] >= threshold:\n",
    "                colname = corr_matrix.columns[i] # getting the name of column\n",
    "                col_corr.add(colname)\n",
    "                if colname in dataset.columns:\n",
    "                    del dataset[colname] # deleting the column from the dataset\n",
    "\n",
    "    return(dataset)"
   ]
  },
  {
   "cell_type": "markdown",
   "metadata": {},
   "source": [
    "# Load and split the data"
   ]
  },
  {
   "cell_type": "code",
   "execution_count": 325,
   "metadata": {
    "collapsed": false
   },
   "outputs": [
    {
     "name": "stdout",
     "output_type": "stream",
     "text": [
      "(1566, 41)\n"
     ]
    }
   ],
   "source": [
    "user = pd.read_csv(\"analysis_data.csv\", sep=\",\", index_col=\"Client\")\n",
    "print(user.shape)"
   ]
  },
  {
   "cell_type": "code",
   "execution_count": 326,
   "metadata": {
    "collapsed": false
   },
   "outputs": [
    {
     "name": "stdout",
     "output_type": "stream",
     "text": [
      "(231, 41)\n"
     ]
    }
   ],
   "source": [
    "user_tr = user[user['Sale_CC']==1]\n",
    "print(user_tr.shape)"
   ]
  },
  {
   "cell_type": "code",
   "execution_count": 327,
   "metadata": {
    "collapsed": false
   },
   "outputs": [],
   "source": [
    "user_tr = user_tr.drop(['Sale_MF','Sale_CC','Sale_CL','Revenue_MF','Revenue_CL'], axis=1)"
   ]
  },
  {
   "cell_type": "code",
   "execution_count": 328,
   "metadata": {
    "collapsed": false
   },
   "outputs": [
    {
     "name": "stdout",
     "output_type": "stream",
     "text": [
      "Index(['Age', 'Tenure', 'M', 'Count_CA', 'Count_SA', 'Count_MF', 'Count_OVD',\n",
      "       'Count_CC', 'Count_CL', 'ActBal_CA', 'ActBal_SA', 'ActBal_MF',\n",
      "       'ActBal_OVD', 'ActBal_CC', 'ActBal_CL', 'VolumeCred', 'VolumeCred_CA',\n",
      "       'TransactionsCred', 'TransactionsCred_CA', 'VolumeDeb', 'VolumeDeb_CA',\n",
      "       'VolumeDebCash_Card', 'VolumeDebCashless_Card',\n",
      "       'VolumeDeb_PaymentOrder', 'TransactionsDeb', 'TransactionsDeb_CA',\n",
      "       'TransactionsDebCash_Card', 'TransactionsDebCashless_Card',\n",
      "       'TransactionsDeb_PaymentOrder', 'Revenue_CC', 'Actbal_CA_avg',\n",
      "       'ActBal_SA_avg', 'ActBal_MF_avg', 'ActBal_OVD_avg', 'ActBal_CC_avg',\n",
      "       'ActBal_CL_avg'],\n",
      "      dtype='object')\n"
     ]
    }
   ],
   "source": [
    "print(user_tr.columns)"
   ]
  },
  {
   "cell_type": "markdown",
   "metadata": {},
   "source": [
    "Outliers are removed from the dataset"
   ]
  },
  {
   "cell_type": "code",
   "execution_count": 329,
   "metadata": {
    "collapsed": true
   },
   "outputs": [],
   "source": [
    "user_tr = user_tr.loc[user_tr['Revenue_CC']<20 ]"
   ]
  },
  {
   "cell_type": "code",
   "execution_count": 330,
   "metadata": {
    "collapsed": true
   },
   "outputs": [],
   "source": [
    "user_tr_X = user_tr.drop('Revenue_CC', axis=1)\n",
    "user_tr_Y = user_tr['Revenue_CC']"
   ]
  },
  {
   "cell_type": "markdown",
   "metadata": {},
   "source": [
    "Highly correlated datasets are removed from the dataset"
   ]
  },
  {
   "cell_type": "code",
   "execution_count": 331,
   "metadata": {
    "collapsed": true
   },
   "outputs": [],
   "source": [
    "user_tr_X= correlation(user_tr_X,0.7)"
   ]
  },
  {
   "cell_type": "code",
   "execution_count": 332,
   "metadata": {
    "collapsed": false
   },
   "outputs": [
    {
     "name": "stdout",
     "output_type": "stream",
     "text": [
      "Index(['Age', 'Tenure', 'M', 'Count_CA', 'Count_SA', 'Count_MF', 'Count_OVD',\n",
      "       'Count_CC', 'Count_CL', 'ActBal_CA', 'ActBal_SA', 'ActBal_MF',\n",
      "       'ActBal_OVD', 'VolumeCred', 'TransactionsCred', 'VolumeDebCash_Card',\n",
      "       'VolumeDebCashless_Card', 'TransactionsDebCash_Card',\n",
      "       'TransactionsDeb_PaymentOrder'],\n",
      "      dtype='object')\n"
     ]
    }
   ],
   "source": [
    "print(user_tr_X.columns)"
   ]
  },
  {
   "cell_type": "code",
   "execution_count": 333,
   "metadata": {
    "collapsed": false
   },
   "outputs": [
    {
     "data": {
      "text/plain": [
       "(217,)"
      ]
     },
     "execution_count": 333,
     "metadata": {},
     "output_type": "execute_result"
    }
   ],
   "source": [
    "user_tr_Y.shape"
   ]
  },
  {
   "cell_type": "markdown",
   "metadata": {},
   "source": [
    "## Correlation"
   ]
  },
  {
   "cell_type": "code",
   "execution_count": 334,
   "metadata": {
    "collapsed": false
   },
   "outputs": [
    {
     "name": "stdout",
     "output_type": "stream",
     "text": [
      "Age\n",
      "-0.0085944910194\n",
      "Tenure\n",
      "0.00971537786093\n",
      "M\n",
      "-0.0195165885833\n",
      "Count_CA\n",
      "0.0340054119616\n",
      "Count_SA\n",
      "-0.0940151394691\n",
      "Count_MF\n",
      "-0.0866483164386\n",
      "Count_OVD\n",
      "-0.0649647910852\n",
      "Count_CC\n",
      "0.0256659517064\n",
      "Count_CL\n",
      "0.158394073856\n",
      "ActBal_CA\n",
      "-0.0202917414714\n",
      "ActBal_SA\n",
      "-0.0339588687134\n",
      "ActBal_MF\n",
      "-0.0830268038702\n",
      "ActBal_OVD\n",
      "-0.0369341414172\n",
      "VolumeCred\n",
      "0.0581145575999\n",
      "TransactionsCred\n",
      "0.0351541164637\n",
      "VolumeDebCash_Card\n",
      "-0.0687369888324\n",
      "VolumeDebCashless_Card\n",
      "0.0459312761344\n",
      "TransactionsDebCash_Card\n",
      "0.0680224050308\n",
      "TransactionsDeb_PaymentOrder\n",
      "0.0503778256968\n"
     ]
    }
   ],
   "source": [
    "for col in user_tr_X.columns:\n",
    "    print(col)\n",
    "    print(np.corrcoef(user_tr_Y,user_tr_X[col])[0][1])"
   ]
  },
  {
   "cell_type": "markdown",
   "metadata": {},
   "source": [
    "As seen no real correlation exist between the target and one of the remaining variables"
   ]
  },
  {
   "cell_type": "markdown",
   "metadata": {},
   "source": [
    "# Preprocessing"
   ]
  },
  {
   "cell_type": "markdown",
   "metadata": {},
   "source": [
    "## check for skewness and log transform if needed"
   ]
  },
  {
   "cell_type": "code",
   "execution_count": 335,
   "metadata": {
    "collapsed": false
   },
   "outputs": [],
   "source": [
    "#log transform skewed numeric features:\n",
    "user_skew = user_tr_X.drop('M', axis=1)\n",
    "skewed_feats = user_skew.apply(lambda x: skew(x.dropna())) #compute skewness\n",
    "skewed_feats = skewed_feats[skewed_feats > 0.75]\n",
    "skewed_feats = skewed_feats.index\n",
    "\n",
    "user_tr_X[skewed_feats] = np.log1p(user_tr_X[skewed_feats])"
   ]
  },
  {
   "cell_type": "markdown",
   "metadata": {},
   "source": [
    "## Check target variable"
   ]
  },
  {
   "cell_type": "code",
   "execution_count": 336,
   "metadata": {
    "collapsed": false
   },
   "outputs": [
    {
     "data": {
      "text/plain": [
       "count    217.000000\n",
       "mean       4.915104\n",
       "std        3.888063\n",
       "min        0.071429\n",
       "25%        2.108214\n",
       "50%        4.286786\n",
       "75%        6.285714\n",
       "max       18.571429\n",
       "Name: Revenue_CC, dtype: float64"
      ]
     },
     "execution_count": 336,
     "metadata": {},
     "output_type": "execute_result"
    }
   ],
   "source": [
    "user_tr_Y.describe()"
   ]
  },
  {
   "cell_type": "code",
   "execution_count": 337,
   "metadata": {
    "collapsed": false
   },
   "outputs": [
    {
     "data": {
      "text/plain": [
       "Client\n",
       "618     18.571429\n",
       "455     18.292143\n",
       "914     17.310000\n",
       "203     16.945357\n",
       "415     16.428571\n",
       "45      15.393929\n",
       "575     15.291786\n",
       "49      15.246429\n",
       "1417    14.821429\n",
       "1042    14.500000\n",
       "Name: Revenue_CC, dtype: float64"
      ]
     },
     "execution_count": 337,
     "metadata": {},
     "output_type": "execute_result"
    }
   ],
   "source": [
    "user_tr_Y.sort_values(ascending = False).head(10)"
   ]
  },
  {
   "cell_type": "code",
   "execution_count": 338,
   "metadata": {
    "collapsed": false
   },
   "outputs": [
    {
     "data": {
      "image/png": "[encoded data removed]",
      "text/plain": [
       "<matplotlib.figure.Figure at 0x7f3c5d9a95c0>"
      ]
     },
     "metadata": {},
     "output_type": "display_data"
    }
   ],
   "source": [
    "plt.hist(user_tr_Y)\n",
    "plt.show()"
   ]
  },
  {
   "cell_type": "markdown",
   "metadata": {},
   "source": [
    "The target will be log transformed for better regression"
   ]
  },
  {
   "cell_type": "code",
   "execution_count": 339,
   "metadata": {
    "collapsed": true
   },
   "outputs": [],
   "source": [
    "user_tr_Y = np.log1p(user_tr_Y)"
   ]
  },
  {
   "cell_type": "markdown",
   "metadata": {},
   "source": [
    "# Choose model"
   ]
  },
  {
   "cell_type": "code",
   "execution_count": 340,
   "metadata": {
    "collapsed": false
   },
   "outputs": [
    {
     "name": "stdout",
     "output_type": "stream",
     "text": [
      "neg_mean_squared_error: -0.46 (+/- 0.25)\n",
      "[-0.51900014 -0.34023504 -0.52000574 -0.44184475 -0.65110265 -0.66591282\n",
      " -0.35664382 -0.23742666 -0.45434646 -0.43695841]\n"
     ]
    }
   ],
   "source": [
    "reg = BayesianRidge()\n",
    "scores = cross_val_score(reg, user_tr_X, user_tr_Y, cv=10, scoring='neg_mean_squared_error', n_jobs=-1)\n",
    "print(\"neg_mean_squared_error: %0.2f (+/- %0.2f)\" % (scores.mean(), scores.std() * 2))\n",
    "print(scores)"
   ]
  },
  {
   "cell_type": "code",
   "execution_count": 341,
   "metadata": {
    "collapsed": false
   },
   "outputs": [
    {
     "name": "stdout",
     "output_type": "stream",
     "text": [
      "neg_mean_squared_error: -0.46 (+/- 0.25)\n"
     ]
    }
   ],
   "source": [
    "reg = Lasso()\n",
    "scores = cross_val_score(reg, user_tr_X, user_tr_Y, cv=10, scoring='neg_mean_squared_error', n_jobs=-1)\n",
    "print(\"neg_mean_squared_error: %0.2f (+/- %0.2f)\" % (scores.mean(), scores.std() * 2))"
   ]
  },
  {
   "cell_type": "code",
   "execution_count": 342,
   "metadata": {
    "collapsed": false
   },
   "outputs": [
    {
     "name": "stdout",
     "output_type": "stream",
     "text": [
      "neg_mean_squared_error: -0.50 (+/- 0.26)\n"
     ]
    }
   ],
   "source": [
    "reg = Ridge()\n",
    "scores = cross_val_score(reg,user_tr_X, user_tr_Y, cv=10, scoring='neg_mean_squared_error', n_jobs=-1)\n",
    "print(\"neg_mean_squared_error: %0.2f (+/- %0.2f)\" % (scores.mean(), scores.std() * 2))"
   ]
  },
  {
   "cell_type": "code",
   "execution_count": 343,
   "metadata": {
    "collapsed": false
   },
   "outputs": [
    {
     "name": "stdout",
     "output_type": "stream",
     "text": [
      "neg_mean_squared_error: -0.59 (+/- 0.21)\n"
     ]
    }
   ],
   "source": [
    "reg = RandomForestRegressor()\n",
    "scores = cross_val_score(reg,user_tr_X, user_tr_Y, cv=10, scoring='neg_mean_squared_error', n_jobs=-1)\n",
    "print(\"neg_mean_squared_error: %0.2f (+/- %0.2f)\" % (scores.mean(), scores.std() * 2))"
   ]
  },
  {
   "cell_type": "code",
   "execution_count": 344,
   "metadata": {
    "collapsed": false
   },
   "outputs": [
    {
     "name": "stdout",
     "output_type": "stream",
     "text": [
      "neg_mean_squared_error: -0.54 (+/- 0.24)\n"
     ]
    }
   ],
   "source": [
    "reg = KNeighborsRegressor()\n",
    "scores = cross_val_score(reg,user_tr_X, user_tr_Y, cv=10, scoring='neg_mean_squared_error', n_jobs=-1)\n",
    "print(\"neg_mean_squared_error: %0.2f (+/- %0.2f)\" % (scores.mean(), scores.std() * 2))"
   ]
  },
  {
   "cell_type": "code",
   "execution_count": 345,
   "metadata": {
    "collapsed": false
   },
   "outputs": [
    {
     "name": "stdout",
     "output_type": "stream",
     "text": [
      "neg_mean_squared_error: -0.50 (+/- 0.27)\n"
     ]
    }
   ],
   "source": [
    "reg = LinearRegression()\n",
    "scores = cross_val_score(reg,user_tr_X, user_tr_Y, cv=10, scoring='neg_mean_squared_error', n_jobs=-1)\n",
    "print(\"neg_mean_squared_error: %0.2f (+/- %0.2f)\" % (scores.mean(), scores.std() * 2))"
   ]
  },
  {
   "cell_type": "markdown",
   "metadata": {
    "collapsed": true
   },
   "source": [
    "## Scaling the params for support vector algo"
   ]
  },
  {
   "cell_type": "code",
   "execution_count": 346,
   "metadata": {
    "collapsed": true
   },
   "outputs": [],
   "source": [
    "#Scale the \n",
    "user_tr_X_scale = scale(user_tr_X)\n",
    "user_tr_Y_scale = scale(user_tr_Y)"
   ]
  },
  {
   "cell_type": "code",
   "execution_count": 347,
   "metadata": {
    "collapsed": false
   },
   "outputs": [
    {
     "name": "stdout",
     "output_type": "stream",
     "text": [
      "neg_mean_squared_error: -1.16 (+/- 0.55)\n"
     ]
    }
   ],
   "source": [
    "svr = SVR(kernel='linear')\n",
    "scores = cross_val_score(svr,user_tr_X_scale, user_tr_Y_scale, cv=10, scoring='neg_mean_squared_error', n_jobs=-1)\n",
    "print(\"neg_mean_squared_error: %0.2f (+/- %0.2f)\" % (scores.mean(), scores.std() * 2))"
   ]
  },
  {
   "cell_type": "code",
   "execution_count": 348,
   "metadata": {
    "collapsed": false
   },
   "outputs": [
    {
     "name": "stdout",
     "output_type": "stream",
     "text": [
      "neg_mean_squared_error: -1.18 (+/- 0.59)\n"
     ]
    }
   ],
   "source": [
    "svr = SVR(kernel='rbf')\n",
    "scores = cross_val_score(svr,user_tr_X_scale, user_tr_Y_scale, cv=10, scoring='neg_mean_squared_error', n_jobs=-1)\n",
    "print(\"neg_mean_squared_error: %0.2f (+/- %0.2f)\" % (scores.mean(), scores.std() * 2))"
   ]
  },
  {
   "cell_type": "markdown",
   "metadata": {},
   "source": [
    "## check if improvements with polynomial features"
   ]
  },
  {
   "cell_type": "code",
   "execution_count": 349,
   "metadata": {
    "collapsed": true
   },
   "outputs": [],
   "source": [
    "poly = PolynomialFeatures(degree=2)\n",
    "user_tr_X_pol = poly.fit_transform(user_tr_X)"
   ]
  },
  {
   "cell_type": "code",
   "execution_count": 350,
   "metadata": {
    "collapsed": false
   },
   "outputs": [
    {
     "name": "stdout",
     "output_type": "stream",
     "text": [
      "neg_mean_squared_error: -0.48 (+/- 0.27)\n"
     ]
    }
   ],
   "source": [
    "reg = Lasso()\n",
    "scores = cross_val_score(reg, user_tr_X_pol, user_tr_Y, cv=10, scoring='neg_mean_squared_error', n_jobs=-1)\n",
    "print(\"neg_mean_squared_error: %0.2f (+/- %0.2f)\" % (scores.mean(), scores.std() * 2))"
   ]
  },
  {
   "cell_type": "markdown",
   "metadata": {},
   "source": [
    "# PCA"
   ]
  },
  {
   "cell_type": "markdown",
   "metadata": {},
   "source": [
    "Maybe some PCA will improve it but probably not as Lasso already removes the unnecessary variables by regularization"
   ]
  },
  {
   "cell_type": "code",
   "execution_count": 351,
   "metadata": {
    "collapsed": false
   },
   "outputs": [
    {
     "data": {
      "text/plain": [
       "(217, 10)"
      ]
     },
     "execution_count": 351,
     "metadata": {},
     "output_type": "execute_result"
    }
   ],
   "source": [
    "#dimension reduction\n",
    "pca = PCA(n_components=10)\n",
    "X_pca_20 = pca.fit_transform(user_tr_X)\n",
    "X_pca_20.shape"
   ]
  },
  {
   "cell_type": "code",
   "execution_count": 352,
   "metadata": {
    "collapsed": false
   },
   "outputs": [
    {
     "name": "stdout",
     "output_type": "stream",
     "text": [
      "neg_mean_squared_error: -0.46 (+/- 0.25)\n"
     ]
    }
   ],
   "source": [
    "reg = Lasso(tol=10)\n",
    "scores = cross_val_score(reg, X_pca_20, user_tr_Y, cv=10, scoring='neg_mean_squared_error', n_jobs=-1)\n",
    "print(\"neg_mean_squared_error: %0.2f (+/- %0.2f)\" % (scores.mean(), scores.std() * 2))"
   ]
  },
  {
   "cell_type": "markdown",
   "metadata": {},
   "source": [
    "# Result"
   ]
  },
  {
   "cell_type": "markdown",
   "metadata": {},
   "source": [
    "# The Lasso algo is the best and we will use it for prediction"
   ]
  },
  {
   "cell_type": "markdown",
   "metadata": {
    "collapsed": true
   },
   "source": [
    "# Optimization of the algorithm"
   ]
  },
  {
   "cell_type": "code",
   "execution_count": 353,
   "metadata": {
    "collapsed": false
   },
   "outputs": [
    {
     "name": "stdout",
     "output_type": "stream",
     "text": [
      "Lasso(alpha=0.1, copy_X=True, fit_intercept=True, max_iter=1000,\n",
      "   normalize=False, positive=False, precompute=False, random_state=None,\n",
      "   selection='cyclic', tol=5, warm_start=False)\n",
      "{'alpha': 0.1, 'tol': 5}\n",
      "-0.457063860106\n"
     ]
    }
   ],
   "source": [
    "search = { 'alpha':[0.001,0.1,0.5, 0.7, 1], 'tol':[0.001,0.5, 1,5,10]}\n",
    "\n",
    "\n",
    "lasso = Lasso()\n",
    "\n",
    "lasso_grid = GridSearchCV(estimator=lasso,param_grid=search, scoring='neg_mean_squared_error', n_jobs=-1,refit=True, cv=10)\n",
    "\n",
    "lasso_grid.fit( user_tr_X, user_tr_Y)\n",
    "\n",
    "print(lasso_grid.best_estimator_)\n",
    "\n",
    "print(lasso_grid.best_params_)\n",
    "\n",
    "print(lasso_grid.best_score_)"
   ]
  },
  {
   "cell_type": "markdown",
   "metadata": {},
   "source": [
    "Let's have a quick look at the residuals of the estimator. \n",
    "These should follow a random pattern."
   ]
  },
  {
   "cell_type": "code",
   "execution_count": 354,
   "metadata": {
    "collapsed": false
   },
   "outputs": [
    {
     "data": {
      "text/plain": [
       "<matplotlib.collections.PathCollection at 0x7f3c5d57dcf8>"
      ]
     },
     "execution_count": 354,
     "metadata": {},
     "output_type": "execute_result"
    },
    {
     "data": {
      "image/png": "[encoded data removed]",
      "text/plain": [
       "<matplotlib.figure.Figure at 0x7f3c5d8e9c18>"
      ]
     },
     "metadata": {},
     "output_type": "display_data"
    }
   ],
   "source": [
    "plt.scatter(lasso_grid.predict(user_tr_X), lasso_grid.predict(user_tr_X)-user_tr_Y)"
   ]
  },
  {
   "cell_type": "markdown",
   "metadata": {},
   "source": [
    "Looks pretty random :)"
   ]
  },
  {
   "cell_type": "markdown",
   "metadata": {
    "collapsed": true
   },
   "source": [
    "# Fit the model and predict the missing values"
   ]
  },
  {
   "cell_type": "code",
   "execution_count": 355,
   "metadata": {
    "collapsed": false
   },
   "outputs": [
    {
     "name": "stdout",
     "output_type": "stream",
     "text": [
      "(629, 36)\n"
     ]
    }
   ],
   "source": [
    "user_pred = pd.read_csv(\"credit_card_prop_pred.csv\", sep=\",\", index_col=\"Client\")\n",
    "print(user_pred.shape)"
   ]
  },
  {
   "cell_type": "code",
   "execution_count": 356,
   "metadata": {
    "collapsed": false
   },
   "outputs": [],
   "source": [
    "user_pred_X = user_pred.ix[(user_CL['Sale_CC_pred']==1)]\n",
    "user_pred_X = user_pred_X.drop('Sale_CC_pred', axis=1)\n"
   ]
  },
  {
   "cell_type": "code",
   "execution_count": 357,
   "metadata": {
    "collapsed": false
   },
   "outputs": [],
   "source": [
    "user_pred_X[skewed_feats] = np.log1p(user_pred_X[skewed_feats])"
   ]
  },
  {
   "cell_type": "code",
   "execution_count": 358,
   "metadata": {
    "collapsed": false
   },
   "outputs": [
    {
     "data": {
      "text/html": [
       "<div>\n",
       "<table border=\"1\" class=\"dataframe\">\n",
       "  <thead>\n",
       "    <tr style=\"text-align: right;\">\n",
       "      <th></th>\n",
       "      <th>Age</th>\n",
       "      <th>Tenure</th>\n",
       "      <th>M</th>\n",
       "      <th>Count_CA</th>\n",
       "      <th>Count_SA</th>\n",
       "      <th>Count_MF</th>\n",
       "      <th>Count_OVD</th>\n",
       "      <th>Count_CC</th>\n",
       "      <th>Count_CL</th>\n",
       "      <th>ActBal_CA</th>\n",
       "      <th>...</th>\n",
       "      <th>TransactionsDeb_CA</th>\n",
       "      <th>TransactionsDebCash_Card</th>\n",
       "      <th>TransactionsDebCashless_Card</th>\n",
       "      <th>TransactionsDeb_PaymentOrder</th>\n",
       "      <th>Actbal_CA_avg</th>\n",
       "      <th>ActBal_SA_avg</th>\n",
       "      <th>ActBal_MF_avg</th>\n",
       "      <th>ActBal_OVD_avg</th>\n",
       "      <th>ActBal_CC_avg</th>\n",
       "      <th>ActBal_CL_avg</th>\n",
       "    </tr>\n",
       "    <tr>\n",
       "      <th>Client</th>\n",
       "      <th></th>\n",
       "      <th></th>\n",
       "      <th></th>\n",
       "      <th></th>\n",
       "      <th></th>\n",
       "      <th></th>\n",
       "      <th></th>\n",
       "      <th></th>\n",
       "      <th></th>\n",
       "      <th></th>\n",
       "      <th></th>\n",
       "      <th></th>\n",
       "      <th></th>\n",
       "      <th></th>\n",
       "      <th></th>\n",
       "      <th></th>\n",
       "      <th></th>\n",
       "      <th></th>\n",
       "      <th></th>\n",
       "      <th></th>\n",
       "      <th></th>\n",
       "    </tr>\n",
       "  </thead>\n",
       "  <tbody>\n",
       "    <tr>\n",
       "      <th>1420</th>\n",
       "      <td>46.0</td>\n",
       "      <td>86</td>\n",
       "      <td>1.0</td>\n",
       "      <td>0.693147</td>\n",
       "      <td>0.000000</td>\n",
       "      <td>0.000000</td>\n",
       "      <td>0.0</td>\n",
       "      <td>0.0</td>\n",
       "      <td>0.0</td>\n",
       "      <td>5.610892</td>\n",
       "      <td>...</td>\n",
       "      <td>7</td>\n",
       "      <td>0.0</td>\n",
       "      <td>0</td>\n",
       "      <td>1.945910</td>\n",
       "      <td>272.387857</td>\n",
       "      <td>0.000000</td>\n",
       "      <td>0.000000</td>\n",
       "      <td>0.0</td>\n",
       "      <td>0.0</td>\n",
       "      <td>0.0</td>\n",
       "    </tr>\n",
       "    <tr>\n",
       "      <th>119</th>\n",
       "      <td>25.0</td>\n",
       "      <td>152</td>\n",
       "      <td>0.0</td>\n",
       "      <td>0.693147</td>\n",
       "      <td>0.693147</td>\n",
       "      <td>1.386294</td>\n",
       "      <td>0.0</td>\n",
       "      <td>0.0</td>\n",
       "      <td>0.0</td>\n",
       "      <td>5.277905</td>\n",
       "      <td>...</td>\n",
       "      <td>6</td>\n",
       "      <td>0.0</td>\n",
       "      <td>3</td>\n",
       "      <td>1.098612</td>\n",
       "      <td>194.958929</td>\n",
       "      <td>3573.113214</td>\n",
       "      <td>2762.629167</td>\n",
       "      <td>0.0</td>\n",
       "      <td>0.0</td>\n",
       "      <td>0.0</td>\n",
       "    </tr>\n",
       "    <tr>\n",
       "      <th>505</th>\n",
       "      <td>38.0</td>\n",
       "      <td>157</td>\n",
       "      <td>1.0</td>\n",
       "      <td>0.693147</td>\n",
       "      <td>1.098612</td>\n",
       "      <td>0.000000</td>\n",
       "      <td>0.0</td>\n",
       "      <td>0.0</td>\n",
       "      <td>0.0</td>\n",
       "      <td>9.113743</td>\n",
       "      <td>...</td>\n",
       "      <td>1</td>\n",
       "      <td>0.0</td>\n",
       "      <td>0</td>\n",
       "      <td>0.000000</td>\n",
       "      <td>9078.213571</td>\n",
       "      <td>2.091250</td>\n",
       "      <td>0.000000</td>\n",
       "      <td>0.0</td>\n",
       "      <td>0.0</td>\n",
       "      <td>0.0</td>\n",
       "    </tr>\n",
       "    <tr>\n",
       "      <th>1153</th>\n",
       "      <td>40.0</td>\n",
       "      <td>46</td>\n",
       "      <td>1.0</td>\n",
       "      <td>0.693147</td>\n",
       "      <td>0.000000</td>\n",
       "      <td>0.693147</td>\n",
       "      <td>0.0</td>\n",
       "      <td>0.0</td>\n",
       "      <td>0.0</td>\n",
       "      <td>5.201431</td>\n",
       "      <td>...</td>\n",
       "      <td>6</td>\n",
       "      <td>0.0</td>\n",
       "      <td>1</td>\n",
       "      <td>1.609438</td>\n",
       "      <td>180.531786</td>\n",
       "      <td>0.000000</td>\n",
       "      <td>17.728571</td>\n",
       "      <td>0.0</td>\n",
       "      <td>0.0</td>\n",
       "      <td>0.0</td>\n",
       "    </tr>\n",
       "    <tr>\n",
       "      <th>24</th>\n",
       "      <td>29.0</td>\n",
       "      <td>23</td>\n",
       "      <td>0.0</td>\n",
       "      <td>0.693147</td>\n",
       "      <td>0.000000</td>\n",
       "      <td>0.000000</td>\n",
       "      <td>0.0</td>\n",
       "      <td>0.0</td>\n",
       "      <td>0.0</td>\n",
       "      <td>5.430709</td>\n",
       "      <td>...</td>\n",
       "      <td>22</td>\n",
       "      <td>0.0</td>\n",
       "      <td>6</td>\n",
       "      <td>2.772589</td>\n",
       "      <td>227.311071</td>\n",
       "      <td>0.000000</td>\n",
       "      <td>0.000000</td>\n",
       "      <td>0.0</td>\n",
       "      <td>0.0</td>\n",
       "      <td>0.0</td>\n",
       "    </tr>\n",
       "  </tbody>\n",
       "</table>\n",
       "<p>5 rows × 35 columns</p>\n",
       "</div>"
      ],
      "text/plain": [
       "         Age  Tenure    M  Count_CA  Count_SA  Count_MF  Count_OVD  Count_CC  \\\n",
       "Client                                                                         \n",
       "1420    46.0      86  1.0  0.693147  0.000000  0.000000        0.0       0.0   \n",
       "119     25.0     152  0.0  0.693147  0.693147  1.386294        0.0       0.0   \n",
       "505     38.0     157  1.0  0.693147  1.098612  0.000000        0.0       0.0   \n",
       "1153    40.0      46  1.0  0.693147  0.000000  0.693147        0.0       0.0   \n",
       "24      29.0      23  0.0  0.693147  0.000000  0.000000        0.0       0.0   \n",
       "\n",
       "        Count_CL  ActBal_CA      ...        TransactionsDeb_CA  \\\n",
       "Client                           ...                             \n",
       "1420         0.0   5.610892      ...                         7   \n",
       "119          0.0   5.277905      ...                         6   \n",
       "505          0.0   9.113743      ...                         1   \n",
       "1153         0.0   5.201431      ...                         6   \n",
       "24           0.0   5.430709      ...                        22   \n",
       "\n",
       "        TransactionsDebCash_Card  TransactionsDebCashless_Card  \\\n",
       "Client                                                           \n",
       "1420                         0.0                             0   \n",
       "119                          0.0                             3   \n",
       "505                          0.0                             0   \n",
       "1153                         0.0                             1   \n",
       "24                           0.0                             6   \n",
       "\n",
       "        TransactionsDeb_PaymentOrder  Actbal_CA_avg  ActBal_SA_avg  \\\n",
       "Client                                                               \n",
       "1420                        1.945910     272.387857       0.000000   \n",
       "119                         1.098612     194.958929    3573.113214   \n",
       "505                         0.000000    9078.213571       2.091250   \n",
       "1153                        1.609438     180.531786       0.000000   \n",
       "24                          2.772589     227.311071       0.000000   \n",
       "\n",
       "        ActBal_MF_avg  ActBal_OVD_avg  ActBal_CC_avg  ActBal_CL_avg  \n",
       "Client                                                               \n",
       "1420         0.000000             0.0            0.0            0.0  \n",
       "119       2762.629167             0.0            0.0            0.0  \n",
       "505          0.000000             0.0            0.0            0.0  \n",
       "1153        17.728571             0.0            0.0            0.0  \n",
       "24           0.000000             0.0            0.0            0.0  \n",
       "\n",
       "[5 rows x 35 columns]"
      ]
     },
     "execution_count": 358,
     "metadata": {},
     "output_type": "execute_result"
    }
   ],
   "source": [
    "user_pred_X.head()"
   ]
  },
  {
   "cell_type": "code",
   "execution_count": 359,
   "metadata": {
    "collapsed": false
   },
   "outputs": [],
   "source": [
    "user_pred_Y = np.expm1(lasso_grid.predict(user_pred_X[user_tr_X.columns]))"
   ]
  },
  {
   "cell_type": "code",
   "execution_count": 360,
   "metadata": {
    "collapsed": false
   },
   "outputs": [
    {
     "data": {
      "text/plain": [
       "array([ 3.59633299,  3.67837949,  3.42786408,  3.84858201,  4.65798814,\n",
       "        3.2861731 ,  2.85150963,  3.98898604,  3.56702939,  3.53167163,\n",
       "        4.53618833,  3.44544658,  3.93090189,  4.12212852,  4.43972669,\n",
       "        3.87662146,  3.95597496,  3.33859329,  3.93459155,  4.04272782,\n",
       "        3.95528859,  3.13843976,  3.4624218 ,  3.29855768,  3.93411801,\n",
       "        2.98810064,  3.87526371,  3.36561828,  3.5358166 ,  3.64974528,\n",
       "        3.36314628,  3.69719681,  3.60310929,  3.98577073,  3.32402246,\n",
       "        4.0328091 ,  3.05025103,  3.71630068,  3.66989041,  4.02871192,\n",
       "        3.75457808,  3.6175154 ,  4.44321523,  4.12843932,  2.84843703,\n",
       "        3.74402052,  3.98998061,  3.43467204,  3.13118292,  3.61755393,\n",
       "        3.2136074 ,  3.81509432,  3.39920856,  4.05305025,  5.10184621,\n",
       "        3.58088602,  3.63284292,  3.38710366,  4.29069526,  3.68586858,\n",
       "        3.79060282,  3.8570852 ,  4.58655621,  3.63478689,  3.09748727,\n",
       "        4.11761985,  3.18657378,  3.96712055,  3.93845123,  4.05049977,\n",
       "        3.66698267,  4.63522863,  3.8720078 ,  3.9106257 ,  3.26865837,\n",
       "        3.99616507,  3.27459246,  3.63202843,  3.27018145,  3.78677329])"
      ]
     },
     "execution_count": 360,
     "metadata": {},
     "output_type": "execute_result"
    }
   ],
   "source": [
    "user_pred_Y"
   ]
  },
  {
   "cell_type": "code",
   "execution_count": 361,
   "metadata": {
    "collapsed": false
   },
   "outputs": [],
   "source": [
    "user_pred = user_pred.ix[(user_CL['Sale_CC_pred']==1)]\n",
    "user_pred['Sale_CC_pred_value'] = pd.Series(user_pred_Y,index=user_pred.index)"
   ]
  },
  {
   "cell_type": "code",
   "execution_count": 362,
   "metadata": {
    "collapsed": false
   },
   "outputs": [
    {
     "data": {
      "text/plain": [
       "(80,)"
      ]
     },
     "execution_count": 362,
     "metadata": {},
     "output_type": "execute_result"
    }
   ],
   "source": [
    "user_pred['Sale_CC_pred_value'].shape"
   ]
  },
  {
   "cell_type": "code",
   "execution_count": 363,
   "metadata": {
    "collapsed": false
   },
   "outputs": [
    {
     "data": {
      "text/plain": [
       "count    80.000000\n",
       "mean      3.726773\n",
       "std       0.429613\n",
       "min       2.848437\n",
       "25%       3.420700\n",
       "50%       3.691533\n",
       "75%       3.971783\n",
       "max       5.101846\n",
       "Name: Sale_CC_pred_value, dtype: float64"
      ]
     },
     "execution_count": 363,
     "metadata": {},
     "output_type": "execute_result"
    }
   ],
   "source": [
    "user_pred['Sale_CC_pred_value'].describe()"
   ]
  },
  {
   "cell_type": "code",
   "execution_count": 364,
   "metadata": {
    "collapsed": true
   },
   "outputs": [],
   "source": [
    "user_pred.to_csv(path_or_buf='consumer_loan_prop_pred_value.csv')"
   ]
  }
 ],
 "metadata": {
  "anaconda-cloud": {},
  "kernelspec": {
   "display_name": "Python [default]",
   "language": "python",
   "name": "python3"
  },
  "language_info": {
   "codemirror_mode": {
    "name": "ipython",
    "version": 3
   },
   "file_extension": ".py",
   "mimetype": "text/x-python",
   "name": "python",
   "nbconvert_exporter": "python",
   "pygments_lexer": "ipython3",
   "version": "3.5.2"
  }
 },
 "nbformat": 4,
 "nbformat_minor": 2
}
