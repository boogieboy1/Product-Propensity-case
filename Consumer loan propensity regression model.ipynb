{
 "cells": [
  {
   "cell_type": "markdown",
   "metadata": {
    "collapsed": false
   },
   "source": [
    "# Import needed libraries"
   ]
  },
  {
   "cell_type": "code",
   "execution_count": 124,
   "metadata": {
    "collapsed": false
   },
   "outputs": [],
   "source": [
    "#import libraries\n",
    "import pandas as pd\n",
    "import numpy as np\n",
    "import matplotlib.pyplot as plt\n",
    "from scipy import stats\n",
    "import seaborn as sns\n",
    "from scipy.stats import skew\n",
    "\n",
    "\n",
    "from sklearn.linear_model import LinearRegression\n",
    "from sklearn.svm import SVR\n",
    "from sklearn.ensemble import RandomForestRegressor\n",
    "from sklearn.tree import DecisionTreeRegressor\n",
    "from sklearn.linear_model import Ridge\n",
    "from sklearn.linear_model import Lasso\n",
    "from sklearn.linear_model import RandomizedLasso\n",
    "from sklearn.linear_model import BayesianRidge\n",
    "from sklearn.linear_model import SGDRegressor\n",
    "from sklearn.preprocessing import PolynomialFeatures\n",
    "\n",
    "from sklearn.neighbors import KNeighborsRegressor\n",
    "from sklearn.ensemble import GradientBoostingRegressor\n",
    "\n",
    "\n",
    "from sklearn.preprocessing import MinMaxScaler\n",
    "from sklearn.preprocessing import scale\n",
    "\n",
    "from sklearn.model_selection import train_test_split\n",
    "from sklearn.metrics import mean_absolute_error\n",
    "from sklearn.metrics import classification_report\n",
    "from sklearn.model_selection import cross_val_score\n",
    "from sklearn.model_selection import GridSearchCV\n",
    "from sklearn.model_selection import RandomizedSearchCV\n",
    "\n",
    "from sklearn.decomposition import PCA\n",
    "\n",
    "from sklearn.feature_selection import RFECV, RFE, f_regression\n",
    "\n",
    "\n",
    "from sklearn.decomposition import PCA\n",
    "\n",
    "%matplotlib inline"
   ]
  },
  {
   "cell_type": "markdown",
   "metadata": {},
   "source": [
    "# Methods used"
   ]
  },
  {
   "cell_type": "code",
   "execution_count": 125,
   "metadata": {
    "collapsed": true
   },
   "outputs": [],
   "source": [
    "# Remove correlated columns as this has a big impact on regression\n",
    "def correlation(dataset, threshold):\n",
    "    col_corr = set() # Set of all the names of deleted columns\n",
    "    corr_matrix = dataset.corr()\n",
    "    for i in range(len(corr_matrix.columns)):\n",
    "        for j in range(i):\n",
    "            if corr_matrix.iloc[i, j] >= threshold:\n",
    "                colname = corr_matrix.columns[i] # getting the name of column\n",
    "                col_corr.add(colname)\n",
    "                if colname in dataset.columns:\n",
    "                    del dataset[colname] # deleting the column from the dataset\n",
    "\n",
    "    return(dataset)"
   ]
  },
  {
   "cell_type": "markdown",
   "metadata": {},
   "source": [
    "# Load and split the data"
   ]
  },
  {
   "cell_type": "code",
   "execution_count": 126,
   "metadata": {
    "collapsed": false
   },
   "outputs": [
    {
     "name": "stdout",
     "output_type": "stream",
     "text": [
      "(1566, 41)\n"
     ]
    }
   ],
   "source": [
    "user = pd.read_csv(\"analysis_data.csv\", sep=\",\", index_col=\"Client\")\n",
    "print(user.shape)"
   ]
  },
  {
   "cell_type": "code",
   "execution_count": 127,
   "metadata": {
    "collapsed": false
   },
   "outputs": [
    {
     "name": "stdout",
     "output_type": "stream",
     "text": [
      "(282, 41)\n"
     ]
    }
   ],
   "source": [
    "user_tr = user[user['Sale_CL']==1]\n",
    "print(user_tr.shape)"
   ]
  },
  {
   "cell_type": "code",
   "execution_count": 128,
   "metadata": {
    "collapsed": false
   },
   "outputs": [],
   "source": [
    "user_tr = user_tr.drop(['Sale_MF','Sale_CC','Sale_CL','Revenue_MF','Revenue_CC'], axis=1)"
   ]
  },
  {
   "cell_type": "code",
   "execution_count": 129,
   "metadata": {
    "collapsed": false
   },
   "outputs": [
    {
     "name": "stdout",
     "output_type": "stream",
     "text": [
      "Index(['Age', 'Tenure', 'M', 'Count_CA', 'Count_SA', 'Count_MF', 'Count_OVD',\n",
      "       'Count_CC', 'Count_CL', 'ActBal_CA', 'ActBal_SA', 'ActBal_MF',\n",
      "       'ActBal_OVD', 'ActBal_CC', 'ActBal_CL', 'VolumeCred', 'VolumeCred_CA',\n",
      "       'TransactionsCred', 'TransactionsCred_CA', 'VolumeDeb', 'VolumeDeb_CA',\n",
      "       'VolumeDebCash_Card', 'VolumeDebCashless_Card',\n",
      "       'VolumeDeb_PaymentOrder', 'TransactionsDeb', 'TransactionsDeb_CA',\n",
      "       'TransactionsDebCash_Card', 'TransactionsDebCashless_Card',\n",
      "       'TransactionsDeb_PaymentOrder', 'Revenue_CL', 'Actbal_CA_avg',\n",
      "       'ActBal_SA_avg', 'ActBal_MF_avg', 'ActBal_OVD_avg', 'ActBal_CC_avg',\n",
      "       'ActBal_CL_avg'],\n",
      "      dtype='object')\n"
     ]
    }
   ],
   "source": [
    "print(user_tr.columns)"
   ]
  },
  {
   "cell_type": "markdown",
   "metadata": {},
   "source": [
    "Outliers are removed from the dataset"
   ]
  },
  {
   "cell_type": "code",
   "execution_count": 130,
   "metadata": {
    "collapsed": true
   },
   "outputs": [],
   "source": [
    "user_tr = user_tr.loc[user_tr['Revenue_CL']<30 ]"
   ]
  },
  {
   "cell_type": "code",
   "execution_count": 131,
   "metadata": {
    "collapsed": true
   },
   "outputs": [],
   "source": [
    "user_tr_X = user_tr.drop('Revenue_CL', axis=1)\n",
    "user_tr_Y = user_tr['Revenue_CL']"
   ]
  },
  {
   "cell_type": "markdown",
   "metadata": {},
   "source": [
    "Highly correlated datasets are removed from the dataset"
   ]
  },
  {
   "cell_type": "code",
   "execution_count": 132,
   "metadata": {
    "collapsed": true
   },
   "outputs": [],
   "source": [
    "user_tr_X= correlation(user_tr_X,0.7)"
   ]
  },
  {
   "cell_type": "code",
   "execution_count": 133,
   "metadata": {
    "collapsed": false
   },
   "outputs": [
    {
     "name": "stdout",
     "output_type": "stream",
     "text": [
      "Index(['Age', 'Tenure', 'M', 'Count_CA', 'Count_SA', 'Count_MF', 'Count_OVD',\n",
      "       'Count_CC', 'Count_CL', 'ActBal_CA', 'ActBal_SA', 'ActBal_MF',\n",
      "       'ActBal_OVD', 'ActBal_CC', 'VolumeCred', 'TransactionsCred',\n",
      "       'VolumeDebCash_Card', 'VolumeDebCashless_Card',\n",
      "       'TransactionsDebCash_Card'],\n",
      "      dtype='object')\n"
     ]
    }
   ],
   "source": [
    "print(user_tr_X.columns)"
   ]
  },
  {
   "cell_type": "code",
   "execution_count": 134,
   "metadata": {
    "collapsed": false
   },
   "outputs": [
    {
     "data": {
      "text/plain": [
       "(276,)"
      ]
     },
     "execution_count": 134,
     "metadata": {},
     "output_type": "execute_result"
    }
   ],
   "source": [
    "user_tr_Y.shape"
   ]
  },
  {
   "cell_type": "markdown",
   "metadata": {},
   "source": [
    "## Correlation"
   ]
  },
  {
   "cell_type": "code",
   "execution_count": 135,
   "metadata": {
    "collapsed": false
   },
   "outputs": [
    {
     "name": "stdout",
     "output_type": "stream",
     "text": [
      "Age\n",
      "0.0799865345485\n",
      "Tenure\n",
      "0.016876411833\n",
      "M\n",
      "-0.029242612884\n",
      "Count_CA\n",
      "0.0374357184154\n",
      "Count_SA\n",
      "0.0501905103332\n",
      "Count_MF\n",
      "0.0117911525482\n",
      "Count_OVD\n",
      "0.014666350739\n",
      "Count_CC\n",
      "-0.0983570405612\n",
      "Count_CL\n",
      "0.133911162898\n",
      "ActBal_CA\n",
      "0.093778010144\n",
      "ActBal_SA\n",
      "0.0737905738047\n",
      "ActBal_MF\n",
      "0.104144133165\n",
      "ActBal_OVD\n",
      "-0.0149233522036\n",
      "ActBal_CC\n",
      "-0.11686042686\n",
      "VolumeCred\n",
      "-0.0296183814778\n",
      "TransactionsCred\n",
      "-0.0107544434629\n",
      "VolumeDebCash_Card\n",
      "-0.0164064099277\n",
      "VolumeDebCashless_Card\n",
      "-0.0223855404496\n",
      "TransactionsDebCash_Card\n",
      "-0.0413631081402\n"
     ]
    }
   ],
   "source": [
    "for col in user_tr_X.columns:\n",
    "    print(col)\n",
    "    print(np.corrcoef(user_tr_Y,user_tr_X[col])[0][1])"
   ]
  },
  {
   "cell_type": "markdown",
   "metadata": {},
   "source": [
    "As seen no real correlation exist between the target and one of the remaining variables"
   ]
  },
  {
   "cell_type": "markdown",
   "metadata": {},
   "source": [
    "# Preprocessing"
   ]
  },
  {
   "cell_type": "markdown",
   "metadata": {},
   "source": [
    "## check for skewness and log transform if needed"
   ]
  },
  {
   "cell_type": "code",
   "execution_count": 136,
   "metadata": {
    "collapsed": true
   },
   "outputs": [],
   "source": [
    "#log transform skewed numeric features:\n",
    "user_skew = user_tr_X.drop('M', axis=1)\n",
    "skewed_feats = user_skew.apply(lambda x: skew(x.dropna())) #compute skewness\n",
    "skewed_feats = skewed_feats[skewed_feats > 0.75]\n",
    "skewed_feats = skewed_feats.index\n",
    "\n",
    "user_tr_X[skewed_feats] = np.log1p(user_tr_X[skewed_feats])"
   ]
  },
  {
   "cell_type": "markdown",
   "metadata": {},
   "source": [
    "## Check target variable"
   ]
  },
  {
   "cell_type": "code",
   "execution_count": 137,
   "metadata": {
    "collapsed": false
   },
   "outputs": [
    {
     "data": {
      "text/plain": [
       "count    276.000000\n",
       "mean      11.165608\n",
       "std        6.096673\n",
       "min        1.071429\n",
       "25%        6.245982\n",
       "50%       10.589286\n",
       "75%       15.099643\n",
       "max       29.781071\n",
       "Name: Revenue_CL, dtype: float64"
      ]
     },
     "execution_count": 137,
     "metadata": {},
     "output_type": "execute_result"
    }
   ],
   "source": [
    "user_tr_Y.describe()"
   ]
  },
  {
   "cell_type": "code",
   "execution_count": 167,
   "metadata": {
    "collapsed": false
   },
   "outputs": [
    {
     "data": {
      "text/plain": [
       "(276,)"
      ]
     },
     "execution_count": 167,
     "metadata": {},
     "output_type": "execute_result"
    }
   ],
   "source": [
    "user_tr_Y.shape"
   ]
  },
  {
   "cell_type": "code",
   "execution_count": 138,
   "metadata": {
    "collapsed": false
   },
   "outputs": [
    {
     "data": {
      "text/plain": [
       "Client\n",
       "553     29.781071\n",
       "83      28.685357\n",
       "729     28.148929\n",
       "1083    27.551786\n",
       "1058    27.323571\n",
       "415     27.257500\n",
       "1298    25.243214\n",
       "900     24.797500\n",
       "1231    24.434643\n",
       "1425    24.250000\n",
       "Name: Revenue_CL, dtype: float64"
      ]
     },
     "execution_count": 138,
     "metadata": {},
     "output_type": "execute_result"
    }
   ],
   "source": [
    "user_tr_Y.sort_values(ascending = False).head(10)"
   ]
  },
  {
   "cell_type": "code",
   "execution_count": 139,
   "metadata": {
    "collapsed": false
   },
   "outputs": [
    {
     "data": {
      "image/png": "[encoded data removed]",
      "text/plain": [
       "<matplotlib.figure.Figure at 0x7f198244d5f8>"
      ]
     },
     "metadata": {},
     "output_type": "display_data"
    }
   ],
   "source": [
    "plt.hist(user_tr_Y)\n",
    "plt.show()"
   ]
  },
  {
   "cell_type": "markdown",
   "metadata": {},
   "source": [
    "The target will be log transformed"
   ]
  },
  {
   "cell_type": "code",
   "execution_count": 140,
   "metadata": {
    "collapsed": true
   },
   "outputs": [],
   "source": [
    "user_tr_Y = np.log1p(user_tr_Y)\n",
    "user_tr_X.replace(np.NaN, 0, inplace=True)"
   ]
  },
  {
   "cell_type": "markdown",
   "metadata": {},
   "source": [
    "# Choose model"
   ]
  },
  {
   "cell_type": "code",
   "execution_count": 141,
   "metadata": {
    "collapsed": false
   },
   "outputs": [
    {
     "name": "stdout",
     "output_type": "stream",
     "text": [
      "neg_mean_squared_error: -0.33 (+/- 0.15)\n",
      "[-0.32784748 -0.26075338 -0.32850839 -0.49293617 -0.37546904 -0.38547841\n",
      " -0.23361595 -0.27520174 -0.2593813  -0.35967968]\n"
     ]
    }
   ],
   "source": [
    "reg = BayesianRidge()\n",
    "scores = cross_val_score(reg, user_tr_X, user_tr_Y, cv=10, scoring='neg_mean_squared_error', n_jobs=-1)\n",
    "print(\"neg_mean_squared_error: %0.2f (+/- %0.2f)\" % (scores.mean(), scores.std() * 2))\n",
    "print(scores)"
   ]
  },
  {
   "cell_type": "code",
   "execution_count": 142,
   "metadata": {
    "collapsed": false
   },
   "outputs": [
    {
     "name": "stdout",
     "output_type": "stream",
     "text": [
      "neg_mean_squared_error: -0.33 (+/- 0.15)\n"
     ]
    }
   ],
   "source": [
    "reg = Lasso()\n",
    "scores = cross_val_score(reg, user_tr_X, user_tr_Y, cv=10, scoring='neg_mean_squared_error', n_jobs=-1)\n",
    "print(\"neg_mean_squared_error: %0.2f (+/- %0.2f)\" % (scores.mean(), scores.std() * 2))"
   ]
  },
  {
   "cell_type": "code",
   "execution_count": 143,
   "metadata": {
    "collapsed": false
   },
   "outputs": [
    {
     "name": "stdout",
     "output_type": "stream",
     "text": [
      "neg_mean_squared_error: -0.34 (+/- 0.19)\n"
     ]
    }
   ],
   "source": [
    "reg = Ridge()\n",
    "scores = cross_val_score(reg,user_tr_X, user_tr_Y, cv=10, scoring='neg_mean_squared_error', n_jobs=-1)\n",
    "print(\"neg_mean_squared_error: %0.2f (+/- %0.2f)\" % (scores.mean(), scores.std() * 2))"
   ]
  },
  {
   "cell_type": "code",
   "execution_count": 144,
   "metadata": {
    "collapsed": false
   },
   "outputs": [
    {
     "name": "stdout",
     "output_type": "stream",
     "text": [
      "neg_mean_squared_error: -0.39 (+/- 0.17)\n"
     ]
    }
   ],
   "source": [
    "reg = RandomForestRegressor()\n",
    "scores = cross_val_score(reg,user_tr_X, user_tr_Y, cv=10, scoring='neg_mean_squared_error', n_jobs=-1)\n",
    "print(\"neg_mean_squared_error: %0.2f (+/- %0.2f)\" % (scores.mean(), scores.std() * 2))"
   ]
  },
  {
   "cell_type": "code",
   "execution_count": 145,
   "metadata": {
    "collapsed": false
   },
   "outputs": [
    {
     "name": "stdout",
     "output_type": "stream",
     "text": [
      "neg_mean_squared_error: -0.41 (+/- 0.21)\n"
     ]
    }
   ],
   "source": [
    "reg = GradientBoostingRegressor()\n",
    "scores = cross_val_score(reg,user_tr_X, user_tr_Y, cv=10, scoring='neg_mean_squared_error', n_jobs=-1)\n",
    "print(\"neg_mean_squared_error: %0.2f (+/- %0.2f)\" % (scores.mean(), scores.std() * 2))"
   ]
  },
  {
   "cell_type": "markdown",
   "metadata": {
    "collapsed": true
   },
   "source": [
    "## Scaling the params"
   ]
  },
  {
   "cell_type": "code",
   "execution_count": 146,
   "metadata": {
    "collapsed": true
   },
   "outputs": [],
   "source": [
    "#Scale the \n",
    "user_tr_X_scale = scale(user_tr_X)\n",
    "user_tr_Y_scale = scale(user_tr_Y)"
   ]
  },
  {
   "cell_type": "code",
   "execution_count": 147,
   "metadata": {
    "collapsed": false
   },
   "outputs": [
    {
     "name": "stdout",
     "output_type": "stream",
     "text": [
      "neg_mean_squared_error: -1.05 (+/- 0.71)\n"
     ]
    }
   ],
   "source": [
    "svr = SVR(kernel='linear')\n",
    "scores = cross_val_score(svr,user_tr_X_scale, user_tr_Y_scale, cv=10, scoring='neg_mean_squared_error', n_jobs=-1)\n",
    "print(\"neg_mean_squared_error: %0.2f (+/- %0.2f)\" % (scores.mean(), scores.std() * 2))"
   ]
  },
  {
   "cell_type": "code",
   "execution_count": 148,
   "metadata": {
    "collapsed": false
   },
   "outputs": [
    {
     "name": "stdout",
     "output_type": "stream",
     "text": [
      "neg_mean_squared_error: -1.14 (+/- 0.64)\n"
     ]
    }
   ],
   "source": [
    "svr = SVR(kernel='rbf')\n",
    "scores = cross_val_score(svr,user_tr_X_scale, user_tr_Y_scale, cv=10, scoring='neg_mean_squared_error', n_jobs=-1)\n",
    "print(\"neg_mean_squared_error: %0.2f (+/- %0.2f)\" % (scores.mean(), scores.std() * 2))"
   ]
  },
  {
   "cell_type": "code",
   "execution_count": 149,
   "metadata": {
    "collapsed": false
   },
   "outputs": [
    {
     "name": "stdout",
     "output_type": "stream",
     "text": [
      "neg_mean_squared_error: -1.16 (+/- 0.62)\n"
     ]
    }
   ],
   "source": [
    "reg = KNeighborsRegressor()\n",
    "scores = cross_val_score(reg,user_tr_X_scale, user_tr_Y_scale, cv=10, scoring='neg_mean_squared_error', n_jobs=-1)\n",
    "print(\"neg_mean_squared_error: %0.2f (+/- %0.2f)\" % (scores.mean(), scores.std() * 2))"
   ]
  },
  {
   "cell_type": "code",
   "execution_count": 150,
   "metadata": {
    "collapsed": false
   },
   "outputs": [
    {
     "name": "stdout",
     "output_type": "stream",
     "text": [
      "neg_mean_squared_error: -1.01 (+/- 0.45)\n"
     ]
    }
   ],
   "source": [
    "reg = Lasso()\n",
    "scores = cross_val_score(reg, user_tr_X_scale, user_tr_Y_scale, cv=10, scoring='neg_mean_squared_error', n_jobs=-1)\n",
    "print(\"neg_mean_squared_error: %0.2f (+/- %0.2f)\" % (scores.mean(), scores.std() * 2))"
   ]
  },
  {
   "cell_type": "markdown",
   "metadata": {},
   "source": [
    "## check if improvements with polynomial features"
   ]
  },
  {
   "cell_type": "code",
   "execution_count": 151,
   "metadata": {
    "collapsed": true
   },
   "outputs": [],
   "source": [
    "poly = PolynomialFeatures(degree=3)\n",
    "user_tr_X_pol = poly.fit_transform(user_tr_X)"
   ]
  },
  {
   "cell_type": "code",
   "execution_count": 152,
   "metadata": {
    "collapsed": false
   },
   "outputs": [
    {
     "name": "stdout",
     "output_type": "stream",
     "text": [
      "neg_mean_squared_error: -0.33 (+/- 0.14)\n"
     ]
    }
   ],
   "source": [
    "reg = Lasso(normalize=True)\n",
    "scores = cross_val_score(reg, user_tr_X_pol, user_tr_Y, cv=10, scoring='neg_mean_squared_error', n_jobs=-1)\n",
    "print(\"neg_mean_squared_error: %0.2f (+/- %0.2f)\" % (scores.mean(), scores.std() * 2))"
   ]
  },
  {
   "cell_type": "markdown",
   "metadata": {},
   "source": [
    "# PCA"
   ]
  },
  {
   "cell_type": "markdown",
   "metadata": {},
   "source": [
    "Maybe some PCA will improve it but probably not as Lasso already removes the unnecessary variables by regularization"
   ]
  },
  {
   "cell_type": "code",
   "execution_count": 153,
   "metadata": {
    "collapsed": false
   },
   "outputs": [
    {
     "data": {
      "text/plain": [
       "(276, 10)"
      ]
     },
     "execution_count": 153,
     "metadata": {},
     "output_type": "execute_result"
    }
   ],
   "source": [
    "#dimension reduction\n",
    "pca = PCA(n_components=10)\n",
    "X_pca_20 = pca.fit_transform(user_tr_X)\n",
    "X_pca_20.shape"
   ]
  },
  {
   "cell_type": "code",
   "execution_count": 154,
   "metadata": {
    "collapsed": false
   },
   "outputs": [
    {
     "name": "stdout",
     "output_type": "stream",
     "text": [
      "neg_mean_squared_error: -0.33 (+/- 0.15)\n"
     ]
    }
   ],
   "source": [
    "reg = Lasso()\n",
    "scores = cross_val_score(reg, X_pca_20, user_tr_Y, cv=10, scoring='neg_mean_squared_error', n_jobs=-1)\n",
    "print(\"neg_mean_squared_error: %0.2f (+/- %0.2f)\" % (scores.mean(), scores.std() * 2))"
   ]
  },
  {
   "cell_type": "markdown",
   "metadata": {},
   "source": [
    "# Result"
   ]
  },
  {
   "cell_type": "markdown",
   "metadata": {},
   "source": [
    "# The Lasso algo is the best and we will use it for prediction"
   ]
  },
  {
   "cell_type": "markdown",
   "metadata": {
    "collapsed": true
   },
   "source": [
    "# Optimization of the algorithm"
   ]
  },
  {
   "cell_type": "code",
   "execution_count": 155,
   "metadata": {
    "collapsed": false
   },
   "outputs": [
    {
     "name": "stdout",
     "output_type": "stream",
     "text": [
      "Lasso(alpha=0.1, copy_X=True, fit_intercept=True, max_iter=1000,\n",
      "   normalize=False, positive=False, precompute=False, random_state=None,\n",
      "   selection='cyclic', tol=0.5, warm_start=False)\n",
      "{'tol': 0.5, 'alpha': 0.1}\n",
      "-0.327371446859\n"
     ]
    }
   ],
   "source": [
    "search = { 'alpha':[0.001,0.1,0.5, 0.7, 1], 'tol':[0.5, 1,5,10]}\n",
    "\n",
    "\n",
    "lasso = Lasso()\n",
    "\n",
    "lasso_grid = GridSearchCV(estimator=lasso,param_grid=search, scoring='neg_mean_squared_error', n_jobs=-1,refit=True, cv=10)\n",
    "\n",
    "lasso_grid.fit( user_tr_X, user_tr_Y)\n",
    "\n",
    "print(lasso_grid.best_estimator_)\n",
    "\n",
    "print(lasso_grid.best_params_)\n",
    "\n",
    "print(lasso_grid.best_score_)"
   ]
  },
  {
   "cell_type": "markdown",
   "metadata": {},
   "source": [
    "Let's have a quick look at the residuals of the estimator. \n",
    "These should follow a random pattern."
   ]
  },
  {
   "cell_type": "code",
   "execution_count": 156,
   "metadata": {
    "collapsed": false
   },
   "outputs": [
    {
     "data": {
      "text/plain": [
       "<matplotlib.collections.PathCollection at 0x7f1983701f98>"
      ]
     },
     "execution_count": 156,
     "metadata": {},
     "output_type": "execute_result"
    },
    {
     "data": {
      "image/png": "[encoded data removed]",
      "text/plain": [
       "<matplotlib.figure.Figure at 0x7f1982599fd0>"
      ]
     },
     "metadata": {},
     "output_type": "display_data"
    }
   ],
   "source": [
    "plt.scatter(lasso_grid.predict(user_tr_X), lasso_grid.predict(user_tr_X)-user_tr_Y)"
   ]
  },
  {
   "cell_type": "markdown",
   "metadata": {},
   "source": [
    "Looks pretty random :)"
   ]
  },
  {
   "cell_type": "markdown",
   "metadata": {
    "collapsed": true
   },
   "source": [
    "# Fit the model and predict the missing values"
   ]
  },
  {
   "cell_type": "code",
   "execution_count": 157,
   "metadata": {
    "collapsed": false
   },
   "outputs": [
    {
     "name": "stdout",
     "output_type": "stream",
     "text": [
      "(629, 36)\n"
     ]
    }
   ],
   "source": [
    "user_pred = pd.read_csv(\"consumer_loan_prop_pred.csv\", sep=\",\", index_col=\"Client\")\n",
    "print(user_pred.shape)"
   ]
  },
  {
   "cell_type": "code",
   "execution_count": 158,
   "metadata": {
    "collapsed": false
   },
   "outputs": [],
   "source": [
    "user_pred_X = user_pred.ix[(user_pred['Sale_CL_pred']==1)]\n",
    "user_pred_X = user_pred_X.drop('Sale_CL_pred', axis=1)\n"
   ]
  },
  {
   "cell_type": "code",
   "execution_count": 159,
   "metadata": {
    "collapsed": false
   },
   "outputs": [],
   "source": [
    "user_pred_X[skewed_feats] = np.log1p(user_pred_X[skewed_feats])"
   ]
  },
  {
   "cell_type": "code",
   "execution_count": 160,
   "metadata": {
    "collapsed": false
   },
   "outputs": [
    {
     "data": {
      "text/html": [
       "<div>\n",
       "<table border=\"1\" class=\"dataframe\">\n",
       "  <thead>\n",
       "    <tr style=\"text-align: right;\">\n",
       "      <th></th>\n",
       "      <th>Age</th>\n",
       "      <th>Tenure</th>\n",
       "      <th>M</th>\n",
       "      <th>Count_CA</th>\n",
       "      <th>Count_SA</th>\n",
       "      <th>Count_MF</th>\n",
       "      <th>Count_OVD</th>\n",
       "      <th>Count_CC</th>\n",
       "      <th>Count_CL</th>\n",
       "      <th>ActBal_CA</th>\n",
       "      <th>...</th>\n",
       "      <th>TransactionsDeb_CA</th>\n",
       "      <th>TransactionsDebCash_Card</th>\n",
       "      <th>TransactionsDebCashless_Card</th>\n",
       "      <th>TransactionsDeb_PaymentOrder</th>\n",
       "      <th>Actbal_CA_avg</th>\n",
       "      <th>ActBal_SA_avg</th>\n",
       "      <th>ActBal_MF_avg</th>\n",
       "      <th>ActBal_OVD_avg</th>\n",
       "      <th>ActBal_CC_avg</th>\n",
       "      <th>ActBal_CL_avg</th>\n",
       "    </tr>\n",
       "    <tr>\n",
       "      <th>Client</th>\n",
       "      <th></th>\n",
       "      <th></th>\n",
       "      <th></th>\n",
       "      <th></th>\n",
       "      <th></th>\n",
       "      <th></th>\n",
       "      <th></th>\n",
       "      <th></th>\n",
       "      <th></th>\n",
       "      <th></th>\n",
       "      <th></th>\n",
       "      <th></th>\n",
       "      <th></th>\n",
       "      <th></th>\n",
       "      <th></th>\n",
       "      <th></th>\n",
       "      <th></th>\n",
       "      <th></th>\n",
       "      <th></th>\n",
       "      <th></th>\n",
       "      <th></th>\n",
       "    </tr>\n",
       "  </thead>\n",
       "  <tbody>\n",
       "    <tr>\n",
       "      <th>267</th>\n",
       "      <td>73.0</td>\n",
       "      <td>36</td>\n",
       "      <td>0.0</td>\n",
       "      <td>0.693147</td>\n",
       "      <td>0.0</td>\n",
       "      <td>0.000000</td>\n",
       "      <td>0.000000</td>\n",
       "      <td>0.0</td>\n",
       "      <td>0.0</td>\n",
       "      <td>0.000000</td>\n",
       "      <td>...</td>\n",
       "      <td>12</td>\n",
       "      <td>0.693147</td>\n",
       "      <td>7</td>\n",
       "      <td>2</td>\n",
       "      <td>0.000000</td>\n",
       "      <td>0.0</td>\n",
       "      <td>0.000000</td>\n",
       "      <td>0.0000</td>\n",
       "      <td>0.0</td>\n",
       "      <td>0.0</td>\n",
       "    </tr>\n",
       "    <tr>\n",
       "      <th>1243</th>\n",
       "      <td>78.0</td>\n",
       "      <td>51</td>\n",
       "      <td>1.0</td>\n",
       "      <td>1.098612</td>\n",
       "      <td>0.0</td>\n",
       "      <td>1.386294</td>\n",
       "      <td>0.000000</td>\n",
       "      <td>0.0</td>\n",
       "      <td>0.0</td>\n",
       "      <td>0.829175</td>\n",
       "      <td>...</td>\n",
       "      <td>17</td>\n",
       "      <td>1.386294</td>\n",
       "      <td>0</td>\n",
       "      <td>9</td>\n",
       "      <td>0.645714</td>\n",
       "      <td>0.0</td>\n",
       "      <td>2915.261905</td>\n",
       "      <td>0.0000</td>\n",
       "      <td>0.0</td>\n",
       "      <td>0.0</td>\n",
       "    </tr>\n",
       "    <tr>\n",
       "      <th>919</th>\n",
       "      <td>29.0</td>\n",
       "      <td>5</td>\n",
       "      <td>0.0</td>\n",
       "      <td>0.693147</td>\n",
       "      <td>0.0</td>\n",
       "      <td>0.000000</td>\n",
       "      <td>0.693147</td>\n",
       "      <td>0.0</td>\n",
       "      <td>0.0</td>\n",
       "      <td>5.541310</td>\n",
       "      <td>...</td>\n",
       "      <td>22</td>\n",
       "      <td>1.609438</td>\n",
       "      <td>7</td>\n",
       "      <td>8</td>\n",
       "      <td>254.011786</td>\n",
       "      <td>0.0</td>\n",
       "      <td>0.000000</td>\n",
       "      <td>0.0000</td>\n",
       "      <td>0.0</td>\n",
       "      <td>0.0</td>\n",
       "    </tr>\n",
       "    <tr>\n",
       "      <th>144</th>\n",
       "      <td>67.0</td>\n",
       "      <td>104</td>\n",
       "      <td>1.0</td>\n",
       "      <td>0.693147</td>\n",
       "      <td>0.0</td>\n",
       "      <td>0.000000</td>\n",
       "      <td>0.000000</td>\n",
       "      <td>0.0</td>\n",
       "      <td>0.0</td>\n",
       "      <td>7.103151</td>\n",
       "      <td>...</td>\n",
       "      <td>3</td>\n",
       "      <td>0.693147</td>\n",
       "      <td>2</td>\n",
       "      <td>0</td>\n",
       "      <td>1214.792143</td>\n",
       "      <td>0.0</td>\n",
       "      <td>0.000000</td>\n",
       "      <td>0.0000</td>\n",
       "      <td>0.0</td>\n",
       "      <td>0.0</td>\n",
       "    </tr>\n",
       "    <tr>\n",
       "      <th>1440</th>\n",
       "      <td>29.0</td>\n",
       "      <td>96</td>\n",
       "      <td>1.0</td>\n",
       "      <td>0.693147</td>\n",
       "      <td>0.0</td>\n",
       "      <td>0.000000</td>\n",
       "      <td>0.693147</td>\n",
       "      <td>0.0</td>\n",
       "      <td>0.0</td>\n",
       "      <td>7.231046</td>\n",
       "      <td>...</td>\n",
       "      <td>34</td>\n",
       "      <td>1.791759</td>\n",
       "      <td>20</td>\n",
       "      <td>3</td>\n",
       "      <td>1380.666429</td>\n",
       "      <td>0.0</td>\n",
       "      <td>0.000000</td>\n",
       "      <td>152.2775</td>\n",
       "      <td>0.0</td>\n",
       "      <td>0.0</td>\n",
       "    </tr>\n",
       "  </tbody>\n",
       "</table>\n",
       "<p>5 rows × 35 columns</p>\n",
       "</div>"
      ],
      "text/plain": [
       "         Age  Tenure    M  Count_CA  Count_SA  Count_MF  Count_OVD  Count_CC  \\\n",
       "Client                                                                         \n",
       "267     73.0      36  0.0  0.693147       0.0  0.000000   0.000000       0.0   \n",
       "1243    78.0      51  1.0  1.098612       0.0  1.386294   0.000000       0.0   \n",
       "919     29.0       5  0.0  0.693147       0.0  0.000000   0.693147       0.0   \n",
       "144     67.0     104  1.0  0.693147       0.0  0.000000   0.000000       0.0   \n",
       "1440    29.0      96  1.0  0.693147       0.0  0.000000   0.693147       0.0   \n",
       "\n",
       "        Count_CL  ActBal_CA      ...        TransactionsDeb_CA  \\\n",
       "Client                           ...                             \n",
       "267          0.0   0.000000      ...                        12   \n",
       "1243         0.0   0.829175      ...                        17   \n",
       "919          0.0   5.541310      ...                        22   \n",
       "144          0.0   7.103151      ...                         3   \n",
       "1440         0.0   7.231046      ...                        34   \n",
       "\n",
       "        TransactionsDebCash_Card  TransactionsDebCashless_Card  \\\n",
       "Client                                                           \n",
       "267                     0.693147                             7   \n",
       "1243                    1.386294                             0   \n",
       "919                     1.609438                             7   \n",
       "144                     0.693147                             2   \n",
       "1440                    1.791759                            20   \n",
       "\n",
       "        TransactionsDeb_PaymentOrder  Actbal_CA_avg  ActBal_SA_avg  \\\n",
       "Client                                                               \n",
       "267                                2       0.000000            0.0   \n",
       "1243                               9       0.645714            0.0   \n",
       "919                                8     254.011786            0.0   \n",
       "144                                0    1214.792143            0.0   \n",
       "1440                               3    1380.666429            0.0   \n",
       "\n",
       "        ActBal_MF_avg  ActBal_OVD_avg  ActBal_CC_avg  ActBal_CL_avg  \n",
       "Client                                                               \n",
       "267          0.000000          0.0000            0.0            0.0  \n",
       "1243      2915.261905          0.0000            0.0            0.0  \n",
       "919          0.000000          0.0000            0.0            0.0  \n",
       "144          0.000000          0.0000            0.0            0.0  \n",
       "1440         0.000000        152.2775            0.0            0.0  \n",
       "\n",
       "[5 rows x 35 columns]"
      ]
     },
     "execution_count": 160,
     "metadata": {},
     "output_type": "execute_result"
    }
   ],
   "source": [
    "user_pred_X.head()"
   ]
  },
  {
   "cell_type": "code",
   "execution_count": 161,
   "metadata": {
    "collapsed": false
   },
   "outputs": [],
   "source": [
    "user_pred_Y = np.expm1(lasso_grid.predict(user_pred_X[user_tr_X.columns]))"
   ]
  },
  {
   "cell_type": "code",
   "execution_count": 162,
   "metadata": {
    "collapsed": false
   },
   "outputs": [
    {
     "data": {
      "text/plain": [
       "array([  9.63855926,  10.02841839,   9.01760911,  11.00269474,\n",
       "         9.43377858,   9.66462973,   8.7997538 ,  10.22026293,\n",
       "         8.97731091,   8.28054218,   9.534958  ,   9.91804148,\n",
       "         9.41580867,   7.70279096,   8.65903746,   8.53736614,\n",
       "         8.97390303,  10.19066409,   8.11085096,   8.7177966 ,\n",
       "         7.17708737,   8.61740695,  10.27523493,   9.2882886 ,\n",
       "         9.3345816 ,   9.34756662,   7.75198532,  10.23872829,\n",
       "        10.0201455 ,   8.90889859,   9.27773708,   9.77806286,\n",
       "         8.36138672,  10.84335695,   9.02490359,  10.03952729,\n",
       "         8.69684682,  10.26476222,   9.80726594,  10.48885856,\n",
       "         9.88422192,   9.03151918,   9.07099623,   9.29798852,\n",
       "         9.85749083,   9.01348011,   9.94464716,  10.40045671,\n",
       "         9.76320165,   9.97807987,   8.39299745,  10.26830751,\n",
       "         8.53526744,  10.47748882,   8.80501431,   9.79576774,\n",
       "         9.36716423,   8.82829653,   9.11717487,   9.36408243,\n",
       "         9.65024415,   9.61409779,  10.87097595,   8.72410604,\n",
       "         7.95099604,   8.44562813,  10.52260251,   9.31041218,\n",
       "        10.18273093,   8.23745882,   8.88185517,   9.1533223 ,\n",
       "         9.31329189,   9.80462729,   8.99944256,   9.73556542,\n",
       "         9.71472931,   9.74218079,   8.94897452,   9.75240731,\n",
       "         9.03134796,   9.63251316,   8.89183558,   9.55944317,\n",
       "         8.41374663,  10.06593902,   9.0478547 ,   8.89255661,\n",
       "         9.88486623,  10.76250713,   9.41502513,   9.54375309,\n",
       "         8.74718565,   9.8682087 ,   8.98299826,   9.16281444,\n",
       "         9.06287171,   8.32531844,   9.53054456,   9.79773388,\n",
       "         8.53945604,   9.58509782,   9.1935763 ,   8.18789411,\n",
       "         9.78808223,   9.33063114,   9.16155533,   9.72093436,\n",
       "         8.58109385,   9.94075755,   9.19716444,   9.12187021,\n",
       "         9.82727928,   9.60861601,   9.68898885,   9.22371096,\n",
       "         9.18116083,   9.58805616,   8.94107433,   8.86614352,\n",
       "        10.7224371 ,   9.81275986,   9.10522175,   8.81790412,\n",
       "         9.67741111,   9.46962145,   8.82381646,   8.39313088,\n",
       "         9.13852286,  10.25293883,   9.28897916,   8.61234677,\n",
       "         8.67621471,   8.24509263,   9.83141494,   9.07662661,\n",
       "         7.20327229,   9.71783096,   9.11213793,   8.7060371 ,\n",
       "         9.59786222,   8.38108123,   9.00213614,   7.64333214,\n",
       "         9.24626927,   9.69541905,   8.56378467,   9.51667049,\n",
       "         9.41371571,   8.83920296,   7.93423884,   9.1525105 ,\n",
       "         8.46727947,   8.10931716,   9.30376415,   9.43152353,\n",
       "         9.68134355,   9.13213149,   9.4201535 ,   8.58540209])"
      ]
     },
     "execution_count": 162,
     "metadata": {},
     "output_type": "execute_result"
    }
   ],
   "source": [
    "user_pred_Y"
   ]
  },
  {
   "cell_type": "code",
   "execution_count": 163,
   "metadata": {
    "collapsed": false
   },
   "outputs": [],
   "source": [
    "user_pred = user_pred.ix[(user_pred['Sale_CL_pred']==1)]\n",
    "user_pred['Sale_CL_pred_value'] = pd.Series(user_pred_Y,index=user_pred.index)"
   ]
  },
  {
   "cell_type": "code",
   "execution_count": 164,
   "metadata": {
    "collapsed": false
   },
   "outputs": [
    {
     "data": {
      "text/plain": [
       "(160,)"
      ]
     },
     "execution_count": 164,
     "metadata": {},
     "output_type": "execute_result"
    }
   ],
   "source": [
    "user_pred['Sale_CL_pred_value'].shape"
   ]
  },
  {
   "cell_type": "code",
   "execution_count": 165,
   "metadata": {
    "collapsed": false
   },
   "outputs": [
    {
     "data": {
      "text/plain": [
       "count    160.000000\n",
       "mean       9.267561\n",
       "std        0.708498\n",
       "min        7.177087\n",
       "25%        8.827177\n",
       "50%        9.288634\n",
       "75%        9.744737\n",
       "max       11.002695\n",
       "Name: Sale_CL_pred_value, dtype: float64"
      ]
     },
     "execution_count": 165,
     "metadata": {},
     "output_type": "execute_result"
    }
   ],
   "source": [
    "user_pred['Sale_CL_pred_value'].describe()"
   ]
  },
  {
   "cell_type": "code",
   "execution_count": 166,
   "metadata": {
    "collapsed": true
   },
   "outputs": [],
   "source": [
    "user_pred.to_csv(path_or_buf='consumer_loan_prop_pred_value.csv')"
   ]
  }
 ],
 "metadata": {
  "anaconda-cloud": {},
  "kernelspec": {
   "display_name": "Python [default]",
   "language": "python",
   "name": "python3"
  },
  "language_info": {
   "codemirror_mode": {
    "name": "ipython",
    "version": 3
   },
   "file_extension": ".py",
   "mimetype": "text/x-python",
   "name": "python",
   "nbconvert_exporter": "python",
   "pygments_lexer": "ipython3",
   "version": "3.5.2"
  }
 },
 "nbformat": 4,
 "nbformat_minor": 2
}
