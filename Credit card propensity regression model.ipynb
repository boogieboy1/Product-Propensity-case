{
 "cells": [
  {
   "cell_type": "markdown",
   "metadata": {
    "collapsed": false
   },
   "source": [
    "# Import needed libraries"
   ]
  },
  {
   "cell_type": "code",
   "execution_count": 1,
   "metadata": {
    "collapsed": false
   },
   "outputs": [],
   "source": [
    "#import libraries\n",
    "import pandas as pd\n",
    "import numpy as np\n",
    "import matplotlib.pyplot as plt\n",
    "from scipy import stats\n",
    "import seaborn as sns\n",
    "from scipy.stats import skew\n",
    "\n",
    "\n",
    "from sklearn.linear_model import LinearRegression\n",
    "from sklearn.svm import SVR\n",
    "from sklearn.ensemble import RandomForestRegressor\n",
    "from sklearn.tree import DecisionTreeRegressor\n",
    "from sklearn.linear_model import Ridge\n",
    "from sklearn.linear_model import Lasso\n",
    "from sklearn.linear_model import RandomizedLasso\n",
    "from sklearn.linear_model import BayesianRidge\n",
    "from sklearn.linear_model import SGDRegressor\n",
    "from sklearn.preprocessing import PolynomialFeatures\n",
    "\n",
    "from sklearn.neighbors import KNeighborsRegressor\n",
    "from sklearn.ensemble import GradientBoostingRegressor\n",
    "\n",
    "\n",
    "from sklearn.preprocessing import MinMaxScaler\n",
    "from sklearn.preprocessing import scale\n",
    "\n",
    "from sklearn.model_selection import train_test_split\n",
    "from sklearn.metrics import mean_absolute_error\n",
    "from sklearn.metrics import classification_report\n",
    "from sklearn.model_selection import cross_val_score\n",
    "from sklearn.model_selection import GridSearchCV\n",
    "from sklearn.model_selection import RandomizedSearchCV\n",
    "\n",
    "from sklearn.decomposition import PCA\n",
    "\n",
    "from sklearn.feature_selection import RFECV, RFE, f_regression\n",
    "\n",
    "\n",
    "from sklearn.decomposition import PCA\n",
    "\n",
    "%matplotlib inline"
   ]
  },
  {
   "cell_type": "markdown",
   "metadata": {},
   "source": [
    "# Methods used"
   ]
  },
  {
   "cell_type": "code",
   "execution_count": 2,
   "metadata": {
    "collapsed": true
   },
   "outputs": [],
   "source": [
    "# Remove correlated columns as this has a big impact on regression\n",
    "def correlation(dataset, threshold):\n",
    "    col_corr = set() # Set of all the names of deleted columns\n",
    "    corr_matrix = dataset.corr()\n",
    "    for i in range(len(corr_matrix.columns)):\n",
    "        for j in range(i):\n",
    "            if corr_matrix.iloc[i, j] >= threshold:\n",
    "                colname = corr_matrix.columns[i] # getting the name of column\n",
    "                col_corr.add(colname)\n",
    "                if colname in dataset.columns:\n",
    "                    del dataset[colname] # deleting the column from the dataset\n",
    "\n",
    "    return(dataset)"
   ]
  },
  {
   "cell_type": "markdown",
   "metadata": {},
   "source": [
    "# Load and split the data"
   ]
  },
  {
   "cell_type": "code",
   "execution_count": 3,
   "metadata": {
    "collapsed": false
   },
   "outputs": [
    {
     "name": "stdout",
     "output_type": "stream",
     "text": [
      "(1566, 41)\n"
     ]
    }
   ],
   "source": [
    "user = pd.read_csv(\"analysis_data.csv\", sep=\",\", index_col=\"Client\")\n",
    "print(user.shape)"
   ]
  },
  {
   "cell_type": "code",
   "execution_count": 4,
   "metadata": {
    "collapsed": false
   },
   "outputs": [
    {
     "name": "stdout",
     "output_type": "stream",
     "text": [
      "(231, 41)\n"
     ]
    }
   ],
   "source": [
    "user_tr = user[user['Sale_CC']==1]\n",
    "print(user_tr.shape)"
   ]
  },
  {
   "cell_type": "code",
   "execution_count": 5,
   "metadata": {
    "collapsed": false
   },
   "outputs": [],
   "source": [
    "user_tr = user_tr.drop(['Sale_MF','Sale_CC','Sale_CL','Revenue_MF','Revenue_CL'], axis=1)"
   ]
  },
  {
   "cell_type": "code",
   "execution_count": 6,
   "metadata": {
    "collapsed": false
   },
   "outputs": [
    {
     "name": "stdout",
     "output_type": "stream",
     "text": [
      "Index(['Age', 'Tenure', 'M', 'Count_CA', 'Count_SA', 'Count_MF', 'Count_OVD',\n",
      "       'Count_CC', 'Count_CL', 'ActBal_CA', 'ActBal_SA', 'ActBal_MF',\n",
      "       'ActBal_OVD', 'ActBal_CC', 'ActBal_CL', 'VolumeCred', 'VolumeCred_CA',\n",
      "       'TransactionsCred', 'TransactionsCred_CA', 'VolumeDeb', 'VolumeDeb_CA',\n",
      "       'VolumeDebCash_Card', 'VolumeDebCashless_Card',\n",
      "       'VolumeDeb_PaymentOrder', 'TransactionsDeb', 'TransactionsDeb_CA',\n",
      "       'TransactionsDebCash_Card', 'TransactionsDebCashless_Card',\n",
      "       'TransactionsDeb_PaymentOrder', 'Revenue_CC', 'Actbal_CA_avg',\n",
      "       'ActBal_SA_avg', 'ActBal_MF_avg', 'ActBal_OVD_avg', 'ActBal_CC_avg',\n",
      "       'ActBal_CL_avg'],\n",
      "      dtype='object')\n"
     ]
    }
   ],
   "source": [
    "print(user_tr.columns)"
   ]
  },
  {
   "cell_type": "markdown",
   "metadata": {},
   "source": [
    "Outliers are removed from the dataset"
   ]
  },
  {
   "cell_type": "code",
   "execution_count": 7,
   "metadata": {
    "collapsed": true
   },
   "outputs": [],
   "source": [
    "user_tr = user_tr.loc[user_tr['Revenue_CC']<30 ]"
   ]
  },
  {
   "cell_type": "code",
   "execution_count": 8,
   "metadata": {
    "collapsed": true
   },
   "outputs": [],
   "source": [
    "user_tr_X = user_tr.drop('Revenue_CC', axis=1)\n",
    "user_tr_Y = user_tr['Revenue_CC']"
   ]
  },
  {
   "cell_type": "markdown",
   "metadata": {},
   "source": [
    "Highly correlated datasets are removed from the dataset"
   ]
  },
  {
   "cell_type": "code",
   "execution_count": 9,
   "metadata": {
    "collapsed": true
   },
   "outputs": [],
   "source": [
    "user_tr_X= correlation(user_tr_X,0.7)"
   ]
  },
  {
   "cell_type": "code",
   "execution_count": 10,
   "metadata": {
    "collapsed": false
   },
   "outputs": [
    {
     "name": "stdout",
     "output_type": "stream",
     "text": [
      "Index(['Age', 'Tenure', 'M', 'Count_CA', 'Count_SA', 'Count_MF', 'Count_OVD',\n",
      "       'Count_CC', 'Count_CL', 'ActBal_CA', 'ActBal_SA', 'ActBal_MF',\n",
      "       'ActBal_OVD', 'VolumeCred', 'TransactionsCred', 'VolumeDebCash_Card',\n",
      "       'VolumeDebCashless_Card', 'TransactionsDebCash_Card',\n",
      "       'TransactionsDeb_PaymentOrder'],\n",
      "      dtype='object')\n"
     ]
    }
   ],
   "source": [
    "print(user_tr_X.columns)"
   ]
  },
  {
   "cell_type": "code",
   "execution_count": 11,
   "metadata": {
    "collapsed": false
   },
   "outputs": [
    {
     "data": {
      "text/plain": [
       "(220,)"
      ]
     },
     "execution_count": 11,
     "metadata": {},
     "output_type": "execute_result"
    }
   ],
   "source": [
    "user_tr_Y.shape"
   ]
  },
  {
   "cell_type": "markdown",
   "metadata": {},
   "source": [
    "## Correlation"
   ]
  },
  {
   "cell_type": "code",
   "execution_count": 12,
   "metadata": {
    "collapsed": false
   },
   "outputs": [
    {
     "name": "stdout",
     "output_type": "stream",
     "text": [
      "Age\n",
      "0.0200309612167\n",
      "Tenure\n",
      "0.0241065878052\n",
      "M\n",
      "0.0407312609358\n",
      "Count_CA\n",
      "0.014591496578\n",
      "Count_SA\n",
      "-0.0956506020924\n",
      "Count_MF\n",
      "-0.0923834325561\n",
      "Count_OVD\n",
      "-0.0945015308568\n",
      "Count_CC\n",
      "0.00049366672709\n",
      "Count_CL\n",
      "0.118820478518\n",
      "ActBal_CA\n",
      "0.089914290722\n",
      "ActBal_SA\n",
      "-0.0504020474623\n",
      "ActBal_MF\n",
      "-0.0806740959744\n",
      "ActBal_OVD\n",
      "-0.0461831788373\n",
      "VolumeCred\n",
      "0.0155046772756\n",
      "TransactionsCred\n",
      "0.00107093771261\n",
      "VolumeDebCash_Card\n",
      "-0.0939094228906\n",
      "VolumeDebCashless_Card\n",
      "0.0134117118414\n",
      "TransactionsDebCash_Card\n",
      "0.01514782769\n",
      "TransactionsDeb_PaymentOrder\n",
      "-0.00220972280004\n"
     ]
    }
   ],
   "source": [
    "for col in user_tr_X.columns:\n",
    "    print(col)\n",
    "    print(np.corrcoef(user_tr_Y,user_tr_X[col])[0][1])"
   ]
  },
  {
   "cell_type": "markdown",
   "metadata": {},
   "source": [
    "As seen no real correlation exist between the target and one of the remaining variables"
   ]
  },
  {
   "cell_type": "markdown",
   "metadata": {},
   "source": [
    "# Preprocessing"
   ]
  },
  {
   "cell_type": "markdown",
   "metadata": {},
   "source": [
    "## check for skewness and log transform if needed"
   ]
  },
  {
   "cell_type": "code",
   "execution_count": 13,
   "metadata": {
    "collapsed": false
   },
   "outputs": [],
   "source": [
    "#log transform skewed numeric features:\n",
    "user_skew = user_tr_X.drop('M', axis=1)\n",
    "skewed_feats = user_skew.apply(lambda x: skew(x.dropna())) #compute skewness\n",
    "skewed_feats = skewed_feats[skewed_feats > 0.75]\n",
    "skewed_feats = skewed_feats.index\n",
    "\n",
    "user_tr_X[skewed_feats] = np.log1p(user_tr_X[skewed_feats])"
   ]
  },
  {
   "cell_type": "markdown",
   "metadata": {},
   "source": [
    "## Check target variable"
   ]
  },
  {
   "cell_type": "code",
   "execution_count": 14,
   "metadata": {
    "collapsed": false
   },
   "outputs": [
    {
     "data": {
      "text/plain": [
       "count    220.000000\n",
       "mean       5.197672\n",
       "std        4.566489\n",
       "min        0.071429\n",
       "25%        2.130982\n",
       "50%        4.286786\n",
       "75%        6.500000\n",
       "max       28.705000\n",
       "Name: Revenue_CC, dtype: float64"
      ]
     },
     "execution_count": 14,
     "metadata": {},
     "output_type": "execute_result"
    }
   ],
   "source": [
    "user_tr_Y.describe()"
   ]
  },
  {
   "cell_type": "code",
   "execution_count": 15,
   "metadata": {
    "collapsed": false
   },
   "outputs": [
    {
     "data": {
      "text/plain": [
       "Client\n",
       "564     28.705000\n",
       "908     26.998214\n",
       "1545    21.207143\n",
       "618     18.571429\n",
       "455     18.292143\n",
       "914     17.310000\n",
       "203     16.945357\n",
       "415     16.428571\n",
       "45      15.393929\n",
       "575     15.291786\n",
       "Name: Revenue_CC, dtype: float64"
      ]
     },
     "execution_count": 15,
     "metadata": {},
     "output_type": "execute_result"
    }
   ],
   "source": [
    "user_tr_Y.sort_values(ascending = False).head(10)"
   ]
  },
  {
   "cell_type": "code",
   "execution_count": 16,
   "metadata": {
    "collapsed": false
   },
   "outputs": [
    {
     "data": {
      "image/png": "[encoded data removed]",
      "text/plain": [
       "<matplotlib.figure.Figure at 0x7f6f5bc72a20>"
      ]
     },
     "metadata": {},
     "output_type": "display_data"
    }
   ],
   "source": [
    "plt.hist(user_tr_Y)\n",
    "plt.show()"
   ]
  },
  {
   "cell_type": "markdown",
   "metadata": {},
   "source": [
    "The target will be log transformed for better regression"
   ]
  },
  {
   "cell_type": "code",
   "execution_count": 17,
   "metadata": {
    "collapsed": true
   },
   "outputs": [],
   "source": [
    "user_tr_Y = np.log1p(user_tr_Y)\n",
    "user_tr_X.replace(np.NaN, 0, inplace=True)"
   ]
  },
  {
   "cell_type": "markdown",
   "metadata": {},
   "source": [
    "# Choose model"
   ]
  },
  {
   "cell_type": "code",
   "execution_count": 18,
   "metadata": {
    "collapsed": false
   },
   "outputs": [
    {
     "name": "stdout",
     "output_type": "stream",
     "text": [
      "neg_mean_squared_error: -0.49 (+/- 0.28)\n",
      "[-0.67139613 -0.39420387 -0.66254265 -0.41875194 -0.53764846 -0.6797243\n",
      " -0.46771129 -0.22582372 -0.44509013 -0.41095711]\n"
     ]
    }
   ],
   "source": [
    "reg = BayesianRidge()\n",
    "scores = cross_val_score(reg, user_tr_X, user_tr_Y, cv=10, scoring='neg_mean_squared_error', n_jobs=-1)\n",
    "print(\"neg_mean_squared_error: %0.2f (+/- %0.2f)\" % (scores.mean(), scores.std() * 2))\n",
    "print(scores)"
   ]
  },
  {
   "cell_type": "code",
   "execution_count": 19,
   "metadata": {
    "collapsed": false
   },
   "outputs": [
    {
     "name": "stdout",
     "output_type": "stream",
     "text": [
      "neg_mean_squared_error: -0.49 (+/- 0.28)\n"
     ]
    }
   ],
   "source": [
    "reg = Lasso()\n",
    "scores = cross_val_score(reg, user_tr_X, user_tr_Y, cv=10, scoring='neg_mean_squared_error', n_jobs=-1)\n",
    "print(\"neg_mean_squared_error: %0.2f (+/- %0.2f)\" % (scores.mean(), scores.std() * 2))"
   ]
  },
  {
   "cell_type": "code",
   "execution_count": 20,
   "metadata": {
    "collapsed": false
   },
   "outputs": [
    {
     "name": "stdout",
     "output_type": "stream",
     "text": [
      "neg_mean_squared_error: -0.53 (+/- 0.28)\n"
     ]
    }
   ],
   "source": [
    "reg = Ridge()\n",
    "scores = cross_val_score(reg,user_tr_X, user_tr_Y, cv=10, scoring='neg_mean_squared_error', n_jobs=-1)\n",
    "print(\"neg_mean_squared_error: %0.2f (+/- %0.2f)\" % (scores.mean(), scores.std() * 2))"
   ]
  },
  {
   "cell_type": "code",
   "execution_count": 21,
   "metadata": {
    "collapsed": false
   },
   "outputs": [
    {
     "name": "stdout",
     "output_type": "stream",
     "text": [
      "neg_mean_squared_error: -0.62 (+/- 0.32)\n"
     ]
    }
   ],
   "source": [
    "reg = RandomForestRegressor(max_features=10)\n",
    "scores = cross_val_score(reg,user_tr_X, user_tr_Y, cv=10, scoring='neg_mean_squared_error', n_jobs=-1)\n",
    "print(\"neg_mean_squared_error: %0.2f (+/- %0.2f)\" % (scores.mean(), scores.std() * 2))"
   ]
  },
  {
   "cell_type": "code",
   "execution_count": 22,
   "metadata": {
    "collapsed": false
   },
   "outputs": [
    {
     "name": "stdout",
     "output_type": "stream",
     "text": [
      "neg_mean_squared_error: -0.53 (+/- 0.28)\n"
     ]
    }
   ],
   "source": [
    "reg = LinearRegression()\n",
    "scores = cross_val_score(reg,user_tr_X, user_tr_Y, cv=10, scoring='neg_mean_squared_error', n_jobs=-1)\n",
    "print(\"neg_mean_squared_error: %0.2f (+/- %0.2f)\" % (scores.mean(), scores.std() * 2))"
   ]
  },
  {
   "cell_type": "markdown",
   "metadata": {
    "collapsed": true
   },
   "source": [
    "## Scaling the params for support vector algo"
   ]
  },
  {
   "cell_type": "code",
   "execution_count": 23,
   "metadata": {
    "collapsed": true
   },
   "outputs": [],
   "source": [
    "#Scale the \n",
    "user_tr_X_scale = scale(user_tr_X)\n",
    "user_tr_Y_scale = scale(user_tr_Y)"
   ]
  },
  {
   "cell_type": "code",
   "execution_count": 24,
   "metadata": {
    "collapsed": false
   },
   "outputs": [
    {
     "name": "stdout",
     "output_type": "stream",
     "text": [
      "neg_mean_squared_error: -1.12 (+/- 0.55)\n"
     ]
    }
   ],
   "source": [
    "svr = SVR(kernel='linear')\n",
    "scores = cross_val_score(svr,user_tr_X_scale, user_tr_Y_scale, cv=10, scoring='neg_mean_squared_error', n_jobs=-1)\n",
    "print(\"neg_mean_squared_error: %0.2f (+/- %0.2f)\" % (scores.mean(), scores.std() * 2))"
   ]
  },
  {
   "cell_type": "code",
   "execution_count": 25,
   "metadata": {
    "collapsed": false
   },
   "outputs": [
    {
     "name": "stdout",
     "output_type": "stream",
     "text": [
      "neg_mean_squared_error: -1.16 (+/- 0.58)\n"
     ]
    }
   ],
   "source": [
    "svr = SVR(kernel='rbf')\n",
    "scores = cross_val_score(svr,user_tr_X_scale, user_tr_Y_scale, cv=10, scoring='neg_mean_squared_error', n_jobs=-1)\n",
    "print(\"neg_mean_squared_error: %0.2f (+/- %0.2f)\" % (scores.mean(), scores.std() * 2))"
   ]
  },
  {
   "cell_type": "code",
   "execution_count": 26,
   "metadata": {
    "collapsed": false
   },
   "outputs": [
    {
     "name": "stdout",
     "output_type": "stream",
     "text": [
      "neg_mean_squared_error: -1.24 (+/- 0.65)\n"
     ]
    }
   ],
   "source": [
    "reg = KNeighborsRegressor()\n",
    "scores = cross_val_score(reg,user_tr_X_scale, user_tr_Y_scale, cv=10, scoring='neg_mean_squared_error', n_jobs=-1)\n",
    "print(\"neg_mean_squared_error: %0.2f (+/- %0.2f)\" % (scores.mean(), scores.std() * 2))"
   ]
  },
  {
   "cell_type": "code",
   "execution_count": 27,
   "metadata": {
    "collapsed": false
   },
   "outputs": [
    {
     "name": "stdout",
     "output_type": "stream",
     "text": [
      "neg_mean_squared_error: -1.01 (+/- 0.57)\n"
     ]
    }
   ],
   "source": [
    "reg = Lasso()\n",
    "scores = cross_val_score(reg, user_tr_X_scale, user_tr_Y_scale, cv=10, scoring='neg_mean_squared_error', n_jobs=-1)\n",
    "print(\"neg_mean_squared_error: %0.2f (+/- %0.2f)\" % (scores.mean(), scores.std() * 2))"
   ]
  },
  {
   "cell_type": "markdown",
   "metadata": {},
   "source": [
    "## check if improvements with polynomial features"
   ]
  },
  {
   "cell_type": "code",
   "execution_count": 28,
   "metadata": {
    "collapsed": true
   },
   "outputs": [],
   "source": [
    "poly = PolynomialFeatures(degree=2)\n",
    "user_tr_X_pol = poly.fit_transform(user_tr_X)"
   ]
  },
  {
   "cell_type": "code",
   "execution_count": 29,
   "metadata": {
    "collapsed": false
   },
   "outputs": [
    {
     "name": "stdout",
     "output_type": "stream",
     "text": [
      "neg_mean_squared_error: -0.53 (+/- 0.31)\n"
     ]
    }
   ],
   "source": [
    "reg = Lasso()\n",
    "scores = cross_val_score(reg, user_tr_X_pol, user_tr_Y, cv=10, scoring='neg_mean_squared_error', n_jobs=-1)\n",
    "print(\"neg_mean_squared_error: %0.2f (+/- %0.2f)\" % (scores.mean(), scores.std() * 2))"
   ]
  },
  {
   "cell_type": "markdown",
   "metadata": {},
   "source": [
    "# PCA"
   ]
  },
  {
   "cell_type": "markdown",
   "metadata": {},
   "source": [
    "Maybe some PCA will improve it but probably not as Lasso already removes the unnecessary variables by regularization"
   ]
  },
  {
   "cell_type": "code",
   "execution_count": 30,
   "metadata": {
    "collapsed": false
   },
   "outputs": [
    {
     "data": {
      "text/plain": [
       "(220, 10)"
      ]
     },
     "execution_count": 30,
     "metadata": {},
     "output_type": "execute_result"
    }
   ],
   "source": [
    "#dimension reduction\n",
    "pca = PCA(n_components=10)\n",
    "X_pca_20 = pca.fit_transform(user_tr_X)\n",
    "X_pca_20.shape"
   ]
  },
  {
   "cell_type": "code",
   "execution_count": 31,
   "metadata": {
    "collapsed": false
   },
   "outputs": [
    {
     "name": "stdout",
     "output_type": "stream",
     "text": [
      "neg_mean_squared_error: -0.49 (+/- 0.28)\n"
     ]
    }
   ],
   "source": [
    "reg = Lasso(tol=10)\n",
    "scores = cross_val_score(reg, X_pca_20, user_tr_Y, cv=10, scoring='neg_mean_squared_error', n_jobs=-1)\n",
    "print(\"neg_mean_squared_error: %0.2f (+/- %0.2f)\" % (scores.mean(), scores.std() * 2))"
   ]
  },
  {
   "cell_type": "markdown",
   "metadata": {},
   "source": [
    "# Result"
   ]
  },
  {
   "cell_type": "markdown",
   "metadata": {},
   "source": [
    "# The Lasso algo is the best and we will use it for prediction"
   ]
  },
  {
   "cell_type": "markdown",
   "metadata": {
    "collapsed": true
   },
   "source": [
    "# Optimization of the algorithm"
   ]
  },
  {
   "cell_type": "code",
   "execution_count": 32,
   "metadata": {
    "collapsed": false
   },
   "outputs": [
    {
     "name": "stdout",
     "output_type": "stream",
     "text": [
      "Lasso(alpha=1, copy_X=True, fit_intercept=True, max_iter=1000,\n",
      "   normalize=False, positive=False, precompute=False, random_state=None,\n",
      "   selection='cyclic', tol=5, warm_start=False)\n",
      "{'alpha': 1, 'tol': 5}\n",
      "-0.489971602132\n"
     ]
    }
   ],
   "source": [
    "search = { 'alpha':[0.001,0.1,0.5, 0.7, 1], 'tol':[0.001,0.5, 1,5,10]}\n",
    "\n",
    "\n",
    "lasso = Lasso()\n",
    "\n",
    "lasso_grid = GridSearchCV(estimator=lasso,param_grid=search, scoring='neg_mean_squared_error', n_jobs=-1,refit=True, cv=10)\n",
    "\n",
    "lasso_grid.fit( user_tr_X, user_tr_Y)\n",
    "\n",
    "print(lasso_grid.best_estimator_)\n",
    "\n",
    "print(lasso_grid.best_params_)\n",
    "\n",
    "print(lasso_grid.best_score_)"
   ]
  },
  {
   "cell_type": "markdown",
   "metadata": {},
   "source": [
    "Let's have a quick look at the residuals of the estimator. \n",
    "These should follow a random pattern."
   ]
  },
  {
   "cell_type": "code",
   "execution_count": 33,
   "metadata": {
    "collapsed": false
   },
   "outputs": [
    {
     "data": {
      "text/plain": [
       "<matplotlib.collections.PathCollection at 0x7f6f5bba4080>"
      ]
     },
     "execution_count": 33,
     "metadata": {},
     "output_type": "execute_result"
    },
    {
     "data": {
      "image/png": "[encoded data removed]",
      "text/plain": [
       "<matplotlib.figure.Figure at 0x7f6f5bbcf860>"
      ]
     },
     "metadata": {},
     "output_type": "display_data"
    }
   ],
   "source": [
    "plt.scatter(lasso_grid.predict(user_tr_X), lasso_grid.predict(user_tr_X)-user_tr_Y)"
   ]
  },
  {
   "cell_type": "markdown",
   "metadata": {},
   "source": [
    "Looks pretty random :)"
   ]
  },
  {
   "cell_type": "markdown",
   "metadata": {
    "collapsed": true
   },
   "source": [
    "# Fit the model and predict the missing values"
   ]
  },
  {
   "cell_type": "code",
   "execution_count": 34,
   "metadata": {
    "collapsed": false
   },
   "outputs": [
    {
     "name": "stdout",
     "output_type": "stream",
     "text": [
      "(629, 36)\n"
     ]
    }
   ],
   "source": [
    "user_pred = pd.read_csv(\"credit_card_prop_pred.csv\", sep=\",\", index_col=\"Client\")\n",
    "print(user_pred.shape)"
   ]
  },
  {
   "cell_type": "code",
   "execution_count": 35,
   "metadata": {
    "collapsed": false
   },
   "outputs": [],
   "source": [
    "user_pred_X = user_pred.ix[(user_pred['Sale_CC_pred']==1)]\n",
    "user_pred_X = user_pred_X.drop('Sale_CC_pred', axis=1)\n"
   ]
  },
  {
   "cell_type": "code",
   "execution_count": 36,
   "metadata": {
    "collapsed": false
   },
   "outputs": [],
   "source": [
    "user_pred_X[skewed_feats] = np.log1p(user_pred_X[skewed_feats])"
   ]
  },
  {
   "cell_type": "code",
   "execution_count": 37,
   "metadata": {
    "collapsed": false
   },
   "outputs": [
    {
     "data": {
      "text/html": [
       "<div>\n",
       "<table border=\"1\" class=\"dataframe\">\n",
       "  <thead>\n",
       "    <tr style=\"text-align: right;\">\n",
       "      <th></th>\n",
       "      <th>Age</th>\n",
       "      <th>Tenure</th>\n",
       "      <th>M</th>\n",
       "      <th>Count_CA</th>\n",
       "      <th>Count_SA</th>\n",
       "      <th>Count_MF</th>\n",
       "      <th>Count_OVD</th>\n",
       "      <th>Count_CC</th>\n",
       "      <th>Count_CL</th>\n",
       "      <th>ActBal_CA</th>\n",
       "      <th>...</th>\n",
       "      <th>TransactionsDeb_CA</th>\n",
       "      <th>TransactionsDebCash_Card</th>\n",
       "      <th>TransactionsDebCashless_Card</th>\n",
       "      <th>TransactionsDeb_PaymentOrder</th>\n",
       "      <th>Actbal_CA_avg</th>\n",
       "      <th>ActBal_SA_avg</th>\n",
       "      <th>ActBal_MF_avg</th>\n",
       "      <th>ActBal_OVD_avg</th>\n",
       "      <th>ActBal_CC_avg</th>\n",
       "      <th>ActBal_CL_avg</th>\n",
       "    </tr>\n",
       "    <tr>\n",
       "      <th>Client</th>\n",
       "      <th></th>\n",
       "      <th></th>\n",
       "      <th></th>\n",
       "      <th></th>\n",
       "      <th></th>\n",
       "      <th></th>\n",
       "      <th></th>\n",
       "      <th></th>\n",
       "      <th></th>\n",
       "      <th></th>\n",
       "      <th></th>\n",
       "      <th></th>\n",
       "      <th></th>\n",
       "      <th></th>\n",
       "      <th></th>\n",
       "      <th></th>\n",
       "      <th></th>\n",
       "      <th></th>\n",
       "      <th></th>\n",
       "      <th></th>\n",
       "      <th></th>\n",
       "    </tr>\n",
       "  </thead>\n",
       "  <tbody>\n",
       "    <tr>\n",
       "      <th>1360</th>\n",
       "      <td>28.0</td>\n",
       "      <td>212</td>\n",
       "      <td>1.0</td>\n",
       "      <td>0.693147</td>\n",
       "      <td>0.000000</td>\n",
       "      <td>0.000000</td>\n",
       "      <td>0.0</td>\n",
       "      <td>0.693147</td>\n",
       "      <td>0.0</td>\n",
       "      <td>6.478344</td>\n",
       "      <td>...</td>\n",
       "      <td>5</td>\n",
       "      <td>0.000000</td>\n",
       "      <td>0</td>\n",
       "      <td>1.386294</td>\n",
       "      <td>649.892143</td>\n",
       "      <td>0.000000</td>\n",
       "      <td>0.00000</td>\n",
       "      <td>0.0</td>\n",
       "      <td>38.785714</td>\n",
       "      <td>0.0</td>\n",
       "    </tr>\n",
       "    <tr>\n",
       "      <th>1420</th>\n",
       "      <td>46.0</td>\n",
       "      <td>86</td>\n",
       "      <td>1.0</td>\n",
       "      <td>0.693147</td>\n",
       "      <td>0.000000</td>\n",
       "      <td>0.000000</td>\n",
       "      <td>0.0</td>\n",
       "      <td>0.000000</td>\n",
       "      <td>0.0</td>\n",
       "      <td>5.610892</td>\n",
       "      <td>...</td>\n",
       "      <td>7</td>\n",
       "      <td>0.000000</td>\n",
       "      <td>0</td>\n",
       "      <td>1.945910</td>\n",
       "      <td>272.387857</td>\n",
       "      <td>0.000000</td>\n",
       "      <td>0.00000</td>\n",
       "      <td>0.0</td>\n",
       "      <td>0.000000</td>\n",
       "      <td>0.0</td>\n",
       "    </tr>\n",
       "    <tr>\n",
       "      <th>505</th>\n",
       "      <td>38.0</td>\n",
       "      <td>157</td>\n",
       "      <td>1.0</td>\n",
       "      <td>0.693147</td>\n",
       "      <td>1.098612</td>\n",
       "      <td>0.000000</td>\n",
       "      <td>0.0</td>\n",
       "      <td>0.000000</td>\n",
       "      <td>0.0</td>\n",
       "      <td>9.113743</td>\n",
       "      <td>...</td>\n",
       "      <td>1</td>\n",
       "      <td>0.000000</td>\n",
       "      <td>0</td>\n",
       "      <td>0.000000</td>\n",
       "      <td>9078.213571</td>\n",
       "      <td>2.091250</td>\n",
       "      <td>0.00000</td>\n",
       "      <td>0.0</td>\n",
       "      <td>0.000000</td>\n",
       "      <td>0.0</td>\n",
       "    </tr>\n",
       "    <tr>\n",
       "      <th>889</th>\n",
       "      <td>36.0</td>\n",
       "      <td>236</td>\n",
       "      <td>1.0</td>\n",
       "      <td>0.693147</td>\n",
       "      <td>0.000000</td>\n",
       "      <td>0.000000</td>\n",
       "      <td>0.0</td>\n",
       "      <td>0.000000</td>\n",
       "      <td>0.0</td>\n",
       "      <td>7.848320</td>\n",
       "      <td>...</td>\n",
       "      <td>3</td>\n",
       "      <td>0.693147</td>\n",
       "      <td>2</td>\n",
       "      <td>0.000000</td>\n",
       "      <td>2560.426429</td>\n",
       "      <td>0.000000</td>\n",
       "      <td>0.00000</td>\n",
       "      <td>0.0</td>\n",
       "      <td>0.000000</td>\n",
       "      <td>0.0</td>\n",
       "    </tr>\n",
       "    <tr>\n",
       "      <th>1172</th>\n",
       "      <td>11.0</td>\n",
       "      <td>49</td>\n",
       "      <td>0.0</td>\n",
       "      <td>0.693147</td>\n",
       "      <td>0.693147</td>\n",
       "      <td>0.693147</td>\n",
       "      <td>0.0</td>\n",
       "      <td>0.000000</td>\n",
       "      <td>0.0</td>\n",
       "      <td>7.685354</td>\n",
       "      <td>...</td>\n",
       "      <td>3</td>\n",
       "      <td>0.000000</td>\n",
       "      <td>1</td>\n",
       "      <td>1.098612</td>\n",
       "      <td>2175.241071</td>\n",
       "      <td>81.879643</td>\n",
       "      <td>20497.15893</td>\n",
       "      <td>0.0</td>\n",
       "      <td>0.000000</td>\n",
       "      <td>0.0</td>\n",
       "    </tr>\n",
       "  </tbody>\n",
       "</table>\n",
       "<p>5 rows × 35 columns</p>\n",
       "</div>"
      ],
      "text/plain": [
       "         Age  Tenure    M  Count_CA  Count_SA  Count_MF  Count_OVD  Count_CC  \\\n",
       "Client                                                                         \n",
       "1360    28.0     212  1.0  0.693147  0.000000  0.000000        0.0  0.693147   \n",
       "1420    46.0      86  1.0  0.693147  0.000000  0.000000        0.0  0.000000   \n",
       "505     38.0     157  1.0  0.693147  1.098612  0.000000        0.0  0.000000   \n",
       "889     36.0     236  1.0  0.693147  0.000000  0.000000        0.0  0.000000   \n",
       "1172    11.0      49  0.0  0.693147  0.693147  0.693147        0.0  0.000000   \n",
       "\n",
       "        Count_CL  ActBal_CA      ...        TransactionsDeb_CA  \\\n",
       "Client                           ...                             \n",
       "1360         0.0   6.478344      ...                         5   \n",
       "1420         0.0   5.610892      ...                         7   \n",
       "505          0.0   9.113743      ...                         1   \n",
       "889          0.0   7.848320      ...                         3   \n",
       "1172         0.0   7.685354      ...                         3   \n",
       "\n",
       "        TransactionsDebCash_Card  TransactionsDebCashless_Card  \\\n",
       "Client                                                           \n",
       "1360                    0.000000                             0   \n",
       "1420                    0.000000                             0   \n",
       "505                     0.000000                             0   \n",
       "889                     0.693147                             2   \n",
       "1172                    0.000000                             1   \n",
       "\n",
       "        TransactionsDeb_PaymentOrder  Actbal_CA_avg  ActBal_SA_avg  \\\n",
       "Client                                                               \n",
       "1360                        1.386294     649.892143       0.000000   \n",
       "1420                        1.945910     272.387857       0.000000   \n",
       "505                         0.000000    9078.213571       2.091250   \n",
       "889                         0.000000    2560.426429       0.000000   \n",
       "1172                        1.098612    2175.241071      81.879643   \n",
       "\n",
       "        ActBal_MF_avg  ActBal_OVD_avg  ActBal_CC_avg  ActBal_CL_avg  \n",
       "Client                                                               \n",
       "1360          0.00000             0.0      38.785714            0.0  \n",
       "1420          0.00000             0.0       0.000000            0.0  \n",
       "505           0.00000             0.0       0.000000            0.0  \n",
       "889           0.00000             0.0       0.000000            0.0  \n",
       "1172      20497.15893             0.0       0.000000            0.0  \n",
       "\n",
       "[5 rows x 35 columns]"
      ]
     },
     "execution_count": 37,
     "metadata": {},
     "output_type": "execute_result"
    }
   ],
   "source": [
    "user_pred_X.head()"
   ]
  },
  {
   "cell_type": "code",
   "execution_count": 38,
   "metadata": {
    "collapsed": false
   },
   "outputs": [],
   "source": [
    "user_pred_Y = np.expm1(lasso_grid.predict(user_pred_X[user_tr_X.columns]))"
   ]
  },
  {
   "cell_type": "code",
   "execution_count": 39,
   "metadata": {
    "collapsed": false
   },
   "outputs": [
    {
     "data": {
      "text/plain": [
       "array([ 3.92317239,  3.90475787,  3.91512582,  3.92668775,  3.89936353,\n",
       "        3.91424881,  3.90782217,  3.89703268,  3.90490375,  3.90826008,\n",
       "        3.90723835,  3.89892641,  3.89557646,  3.90388271,  3.91863544,\n",
       "        3.90315353,  3.92375811,  3.89368402,  3.91512582,  3.91834287,\n",
       "        3.91688032,  3.90475787,  3.89586767,  3.91673408,  3.91205697,\n",
       "        3.89281083,  3.90257026,  3.90446614,  3.91527201,  3.91892802,\n",
       "        3.91147264,  3.91439497,  3.91249526,  3.89353848,  3.90169549,\n",
       "        3.89805229,  3.91746529,  3.89281083,  3.91395651,  3.91454113,\n",
       "        3.89761529,  3.91980586,  3.92009851,  3.91410266,  3.91600299,\n",
       "        3.92727389,  3.89717832,  3.90432027,  3.90548729,  3.904612  ,\n",
       "        3.91410266,  3.89936353,  3.91454113,  3.91176479,  3.90840606,\n",
       "        3.9181966 ,  3.91001213,  3.91103444,  3.89790662,  3.89251981,\n",
       "        3.91410266,  3.91132657,  3.92507624,  3.9161492 ,  3.91220306,\n",
       "        3.90373687,  3.91395651,  3.90154971,  3.90826008,  3.90417442,\n",
       "        3.89266532,  3.9070924 ,  3.91410266,  3.91439497,  3.89776095,\n",
       "        3.91424881,  3.91483347,  3.91439497,  3.89703268,  3.9073843 ,\n",
       "        3.91439497,  3.90169549,  3.91527201,  3.89513968,  3.89717832,\n",
       "        3.92214755,  3.92024485,  3.91439497,  3.90723835,  3.9111805 ,\n",
       "        3.91848915,  3.90140393,  3.89936353,  3.91439497,  3.91264136,\n",
       "        3.91176479,  3.9098661 ,  3.90650867,  3.89703268,  3.90636274,\n",
       "        3.91015816,  3.90607091,  3.9073843 ,  3.89703268,  3.92317239,\n",
       "        3.91746529,  3.91424881,  3.92097657,  3.90300771,  3.90023788,\n",
       "        3.9053414 ,  3.90957406,  3.91834287,  3.93211218,  3.91439497,\n",
       "        3.91410266,  3.89776095,  3.89921782,  3.90329936,  3.91965954,\n",
       "        3.89863502,  3.91366422,  3.91688032,  3.90753025,  3.91702655,\n",
       "        3.92126929,  3.90184127,  3.92258675,  3.92522272,  3.91045023,\n",
       "        3.91424881,  3.904612  ,  3.91863544,  3.91410266,  3.89382957,\n",
       "        3.91395651,  3.91848915,  3.89703268,  3.9243439 ,  3.90388271,\n",
       "        3.91439497,  3.92566218,  3.91761154,  3.9177578 ,  3.89878071,\n",
       "        3.89907211,  3.90300771,  3.91790406,  3.9243439 ,  3.90475787,\n",
       "        3.89513968,  3.90125816,  3.905925  ,  3.89513968,  3.91395651,\n",
       "        3.91395651,  3.90315353,  3.91381036,  3.89790662,  3.90082087,\n",
       "        3.9070924 ,  3.90184127,  3.90373687,  3.89441179,  3.91878172,\n",
       "        3.91439497,  3.92273315,  3.91278747,  3.90723835,  3.91834287,\n",
       "        3.91454113,  3.90096663,  3.91439497,  3.91439497,  3.91424881,\n",
       "        3.91439497,  3.91541819,  3.89630451,  3.89412067,  3.9073843 ,\n",
       "        3.89251981,  3.91834287,  3.90154971,  3.89615889,  3.90840606,\n",
       "        3.91878172,  3.91424881,  3.905925  ,  3.91410266,  3.90359103,\n",
       "        3.89455736,  3.90213286,  3.91410266,  3.91863544,  3.90038363,\n",
       "        3.90519551,  3.90869804,  3.91147264,  3.89543086,  3.92068387,\n",
       "        3.90140393,  3.89499409,  3.90257026,  3.90329936,  3.91761154,\n",
       "        3.91746529,  3.89557646,  3.89382957,  3.91381036,  3.9070924 ,\n",
       "        3.91585679,  3.91439497,  3.91045023,  3.89397512,  3.90373687,\n",
       "        3.91381036,  3.91410266,  3.91731904,  3.89513968,  3.91658786,\n",
       "        3.90417442,  3.91424881,  3.89863502,  3.90913603,  3.90329936,\n",
       "        3.89703268,  3.90650867,  3.91863544,  3.92024485,  3.91454113,\n",
       "        3.91863544,  3.91746529,  3.91746529,  3.90928203])"
      ]
     },
     "execution_count": 39,
     "metadata": {},
     "output_type": "execute_result"
    }
   ],
   "source": [
    "user_pred_Y"
   ]
  },
  {
   "cell_type": "code",
   "execution_count": 40,
   "metadata": {
    "collapsed": false
   },
   "outputs": [],
   "source": [
    "user_pred = user_pred.ix[(user_pred['Sale_CC_pred']==1)]\n",
    "user_pred['Sale_CC_pred_value'] = pd.Series(user_pred_Y,index=user_pred.index)"
   ]
  },
  {
   "cell_type": "code",
   "execution_count": 41,
   "metadata": {
    "collapsed": false
   },
   "outputs": [
    {
     "data": {
      "text/plain": [
       "(234,)"
      ]
     },
     "execution_count": 41,
     "metadata": {},
     "output_type": "execute_result"
    }
   ],
   "source": [
    "user_pred['Sale_CC_pred_value'].shape"
   ]
  },
  {
   "cell_type": "code",
   "execution_count": 42,
   "metadata": {
    "collapsed": false
   },
   "outputs": [
    {
     "data": {
      "text/plain": [
       "count    234.000000\n",
       "mean       3.909047\n",
       "std        0.008848\n",
       "min        3.892520\n",
       "25%        3.901841\n",
       "50%        3.910304\n",
       "75%        3.915126\n",
       "max        3.932112\n",
       "Name: Sale_CC_pred_value, dtype: float64"
      ]
     },
     "execution_count": 42,
     "metadata": {},
     "output_type": "execute_result"
    }
   ],
   "source": [
    "user_pred['Sale_CC_pred_value'].describe()"
   ]
  },
  {
   "cell_type": "code",
   "execution_count": 43,
   "metadata": {
    "collapsed": true
   },
   "outputs": [],
   "source": [
    "user_pred.to_csv(path_or_buf='credit_card_prop_pred_value.csv')"
   ]
  }
 ],
 "metadata": {
  "anaconda-cloud": {},
  "kernelspec": {
   "display_name": "Python [default]",
   "language": "python",
   "name": "python3"
  },
  "language_info": {
   "codemirror_mode": {
    "name": "ipython",
    "version": 3
   },
   "file_extension": ".py",
   "mimetype": "text/x-python",
   "name": "python",
   "nbconvert_exporter": "python",
   "pygments_lexer": "ipython3",
   "version": "3.5.2"
  }
 },
 "nbformat": 4,
 "nbformat_minor": 2
}
