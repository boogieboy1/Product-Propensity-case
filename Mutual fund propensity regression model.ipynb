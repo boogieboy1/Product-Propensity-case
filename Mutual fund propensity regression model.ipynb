{
 "cells": [
  {
   "cell_type": "markdown",
   "metadata": {
    "collapsed": false
   },
   "source": [
    "# Import needed libraries"
   ]
  },
  {
   "cell_type": "code",
   "execution_count": 1,
   "metadata": {
    "collapsed": false
   },
   "outputs": [],
   "source": [
    "#import libraries\n",
    "import pandas as pd\n",
    "import numpy as np\n",
    "import matplotlib.pyplot as plt\n",
    "from scipy import stats\n",
    "import seaborn as sns\n",
    "from scipy.stats import skew\n",
    "\n",
    "\n",
    "from sklearn.linear_model import LinearRegression\n",
    "from sklearn.svm import SVR\n",
    "from sklearn.ensemble import RandomForestRegressor\n",
    "from sklearn.tree import DecisionTreeRegressor\n",
    "from sklearn.linear_model import Ridge\n",
    "from sklearn.linear_model import Lasso\n",
    "from sklearn.linear_model import RandomizedLasso\n",
    "from sklearn.linear_model import BayesianRidge\n",
    "from sklearn.linear_model import SGDRegressor\n",
    "from sklearn.preprocessing import PolynomialFeatures\n",
    "\n",
    "from sklearn.neighbors import KNeighborsRegressor\n",
    "from sklearn.ensemble import GradientBoostingRegressor\n",
    "\n",
    "\n",
    "from sklearn.preprocessing import MinMaxScaler\n",
    "from sklearn.preprocessing import scale\n",
    "\n",
    "from sklearn.model_selection import train_test_split\n",
    "from sklearn.metrics import mean_absolute_error\n",
    "from sklearn.metrics import classification_report\n",
    "from sklearn.model_selection import cross_val_score\n",
    "from sklearn.model_selection import GridSearchCV\n",
    "from sklearn.model_selection import RandomizedSearchCV\n",
    "\n",
    "from sklearn.decomposition import PCA\n",
    "\n",
    "from sklearn.feature_selection import RFECV, RFE, f_regression\n",
    "\n",
    "\n",
    "from sklearn.decomposition import PCA\n",
    "\n",
    "%matplotlib inline"
   ]
  },
  {
   "cell_type": "markdown",
   "metadata": {},
   "source": [
    "# Methods used"
   ]
  },
  {
   "cell_type": "code",
   "execution_count": 2,
   "metadata": {
    "collapsed": true
   },
   "outputs": [],
   "source": [
    "# Remove correlated columns as this has a big impact on regression\n",
    "def correlation(dataset, threshold):\n",
    "    col_corr = set() # Set of all the names of deleted columns\n",
    "    corr_matrix = dataset.corr()\n",
    "    for i in range(len(corr_matrix.columns)):\n",
    "        for j in range(i):\n",
    "            if corr_matrix.iloc[i, j] >= threshold:\n",
    "                colname = corr_matrix.columns[i] # getting the name of column\n",
    "                col_corr.add(colname)\n",
    "                if colname in dataset.columns:\n",
    "                    del dataset[colname] # deleting the column from the dataset\n",
    "\n",
    "    return(dataset)"
   ]
  },
  {
   "cell_type": "markdown",
   "metadata": {},
   "source": [
    "# Load and split the data"
   ]
  },
  {
   "cell_type": "code",
   "execution_count": 3,
   "metadata": {
    "collapsed": false
   },
   "outputs": [
    {
     "name": "stdout",
     "output_type": "stream",
     "text": [
      "(1566, 41)\n"
     ]
    }
   ],
   "source": [
    "user = pd.read_csv(\"analysis_data.csv\", sep=\",\", index_col=\"Client\")\n",
    "print(user.shape)"
   ]
  },
  {
   "cell_type": "code",
   "execution_count": 4,
   "metadata": {
    "collapsed": false
   },
   "outputs": [
    {
     "name": "stdout",
     "output_type": "stream",
     "text": [
      "(190, 41)\n"
     ]
    }
   ],
   "source": [
    "user_tr = user[user['Sale_MF']==1]\n",
    "print(user_tr.shape)"
   ]
  },
  {
   "cell_type": "code",
   "execution_count": 5,
   "metadata": {
    "collapsed": false
   },
   "outputs": [],
   "source": [
    "user_tr = user_tr.drop(['Sale_MF','Sale_CC','Sale_CL','Revenue_CL','Revenue_CC'], axis=1)"
   ]
  },
  {
   "cell_type": "code",
   "execution_count": 6,
   "metadata": {
    "collapsed": false
   },
   "outputs": [
    {
     "name": "stdout",
     "output_type": "stream",
     "text": [
      "Index(['Age', 'Tenure', 'M', 'Count_CA', 'Count_SA', 'Count_MF', 'Count_OVD',\n",
      "       'Count_CC', 'Count_CL', 'ActBal_CA', 'ActBal_SA', 'ActBal_MF',\n",
      "       'ActBal_OVD', 'ActBal_CC', 'ActBal_CL', 'VolumeCred', 'VolumeCred_CA',\n",
      "       'TransactionsCred', 'TransactionsCred_CA', 'VolumeDeb', 'VolumeDeb_CA',\n",
      "       'VolumeDebCash_Card', 'VolumeDebCashless_Card',\n",
      "       'VolumeDeb_PaymentOrder', 'TransactionsDeb', 'TransactionsDeb_CA',\n",
      "       'TransactionsDebCash_Card', 'TransactionsDebCashless_Card',\n",
      "       'TransactionsDeb_PaymentOrder', 'Revenue_MF', 'Actbal_CA_avg',\n",
      "       'ActBal_SA_avg', 'ActBal_MF_avg', 'ActBal_OVD_avg', 'ActBal_CC_avg',\n",
      "       'ActBal_CL_avg'],\n",
      "      dtype='object')\n"
     ]
    }
   ],
   "source": [
    "print(user_tr.columns)"
   ]
  },
  {
   "cell_type": "markdown",
   "metadata": {},
   "source": [
    "Outliers are removed from the dataset"
   ]
  },
  {
   "cell_type": "code",
   "execution_count": 7,
   "metadata": {
    "collapsed": false
   },
   "outputs": [],
   "source": [
    "user_tr = user_tr.loc[user_tr['Revenue_MF']<30 ]"
   ]
  },
  {
   "cell_type": "code",
   "execution_count": 8,
   "metadata": {
    "collapsed": true
   },
   "outputs": [],
   "source": [
    "user_tr_X = user_tr.drop('Revenue_MF', axis=1)\n",
    "user_tr_Y = user_tr['Revenue_MF']"
   ]
  },
  {
   "cell_type": "markdown",
   "metadata": {},
   "source": [
    "Highly correlated datasets are removed from the dataset"
   ]
  },
  {
   "cell_type": "code",
   "execution_count": 9,
   "metadata": {
    "collapsed": true
   },
   "outputs": [],
   "source": [
    "user_tr_X= correlation(user_tr_X,0.7)"
   ]
  },
  {
   "cell_type": "code",
   "execution_count": 10,
   "metadata": {
    "collapsed": false
   },
   "outputs": [
    {
     "name": "stdout",
     "output_type": "stream",
     "text": [
      "Index(['Age', 'Tenure', 'M', 'Count_CA', 'Count_SA', 'Count_MF', 'Count_OVD',\n",
      "       'Count_CC', 'Count_CL', 'ActBal_CA', 'ActBal_SA', 'ActBal_MF',\n",
      "       'ActBal_OVD', 'ActBal_CC', 'ActBal_CL', 'VolumeCred',\n",
      "       'TransactionsCred', 'VolumeDebCash_Card', 'VolumeDebCashless_Card',\n",
      "       'TransactionsDebCash_Card', 'TransactionsDeb_PaymentOrder'],\n",
      "      dtype='object')\n"
     ]
    }
   ],
   "source": [
    "print(user_tr_X.columns)"
   ]
  },
  {
   "cell_type": "code",
   "execution_count": 11,
   "metadata": {
    "collapsed": false
   },
   "outputs": [
    {
     "data": {
      "text/plain": [
       "(175,)"
      ]
     },
     "execution_count": 11,
     "metadata": {},
     "output_type": "execute_result"
    }
   ],
   "source": [
    "user_tr_Y.shape"
   ]
  },
  {
   "cell_type": "markdown",
   "metadata": {},
   "source": [
    "## Correlation"
   ]
  },
  {
   "cell_type": "code",
   "execution_count": 12,
   "metadata": {
    "collapsed": false
   },
   "outputs": [
    {
     "name": "stdout",
     "output_type": "stream",
     "text": [
      "Age\n",
      "-0.0786039489704\n",
      "Tenure\n",
      "-0.0167603490729\n",
      "M\n",
      "0.0140040626343\n",
      "Count_CA\n",
      "0.0221160653089\n",
      "Count_SA\n",
      "0.0916907473602\n",
      "Count_MF\n",
      "-0.0434096149773\n",
      "Count_OVD\n",
      "0.0434791912342\n",
      "Count_CC\n",
      "0.020500851189\n",
      "Count_CL\n",
      "0.0453796399019\n",
      "ActBal_CA\n",
      "0.0332643970884\n",
      "ActBal_SA\n",
      "-0.000620062542971\n",
      "ActBal_MF\n",
      "-0.0341095170972\n",
      "ActBal_OVD\n",
      "-0.0414427246181\n",
      "ActBal_CC\n",
      "-0.0313821685996\n",
      "ActBal_CL\n",
      "0.0901113591294\n",
      "VolumeCred\n",
      "-0.0831182637605\n",
      "TransactionsCred\n",
      "-0.00355182461549\n",
      "VolumeDebCash_Card\n",
      "-0.0112486486249\n",
      "VolumeDebCashless_Card\n",
      "-0.0703551883497\n",
      "TransactionsDebCash_Card\n",
      "-0.107024880148\n",
      "TransactionsDeb_PaymentOrder\n",
      "-0.0403609622989\n"
     ]
    }
   ],
   "source": [
    "for col in user_tr_X.columns:\n",
    "    print(col)\n",
    "    print(np.corrcoef(user_tr_Y,user_tr_X[col])[0][1])"
   ]
  },
  {
   "cell_type": "markdown",
   "metadata": {},
   "source": [
    "As seen no real correlation exist between the target and one of the remaining variables"
   ]
  },
  {
   "cell_type": "markdown",
   "metadata": {},
   "source": [
    "# Preprocessing"
   ]
  },
  {
   "cell_type": "markdown",
   "metadata": {},
   "source": [
    "## Check target variable"
   ]
  },
  {
   "cell_type": "code",
   "execution_count": 13,
   "metadata": {
    "collapsed": false
   },
   "outputs": [
    {
     "data": {
      "text/plain": [
       "count    175.000000\n",
       "mean       5.205441\n",
       "std        6.384083\n",
       "min        0.004821\n",
       "25%        1.078304\n",
       "50%        2.701071\n",
       "75%        6.738482\n",
       "max       28.295536\n",
       "Name: Revenue_MF, dtype: float64"
      ]
     },
     "execution_count": 13,
     "metadata": {},
     "output_type": "execute_result"
    }
   ],
   "source": [
    "user_tr_Y.describe()"
   ]
  },
  {
   "cell_type": "code",
   "execution_count": 14,
   "metadata": {
    "collapsed": false
   },
   "outputs": [
    {
     "data": {
      "text/plain": [
       "Client\n",
       "129     28.295536\n",
       "1399    27.233750\n",
       "1       26.972679\n",
       "1484    25.609107\n",
       "372     24.545893\n",
       "673     24.135893\n",
       "1469    22.742500\n",
       "1206    22.165893\n",
       "477     22.098214\n",
       "1500    21.025000\n",
       "Name: Revenue_MF, dtype: float64"
      ]
     },
     "execution_count": 14,
     "metadata": {},
     "output_type": "execute_result"
    }
   ],
   "source": [
    "user_tr_Y.sort_values(ascending = False).head(10)"
   ]
  },
  {
   "cell_type": "code",
   "execution_count": 15,
   "metadata": {
    "collapsed": false
   },
   "outputs": [
    {
     "data": {
      "image/png": "[encoded data removed]",
      "text/plain": [
       "<matplotlib.figure.Figure at 0x7fc0e6ee2f98>"
      ]
     },
     "metadata": {},
     "output_type": "display_data"
    }
   ],
   "source": [
    "plt.hist(user_tr_Y)\n",
    "plt.show()"
   ]
  },
  {
   "cell_type": "markdown",
   "metadata": {},
   "source": [
    "The target will be log transformed for better regression"
   ]
  },
  {
   "cell_type": "code",
   "execution_count": 16,
   "metadata": {
    "collapsed": true
   },
   "outputs": [],
   "source": [
    "user_tr_Y = np.log1p(user_tr_Y)\n",
    "user_tr_X.replace(np.NaN, 0, inplace=True)"
   ]
  },
  {
   "cell_type": "markdown",
   "metadata": {},
   "source": [
    "# Choose model"
   ]
  },
  {
   "cell_type": "code",
   "execution_count": 17,
   "metadata": {
    "collapsed": false
   },
   "outputs": [
    {
     "name": "stdout",
     "output_type": "stream",
     "text": [
      "neg_mean_squared_error: -0.94 (+/- 0.54)\n",
      "[-0.96837115 -0.71690551 -1.29573945 -0.57926401 -0.64342171 -0.97333511\n",
      " -1.19534013 -0.91993257 -1.39375001 -0.7115705 ]\n"
     ]
    }
   ],
   "source": [
    "reg = BayesianRidge()\n",
    "scores = cross_val_score(reg, user_tr_X, user_tr_Y, cv=10, scoring='neg_mean_squared_error', n_jobs=-1)\n",
    "print(\"neg_mean_squared_error: %0.2f (+/- %0.2f)\" % (scores.mean(), scores.std() * 2))\n",
    "print(scores)"
   ]
  },
  {
   "cell_type": "code",
   "execution_count": 18,
   "metadata": {
    "collapsed": false
   },
   "outputs": [
    {
     "name": "stdout",
     "output_type": "stream",
     "text": [
      "neg_mean_squared_error: -1.45 (+/- 2.54)\n"
     ]
    }
   ],
   "source": [
    "reg = Ridge()\n",
    "scores = cross_val_score(reg,user_tr_X, user_tr_Y, cv=10, scoring='neg_mean_squared_error', n_jobs=-1)\n",
    "print(\"neg_mean_squared_error: %0.2f (+/- %0.2f)\" % (scores.mean(), scores.std() * 2))"
   ]
  },
  {
   "cell_type": "code",
   "execution_count": 19,
   "metadata": {
    "collapsed": false
   },
   "outputs": [
    {
     "name": "stdout",
     "output_type": "stream",
     "text": [
      "neg_mean_squared_error: -0.90 (+/- 0.26)\n"
     ]
    }
   ],
   "source": [
    "reg = RandomForestRegressor()\n",
    "scores = cross_val_score(reg,user_tr_X, user_tr_Y, cv=10, scoring='neg_mean_squared_error', n_jobs=-1)\n",
    "print(\"neg_mean_squared_error: %0.2f (+/- %0.2f)\" % (scores.mean(), scores.std() * 2))"
   ]
  },
  {
   "cell_type": "code",
   "execution_count": 20,
   "metadata": {
    "collapsed": false
   },
   "outputs": [
    {
     "name": "stdout",
     "output_type": "stream",
     "text": [
      "neg_mean_squared_error: -1.46 (+/- 2.53)\n"
     ]
    }
   ],
   "source": [
    "reg = LinearRegression()\n",
    "scores = cross_val_score(reg,user_tr_X, user_tr_Y, cv=10, scoring='neg_mean_squared_error', n_jobs=-1)\n",
    "print(\"neg_mean_squared_error: %0.2f (+/- %0.2f)\" % (scores.mean(), scores.std() * 2))"
   ]
  },
  {
   "cell_type": "markdown",
   "metadata": {
    "collapsed": true
   },
   "source": [
    "## Scaling the params for support vector algo"
   ]
  },
  {
   "cell_type": "code",
   "execution_count": 21,
   "metadata": {
    "collapsed": true
   },
   "outputs": [],
   "source": [
    "#Scale the \n",
    "user_tr_X_scale = scale(user_tr_X)\n",
    "user_tr_Y_scale = scale(user_tr_Y)"
   ]
  },
  {
   "cell_type": "code",
   "execution_count": 22,
   "metadata": {
    "collapsed": false
   },
   "outputs": [
    {
     "name": "stdout",
     "output_type": "stream",
     "text": [
      "neg_mean_squared_error: -1.84 (+/- 2.52)\n"
     ]
    }
   ],
   "source": [
    "svr = SVR(kernel='linear')\n",
    "scores = cross_val_score(svr,user_tr_X_scale, user_tr_Y_scale, cv=10, scoring='neg_mean_squared_error', n_jobs=-1)\n",
    "print(\"neg_mean_squared_error: %0.2f (+/- %0.2f)\" % (scores.mean(), scores.std() * 2))"
   ]
  },
  {
   "cell_type": "code",
   "execution_count": 23,
   "metadata": {
    "collapsed": false
   },
   "outputs": [
    {
     "name": "stdout",
     "output_type": "stream",
     "text": [
      "neg_mean_squared_error: -1.22 (+/- 0.62)\n"
     ]
    }
   ],
   "source": [
    "svr = SVR(kernel='rbf')\n",
    "scores = cross_val_score(svr,user_tr_X_scale, user_tr_Y_scale, cv=10, scoring='neg_mean_squared_error', n_jobs=-1)\n",
    "print(\"neg_mean_squared_error: %0.2f (+/- %0.2f)\" % (scores.mean(), scores.std() * 2))"
   ]
  },
  {
   "cell_type": "code",
   "execution_count": 24,
   "metadata": {
    "collapsed": false
   },
   "outputs": [
    {
     "name": "stdout",
     "output_type": "stream",
     "text": [
      "neg_mean_squared_error: -1.02 (+/- 0.44)\n"
     ]
    }
   ],
   "source": [
    "reg = Lasso()\n",
    "scores = cross_val_score(reg, user_tr_X_scale, user_tr_Y_scale, cv=10, scoring='neg_mean_squared_error', n_jobs=-1)\n",
    "print(\"neg_mean_squared_error: %0.2f (+/- %0.2f)\" % (scores.mean(), scores.std() * 2))"
   ]
  },
  {
   "cell_type": "code",
   "execution_count": 25,
   "metadata": {
    "collapsed": false
   },
   "outputs": [
    {
     "name": "stdout",
     "output_type": "stream",
     "text": [
      "neg_mean_squared_error: -1.31 (+/- 0.57)\n"
     ]
    }
   ],
   "source": [
    "reg = KNeighborsRegressor()\n",
    "scores = cross_val_score(reg,user_tr_X_scale, user_tr_Y_scale, cv=10, scoring='neg_mean_squared_error', n_jobs=-1)\n",
    "print(\"neg_mean_squared_error: %0.2f (+/- %0.2f)\" % (scores.mean(), scores.std() * 2))"
   ]
  },
  {
   "cell_type": "markdown",
   "metadata": {},
   "source": [
    "## check if improvements with polynomial features"
   ]
  },
  {
   "cell_type": "code",
   "execution_count": 26,
   "metadata": {
    "collapsed": true
   },
   "outputs": [],
   "source": [
    "poly = PolynomialFeatures(degree=2)\n",
    "user_tr_X_pol = poly.fit_transform(user_tr_X)"
   ]
  },
  {
   "cell_type": "code",
   "execution_count": 27,
   "metadata": {
    "collapsed": false
   },
   "outputs": [
    {
     "name": "stdout",
     "output_type": "stream",
     "text": [
      "neg_mean_squared_error: -6.68 (+/- 21.09)\n"
     ]
    }
   ],
   "source": [
    "reg = Lasso(tol = 0.5)\n",
    "scores = cross_val_score(reg, user_tr_X_pol, user_tr_Y, cv=10, scoring='neg_mean_squared_error', n_jobs=-1)\n",
    "print(\"neg_mean_squared_error: %0.2f (+/- %0.2f)\" % (scores.mean(), scores.std() * 2))"
   ]
  },
  {
   "cell_type": "markdown",
   "metadata": {},
   "source": [
    "# PCA"
   ]
  },
  {
   "cell_type": "markdown",
   "metadata": {},
   "source": [
    "Maybe some PCA will improve it but probably not as Lasso already removes the unnecessary variables by regularization"
   ]
  },
  {
   "cell_type": "code",
   "execution_count": 28,
   "metadata": {
    "collapsed": false
   },
   "outputs": [
    {
     "data": {
      "text/plain": [
       "(175, 10)"
      ]
     },
     "execution_count": 28,
     "metadata": {},
     "output_type": "execute_result"
    }
   ],
   "source": [
    "#dimension reduction\n",
    "pca = PCA(n_components=10)\n",
    "X_pca_20 = pca.fit_transform(user_tr_X)\n",
    "X_pca_20.shape"
   ]
  },
  {
   "cell_type": "code",
   "execution_count": 29,
   "metadata": {
    "collapsed": false
   },
   "outputs": [
    {
     "name": "stdout",
     "output_type": "stream",
     "text": [
      "neg_mean_squared_error: -0.97 (+/- 0.57)\n"
     ]
    }
   ],
   "source": [
    "reg = Lasso(tol=10)\n",
    "scores = cross_val_score(reg, X_pca_20, user_tr_Y, cv=10, scoring='neg_mean_squared_error', n_jobs=-1)\n",
    "print(\"neg_mean_squared_error: %0.2f (+/- %0.2f)\" % (scores.mean(), scores.std() * 2))"
   ]
  },
  {
   "cell_type": "markdown",
   "metadata": {},
   "source": [
    "# Result"
   ]
  },
  {
   "cell_type": "markdown",
   "metadata": {},
   "source": [
    "# The Lasso algo is the best and we will use it for prediction"
   ]
  },
  {
   "cell_type": "markdown",
   "metadata": {
    "collapsed": true
   },
   "source": [
    "# Optimization of the algorithm"
   ]
  },
  {
   "cell_type": "code",
   "execution_count": 30,
   "metadata": {
    "collapsed": false
   },
   "outputs": [
    {
     "name": "stdout",
     "output_type": "stream",
     "text": [
      "Lasso(alpha=0.7, copy_X=True, fit_intercept=True, max_iter=1000,\n",
      "   normalize=False, positive=False, precompute=False, random_state=None,\n",
      "   selection='cyclic', tol=5, warm_start=False)\n",
      "{'alpha': 0.7, 'tol': 5}\n",
      "-0.940031668356\n"
     ]
    }
   ],
   "source": [
    "search = { 'alpha':[0.001,0.1,0.5, 0.7, 1], 'tol':[0.01,0.5, 1,5,10]}\n",
    "\n",
    "\n",
    "lasso = Lasso()\n",
    "\n",
    "lasso_grid = GridSearchCV(estimator=lasso,param_grid=search, scoring='neg_mean_squared_error', n_jobs=-1,refit=True, cv=10)\n",
    "\n",
    "lasso_grid.fit( user_tr_X, user_tr_Y)\n",
    "\n",
    "print(lasso_grid.best_estimator_)\n",
    "\n",
    "print(lasso_grid.best_params_)\n",
    "\n",
    "print(lasso_grid.best_score_)"
   ]
  },
  {
   "cell_type": "markdown",
   "metadata": {},
   "source": [
    "Let's have a quick look at the residuals of the estimator. \n",
    "These should follow a random pattern."
   ]
  },
  {
   "cell_type": "code",
   "execution_count": 31,
   "metadata": {
    "collapsed": false
   },
   "outputs": [
    {
     "data": {
      "text/plain": [
       "<matplotlib.collections.PathCollection at 0x7fc0e6e10c88>"
      ]
     },
     "execution_count": 31,
     "metadata": {},
     "output_type": "execute_result"
    },
    {
     "data": {
      "image/png": "[encoded data removed]",
      "text/plain": [
       "<matplotlib.figure.Figure at 0x7fc0e6e3d080>"
      ]
     },
     "metadata": {},
     "output_type": "display_data"
    }
   ],
   "source": [
    "plt.scatter(lasso_grid.predict(user_tr_X), lasso_grid.predict(user_tr_X)-user_tr_Y)"
   ]
  },
  {
   "cell_type": "markdown",
   "metadata": {},
   "source": [
    "Looks pretty random :)"
   ]
  },
  {
   "cell_type": "markdown",
   "metadata": {
    "collapsed": true
   },
   "source": [
    "# Fit the model and predict the missing values"
   ]
  },
  {
   "cell_type": "code",
   "execution_count": 32,
   "metadata": {
    "collapsed": false
   },
   "outputs": [
    {
     "name": "stdout",
     "output_type": "stream",
     "text": [
      "(629, 36)\n"
     ]
    }
   ],
   "source": [
    "user_pred = pd.read_csv(\"mutual_fund_prop_pred.csv\", sep=\",\", index_col=\"Client\")\n",
    "print(user_pred.shape)"
   ]
  },
  {
   "cell_type": "code",
   "execution_count": 33,
   "metadata": {
    "collapsed": false
   },
   "outputs": [],
   "source": [
    "user_pred_X = user_pred.ix[(user_pred['Sale_MF_pred']==1)]\n",
    "user_pred_X = user_pred_X.drop('Sale_MF_pred', axis=1)\n"
   ]
  },
  {
   "cell_type": "code",
   "execution_count": 34,
   "metadata": {
    "collapsed": false
   },
   "outputs": [],
   "source": [
    "#user_pred_X[skewed_feats] = np.log1p(user_pred_X[skewed_feats])"
   ]
  },
  {
   "cell_type": "code",
   "execution_count": 35,
   "metadata": {
    "collapsed": false
   },
   "outputs": [
    {
     "data": {
      "text/html": [
       "<div>\n",
       "<table border=\"1\" class=\"dataframe\">\n",
       "  <thead>\n",
       "    <tr style=\"text-align: right;\">\n",
       "      <th></th>\n",
       "      <th>Age</th>\n",
       "      <th>Tenure</th>\n",
       "      <th>M</th>\n",
       "      <th>Count_CA</th>\n",
       "      <th>Count_SA</th>\n",
       "      <th>Count_MF</th>\n",
       "      <th>Count_OVD</th>\n",
       "      <th>Count_CC</th>\n",
       "      <th>Count_CL</th>\n",
       "      <th>ActBal_CA</th>\n",
       "      <th>...</th>\n",
       "      <th>TransactionsDeb_CA</th>\n",
       "      <th>TransactionsDebCash_Card</th>\n",
       "      <th>TransactionsDebCashless_Card</th>\n",
       "      <th>TransactionsDeb_PaymentOrder</th>\n",
       "      <th>Actbal_CA_avg</th>\n",
       "      <th>ActBal_SA_avg</th>\n",
       "      <th>ActBal_MF_avg</th>\n",
       "      <th>ActBal_OVD_avg</th>\n",
       "      <th>ActBal_CC_avg</th>\n",
       "      <th>ActBal_CL_avg</th>\n",
       "    </tr>\n",
       "    <tr>\n",
       "      <th>Client</th>\n",
       "      <th></th>\n",
       "      <th></th>\n",
       "      <th></th>\n",
       "      <th></th>\n",
       "      <th></th>\n",
       "      <th></th>\n",
       "      <th></th>\n",
       "      <th></th>\n",
       "      <th></th>\n",
       "      <th></th>\n",
       "      <th></th>\n",
       "      <th></th>\n",
       "      <th></th>\n",
       "      <th></th>\n",
       "      <th></th>\n",
       "      <th></th>\n",
       "      <th></th>\n",
       "      <th></th>\n",
       "      <th></th>\n",
       "      <th></th>\n",
       "      <th></th>\n",
       "    </tr>\n",
       "  </thead>\n",
       "  <tbody>\n",
       "    <tr>\n",
       "      <th>267</th>\n",
       "      <td>73.0</td>\n",
       "      <td>36</td>\n",
       "      <td>0.0</td>\n",
       "      <td>1</td>\n",
       "      <td>0.0</td>\n",
       "      <td>0.0</td>\n",
       "      <td>0.0</td>\n",
       "      <td>0.0</td>\n",
       "      <td>0.0</td>\n",
       "      <td>0.000000</td>\n",
       "      <td>...</td>\n",
       "      <td>12</td>\n",
       "      <td>1</td>\n",
       "      <td>7</td>\n",
       "      <td>2</td>\n",
       "      <td>0.000000</td>\n",
       "      <td>0.0</td>\n",
       "      <td>0.000000</td>\n",
       "      <td>0.0</td>\n",
       "      <td>0.000000</td>\n",
       "      <td>0.000000</td>\n",
       "    </tr>\n",
       "    <tr>\n",
       "      <th>64</th>\n",
       "      <td>61.0</td>\n",
       "      <td>38</td>\n",
       "      <td>0.0</td>\n",
       "      <td>1</td>\n",
       "      <td>0.0</td>\n",
       "      <td>0.0</td>\n",
       "      <td>1.0</td>\n",
       "      <td>0.0</td>\n",
       "      <td>0.0</td>\n",
       "      <td>0.759643</td>\n",
       "      <td>...</td>\n",
       "      <td>51</td>\n",
       "      <td>3</td>\n",
       "      <td>42</td>\n",
       "      <td>4</td>\n",
       "      <td>0.759643</td>\n",
       "      <td>0.0</td>\n",
       "      <td>0.000000</td>\n",
       "      <td>0.0</td>\n",
       "      <td>0.000000</td>\n",
       "      <td>0.000000</td>\n",
       "    </tr>\n",
       "    <tr>\n",
       "      <th>1614</th>\n",
       "      <td>48.0</td>\n",
       "      <td>65</td>\n",
       "      <td>1.0</td>\n",
       "      <td>1</td>\n",
       "      <td>0.0</td>\n",
       "      <td>0.0</td>\n",
       "      <td>0.0</td>\n",
       "      <td>0.0</td>\n",
       "      <td>0.0</td>\n",
       "      <td>0.010357</td>\n",
       "      <td>...</td>\n",
       "      <td>15</td>\n",
       "      <td>1</td>\n",
       "      <td>8</td>\n",
       "      <td>3</td>\n",
       "      <td>0.010357</td>\n",
       "      <td>0.0</td>\n",
       "      <td>0.000000</td>\n",
       "      <td>0.0</td>\n",
       "      <td>0.000000</td>\n",
       "      <td>0.000000</td>\n",
       "    </tr>\n",
       "    <tr>\n",
       "      <th>456</th>\n",
       "      <td>66.0</td>\n",
       "      <td>18</td>\n",
       "      <td>1.0</td>\n",
       "      <td>1</td>\n",
       "      <td>0.0</td>\n",
       "      <td>4.0</td>\n",
       "      <td>0.0</td>\n",
       "      <td>0.0</td>\n",
       "      <td>0.0</td>\n",
       "      <td>0.000000</td>\n",
       "      <td>...</td>\n",
       "      <td>20</td>\n",
       "      <td>1</td>\n",
       "      <td>11</td>\n",
       "      <td>8</td>\n",
       "      <td>0.000000</td>\n",
       "      <td>0.0</td>\n",
       "      <td>21647.442768</td>\n",
       "      <td>0.0</td>\n",
       "      <td>0.000000</td>\n",
       "      <td>0.000000</td>\n",
       "    </tr>\n",
       "    <tr>\n",
       "      <th>100</th>\n",
       "      <td>39.0</td>\n",
       "      <td>86</td>\n",
       "      <td>0.0</td>\n",
       "      <td>1</td>\n",
       "      <td>0.0</td>\n",
       "      <td>0.0</td>\n",
       "      <td>0.0</td>\n",
       "      <td>1.0</td>\n",
       "      <td>1.0</td>\n",
       "      <td>0.000000</td>\n",
       "      <td>...</td>\n",
       "      <td>13</td>\n",
       "      <td>1</td>\n",
       "      <td>17</td>\n",
       "      <td>8</td>\n",
       "      <td>0.000000</td>\n",
       "      <td>0.0</td>\n",
       "      <td>0.000000</td>\n",
       "      <td>0.0</td>\n",
       "      <td>247.493214</td>\n",
       "      <td>802.807143</td>\n",
       "    </tr>\n",
       "  </tbody>\n",
       "</table>\n",
       "<p>5 rows × 35 columns</p>\n",
       "</div>"
      ],
      "text/plain": [
       "         Age  Tenure    M  Count_CA  Count_SA  Count_MF  Count_OVD  Count_CC  \\\n",
       "Client                                                                         \n",
       "267     73.0      36  0.0         1       0.0       0.0        0.0       0.0   \n",
       "64      61.0      38  0.0         1       0.0       0.0        1.0       0.0   \n",
       "1614    48.0      65  1.0         1       0.0       0.0        0.0       0.0   \n",
       "456     66.0      18  1.0         1       0.0       4.0        0.0       0.0   \n",
       "100     39.0      86  0.0         1       0.0       0.0        0.0       1.0   \n",
       "\n",
       "        Count_CL  ActBal_CA      ...        TransactionsDeb_CA  \\\n",
       "Client                           ...                             \n",
       "267          0.0   0.000000      ...                        12   \n",
       "64           0.0   0.759643      ...                        51   \n",
       "1614         0.0   0.010357      ...                        15   \n",
       "456          0.0   0.000000      ...                        20   \n",
       "100          1.0   0.000000      ...                        13   \n",
       "\n",
       "        TransactionsDebCash_Card  TransactionsDebCashless_Card  \\\n",
       "Client                                                           \n",
       "267                            1                             7   \n",
       "64                             3                            42   \n",
       "1614                           1                             8   \n",
       "456                            1                            11   \n",
       "100                            1                            17   \n",
       "\n",
       "        TransactionsDeb_PaymentOrder  Actbal_CA_avg  ActBal_SA_avg  \\\n",
       "Client                                                               \n",
       "267                                2       0.000000            0.0   \n",
       "64                                 4       0.759643            0.0   \n",
       "1614                               3       0.010357            0.0   \n",
       "456                                8       0.000000            0.0   \n",
       "100                                8       0.000000            0.0   \n",
       "\n",
       "        ActBal_MF_avg  ActBal_OVD_avg  ActBal_CC_avg  ActBal_CL_avg  \n",
       "Client                                                               \n",
       "267          0.000000             0.0       0.000000       0.000000  \n",
       "64           0.000000             0.0       0.000000       0.000000  \n",
       "1614         0.000000             0.0       0.000000       0.000000  \n",
       "456      21647.442768             0.0       0.000000       0.000000  \n",
       "100          0.000000             0.0     247.493214     802.807143  \n",
       "\n",
       "[5 rows x 35 columns]"
      ]
     },
     "execution_count": 35,
     "metadata": {},
     "output_type": "execute_result"
    }
   ],
   "source": [
    "user_pred_X.head()"
   ]
  },
  {
   "cell_type": "code",
   "execution_count": 36,
   "metadata": {
    "collapsed": false
   },
   "outputs": [],
   "source": [
    "user_pred_Y = np.expm1(lasso_grid.predict(user_pred_X[user_tr_X.columns]))"
   ]
  },
  {
   "cell_type": "code",
   "execution_count": 37,
   "metadata": {
    "collapsed": false
   },
   "outputs": [
    {
     "data": {
      "text/plain": [
       "array([ 2.69341826,  2.89179351,  3.08448372,  2.55522836,  3.27775294,\n",
       "        3.30162145,  2.74463785,  3.12006689,  3.28152967,  3.128789  ,\n",
       "        3.26955416,  3.49089621,  3.41042604,  3.26726968,  2.89971491,\n",
       "        2.95965673,  3.39694292,  3.28350444,  3.40964281,  3.54187103,\n",
       "        3.58182195,  2.97162426,  3.43858896,  2.11339832,  2.86826715,\n",
       "        3.58660898,  3.18233691])"
      ]
     },
     "execution_count": 37,
     "metadata": {},
     "output_type": "execute_result"
    }
   ],
   "source": [
    "user_pred_Y"
   ]
  },
  {
   "cell_type": "code",
   "execution_count": 38,
   "metadata": {
    "collapsed": false
   },
   "outputs": [],
   "source": [
    "user_pred = user_pred.ix[(user_pred['Sale_MF_pred']==1)]\n",
    "user_pred['Sale_MF_pred_value'] = pd.Series(user_pred_Y,index=user_pred.index)"
   ]
  },
  {
   "cell_type": "code",
   "execution_count": 39,
   "metadata": {
    "collapsed": false
   },
   "outputs": [
    {
     "data": {
      "text/plain": [
       "(27,)"
      ]
     },
     "execution_count": 39,
     "metadata": {},
     "output_type": "execute_result"
    }
   ],
   "source": [
    "user_pred['Sale_MF_pred_value'].shape"
   ]
  },
  {
   "cell_type": "code",
   "execution_count": 40,
   "metadata": {
    "collapsed": false
   },
   "outputs": [
    {
     "data": {
      "text/plain": [
       "count    27.000000\n",
       "mean      3.138942\n",
       "std       0.345857\n",
       "min       2.113398\n",
       "25%       2.929686\n",
       "50%       3.267270\n",
       "75%       3.403293\n",
       "max       3.586609\n",
       "Name: Sale_MF_pred_value, dtype: float64"
      ]
     },
     "execution_count": 40,
     "metadata": {},
     "output_type": "execute_result"
    }
   ],
   "source": [
    "user_pred['Sale_MF_pred_value'].describe()"
   ]
  },
  {
   "cell_type": "code",
   "execution_count": 41,
   "metadata": {
    "collapsed": true
   },
   "outputs": [],
   "source": [
    "user_pred.to_csv(path_or_buf='mutual_fund_prop_pred_value.csv')"
   ]
  }
 ],
 "metadata": {
  "anaconda-cloud": {},
  "kernelspec": {
   "display_name": "Python [default]",
   "language": "python",
   "name": "python3"
  },
  "language_info": {
   "codemirror_mode": {
    "name": "ipython",
    "version": 3
   },
   "file_extension": ".py",
   "mimetype": "text/x-python",
   "name": "python",
   "nbconvert_exporter": "python",
   "pygments_lexer": "ipython3",
   "version": "3.5.2"
  }
 },
 "nbformat": 4,
 "nbformat_minor": 2
}
