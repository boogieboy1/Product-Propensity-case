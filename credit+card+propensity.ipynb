{
 "cells": [
  {
   "cell_type": "code",
   "execution_count": 1,
   "metadata": {
    "collapsed": true
   },
   "outputs": [],
   "source": [
    "#import libraries\n",
    "import pandas as pd\n",
    "import numpy as np\n",
    "import matplotlib.pyplot as plt\n",
    "\n",
    "from sklearn.linear_model import LogisticRegression\n",
    "from sklearn.svm import SVC\n",
    "from sklearn.svm import LinearSVC\n",
    "from sklearn.ensemble import RandomForestClassifier\n",
    "from sklearn.naive_bayes import GaussianNB\n",
    "\n",
    "from sklearn.model_selection import train_test_split\n",
    "from sklearn.metrics import roc_auc_score\n",
    "from sklearn.metrics import classification_report\n",
    "from sklearn.model_selection import cross_val_score\n",
    "from sklearn.model_selection import GridSearchCV\n",
    "from sklearn.model_selection import RandomizedSearchCV\n",
    "\n",
    "from sklearn.feature_selection import RFECV\n",
    "\n",
    "from sklearn.preprocessing import scale\n",
    "from sklearn.decomposition import PCA"
   ]
  },
  {
   "cell_type": "code",
   "execution_count": 2,
   "metadata": {},
   "outputs": [
    {
     "name": "stdout",
     "output_type": "stream",
     "text": [
      "(1581, 41)\n"
     ]
    },
    {
     "data": {
      "text/html": [
       "<div>\n",
       "<style>\n",
       "    .dataframe thead tr:only-child th {\n",
       "        text-align: right;\n",
       "    }\n",
       "\n",
       "    .dataframe thead th {\n",
       "        text-align: left;\n",
       "    }\n",
       "\n",
       "    .dataframe tbody tr th {\n",
       "        vertical-align: top;\n",
       "    }\n",
       "</style>\n",
       "<table border=\"1\" class=\"dataframe\">\n",
       "  <thead>\n",
       "    <tr style=\"text-align: right;\">\n",
       "      <th></th>\n",
       "      <th>Age</th>\n",
       "      <th>Tenure</th>\n",
       "      <th>M</th>\n",
       "      <th>Count_CA</th>\n",
       "      <th>Count_SA</th>\n",
       "      <th>Count_MF</th>\n",
       "      <th>Count_OVD</th>\n",
       "      <th>Count_CC</th>\n",
       "      <th>Count_CL</th>\n",
       "      <th>ActBal_CA</th>\n",
       "      <th>...</th>\n",
       "      <th>Sale_CL</th>\n",
       "      <th>Revenue_MF</th>\n",
       "      <th>Revenue_CC</th>\n",
       "      <th>Revenue_CL</th>\n",
       "      <th>Actbal_CA_avg</th>\n",
       "      <th>ActBal_SA_avg</th>\n",
       "      <th>ActBal_MF_avg</th>\n",
       "      <th>ActBal_OVD_avg</th>\n",
       "      <th>ActBal_CC_avg</th>\n",
       "      <th>ActBal_CL_avg</th>\n",
       "    </tr>\n",
       "    <tr>\n",
       "      <th>Client</th>\n",
       "      <th></th>\n",
       "      <th></th>\n",
       "      <th></th>\n",
       "      <th></th>\n",
       "      <th></th>\n",
       "      <th></th>\n",
       "      <th></th>\n",
       "      <th></th>\n",
       "      <th></th>\n",
       "      <th></th>\n",
       "      <th></th>\n",
       "      <th></th>\n",
       "      <th></th>\n",
       "      <th></th>\n",
       "      <th></th>\n",
       "      <th></th>\n",
       "      <th></th>\n",
       "      <th></th>\n",
       "      <th></th>\n",
       "      <th></th>\n",
       "      <th></th>\n",
       "    </tr>\n",
       "  </thead>\n",
       "  <tbody>\n",
       "    <tr>\n",
       "      <th>909</th>\n",
       "      <td>21</td>\n",
       "      <td>27</td>\n",
       "      <td>1</td>\n",
       "      <td>1</td>\n",
       "      <td>0.0</td>\n",
       "      <td>0.0</td>\n",
       "      <td>1.0</td>\n",
       "      <td>0.0</td>\n",
       "      <td>1.0</td>\n",
       "      <td>4.710714</td>\n",
       "      <td>...</td>\n",
       "      <td>NaN</td>\n",
       "      <td>NaN</td>\n",
       "      <td>NaN</td>\n",
       "      <td>NaN</td>\n",
       "      <td>4.710714</td>\n",
       "      <td>0.00000</td>\n",
       "      <td>0.0</td>\n",
       "      <td>0.0</td>\n",
       "      <td>0.00</td>\n",
       "      <td>4291.996429</td>\n",
       "    </tr>\n",
       "    <tr>\n",
       "      <th>1217</th>\n",
       "      <td>38</td>\n",
       "      <td>165</td>\n",
       "      <td>1</td>\n",
       "      <td>1</td>\n",
       "      <td>0.0</td>\n",
       "      <td>0.0</td>\n",
       "      <td>0.0</td>\n",
       "      <td>0.0</td>\n",
       "      <td>0.0</td>\n",
       "      <td>6752.244643</td>\n",
       "      <td>...</td>\n",
       "      <td>0.0</td>\n",
       "      <td>0.000000</td>\n",
       "      <td>0.000000</td>\n",
       "      <td>0.0</td>\n",
       "      <td>6752.244643</td>\n",
       "      <td>0.00000</td>\n",
       "      <td>0.0</td>\n",
       "      <td>0.0</td>\n",
       "      <td>0.00</td>\n",
       "      <td>0.000000</td>\n",
       "    </tr>\n",
       "    <tr>\n",
       "      <th>850</th>\n",
       "      <td>49</td>\n",
       "      <td>44</td>\n",
       "      <td>0</td>\n",
       "      <td>1</td>\n",
       "      <td>0.0</td>\n",
       "      <td>0.0</td>\n",
       "      <td>0.0</td>\n",
       "      <td>0.0</td>\n",
       "      <td>0.0</td>\n",
       "      <td>43.523214</td>\n",
       "      <td>...</td>\n",
       "      <td>0.0</td>\n",
       "      <td>0.000000</td>\n",
       "      <td>0.893929</td>\n",
       "      <td>0.0</td>\n",
       "      <td>43.523214</td>\n",
       "      <td>0.00000</td>\n",
       "      <td>0.0</td>\n",
       "      <td>0.0</td>\n",
       "      <td>0.00</td>\n",
       "      <td>0.000000</td>\n",
       "    </tr>\n",
       "    <tr>\n",
       "      <th>1473</th>\n",
       "      <td>54</td>\n",
       "      <td>34</td>\n",
       "      <td>1</td>\n",
       "      <td>1</td>\n",
       "      <td>1.0</td>\n",
       "      <td>0.0</td>\n",
       "      <td>0.0</td>\n",
       "      <td>1.0</td>\n",
       "      <td>1.0</td>\n",
       "      <td>29.024286</td>\n",
       "      <td>...</td>\n",
       "      <td>0.0</td>\n",
       "      <td>4.929643</td>\n",
       "      <td>0.000000</td>\n",
       "      <td>0.0</td>\n",
       "      <td>29.024286</td>\n",
       "      <td>14447.80143</td>\n",
       "      <td>0.0</td>\n",
       "      <td>0.0</td>\n",
       "      <td>653.91</td>\n",
       "      <td>1132.590357</td>\n",
       "    </tr>\n",
       "    <tr>\n",
       "      <th>1038</th>\n",
       "      <td>29</td>\n",
       "      <td>106</td>\n",
       "      <td>1</td>\n",
       "      <td>1</td>\n",
       "      <td>0.0</td>\n",
       "      <td>0.0</td>\n",
       "      <td>0.0</td>\n",
       "      <td>0.0</td>\n",
       "      <td>0.0</td>\n",
       "      <td>27.035714</td>\n",
       "      <td>...</td>\n",
       "      <td>0.0</td>\n",
       "      <td>0.000000</td>\n",
       "      <td>0.000000</td>\n",
       "      <td>0.0</td>\n",
       "      <td>27.035714</td>\n",
       "      <td>0.00000</td>\n",
       "      <td>0.0</td>\n",
       "      <td>0.0</td>\n",
       "      <td>0.00</td>\n",
       "      <td>0.000000</td>\n",
       "    </tr>\n",
       "  </tbody>\n",
       "</table>\n",
       "<p>5 rows × 41 columns</p>\n",
       "</div>"
      ],
      "text/plain": [
       "        Age  Tenure  M  Count_CA  Count_SA  Count_MF  Count_OVD  Count_CC  \\\n",
       "Client                                                                      \n",
       "909      21      27  1         1       0.0       0.0        1.0       0.0   \n",
       "1217     38     165  1         1       0.0       0.0        0.0       0.0   \n",
       "850      49      44  0         1       0.0       0.0        0.0       0.0   \n",
       "1473     54      34  1         1       1.0       0.0        0.0       1.0   \n",
       "1038     29     106  1         1       0.0       0.0        0.0       0.0   \n",
       "\n",
       "        Count_CL    ActBal_CA      ...        Sale_CL  Revenue_MF  Revenue_CC  \\\n",
       "Client                             ...                                          \n",
       "909          1.0     4.710714      ...            NaN         NaN         NaN   \n",
       "1217         0.0  6752.244643      ...            0.0    0.000000    0.000000   \n",
       "850          0.0    43.523214      ...            0.0    0.000000    0.893929   \n",
       "1473         1.0    29.024286      ...            0.0    4.929643    0.000000   \n",
       "1038         0.0    27.035714      ...            0.0    0.000000    0.000000   \n",
       "\n",
       "        Revenue_CL  Actbal_CA_avg  ActBal_SA_avg  ActBal_MF_avg  \\\n",
       "Client                                                            \n",
       "909            NaN       4.710714        0.00000            0.0   \n",
       "1217           0.0    6752.244643        0.00000            0.0   \n",
       "850            0.0      43.523214        0.00000            0.0   \n",
       "1473           0.0      29.024286    14447.80143            0.0   \n",
       "1038           0.0      27.035714        0.00000            0.0   \n",
       "\n",
       "        ActBal_OVD_avg  ActBal_CC_avg  ActBal_CL_avg  \n",
       "Client                                                \n",
       "909                0.0           0.00    4291.996429  \n",
       "1217               0.0           0.00       0.000000  \n",
       "850                0.0           0.00       0.000000  \n",
       "1473               0.0         653.91    1132.590357  \n",
       "1038               0.0           0.00       0.000000  \n",
       "\n",
       "[5 rows x 41 columns]"
      ]
     },
     "execution_count": 2,
     "metadata": {},
     "output_type": "execute_result"
    }
   ],
   "source": [
    "user = pd.read_csv(\"analysis_data.csv\", sep=\",\", index_col=\"Client\")\n",
    "print(user.shape)\n",
    "user.head()"
   ]
  },
  {
   "cell_type": "code",
   "execution_count": 3,
   "metadata": {},
   "outputs": [
    {
     "name": "stdout",
     "output_type": "stream",
     "text": [
      "(947, 41)\n"
     ]
    },
    {
     "data": {
      "text/html": [
       "<div>\n",
       "<style>\n",
       "    .dataframe thead tr:only-child th {\n",
       "        text-align: right;\n",
       "    }\n",
       "\n",
       "    .dataframe thead th {\n",
       "        text-align: left;\n",
       "    }\n",
       "\n",
       "    .dataframe tbody tr th {\n",
       "        vertical-align: top;\n",
       "    }\n",
       "</style>\n",
       "<table border=\"1\" class=\"dataframe\">\n",
       "  <thead>\n",
       "    <tr style=\"text-align: right;\">\n",
       "      <th></th>\n",
       "      <th>Age</th>\n",
       "      <th>Tenure</th>\n",
       "      <th>M</th>\n",
       "      <th>Count_CA</th>\n",
       "      <th>Count_SA</th>\n",
       "      <th>Count_MF</th>\n",
       "      <th>Count_OVD</th>\n",
       "      <th>Count_CC</th>\n",
       "      <th>Count_CL</th>\n",
       "      <th>ActBal_CA</th>\n",
       "      <th>...</th>\n",
       "      <th>Sale_CL</th>\n",
       "      <th>Revenue_MF</th>\n",
       "      <th>Revenue_CC</th>\n",
       "      <th>Revenue_CL</th>\n",
       "      <th>Actbal_CA_avg</th>\n",
       "      <th>ActBal_SA_avg</th>\n",
       "      <th>ActBal_MF_avg</th>\n",
       "      <th>ActBal_OVD_avg</th>\n",
       "      <th>ActBal_CC_avg</th>\n",
       "      <th>ActBal_CL_avg</th>\n",
       "    </tr>\n",
       "    <tr>\n",
       "      <th>Client</th>\n",
       "      <th></th>\n",
       "      <th></th>\n",
       "      <th></th>\n",
       "      <th></th>\n",
       "      <th></th>\n",
       "      <th></th>\n",
       "      <th></th>\n",
       "      <th></th>\n",
       "      <th></th>\n",
       "      <th></th>\n",
       "      <th></th>\n",
       "      <th></th>\n",
       "      <th></th>\n",
       "      <th></th>\n",
       "      <th></th>\n",
       "      <th></th>\n",
       "      <th></th>\n",
       "      <th></th>\n",
       "      <th></th>\n",
       "      <th></th>\n",
       "      <th></th>\n",
       "    </tr>\n",
       "  </thead>\n",
       "  <tbody>\n",
       "    <tr>\n",
       "      <th>1217</th>\n",
       "      <td>38</td>\n",
       "      <td>165</td>\n",
       "      <td>1</td>\n",
       "      <td>1</td>\n",
       "      <td>0.0</td>\n",
       "      <td>0.0</td>\n",
       "      <td>0.0</td>\n",
       "      <td>0.0</td>\n",
       "      <td>0.0</td>\n",
       "      <td>6752.244643</td>\n",
       "      <td>...</td>\n",
       "      <td>0.0</td>\n",
       "      <td>0.000000</td>\n",
       "      <td>0.000000</td>\n",
       "      <td>0.000000</td>\n",
       "      <td>6752.244643</td>\n",
       "      <td>0.00000</td>\n",
       "      <td>0.0</td>\n",
       "      <td>0.0000</td>\n",
       "      <td>0.00</td>\n",
       "      <td>0.000000</td>\n",
       "    </tr>\n",
       "    <tr>\n",
       "      <th>850</th>\n",
       "      <td>49</td>\n",
       "      <td>44</td>\n",
       "      <td>0</td>\n",
       "      <td>1</td>\n",
       "      <td>0.0</td>\n",
       "      <td>0.0</td>\n",
       "      <td>0.0</td>\n",
       "      <td>0.0</td>\n",
       "      <td>0.0</td>\n",
       "      <td>43.523214</td>\n",
       "      <td>...</td>\n",
       "      <td>0.0</td>\n",
       "      <td>0.000000</td>\n",
       "      <td>0.893929</td>\n",
       "      <td>0.000000</td>\n",
       "      <td>43.523214</td>\n",
       "      <td>0.00000</td>\n",
       "      <td>0.0</td>\n",
       "      <td>0.0000</td>\n",
       "      <td>0.00</td>\n",
       "      <td>0.000000</td>\n",
       "    </tr>\n",
       "    <tr>\n",
       "      <th>1473</th>\n",
       "      <td>54</td>\n",
       "      <td>34</td>\n",
       "      <td>1</td>\n",
       "      <td>1</td>\n",
       "      <td>1.0</td>\n",
       "      <td>0.0</td>\n",
       "      <td>0.0</td>\n",
       "      <td>1.0</td>\n",
       "      <td>1.0</td>\n",
       "      <td>29.024286</td>\n",
       "      <td>...</td>\n",
       "      <td>0.0</td>\n",
       "      <td>4.929643</td>\n",
       "      <td>0.000000</td>\n",
       "      <td>0.000000</td>\n",
       "      <td>29.024286</td>\n",
       "      <td>14447.80143</td>\n",
       "      <td>0.0</td>\n",
       "      <td>0.0000</td>\n",
       "      <td>653.91</td>\n",
       "      <td>1132.590357</td>\n",
       "    </tr>\n",
       "    <tr>\n",
       "      <th>1038</th>\n",
       "      <td>29</td>\n",
       "      <td>106</td>\n",
       "      <td>1</td>\n",
       "      <td>1</td>\n",
       "      <td>0.0</td>\n",
       "      <td>0.0</td>\n",
       "      <td>0.0</td>\n",
       "      <td>0.0</td>\n",
       "      <td>0.0</td>\n",
       "      <td>27.035714</td>\n",
       "      <td>...</td>\n",
       "      <td>0.0</td>\n",
       "      <td>0.000000</td>\n",
       "      <td>0.000000</td>\n",
       "      <td>0.000000</td>\n",
       "      <td>27.035714</td>\n",
       "      <td>0.00000</td>\n",
       "      <td>0.0</td>\n",
       "      <td>0.0000</td>\n",
       "      <td>0.00</td>\n",
       "      <td>0.000000</td>\n",
       "    </tr>\n",
       "    <tr>\n",
       "      <th>225</th>\n",
       "      <td>14</td>\n",
       "      <td>187</td>\n",
       "      <td>1</td>\n",
       "      <td>1</td>\n",
       "      <td>0.0</td>\n",
       "      <td>0.0</td>\n",
       "      <td>1.0</td>\n",
       "      <td>0.0</td>\n",
       "      <td>0.0</td>\n",
       "      <td>345.686071</td>\n",
       "      <td>...</td>\n",
       "      <td>1.0</td>\n",
       "      <td>0.000000</td>\n",
       "      <td>0.000000</td>\n",
       "      <td>8.130714</td>\n",
       "      <td>345.686071</td>\n",
       "      <td>0.00000</td>\n",
       "      <td>0.0</td>\n",
       "      <td>618.3975</td>\n",
       "      <td>0.00</td>\n",
       "      <td>0.000000</td>\n",
       "    </tr>\n",
       "  </tbody>\n",
       "</table>\n",
       "<p>5 rows × 41 columns</p>\n",
       "</div>"
      ],
      "text/plain": [
       "        Age  Tenure  M  Count_CA  Count_SA  Count_MF  Count_OVD  Count_CC  \\\n",
       "Client                                                                      \n",
       "1217     38     165  1         1       0.0       0.0        0.0       0.0   \n",
       "850      49      44  0         1       0.0       0.0        0.0       0.0   \n",
       "1473     54      34  1         1       1.0       0.0        0.0       1.0   \n",
       "1038     29     106  1         1       0.0       0.0        0.0       0.0   \n",
       "225      14     187  1         1       0.0       0.0        1.0       0.0   \n",
       "\n",
       "        Count_CL    ActBal_CA      ...        Sale_CL  Revenue_MF  Revenue_CC  \\\n",
       "Client                             ...                                          \n",
       "1217         0.0  6752.244643      ...            0.0    0.000000    0.000000   \n",
       "850          0.0    43.523214      ...            0.0    0.000000    0.893929   \n",
       "1473         1.0    29.024286      ...            0.0    4.929643    0.000000   \n",
       "1038         0.0    27.035714      ...            0.0    0.000000    0.000000   \n",
       "225          0.0   345.686071      ...            1.0    0.000000    0.000000   \n",
       "\n",
       "        Revenue_CL  Actbal_CA_avg  ActBal_SA_avg  ActBal_MF_avg  \\\n",
       "Client                                                            \n",
       "1217      0.000000    6752.244643        0.00000            0.0   \n",
       "850       0.000000      43.523214        0.00000            0.0   \n",
       "1473      0.000000      29.024286    14447.80143            0.0   \n",
       "1038      0.000000      27.035714        0.00000            0.0   \n",
       "225       8.130714     345.686071        0.00000            0.0   \n",
       "\n",
       "        ActBal_OVD_avg  ActBal_CC_avg  ActBal_CL_avg  \n",
       "Client                                                \n",
       "1217            0.0000           0.00       0.000000  \n",
       "850             0.0000           0.00       0.000000  \n",
       "1473            0.0000         653.91    1132.590357  \n",
       "1038            0.0000           0.00       0.000000  \n",
       "225           618.3975           0.00       0.000000  \n",
       "\n",
       "[5 rows x 41 columns]"
      ]
     },
     "execution_count": 3,
     "metadata": {},
     "output_type": "execute_result"
    }
   ],
   "source": [
    "user_tr = user[pd.notnull(user['Sale_MF'])]\n",
    "print(user_tr.shape)\n",
    "user_tr.head()"
   ]
  },
  {
   "cell_type": "code",
   "execution_count": 4,
   "metadata": {},
   "outputs": [
    {
     "data": {
      "text/html": [
       "<div>\n",
       "<style>\n",
       "    .dataframe thead tr:only-child th {\n",
       "        text-align: right;\n",
       "    }\n",
       "\n",
       "    .dataframe thead th {\n",
       "        text-align: left;\n",
       "    }\n",
       "\n",
       "    .dataframe tbody tr th {\n",
       "        vertical-align: top;\n",
       "    }\n",
       "</style>\n",
       "<table border=\"1\" class=\"dataframe\">\n",
       "  <thead>\n",
       "    <tr style=\"text-align: right;\">\n",
       "      <th></th>\n",
       "      <th>Age</th>\n",
       "      <th>Tenure</th>\n",
       "      <th>M</th>\n",
       "      <th>Count_CA</th>\n",
       "      <th>Count_SA</th>\n",
       "      <th>Count_MF</th>\n",
       "      <th>Count_OVD</th>\n",
       "      <th>Count_CC</th>\n",
       "      <th>Count_CL</th>\n",
       "      <th>ActBal_CA</th>\n",
       "      <th>...</th>\n",
       "      <th>TransactionsDebCash_Card</th>\n",
       "      <th>TransactionsDebCashless_Card</th>\n",
       "      <th>TransactionsDeb_PaymentOrder</th>\n",
       "      <th>Sale_CC</th>\n",
       "      <th>Actbal_CA_avg</th>\n",
       "      <th>ActBal_SA_avg</th>\n",
       "      <th>ActBal_MF_avg</th>\n",
       "      <th>ActBal_OVD_avg</th>\n",
       "      <th>ActBal_CC_avg</th>\n",
       "      <th>ActBal_CL_avg</th>\n",
       "    </tr>\n",
       "    <tr>\n",
       "      <th>Client</th>\n",
       "      <th></th>\n",
       "      <th></th>\n",
       "      <th></th>\n",
       "      <th></th>\n",
       "      <th></th>\n",
       "      <th></th>\n",
       "      <th></th>\n",
       "      <th></th>\n",
       "      <th></th>\n",
       "      <th></th>\n",
       "      <th></th>\n",
       "      <th></th>\n",
       "      <th></th>\n",
       "      <th></th>\n",
       "      <th></th>\n",
       "      <th></th>\n",
       "      <th></th>\n",
       "      <th></th>\n",
       "      <th></th>\n",
       "      <th></th>\n",
       "      <th></th>\n",
       "    </tr>\n",
       "  </thead>\n",
       "  <tbody>\n",
       "    <tr>\n",
       "      <th>1217</th>\n",
       "      <td>38</td>\n",
       "      <td>165</td>\n",
       "      <td>1</td>\n",
       "      <td>1</td>\n",
       "      <td>0.0</td>\n",
       "      <td>0.0</td>\n",
       "      <td>0.0</td>\n",
       "      <td>0.0</td>\n",
       "      <td>0.0</td>\n",
       "      <td>6752.244643</td>\n",
       "      <td>...</td>\n",
       "      <td>0</td>\n",
       "      <td>0</td>\n",
       "      <td>1</td>\n",
       "      <td>0.0</td>\n",
       "      <td>6752.244643</td>\n",
       "      <td>0.00000</td>\n",
       "      <td>0.0</td>\n",
       "      <td>0.0000</td>\n",
       "      <td>0.00</td>\n",
       "      <td>0.000000</td>\n",
       "    </tr>\n",
       "    <tr>\n",
       "      <th>850</th>\n",
       "      <td>49</td>\n",
       "      <td>44</td>\n",
       "      <td>0</td>\n",
       "      <td>1</td>\n",
       "      <td>0.0</td>\n",
       "      <td>0.0</td>\n",
       "      <td>0.0</td>\n",
       "      <td>0.0</td>\n",
       "      <td>0.0</td>\n",
       "      <td>43.523214</td>\n",
       "      <td>...</td>\n",
       "      <td>0</td>\n",
       "      <td>0</td>\n",
       "      <td>1</td>\n",
       "      <td>1.0</td>\n",
       "      <td>43.523214</td>\n",
       "      <td>0.00000</td>\n",
       "      <td>0.0</td>\n",
       "      <td>0.0000</td>\n",
       "      <td>0.00</td>\n",
       "      <td>0.000000</td>\n",
       "    </tr>\n",
       "    <tr>\n",
       "      <th>1473</th>\n",
       "      <td>54</td>\n",
       "      <td>34</td>\n",
       "      <td>1</td>\n",
       "      <td>1</td>\n",
       "      <td>1.0</td>\n",
       "      <td>0.0</td>\n",
       "      <td>0.0</td>\n",
       "      <td>1.0</td>\n",
       "      <td>1.0</td>\n",
       "      <td>29.024286</td>\n",
       "      <td>...</td>\n",
       "      <td>1</td>\n",
       "      <td>26</td>\n",
       "      <td>11</td>\n",
       "      <td>0.0</td>\n",
       "      <td>29.024286</td>\n",
       "      <td>14447.80143</td>\n",
       "      <td>0.0</td>\n",
       "      <td>0.0000</td>\n",
       "      <td>653.91</td>\n",
       "      <td>1132.590357</td>\n",
       "    </tr>\n",
       "    <tr>\n",
       "      <th>1038</th>\n",
       "      <td>29</td>\n",
       "      <td>106</td>\n",
       "      <td>1</td>\n",
       "      <td>1</td>\n",
       "      <td>0.0</td>\n",
       "      <td>0.0</td>\n",
       "      <td>0.0</td>\n",
       "      <td>0.0</td>\n",
       "      <td>0.0</td>\n",
       "      <td>27.035714</td>\n",
       "      <td>...</td>\n",
       "      <td>0</td>\n",
       "      <td>0</td>\n",
       "      <td>0</td>\n",
       "      <td>0.0</td>\n",
       "      <td>27.035714</td>\n",
       "      <td>0.00000</td>\n",
       "      <td>0.0</td>\n",
       "      <td>0.0000</td>\n",
       "      <td>0.00</td>\n",
       "      <td>0.000000</td>\n",
       "    </tr>\n",
       "    <tr>\n",
       "      <th>225</th>\n",
       "      <td>14</td>\n",
       "      <td>187</td>\n",
       "      <td>1</td>\n",
       "      <td>1</td>\n",
       "      <td>0.0</td>\n",
       "      <td>0.0</td>\n",
       "      <td>1.0</td>\n",
       "      <td>0.0</td>\n",
       "      <td>0.0</td>\n",
       "      <td>345.686071</td>\n",
       "      <td>...</td>\n",
       "      <td>0</td>\n",
       "      <td>4</td>\n",
       "      <td>1</td>\n",
       "      <td>0.0</td>\n",
       "      <td>345.686071</td>\n",
       "      <td>0.00000</td>\n",
       "      <td>0.0</td>\n",
       "      <td>618.3975</td>\n",
       "      <td>0.00</td>\n",
       "      <td>0.000000</td>\n",
       "    </tr>\n",
       "  </tbody>\n",
       "</table>\n",
       "<p>5 rows × 36 columns</p>\n",
       "</div>"
      ],
      "text/plain": [
       "        Age  Tenure  M  Count_CA  Count_SA  Count_MF  Count_OVD  Count_CC  \\\n",
       "Client                                                                      \n",
       "1217     38     165  1         1       0.0       0.0        0.0       0.0   \n",
       "850      49      44  0         1       0.0       0.0        0.0       0.0   \n",
       "1473     54      34  1         1       1.0       0.0        0.0       1.0   \n",
       "1038     29     106  1         1       0.0       0.0        0.0       0.0   \n",
       "225      14     187  1         1       0.0       0.0        1.0       0.0   \n",
       "\n",
       "        Count_CL    ActBal_CA      ...        TransactionsDebCash_Card  \\\n",
       "Client                             ...                                   \n",
       "1217         0.0  6752.244643      ...                               0   \n",
       "850          0.0    43.523214      ...                               0   \n",
       "1473         1.0    29.024286      ...                               1   \n",
       "1038         0.0    27.035714      ...                               0   \n",
       "225          0.0   345.686071      ...                               0   \n",
       "\n",
       "        TransactionsDebCashless_Card  TransactionsDeb_PaymentOrder  Sale_CC  \\\n",
       "Client                                                                        \n",
       "1217                               0                             1      0.0   \n",
       "850                                0                             1      1.0   \n",
       "1473                              26                            11      0.0   \n",
       "1038                               0                             0      0.0   \n",
       "225                                4                             1      0.0   \n",
       "\n",
       "        Actbal_CA_avg  ActBal_SA_avg  ActBal_MF_avg  ActBal_OVD_avg  \\\n",
       "Client                                                                \n",
       "1217      6752.244643        0.00000            0.0          0.0000   \n",
       "850         43.523214        0.00000            0.0          0.0000   \n",
       "1473        29.024286    14447.80143            0.0          0.0000   \n",
       "1038        27.035714        0.00000            0.0          0.0000   \n",
       "225        345.686071        0.00000            0.0        618.3975   \n",
       "\n",
       "        ActBal_CC_avg  ActBal_CL_avg  \n",
       "Client                                \n",
       "1217             0.00       0.000000  \n",
       "850              0.00       0.000000  \n",
       "1473           653.91    1132.590357  \n",
       "1038             0.00       0.000000  \n",
       "225              0.00       0.000000  \n",
       "\n",
       "[5 rows x 36 columns]"
      ]
     },
     "execution_count": 4,
     "metadata": {},
     "output_type": "execute_result"
    }
   ],
   "source": [
    "user_tr = user_tr.drop(['Sale_MF','Sale_CL','Revenue_MF','Revenue_CC','Revenue_CL'], axis=1)\n",
    "user_tr.head()"
   ]
  },
  {
   "cell_type": "code",
   "execution_count": 5,
   "metadata": {},
   "outputs": [
    {
     "name": "stdout",
     "output_type": "stream",
     "text": [
      "(947, 36)\n"
     ]
    }
   ],
   "source": [
    "print(user_tr.shape)"
   ]
  },
  {
   "cell_type": "code",
   "execution_count": 6,
   "metadata": {
    "collapsed": true
   },
   "outputs": [],
   "source": [
    "user_tr_X = user_tr.drop('Sale_CC', axis=1)\n",
    "user_tr_Y = user_tr['Sale_CC']"
   ]
  },
  {
   "cell_type": "code",
   "execution_count": 7,
   "metadata": {
    "collapsed": true
   },
   "outputs": [],
   "source": [
    "X_train, X_test, y_train, y_test = train_test_split(user_tr_X, user_tr_Y, test_size=0.2, random_state=42)"
   ]
  },
  {
   "cell_type": "code",
   "execution_count": 8,
   "metadata": {},
   "outputs": [
    {
     "name": "stdout",
     "output_type": "stream",
     "text": [
      "0.589655172414\n",
      "             precision    recall  f1-score   support\n",
      "\n",
      "        0.0       0.80      0.98      0.88       145\n",
      "        1.0       0.75      0.20      0.32        45\n",
      "\n",
      "avg / total       0.79      0.79      0.75       190\n",
      "\n",
      "0.573598820059\n",
      "             precision    recall  f1-score   support\n",
      "\n",
      "        0.0       0.78      0.98      0.87       565\n",
      "        1.0       0.74      0.17      0.27       192\n",
      "\n",
      "avg / total       0.77      0.77      0.72       757\n",
      "\n"
     ]
    }
   ],
   "source": [
    "logreg = LogisticRegression()\n",
    "logreg.fit(X_train,y_train)\n",
    "\n",
    "\n",
    "y_pred = logreg.predict(X_test)\n",
    "print(roc_auc_score(y_test, y_pred))\n",
    "print(classification_report(y_test, y_pred))\n",
    "\n",
    "y_pred_train = logreg.predict(X_train)\n",
    "print(roc_auc_score(y_train, y_pred_train))\n",
    "print(classification_report(y_train, y_pred_train))\n"
   ]
  },
  {
   "cell_type": "code",
   "execution_count": 9,
   "metadata": {},
   "outputs": [
    {
     "name": "stdout",
     "output_type": "stream",
     "text": [
      "roc_auc: 0.62 (+/- 0.14)\n"
     ]
    }
   ],
   "source": [
    "logreg = LogisticRegression()\n",
    "scores = cross_val_score(logreg, user_tr_X, user_tr_Y, cv=10, scoring='roc_auc', n_jobs=-1)\n",
    "print(\"roc_auc: %0.2f (+/- %0.2f)\" % (scores.mean(), scores.std() * 2))"
   ]
  },
  {
   "cell_type": "code",
   "execution_count": 10,
   "metadata": {},
   "outputs": [
    {
     "name": "stdout",
     "output_type": "stream",
     "text": [
      "roc_auc: 0.50 (+/- 0.02)\n"
     ]
    }
   ],
   "source": [
    "svc = SVC(kernel='rbf', degree=2, random_state=101)\n",
    "scores = cross_val_score(svc, user_tr_X, user_tr_Y, cv=10, scoring='roc_auc', n_jobs=-1)\n",
    "print(\"roc_auc: %0.2f (+/- %0.2f)\" % (scores.mean(), scores.std() * 2))"
   ]
  },
  {
   "cell_type": "code",
   "execution_count": 11,
   "metadata": {},
   "outputs": [
    {
     "name": "stdout",
     "output_type": "stream",
     "text": [
      "roc_auc: 0.61 (+/- 0.19)\n"
     ]
    }
   ],
   "source": [
    "random_forest = RandomForestClassifier(n_estimators = 25)\n",
    "scores = cross_val_score(random_forest, user_tr_X, user_tr_Y, cv=10, scoring='roc_auc', n_jobs=-1)\n",
    "print(\"roc_auc: %0.2f (+/- %0.2f)\" % (scores.mean(), scores.std() * 2))"
   ]
  },
  {
   "cell_type": "code",
   "execution_count": 12,
   "metadata": {},
   "outputs": [
    {
     "name": "stdout",
     "output_type": "stream",
     "text": [
      "roc_auc: 0.58 (+/- 0.10)\n"
     ]
    }
   ],
   "source": [
    "gaussian = GaussianNB()\n",
    "scores = cross_val_score(gaussian, user_tr_X, user_tr_Y, cv=10, scoring='roc_auc', n_jobs=-1)\n",
    "print(\"roc_auc: %0.2f (+/- %0.2f)\" % (scores.mean(), scores.std() * 2))"
   ]
  },
  {
   "cell_type": "code",
   "execution_count": 13,
   "metadata": {},
   "outputs": [
    {
     "name": "stdout",
     "output_type": "stream",
     "text": [
      "[[-0.26748029  0.98414783  0.93952316 ..., -0.21893948 -0.20892838\n",
      "  -0.21074605]\n",
      " [ 0.32422542 -0.85655318 -1.06436971 ..., -0.21893948 -0.20892838\n",
      "  -0.21074605]\n",
      " [ 0.59318256 -1.00867723  0.93952316 ..., -0.21893948  3.97811872\n",
      "   0.57597595]\n",
      " ..., \n",
      " [-1.07435172  0.9080858   0.93952316 ..., -0.21893948 -0.20892838\n",
      "  -0.21074605]\n",
      " [ 0.16285114 -0.6283671   0.93952316 ..., -0.21893948 -0.20892838\n",
      "  -0.21074605]\n",
      " [ 0.96972256  1.10584707 -1.06436971 ..., -0.21893948 -0.20892838\n",
      "  -0.21074605]]\n"
     ]
    }
   ],
   "source": [
    "#Scale the \n",
    "user_tr_X_scale = scale(user_tr_X)\n",
    "print(user_tr_X_scale)"
   ]
  },
  {
   "cell_type": "code",
   "execution_count": 14,
   "metadata": {},
   "outputs": [
    {
     "name": "stdout",
     "output_type": "stream",
     "text": [
      "roc_auc: 0.64 (+/- 0.16)\n"
     ]
    }
   ],
   "source": [
    "logreg = LogisticRegression()\n",
    "scores = cross_val_score(logreg, user_tr_X_scale, user_tr_Y, cv=10, scoring='roc_auc', n_jobs=-1)\n",
    "print(\"roc_auc: %0.2f (+/- %0.2f)\" % (scores.mean(), scores.std() * 2))"
   ]
  },
  {
   "cell_type": "code",
   "execution_count": 15,
   "metadata": {},
   "outputs": [
    {
     "name": "stdout",
     "output_type": "stream",
     "text": [
      "Optimal number of features : 34\n"
     ]
    }
   ],
   "source": [
    "logreg = LogisticRegression(penalty='l2')\n",
    "selector = RFECV(estimator=logreg, step=1, cv=10,scoring='roc_auc')\n",
    "\n",
    "selector.fit(user_tr_X_scale, user_tr_Y)\n",
    "print(\"Optimal number of features : %d\" % selector.n_features_)\n"
   ]
  },
  {
   "cell_type": "code",
   "execution_count": 16,
   "metadata": {
    "collapsed": true
   },
   "outputs": [],
   "source": [
    "user_tr_X_scale_transform = selector.transform(user_tr_X_scale)"
   ]
  },
  {
   "cell_type": "code",
   "execution_count": 17,
   "metadata": {},
   "outputs": [
    {
     "name": "stdout",
     "output_type": "stream",
     "text": [
      "LogisticRegression(C=1, class_weight=None, dual=False, fit_intercept=True,\n",
      "          intercept_scaling=1, max_iter=100, multi_class='ovr', n_jobs=1,\n",
      "          penalty='l2', random_state=None, solver='liblinear', tol=0.0001,\n",
      "          verbose=0, warm_start=False)\n",
      "{'C': 1, 'class_weight': None, 'penalty': 'l2'}\n",
      "0.639011086244\n"
     ]
    }
   ],
   "source": [
    "search = {'penalty': ['l1','l2'],'C': [0.001, 0.1, 1, 10, 100, 1000], 'class_weight': ['balanced', None]}\n",
    "\n",
    "\n",
    "logreg = LogisticRegression()\n",
    "\n",
    "logreg_grid = GridSearchCV(estimator=logreg,param_grid=search, scoring='roc_auc', n_jobs=-1,refit=True, cv=10)\n",
    "logreg_grid.fit(user_tr_X_scale_transform,user_tr_Y)\n",
    "print(logreg_grid.best_estimator_)\n",
    "\n",
    "print(logreg_grid.best_params_)\n",
    "\n",
    "print(logreg_grid.best_score_)"
   ]
  },
  {
   "cell_type": "code",
   "execution_count": 18,
   "metadata": {},
   "outputs": [
    {
     "name": "stdout",
     "output_type": "stream",
     "text": [
      "roc_auc: 0.60 (+/- 0.14)\n",
      "[ 0.52934272  0.73826291  0.67957746  0.51232394  0.65492958  0.63732394\n",
      "  0.59096244  0.60992039  0.50459277  0.58420086]\n"
     ]
    }
   ],
   "source": [
    "svc = SVC(kernel='rbf', degree=2, random_state=101)\n",
    "scores = cross_val_score(svc, user_tr_X_scale, user_tr_Y, cv=10, scoring='roc_auc', n_jobs=-1)\n",
    "print(\"roc_auc: %0.2f (+/- %0.2f)\" % (scores.mean(), scores.std() * 2))\n",
    "print(scores)"
   ]
  },
  {
   "cell_type": "code",
   "execution_count": 19,
   "metadata": {},
   "outputs": [
    {
     "name": "stdout",
     "output_type": "stream",
     "text": [
      "SVC(C=100, cache_size=200, class_weight=None, coef0=0.0,\n",
      "  decision_function_shape=None, degree=3, gamma=0.001, kernel='linear',\n",
      "  max_iter=-1, probability=False, random_state=None, shrinking=True,\n",
      "  tol=0.001, verbose=False)\n",
      "{'kernel': 'linear', 'gamma': 0.001, 'C': 100}\n",
      "0.620357379201\n"
     ]
    }
   ],
   "source": [
    "search = search_dict = {'kernel': ['linear','rbf'],'C': [1, 10, 100, 1000], 'gamma': [0.001, 0.0001]}\n",
    "\n",
    "\n",
    "svc = SVC()\n",
    "\n",
    "svc_grid = RandomizedSearchCV(estimator=svc,param_distributions=search, scoring='roc_auc', n_jobs=-1,refit=True, cv=3)\n",
    "svc_grid.fit(user_tr_X_scale,user_tr_Y)\n",
    "print(svc_grid.best_estimator_)\n",
    "\n",
    "print(svc_grid.best_params_)\n",
    "\n",
    "print(svc_grid.best_score_)"
   ]
  },
  {
   "cell_type": "code",
   "execution_count": 20,
   "metadata": {},
   "outputs": [
    {
     "name": "stdout",
     "output_type": "stream",
     "text": [
      "[ 0.54342723  0.73356808  0.70598592  0.57922535  0.68309859  0.65316901\n",
      "  0.55575117  0.70545009  0.54562156  0.59216167]\n",
      "roc_auc: 0.63 (+/- 0.14)\n"
     ]
    }
   ],
   "source": [
    "svc = SVC(kernel='linear', degree=2, random_state=101)\n",
    "scores = cross_val_score(svc, user_tr_X_scale, user_tr_Y, cv=10, scoring='roc_auc', n_jobs=-1)\n",
    "print(scores)\n",
    "print(\"roc_auc: %0.2f (+/- %0.2f)\" % (scores.mean(), scores.std() * 2))"
   ]
  },
  {
   "cell_type": "code",
   "execution_count": 21,
   "metadata": {},
   "outputs": [
    {
     "name": "stdout",
     "output_type": "stream",
     "text": [
      "roc_auc: 0.60 (+/- 0.15)\n"
     ]
    }
   ],
   "source": [
    "random_forest = RandomForestClassifier(n_estimators = 20)\n",
    "scores = cross_val_score(random_forest, user_tr_X_scale, user_tr_Y, cv=10, scoring='roc_auc', n_jobs=-1)\n",
    "print(\"roc_auc: %0.2f (+/- %0.2f)\" % (scores.mean(), scores.std() * 2))"
   ]
  },
  {
   "cell_type": "code",
   "execution_count": 22,
   "metadata": {},
   "outputs": [
    {
     "name": "stdout",
     "output_type": "stream",
     "text": [
      "roc_auc: 0.60 (+/- 0.12)\n"
     ]
    }
   ],
   "source": [
    "gaussian = GaussianNB()\n",
    "scores = cross_val_score(gaussian, user_tr_X_scale, user_tr_Y, cv=10, scoring='roc_auc', n_jobs=-1)\n",
    "print(\"roc_auc: %0.2f (+/- %0.2f)\" % (scores.mean(), scores.std() * 2))"
   ]
  },
  {
   "cell_type": "code",
   "execution_count": 23,
   "metadata": {},
   "outputs": [
    {
     "data": {
      "text/plain": [
       "(947, 20)"
      ]
     },
     "execution_count": 23,
     "metadata": {},
     "output_type": "execute_result"
    }
   ],
   "source": [
    "#dimension reduction\n",
    "pca = PCA(n_components=20)\n",
    "X_pca_20 = pca.fit_transform(user_tr_X_scale)\n",
    "X_pca_20.shape"
   ]
  },
  {
   "cell_type": "code",
   "execution_count": 24,
   "metadata": {},
   "outputs": [
    {
     "name": "stdout",
     "output_type": "stream",
     "text": [
      "[ 0.54812207  0.72652582  0.68192488  0.56866197  0.6971831   0.61326291\n",
      "  0.53286385  0.63380282  0.55725658  0.50214329]\n",
      "roc_auc: 0.61 (+/- 0.15)\n"
     ]
    }
   ],
   "source": [
    "svc = SVC(kernel='linear', degree=2, random_state=101)\n",
    "scores = cross_val_score(svc, X_pca_20, user_tr_Y, cv=10, scoring='roc_auc', n_jobs=-1)\n",
    "print(scores)\n",
    "print(\"roc_auc: %0.2f (+/- %0.2f)\" % (scores.mean(), scores.std() * 2))"
   ]
  },
  {
   "cell_type": "code",
   "execution_count": 25,
   "metadata": {},
   "outputs": [
    {
     "name": "stdout",
     "output_type": "stream",
     "text": [
      "[ 0.62962963  0.57175926  0.7662037   0.77546296  0.74074074  0.81481481\n",
      "  0.60185185  0.50694444  0.73611111  0.60648148  0.65952381  0.65952381\n",
      "  0.57142857  0.56904762  0.67619048  0.61428571  0.4047619   0.74025974\n",
      "  0.44675325  0.50909091]\n",
      "roc_auc: 0.63 (+/- 0.22)\n"
     ]
    }
   ],
   "source": [
    "#with penalty\n",
    "logreg = LogisticRegression(penalty='l1', C=1)\n",
    "scores = cross_val_score(logreg, X_pca_20, user_tr_Y, cv=20, scoring='roc_auc', n_jobs=-1)\n",
    "print(scores)\n",
    "print(\"roc_auc: %0.2f (+/- %0.2f)\" % (scores.mean(), scores.std() * 2))"
   ]
  },
  {
   "cell_type": "code",
   "execution_count": 26,
   "metadata": {},
   "outputs": [
    {
     "name": "stdout",
     "output_type": "stream",
     "text": [
      "roc_auc: 0.62 (+/- 0.14)\n"
     ]
    }
   ],
   "source": [
    "random_forest = RandomForestClassifier(n_estimators = 50)\n",
    "scores = cross_val_score(random_forest, X_pca_20, user_tr_Y, cv=10, scoring='roc_auc', n_jobs=-1)\n",
    "print(\"roc_auc: %0.2f (+/- %0.2f)\" % (scores.mean(), scores.std() * 2))"
   ]
  },
  {
   "cell_type": "code",
   "execution_count": 27,
   "metadata": {},
   "outputs": [
    {
     "name": "stdout",
     "output_type": "stream",
     "text": [
      "[ 0.57981221  0.79107981  0.75821596  0.54870892  0.67077465  0.65140845\n",
      "  0.55692488  0.67299449  0.53704838  0.50765462]\n",
      "roc_auc: 0.63 (+/- 0.18)\n"
     ]
    }
   ],
   "source": [
    "svc_lin = LinearSVC()\n",
    "scores = cross_val_score(svc_lin, X_pca_20, user_tr_Y, cv=10, scoring='roc_auc', n_jobs=-1)\n",
    "print(scores)\n",
    "print(\"roc_auc: %0.2f (+/- %0.2f)\" % (scores.mean(), scores.std() * 2))"
   ]
  },
  {
   "cell_type": "code",
   "execution_count": 28,
   "metadata": {},
   "outputs": [
    {
     "name": "stdout",
     "output_type": "stream",
     "text": [
      "roc_auc: 0.58 (+/- 0.14)\n"
     ]
    }
   ],
   "source": [
    "gaussian = GaussianNB()\n",
    "scores = cross_val_score(gaussian, X_pca_20, user_tr_Y, cv=10, scoring='roc_auc', n_jobs=-1)\n",
    "print(\"roc_auc: %0.2f (+/- %0.2f)\" % (scores.mean(), scores.std() * 2))"
   ]
  },
  {
   "cell_type": "code",
   "execution_count": 29,
   "metadata": {},
   "outputs": [
    {
     "name": "stdout",
     "output_type": "stream",
     "text": [
      "LogisticRegression(C=1, class_weight='balanced', dual=False,\n",
      "          fit_intercept=True, intercept_scaling=1, max_iter=100,\n",
      "          multi_class='ovr', n_jobs=1, penalty='l1', random_state=None,\n",
      "          solver='liblinear', tol=0.0001, verbose=0, warm_start=False)\n",
      "{'C': 1, 'class_weight': 'balanced', 'penalty': 'l1'}\n",
      "0.62789075869\n"
     ]
    }
   ],
   "source": [
    "search = {'penalty': ['l1','l2'],'C': [0.001, 0.1, 1, 10, 100, 1000], 'class_weight': ['balanced', None]}\n",
    "\n",
    "\n",
    "logreg = LogisticRegression()\n",
    "\n",
    "logreg_grid = GridSearchCV(estimator=logreg,param_grid=search, scoring='roc_auc', n_jobs=-1,refit=True, cv=10)\n",
    "logreg_grid.fit(X_pca_20,user_tr_Y)\n",
    "print(logreg_grid.best_estimator_)\n",
    "\n",
    "print(logreg_grid.best_params_)\n",
    "\n",
    "print(logreg_grid.best_score_)"
   ]
  },
  {
   "cell_type": "code",
   "execution_count": null,
   "metadata": {
    "collapsed": true
   },
   "outputs": [],
   "source": []
  }
 ],
 "metadata": {
  "kernelspec": {
   "display_name": "Python 3",
   "language": "python",
   "name": "python3"
  },
  "language_info": {
   "codemirror_mode": {
    "name": "ipython",
    "version": 3
   },
   "file_extension": ".py",
   "mimetype": "text/x-python",
   "name": "python",
   "nbconvert_exporter": "python",
   "pygments_lexer": "ipython3",
   "version": "3.6.1"
  }
 },
 "nbformat": 4,
 "nbformat_minor": 2
}
